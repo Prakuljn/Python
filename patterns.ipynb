{
  "nbformat": 4,
  "nbformat_minor": 0,
  "metadata": {
    "colab": {
      "provenance": [],
      "authorship_tag": "ABX9TyMUjki7qeYAVNDlxHpI7PWt",
      "include_colab_link": true
    },
    "kernelspec": {
      "name": "python3",
      "display_name": "Python 3"
    },
    "language_info": {
      "name": "python"
    }
  },
  "cells": [
    {
      "cell_type": "markdown",
      "metadata": {
        "id": "view-in-github",
        "colab_type": "text"
      },
      "source": [
        "<a href=\"https://colab.research.google.com/github/Prakuljn/Python-Assignment/blob/main/patterns.ipynb\" target=\"_parent\"><img src=\"https://colab.research.google.com/assets/colab-badge.svg\" alt=\"Open In Colab\"/></a>"
      ]
    },
    {
      "cell_type": "code",
      "execution_count": null,
      "metadata": {
        "colab": {
          "base_uri": "https://localhost:8080/"
        },
        "id": "Y7Esk5o7b0I7",
        "outputId": "075e13e2-9888-4cf8-a086-f0610ce19be4"
      },
      "outputs": [
        {
          "output_type": "stream",
          "name": "stdout",
          "text": [
            "enter a number121\n",
            "121\n",
            "True\n"
          ]
        }
      ],
      "source": [
        "def check(num):\n",
        "  temp=num\n",
        "  rem=0\n",
        "  sum=0\n",
        "  dict1={}\n",
        "  while num>0:\n",
        "    rem=num%10\n",
        "    sum=sum*10+rem\n",
        "    num=num//10\n",
        "  print(sum)\n",
        "  if temp==sum:\n",
        "      dict1[sum]=True\n",
        "  else:\n",
        "    dict1[sum]=False\n",
        "  return dict1[sum]\n",
        "num=int(input(\"enter a number\"))\n",
        "y=check(num)\n",
        "print(y)"
      ]
    },
    {
      "cell_type": "code",
      "source": [
        "dict1={}\n",
        "str1=\"ababa\"\n",
        "for i in range(0,len(str1)):\n",
        "  for j in range (1,len(str1)+1):\n",
        "    if str1[i:j] not in dict1:\n",
        "      dict1[str1[i:j]]=1\n",
        "    else:\n",
        "      dict1[str1[i:j]]+=1\n",
        "print(dict1)"
      ],
      "metadata": {
        "colab": {
          "base_uri": "https://localhost:8080/"
        },
        "id": "i4OD3pbmch15",
        "outputId": "5585a78a-f8eb-480e-aaf3-ca6015c10708"
      },
      "execution_count": null,
      "outputs": [
        {
          "output_type": "stream",
          "name": "stdout",
          "text": [
            "{'a': 3, 'ab': 2, 'aba': 2, 'abab': 1, 'ababa': 1, '': 10, 'b': 2, 'ba': 2, 'bab': 1, 'baba': 1}\n"
          ]
        }
      ]
    },
    {
      "cell_type": "code",
      "source": [
        "for i in range(1,6):\n",
        "  for j in range(1,i):\n",
        "    print(\" \",end=\" \")\n",
        "  for k in range(i,6):\n",
        "    if ( i==1 or k==5 or k==i):\n",
        "      print(\"*\",end=\" \")\n",
        "    else :\n",
        "      print(\" \",end=\" \")\n",
        "  print()"
      ],
      "metadata": {
        "colab": {
          "base_uri": "https://localhost:8080/"
        },
        "id": "Nv1CI1_IdqaP",
        "outputId": "ee86b72d-4489-4d0c-e5cb-1550503e35bb"
      },
      "execution_count": 35,
      "outputs": [
        {
          "output_type": "stream",
          "name": "stdout",
          "text": [
            "* * * * * \n",
            "  *     * \n",
            "    *   * \n",
            "      * * \n",
            "        * \n"
          ]
        }
      ]
    },
    {
      "cell_type": "code",
      "source": [
        "for i in range(1,5):\n",
        "  for j in range(i,5):\n",
        "    print(\"\",j,end=\" \")\n",
        "  for k in range(i+1,5):\n",
        "    print(\" \",end=\"\")\n",
        "\n",
        "  print()"
      ],
      "metadata": {
        "colab": {
          "base_uri": "https://localhost:8080/"
        },
        "id": "NqJZ87SrepVm",
        "outputId": "008ea30f-fe5d-467b-ad33-e1a158ea6976"
      },
      "execution_count": null,
      "outputs": [
        {
          "output_type": "stream",
          "name": "stdout",
          "text": [
            " 1  2  3  4    \n",
            " 2  3  4   \n",
            " 3  4  \n",
            " 4 \n"
          ]
        }
      ]
    },
    {
      "cell_type": "code",
      "source": [
        "str1=\"aabcdeefa\"\n",
        "count=0\n",
        "char=\"\"\n",
        "list1=[]\n",
        "for i in str1:\n",
        "  if char==i:\n",
        "    count+=1\n",
        "  else:\n",
        "    if count!=0:\n",
        "      list1.append(count)\n",
        "    count=1\n",
        "    char=i\n",
        "print(list1)"
      ],
      "metadata": {
        "colab": {
          "base_uri": "https://localhost:8080/"
        },
        "id": "o7Clb8mggnDH",
        "outputId": "493cfe61-e723-4d40-9a4b-88ea9c0ab2ad"
      },
      "execution_count": 3,
      "outputs": [
        {
          "output_type": "stream",
          "name": "stdout",
          "text": [
            "[2, 1, 1, 1, 2, 1]\n"
          ]
        }
      ]
    },
    {
      "cell_type": "code",
      "source": [
        "for i in range(1,5):\n",
        "  for j in range(1,i):\n",
        "    print(\" \",end=\"\")\n",
        "  for k in range(i,5):\n",
        "    print(\"\",k,end=\"\")\n",
        "  print()"
      ],
      "metadata": {
        "id": "Kv_DOAZlhl-X",
        "colab": {
          "base_uri": "https://localhost:8080/"
        },
        "outputId": "c97a3af5-4ffe-41eb-ea55-cff245a1e938"
      },
      "execution_count": 8,
      "outputs": [
        {
          "output_type": "stream",
          "name": "stdout",
          "text": [
            " 1 2 3 4\n",
            "  2 3 4\n",
            "   3 4\n",
            "    4\n"
          ]
        }
      ]
    },
    {
      "cell_type": "code",
      "source": [],
      "metadata": {
        "id": "j1NOZSHCVE0w"
      },
      "execution_count": null,
      "outputs": []
    }
  ]
}