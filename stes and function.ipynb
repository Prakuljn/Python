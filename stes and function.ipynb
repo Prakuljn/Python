{
  "nbformat": 4,
  "nbformat_minor": 0,
  "metadata": {
    "colab": {
      "provenance": [],
      "authorship_tag": "ABX9TyN0qFcYtjhICgA6kApCK/X0",
      "include_colab_link": true
    },
    "kernelspec": {
      "name": "python3",
      "display_name": "Python 3"
    },
    "language_info": {
      "name": "python"
    }
  },
  "cells": [
    {
      "cell_type": "markdown",
      "metadata": {
        "id": "view-in-github",
        "colab_type": "text"
      },
      "source": [
        "<a href=\"https://colab.research.google.com/github/Prakuljn/Python-Assignment/blob/main/stes%20and%20function.ipynb\" target=\"_parent\"><img src=\"https://colab.research.google.com/assets/colab-badge.svg\" alt=\"Open In Colab\"/></a>"
      ]
    },
    {
      "cell_type": "code",
      "execution_count": 2,
      "metadata": {
        "id": "EZ3D29zOkB59"
      },
      "outputs": [],
      "source": [
        "# sets it is a data types and contain unique elements and unordered means contain no index value\n",
        "myset=({}) #empty set"
      ]
    },
    {
      "cell_type": "code",
      "source": [
        "myset={1,2,3,4,5,6,7,8,9}\n",
        "print(myset)"
      ],
      "metadata": {
        "colab": {
          "base_uri": "https://localhost:8080/"
        },
        "id": "Kb2q0mgZkmwp",
        "outputId": "98c93499-0aea-419a-ce9d-c31ca9151420"
      },
      "execution_count": 3,
      "outputs": [
        {
          "output_type": "stream",
          "name": "stdout",
          "text": [
            "{1, 2, 3, 4, 5, 6, 7, 8, 9}\n"
          ]
        }
      ]
    },
    {
      "cell_type": "code",
      "source": [
        "myset.add(800)\n",
        "print(myset)"
      ],
      "metadata": {
        "colab": {
          "base_uri": "https://localhost:8080/"
        },
        "id": "XfvYZSU6lDdi",
        "outputId": "50f6dd8d-b999-4a59-8bb8-b6f509107fb6"
      },
      "execution_count": 5,
      "outputs": [
        {
          "output_type": "stream",
          "name": "stdout",
          "text": [
            "{800, 1, 2, 3, 4, 5, 6, 7, 8, 9}\n"
          ]
        }
      ]
    },
    {
      "cell_type": "code",
      "source": [
        "myset={1,2,3,4,5,6,7,8,9}\n",
        "myset.remove(4)\n",
        "myset.discard(33)\n",
        "print(myset)"
      ],
      "metadata": {
        "colab": {
          "base_uri": "https://localhost:8080/"
        },
        "id": "aQ4AkibRlQXJ",
        "outputId": "dcce84af-a022-4f14-8949-c3728d1ef280"
      },
      "execution_count": 9,
      "outputs": [
        {
          "output_type": "stream",
          "name": "stdout",
          "text": [
            "{1, 2, 3, 5, 6, 7, 8, 9}\n"
          ]
        }
      ]
    },
    {
      "cell_type": "code",
      "source": [
        "myset.update([1,2,3,4,5,6,7,85,45,74,63,25,41])\n",
        "print(myset)"
      ],
      "metadata": {
        "colab": {
          "base_uri": "https://localhost:8080/"
        },
        "id": "VELWMQqHldM3",
        "outputId": "5132fd33-817a-46c3-d611-e8d4c89afaa2"
      },
      "execution_count": 10,
      "outputs": [
        {
          "output_type": "stream",
          "name": "stdout",
          "text": [
            "{1, 2, 3, 4, 5, 6, 7, 8, 9, 74, 41, 45, 85, 25, 63}\n"
          ]
        }
      ]
    },
    {
      "cell_type": "code",
      "source": [
        "myset.update([1,2,3,4,5,6,7,85,45,74,63,25,41])\n",
        "myset.pop()"
      ],
      "metadata": {
        "colab": {
          "base_uri": "https://localhost:8080/"
        },
        "id": "uuC6YWc3l7fa",
        "outputId": "ade5e2ef-926b-4387-bd99-993116344d6f"
      },
      "execution_count": 11,
      "outputs": [
        {
          "output_type": "execute_result",
          "data": {
            "text/plain": [
              "1"
            ]
          },
          "metadata": {},
          "execution_count": 11
        }
      ]
    },
    {
      "cell_type": "code",
      "source": [
        "myset1={1,2,3,4,5}\n",
        "myset2={4,5,6}\n",
        "myset=myset1.difference(myset2)\n",
        "print(myset)\n"
      ],
      "metadata": {
        "colab": {
          "base_uri": "https://localhost:8080/"
        },
        "id": "qIp_i9qnmGAu",
        "outputId": "a8f069c9-2785-4f2b-8ce1-03dc050869dc"
      },
      "execution_count": 33,
      "outputs": [
        {
          "output_type": "stream",
          "name": "stdout",
          "text": [
            "{1, 2, 3}\n"
          ]
        }
      ]
    },
    {
      "cell_type": "code",
      "source": [
        "myset1={1,2,3,4,5}\n",
        "myset2={4,5,6}\n",
        "myset1.difference_update(myset2)\n",
        "myset1"
      ],
      "metadata": {
        "colab": {
          "base_uri": "https://localhost:8080/"
        },
        "id": "BldWFtlVmto1",
        "outputId": "b576f164-5f9c-47bf-e25f-c42f3ebe7ada"
      },
      "execution_count": 20,
      "outputs": [
        {
          "output_type": "execute_result",
          "data": {
            "text/plain": [
              "{1, 2, 3}"
            ]
          },
          "metadata": {},
          "execution_count": 20
        }
      ]
    },
    {
      "cell_type": "code",
      "source": [
        "myset1={1,2,3,4,5}\n",
        "myset2={4,5,6}\n",
        "myset=myset1.intersection(myset2)\n",
        "print(myset)"
      ],
      "metadata": {
        "colab": {
          "base_uri": "https://localhost:8080/"
        },
        "id": "soDnt7TWoCvN",
        "outputId": "fdd241fc-f93d-460a-e9a0-f72e04bce3f6"
      },
      "execution_count": 32,
      "outputs": [
        {
          "output_type": "stream",
          "name": "stdout",
          "text": [
            "{4, 5}\n"
          ]
        }
      ]
    },
    {
      "cell_type": "code",
      "source": [
        "myset1={1,2,3,4,5}\n",
        "myset2={4,5,6}\n",
        "myset=myset1.difference(myset2)\n",
        "print(myset)"
      ],
      "metadata": {
        "colab": {
          "base_uri": "https://localhost:8080/"
        },
        "id": "KM6tJTL_oY8S",
        "outputId": "799db017-ca6f-4b7e-bffe-f93ac78b36e2"
      },
      "execution_count": 24,
      "outputs": [
        {
          "output_type": "execute_result",
          "data": {
            "text/plain": [
              "{1, 2, 3, 4, 5}"
            ]
          },
          "metadata": {},
          "execution_count": 24
        }
      ]
    },
    {
      "cell_type": "code",
      "source": [
        "myset1={1,2,3,4,5}\n",
        "myset2={4,5,6}\n",
        "myset=myset1.symmetric_difference(myset2)\n",
        "print(myset)"
      ],
      "metadata": {
        "colab": {
          "base_uri": "https://localhost:8080/"
        },
        "id": "yZvbJJI-ofRb",
        "outputId": "c03b364f-5b86-46ac-d03d-940fd89dac83"
      },
      "execution_count": 31,
      "outputs": [
        {
          "output_type": "stream",
          "name": "stdout",
          "text": [
            "{1, 2, 3, 6}\n"
          ]
        }
      ]
    },
    {
      "cell_type": "code",
      "source": [
        "myset1={1,2,3,4,5,6}\n",
        "myset2={4,5,6}\n",
        "myset=myset2.issubset(myset1)\n",
        "print(myset)"
      ],
      "metadata": {
        "colab": {
          "base_uri": "https://localhost:8080/"
        },
        "id": "4StXjzNIotdX",
        "outputId": "e445e4bc-a6a1-434a-f087-ed121197c3fd"
      },
      "execution_count": 35,
      "outputs": [
        {
          "output_type": "stream",
          "name": "stdout",
          "text": [
            "True\n"
          ]
        }
      ]
    },
    {
      "cell_type": "code",
      "source": [
        "myset1={1,2,3,4,5,6}\n",
        "myset2={4,5,6}\n",
        "myset=myset1.isdisjoint(myset2)\n",
        "print(myset)"
      ],
      "metadata": {
        "colab": {
          "base_uri": "https://localhost:8080/"
        },
        "id": "Tbd9O0APo72k",
        "outputId": "fb2a28b9-6cc2-4023-8670-43d3a845acdb"
      },
      "execution_count": 40,
      "outputs": [
        {
          "output_type": "stream",
          "name": "stdout",
          "text": [
            "False\n"
          ]
        }
      ]
    },
    {
      "cell_type": "code",
      "source": [
        "myset1={1,2,3,4,5,6}\n",
        "myset2={4,5,6}\n",
        "myset=myset1.issuperset(myset2)\n",
        "print(myset)"
      ],
      "metadata": {
        "colab": {
          "base_uri": "https://localhost:8080/"
        },
        "id": "NBFk_BbOpyaU",
        "outputId": "2e63568e-a19e-4c5c-98b9-eae98e81e3fb"
      },
      "execution_count": 42,
      "outputs": [
        {
          "output_type": "stream",
          "name": "stdout",
          "text": [
            "True\n"
          ]
        }
      ]
    },
    {
      "cell_type": "code",
      "source": [
        "# function in python\n",
        "# it is a block of codes or divide our code into smaller parts\n",
        "# we can reuse the function several time in one go\n",
        "# debugging\n",
        "# define of function\n",
        "# we use def keyword to define function\n",
        "def hello(): # function define\n",
        "    print(\"hello world\")  # block of code\n",
        "hello() # function call"
      ],
      "metadata": {
        "colab": {
          "base_uri": "https://localhost:8080/"
        },
        "id": "ZeVIzVVIqEVK",
        "outputId": "258b4b66-8c04-4fed-bd3c-80916aca4bf7"
      },
      "execution_count": 44,
      "outputs": [
        {
          "output_type": "stream",
          "name": "stdout",
          "text": [
            "hello world\n"
          ]
        }
      ]
    },
    {
      "cell_type": "code",
      "source": [
        "def hello():\n",
        "  print(\"python\")\n",
        "for i in range(10):\n",
        "  hello()\n"
      ],
      "metadata": {
        "colab": {
          "base_uri": "https://localhost:8080/"
        },
        "id": "XH_p14sqvfAi",
        "outputId": "150cbec6-8aac-4ce6-c5ab-46cd3feaaad7"
      },
      "execution_count": 45,
      "outputs": [
        {
          "output_type": "stream",
          "name": "stdout",
          "text": [
            "python\n",
            "python\n",
            "python\n",
            "python\n",
            "python\n",
            "python\n",
            "python\n",
            "python\n",
            "python\n",
            "python\n"
          ]
        }
      ]
    },
    {
      "cell_type": "code",
      "source": [
        "def hello(a):\n",
        "  print(a)\n",
        "for i in range(10):\n",
        "  hello(\"prakul jain\",)"
      ],
      "metadata": {
        "colab": {
          "base_uri": "https://localhost:8080/"
        },
        "id": "ph-B6ab4wg2d",
        "outputId": "102acbc1-82df-49b6-e526-0a7cef454e77"
      },
      "execution_count": 47,
      "outputs": [
        {
          "output_type": "stream",
          "name": "stdout",
          "text": [
            "prakul jain\n",
            "prakul jain\n",
            "prakul jain\n",
            "prakul jain\n",
            "prakul jain\n",
            "prakul jain\n",
            "prakul jain\n",
            "prakul jain\n",
            "prakul jain\n",
            "prakul jain\n"
          ]
        }
      ]
    },
    {
      "cell_type": "code",
      "source": [
        "def add(a,b):\n",
        "    c=a+b\n",
        "    print(c)\n",
        "def sub(a,b):\n",
        "    c=a-b\n",
        "    print(c)\n",
        "def mul(a,b):\n",
        "    c=a*b\n",
        "    print(c)\n",
        "def div(a,b):\n",
        "    c=a/b\n",
        "    print(c)\n",
        "a=int(input(\"Enter a value:\")) # user input global variable\n",
        "b=int(input(\"Enter b value:\"))\n",
        "c=input(\"Enter operator:\")\n",
        "if c=='+':\n",
        "    add(a,b)\n",
        "elif c=='-':\n",
        "    sub(a,b)\n",
        "elif c=='*':\n",
        "    mul(a,b)\n",
        "elif c=='/':\n",
        "    div(a,b)\n",
        "else:\n",
        "    print(\"Invalid operator\")\n",
        ""
      ],
      "metadata": {
        "colab": {
          "base_uri": "https://localhost:8080/"
        },
        "id": "4dNf9h-AyQIx",
        "outputId": "97e23221-a57c-4cd8-9554-c7ba12507dcc"
      },
      "execution_count": 52,
      "outputs": [
        {
          "output_type": "stream",
          "name": "stdout",
          "text": [
            "Enter a value:45\n",
            "Enter b value:32\n",
            "Enter operator:+\n",
            "77\n"
          ]
        }
      ]
    },
    {
      "cell_type": "code",
      "source": [
        "x=10\n",
        "def hello():\n",
        "    x=\"qwe\"\n",
        "    print(x)\n",
        "hello()\n",
        "print(x)"
      ],
      "metadata": {
        "colab": {
          "base_uri": "https://localhost:8080/"
        },
        "id": "rGhrusTUyxVo",
        "outputId": "44cd89e8-770d-436e-f92a-c7eafeb36175"
      },
      "execution_count": 51,
      "outputs": [
        {
          "output_type": "stream",
          "name": "stdout",
          "text": [
            "qwe\n",
            "10\n"
          ]
        }
      ]
    },
    {
      "cell_type": "code",
      "source": [
        "x=10  # global variable\n",
        "print(x)\n",
        "def hello():\n",
        "    global x\n",
        "    x=\"qwe\" # local variable change to global\n",
        "    print(x)\n",
        "hello()\n",
        "print(x)"
      ],
      "metadata": {
        "colab": {
          "base_uri": "https://localhost:8080/"
        },
        "id": "HFA5tt5HzCDN",
        "outputId": "aa015039-a971-46f2-c120-f2bd390fa4ff"
      },
      "execution_count": 55,
      "outputs": [
        {
          "output_type": "stream",
          "name": "stdout",
          "text": [
            "10\n",
            "qwe\n",
            "qwe\n"
          ]
        }
      ]
    },
    {
      "cell_type": "code",
      "source": [
        "x=10\n",
        "def func(x):\n",
        "  print(\"hey\",x)\n",
        "func(500)"
      ],
      "metadata": {
        "colab": {
          "base_uri": "https://localhost:8080/"
        },
        "id": "RyijwhXMzlL6",
        "outputId": "c59959d3-c280-4014-c0b9-0371114a73b7"
      },
      "execution_count": 56,
      "outputs": [
        {
          "output_type": "stream",
          "name": "stdout",
          "text": [
            "hey 500\n"
          ]
        }
      ]
    },
    {
      "cell_type": "code",
      "source": [
        "# revise valid paranthes with dictionary\n",
        "# number to roman using dictionary\n",
        "# list comprehension\n",
        "# dictionary comprehension"
      ],
      "metadata": {
        "id": "wbtux1kQ0XWh"
      },
      "execution_count": 57,
      "outputs": []
    },
    {
      "cell_type": "code",
      "source": [],
      "metadata": {
        "id": "9AhgDQGk1FId"
      },
      "execution_count": null,
      "outputs": []
    }
  ]
}