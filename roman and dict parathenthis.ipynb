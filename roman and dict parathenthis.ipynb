{
  "nbformat": 4,
  "nbformat_minor": 0,
  "metadata": {
    "colab": {
      "provenance": [],
      "authorship_tag": "ABX9TyP3Ms5PyBcHA9nE10ohfqMa",
      "include_colab_link": true
    },
    "kernelspec": {
      "name": "python3",
      "display_name": "Python 3"
    },
    "language_info": {
      "name": "python"
    }
  },
  "cells": [
    {
      "cell_type": "markdown",
      "metadata": {
        "id": "view-in-github",
        "colab_type": "text"
      },
      "source": [
        "<a href=\"https://colab.research.google.com/github/Prakuljn/Python-Assignment/blob/main/roman%20and%20dict%20parathenthis.ipynb\" target=\"_parent\"><img src=\"https://colab.research.google.com/assets/colab-badge.svg\" alt=\"Open In Colab\"/></a>"
      ]
    },
    {
      "cell_type": "code",
      "source": [
        "num=int(input(\"enter number to convert\"))\n",
        "roman=\"\"\n",
        "while num>0:\n",
        "  if(num>1000):\n",
        "    roman+=\"M\"\n",
        "    num-=1000\n",
        "  elif(num>=900):\n",
        "    roman+=\"CM\"\n",
        "    num-=900\n",
        "  elif(num>=500):\n",
        "    roman+=\"D\"\n",
        "    num-=500\n",
        "  elif(num>=400):\n",
        "    roman+=\"CD\"\n",
        "    num-=400\n",
        "  elif(num>=100):\n",
        "    roman+=\"C\"\n",
        "    num-=100\n",
        "  elif(num>=90):\n",
        "    roman+=\"XC\"\n",
        "    num-=90\n",
        "  elif(num>=50):\n",
        "    roman+=\"L\"\n",
        "    num-=50\n",
        "  elif(num>=40):\n",
        "    roman+=\"XL\"\n",
        "    num-=40\n",
        "  elif(num>=10):\n",
        "    roman+=\"X\"\n",
        "    num-=10\n",
        "  elif(num>=9):\n",
        "    roman+=\"IX\"\n",
        "    num-=9\n",
        "  elif(num>=5):\n",
        "    roman+=\"V\"\n",
        "    num-=5\n",
        "  elif(num>=4):\n",
        "    roman+=\"IV\"\n",
        "    num-=4\n",
        "  elif(num>=1):\n",
        "    roman+=\"I\"\n",
        "    num-=1\n",
        "print(roman)\n"
      ],
      "metadata": {
        "colab": {
          "base_uri": "https://localhost:8080/"
        },
        "id": "kpkXO2ysBBeP",
        "outputId": "9f31fef1-1a1b-42f9-f599-795719ef497d"
      },
      "execution_count": null,
      "outputs": [
        {
          "output_type": "stream",
          "name": "stdout",
          "text": [
            "enter number to convert12345\n",
            "MMMMMMMMMMMMCCCXLV\n"
          ]
        }
      ]
    },
    {
      "cell_type": "code",
      "source": [
        "dict1={\n",
        "    1000:\"M\",\n",
        "    900:\"CM\",\n",
        "    500:\"D\",\n",
        "    400:\"CD\",\n",
        "    100:\"C\",\n",
        "    90:\"XC\",\n",
        "    50:\"L\",\n",
        "    40:\"XL\",\n",
        "    10:\"X\",\n",
        "    9:\"IX\",\n",
        "    5:\"V\",\n",
        "    4:\"IV\",\n",
        "    1:\"I\"\n",
        "}\n",
        "num=int(input(\"enter number to convert\"))\n",
        "roman=\"\"\n",
        "for i in dict1.keys():\n",
        "  while num>=i:\n",
        "    roman+=dict1[i]\n",
        "    num-=i\n",
        "print(roman)"
      ],
      "metadata": {
        "id": "jlEXdsOibYkd",
        "colab": {
          "base_uri": "https://localhost:8080/"
        },
        "outputId": "f1592a6a-2536-4819-dcb5-881420a7a179"
      },
      "execution_count": 21,
      "outputs": [
        {
          "output_type": "stream",
          "name": "stdout",
          "text": [
            "enter number to convert12345\n",
            "MMMMMMMMMMMMCCCXLV\n"
          ]
        }
      ]
    },
    {
      "cell_type": "code",
      "source": [
        "dict1={\n",
        "    1:\"(\",\n",
        "    2:\"{\",\n",
        "    3:\"[\",\n",
        "    4:\")\",\n",
        "    5:\"}\",\n",
        "    6:\"]\"\n",
        "}\n",
        "a=-1\n",
        "string=input(\"enter string to check paranthesis\")\n",
        "if len(string)%2==0:\n",
        "  for i in range(0,len(string)//2):\n",
        "    if string[i] == \"(\" and string[a]==dict1[4]:\n",
        "      a-=1\n",
        "    elif string[i] == \"{\" and string[a]==dict1[5]:\n",
        "      a-=1\n",
        "    elif string[i] == \"[\" and string[a]==dict1[6]:\n",
        "      a-=1\n",
        "    else:\n",
        "      print(\"invalid\")\n",
        "      break\n",
        "  else:\n",
        "    print(\"valid\")\n",
        "else:\n",
        "    print(\"invalid\")"
      ],
      "metadata": {
        "colab": {
          "base_uri": "https://localhost:8080/"
        },
        "id": "nmydY2nWlX0T",
        "outputId": "05450583-c51d-4b1a-dd46-fbca16ae4cec"
      },
      "execution_count": 32,
      "outputs": [
        {
          "output_type": "stream",
          "name": "stdout",
          "text": [
            "enter string to check paranthesis((]]\n",
            "invalid\n"
          ]
        }
      ]
    },
    {
      "cell_type": "code",
      "source": [],
      "metadata": {
        "id": "XpfC0zTUnYLM"
      },
      "execution_count": null,
      "outputs": []
    }
  ]
}