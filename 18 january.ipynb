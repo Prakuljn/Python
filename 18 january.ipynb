{
  "nbformat": 4,
  "nbformat_minor": 0,
  "metadata": {
    "colab": {
      "provenance": [],
      "authorship_tag": "ABX9TyMCTH0zbLtKeps3JVVpRLsc"
    },
    "kernelspec": {
      "name": "python3",
      "display_name": "Python 3"
    },
    "language_info": {
      "name": "python"
    }
  },
  "cells": [
    {
      "cell_type": "code",
      "execution_count": null,
      "metadata": {
        "colab": {
          "base_uri": "https://localhost:8080/"
        },
        "id": "RnaiqFphzSfH",
        "outputId": "568aa300-9c1f-4bf2-b347-512487e89d68"
      },
      "outputs": [
        {
          "output_type": "stream",
          "name": "stdout",
          "text": [
            "Enter swift range: 8\n",
            "[40]\n",
            "[40, 60]\n",
            "[40, 60, 7]\n",
            "[40, 60, 7, 10]\n",
            "[40, 60, 7, 10, 20]\n"
          ]
        }
      ],
      "source": [
        "list1=[10,20,40,60,7]\n",
        "list2=[]\n",
        "k=int(input(\"Enter swift range: \"))\n",
        "k=k%len(list1)\n",
        "for i in range (0,len(list1)):\n",
        "  list2.append(list1[i-k])\n",
        "  print(list2)"
      ]
    },
    {
      "cell_type": "code",
      "source": [
        "list1=[10,20,40,60,7]\n",
        "list2=[0,0,0,0,0]\n",
        "k=int(input(\"Enter swift range: \"))\n",
        "k=k%len(list1)\n",
        "for i in range (0,len(list1)):\n",
        "  list2[(i+k)%len(list1)]=list1[i]\n",
        "  print(list2)\n",
        "print(list2)\n"
      ],
      "metadata": {
        "colab": {
          "base_uri": "https://localhost:8080/"
        },
        "id": "d-QSlpDl4XIG",
        "outputId": "19c01c7e-a14f-4b5b-801c-2fe45301dea8"
      },
      "execution_count": null,
      "outputs": [
        {
          "output_type": "stream",
          "name": "stdout",
          "text": [
            "Enter swift range: 6\n",
            "[0, 10, 0, 0, 0]\n",
            "[0, 10, 20, 0, 0]\n",
            "[0, 10, 20, 40, 0]\n",
            "[0, 10, 20, 40, 60]\n",
            "[7, 10, 20, 40, 60]\n",
            "[7, 10, 20, 40, 60]\n"
          ]
        }
      ]
    },
    {
      "cell_type": "code",
      "source": [
        "print(3 * 'Hello' + '!')"
      ],
      "metadata": {
        "colab": {
          "base_uri": "https://localhost:8080/"
        },
        "id": "Hc9h4J2o7k1U",
        "outputId": "9aeb2277-a001-4625-ff27-09a6fcf5efe6"
      },
      "execution_count": null,
      "outputs": [
        {
          "output_type": "stream",
          "name": "stdout",
          "text": [
            "HelloHelloHello!\n"
          ]
        }
      ]
    },
    {
      "cell_type": "code",
      "source": [],
      "metadata": {
        "id": "dxD7oum0E3Dt"
      },
      "execution_count": null,
      "outputs": []
    }
  ]
}