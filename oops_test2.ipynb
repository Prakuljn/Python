{
  "cells": [
    {
      "cell_type": "markdown",
      "metadata": {
        "id": "view-in-github",
        "colab_type": "text"
      },
      "source": [
        "<a href=\"https://colab.research.google.com/github/Prakuljn/Python-Assignment/blob/main/oops_test2.ipynb\" target=\"_parent\"><img src=\"https://colab.research.google.com/assets/colab-badge.svg\" alt=\"Open In Colab\"/></a>"
      ]
    },
    {
      "cell_type": "code",
      "execution_count": null,
      "id": "ec5a27aa-772c-4f16-931b-8d9b2d36d1bb",
      "metadata": {
        "id": "ec5a27aa-772c-4f16-931b-8d9b2d36d1bb",
        "outputId": "48591467-92bc-4c64-cf0c-113b7fb27031"
      },
      "outputs": [
        {
          "name": "stdout",
          "output_type": "stream",
          "text": [
            "Name:Anshul, Roll Number:123, Grade:A\n",
            "Grade updated successfully\n",
            "Name:Anshul, Roll Number:123, Grade:B\n"
          ]
        }
      ],
      "source": [
        "# Case Study 1: Student Management System\n",
        "# Problem Statement:\n",
        "# Create a system to store student details and display their information.\n",
        "# Requirements:\n",
        "#  Define a class Student with attributes: name, roll_number, and grade.\n",
        "#  Create methods to:\n",
        "# o display_details(): Print student details.\n",
        "# o update_grade(new_grade): Update the student&#39;s grade.\n",
        "\n",
        "class S_M:\n",
        "    def __init__(self,name,roll_number,grade):\n",
        "        self.name = name\n",
        "        self.rn = roll_number\n",
        "        self.grade = grade\n",
        "\n",
        "    def display_details(self):\n",
        "        return f\"Name:{self.name}, Roll Number:{self.rn}, Grade:{self.grade}\"\n",
        "\n",
        "    def update_grade(self,new_grade):\n",
        "        self.grade = new_grade\n",
        "        return \"Grade updated successfully\"\n",
        "\n",
        "student = S_M(\"Anshul\",123,\"A\")\n",
        "print(student.display_details())\n",
        "print(student.update_grade(\"B\"))\n",
        "print(student.display_details())\n"
      ]
    },
    {
      "cell_type": "code",
      "execution_count": null,
      "id": "6f7b41a6-1ee1-41ee-b03d-daa763066e1b",
      "metadata": {
        "id": "6f7b41a6-1ee1-41ee-b03d-daa763066e1b",
        "outputId": "34fd2ec1-5c7c-4a93-ca52-a7bd93e89379"
      },
      "outputs": [
        {
          "name": "stdout",
          "output_type": "stream",
          "text": [
            "Brand:Vw, Model:Virtus, Price:1200000\n",
            "0.0\n"
          ]
        }
      ],
      "source": [
        "# Case Study 2: Car Showroom\n",
        "# Problem Statement:\n",
        "# Develop a system to manage cars in a showroom.\n",
        "# Requirements:\n",
        "#  Define a class Car with attributes: brand, model, price.\n",
        "#  Implement methods:\n",
        "# o display_info(): Show car details.\n",
        "# o apply_discount(discount): Reduce price based on the discount percentage.\n",
        "\n",
        "class Car:\n",
        "\n",
        "    def __init__(self,brand,model,price):\n",
        "        self.brand = brand\n",
        "        self.model = model\n",
        "        self.price = price\n",
        "\n",
        "    def display_info(self):\n",
        "        return f\"Brand:{self.brand}, Model:{self.model}, Price:{self.price}\"\n",
        "\n",
        "    def apply_discount(self,discount):\n",
        "        if discount<0 or discount>100:\n",
        "            return \"Invalid\"\n",
        "        else:\n",
        "            discount=self.price * (discount/100)\n",
        "            return self.price-discount\n",
        "\n",
        "car = Car(\"Vw\",\"Virtus\",1200000)\n",
        "print(car.display_info())\n",
        "print(car.apply_discount(100))"
      ]
    },
    {
      "cell_type": "code",
      "execution_count": null,
      "id": "14872b1c-50e5-4498-bfe6-90465e1da066",
      "metadata": {
        "id": "14872b1c-50e5-4498-bfe6-90465e1da066",
        "outputId": "1977d660-1f8e-4a39-ca9e-5bd0fbf5cedc"
      },
      "outputs": [
        {
          "name": "stdout",
          "output_type": "stream",
          "text": [
            "Addition:30\n",
            "Subtraction:-10\n",
            "Multiplication:200\n",
            "Division by 0 is invalid\n"
          ]
        }
      ],
      "source": [
        "# Case Study 3: Simple Calculator\n",
        "# Problem Statement:\n",
        "# Create a basic calculator that performs arithmetic operations.\n",
        "# Requirements:\n",
        "#  Define a class Calculator with methods:\n",
        "# o add(a, b), subtract(a, b), multiply(a, b), divide(a, b).\n",
        "#  Ensure division by zero is handled properly.\n",
        "\n",
        "class Calculator:\n",
        "    def add(self,a,b):\n",
        "        addition=a+b\n",
        "        return f\"Addition:{addition}\"\n",
        "\n",
        "    def subtract(self,a,b):\n",
        "        Subtraction=a-b\n",
        "        return f\"Subtraction:{Subtraction}\"\n",
        "\n",
        "    def multiply(self,a,b):\n",
        "        multiplication=a*b\n",
        "        return f\"Multiplication:{multiplication}\"\n",
        "\n",
        "    def divide(self,a,b):\n",
        "        if b==0:\n",
        "            return \"Division by 0 is invalid\"\n",
        "        else:\n",
        "            division=a/b\n",
        "            return f\"Division:{division}\"\n",
        "calc=Calculator()\n",
        "print(calc.add(10,20))\n",
        "print(calc.subtract(10,20))\n",
        "print(calc.multiply(10,20))\n",
        "print(calc.divide(10,0))"
      ]
    },
    {
      "cell_type": "code",
      "execution_count": null,
      "id": "b18f3c4b-2cbe-40df-b9f5-216009f4fa4e",
      "metadata": {
        "id": "b18f3c4b-2cbe-40df-b9f5-216009f4fa4e",
        "outputId": "c40a8a91-5b68-4eca-8e10-db68e1cf26f6"
      },
      "outputs": [
        {
          "name": "stdout",
          "output_type": "stream",
          "text": [
            "Movie Name:Deva, Available Seats:100\n",
            "Ticket booked successfully!\n",
            "Movie Name:Deva, Available Seats:90\n"
          ]
        }
      ],
      "source": [
        "# Case Study 4: Movie Ticket Booking System\n",
        "# Problem Statement:\n",
        "# Build a basic movie ticket booking system.\n",
        "# Requirements:\n",
        "#  Define a class Movie with attributes: name, available_seats.\n",
        "#  Implement methods:\n",
        "\n",
        "# o book_ticket(num_seats): Deduct seats if available.\n",
        "# o show_details(): Display movie name and available seats.\n",
        "\n",
        "class Movie:\n",
        "    def __init__(self,name,available_seats):\n",
        "        self.name = name\n",
        "        self.avail = available_seats\n",
        "\n",
        "    def book_ticket(self,seats):\n",
        "        if self.avail<seats:\n",
        "            return \"that much seats are not availabe\"\n",
        "        else:\n",
        "            self.avail-=seats\n",
        "            return \"Ticket booked successfully!\"\n",
        "\n",
        "    def show_details(self):\n",
        "        return f\"Movie Name:{self.name}, Available Seats:{self.avail}\"\n",
        "\n",
        "deva=Movie(\"Deva\",100)\n",
        "print(deva.show_details())\n",
        "print(deva.book_ticket(10))\n",
        "print(deva.show_details())\n"
      ]
    },
    {
      "cell_type": "code",
      "execution_count": null,
      "id": "5a453006-e86f-41cf-aff6-b7e83c3dba06",
      "metadata": {
        "id": "5a453006-e86f-41cf-aff6-b7e83c3dba06"
      },
      "outputs": [],
      "source": [
        "class Cart:\n",
        "    def __init__(self):\n",
        "        self.name = []\n",
        "        self.price = []\n",
        "\n",
        "    def add_product(self):\n",
        "        while (True):\n",
        "            product = int(input(\"Which Product Do You Want To Add?\\nEnter 1 for Laptop (₹50,000)\\nEnter 2 for Mobile (₹20,000)\\nEnter 0 to stop adding products\\n\"))\n",
        "\n",
        "            if product == 1:\n",
        "                self.name.append(\"Laptop\")\n",
        "                self.price.append(50000)\n",
        "                print(\"Laptop added to cart successfully!\")\n",
        "\n",
        "            elif product == 2:\n",
        "                self.name.append(\"Mobile\")\n",
        "                self.price.append(20000)\n",
        "                print(\"Mobile added to cart successfully!\")\n",
        "\n",
        "            elif product == 0:\n",
        "                break\n",
        "\n",
        "            else:\n",
        "                print(\"Invalid input\")\n",
        "\n",
        "    def view_cart(self):\n",
        "        if not self.name:\n",
        "            return \"Your cart is empty!\"\n",
        "\n",
        "        total_price = sum(self.price)\n",
        "        print(\"Your Shopping Cart:\")\n",
        "        for i in range(len(self.name)):\n",
        "            print(f\"{self.name[i]} - ₹{self.price[i]}\")\n",
        "\n",
        "        print(f\"Total Price: ₹{total_price}\")\n",
        "\n",
        "    def remove_product(self):\n",
        "        count=0\n",
        "        product = int(input(\"Which Product Do You Want To Remove?\\nEnter 1 for Laptop (₹50,000)\\nEnter 2 for Mobile (₹20,000)\\n\"))\n",
        "        quantity = int(input(\"Quatity to remove from cart:\"))\n",
        "        if product==1:\n",
        "            product=\"Laptop\"\n",
        "        elif product==2:\n",
        "            product=\"Mobile\"\n",
        "        for i in range(len(self.name)):\n",
        "            if self.name[i] == product:\n",
        "                count+=1\n",
        "                self.name.remove(self.name[i])\n",
        "                self.price.remove(self.price[i])\n",
        "                if count == quantity:\n",
        "                    break\n",
        "\n",
        "cart = Cart()\n"
      ]
    },
    {
      "cell_type": "code",
      "execution_count": null,
      "id": "e1a2c5ea-a4ff-4be5-a8a5-aecdc14e9412",
      "metadata": {
        "id": "e1a2c5ea-a4ff-4be5-a8a5-aecdc14e9412",
        "outputId": "aacef49e-77c9-4fdb-84aa-492543200090"
      },
      "outputs": [
        {
          "name": "stdin",
          "output_type": "stream",
          "text": [
            "Which Product Do You Want To Add?\n",
            "Enter 1 for Laptop (₹50,000)\n",
            "Enter 2 for Mobile (₹20,000)\n",
            "Enter 0 to stop adding products\n",
            " 1\n"
          ]
        },
        {
          "name": "stdout",
          "output_type": "stream",
          "text": [
            "Laptop added to cart successfully!\n"
          ]
        },
        {
          "name": "stdin",
          "output_type": "stream",
          "text": [
            "Which Product Do You Want To Add?\n",
            "Enter 1 for Laptop (₹50,000)\n",
            "Enter 2 for Mobile (₹20,000)\n",
            "Enter 0 to stop adding products\n",
            " 1\n"
          ]
        },
        {
          "name": "stdout",
          "output_type": "stream",
          "text": [
            "Laptop added to cart successfully!\n"
          ]
        },
        {
          "name": "stdin",
          "output_type": "stream",
          "text": [
            "Which Product Do You Want To Add?\n",
            "Enter 1 for Laptop (₹50,000)\n",
            "Enter 2 for Mobile (₹20,000)\n",
            "Enter 0 to stop adding products\n",
            " 1\n"
          ]
        },
        {
          "name": "stdout",
          "output_type": "stream",
          "text": [
            "Laptop added to cart successfully!\n"
          ]
        },
        {
          "name": "stdin",
          "output_type": "stream",
          "text": [
            "Which Product Do You Want To Add?\n",
            "Enter 1 for Laptop (₹50,000)\n",
            "Enter 2 for Mobile (₹20,000)\n",
            "Enter 0 to stop adding products\n",
            " 2\n"
          ]
        },
        {
          "name": "stdout",
          "output_type": "stream",
          "text": [
            "Mobile added to cart successfully!\n"
          ]
        },
        {
          "name": "stdin",
          "output_type": "stream",
          "text": [
            "Which Product Do You Want To Add?\n",
            "Enter 1 for Laptop (₹50,000)\n",
            "Enter 2 for Mobile (₹20,000)\n",
            "Enter 0 to stop adding products\n",
            " 2\n"
          ]
        },
        {
          "name": "stdout",
          "output_type": "stream",
          "text": [
            "Mobile added to cart successfully!\n"
          ]
        },
        {
          "name": "stdin",
          "output_type": "stream",
          "text": [
            "Which Product Do You Want To Add?\n",
            "Enter 1 for Laptop (₹50,000)\n",
            "Enter 2 for Mobile (₹20,000)\n",
            "Enter 0 to stop adding products\n",
            " 0\n"
          ]
        }
      ],
      "source": [
        "cart.add_product()\n"
      ]
    },
    {
      "cell_type": "code",
      "execution_count": null,
      "id": "0b67ff49-db66-4012-aeb9-2da9fd1c5b36",
      "metadata": {
        "id": "0b67ff49-db66-4012-aeb9-2da9fd1c5b36",
        "outputId": "fa57f00a-13ad-42de-8fd7-c17f68b5ed52"
      },
      "outputs": [
        {
          "name": "stdout",
          "output_type": "stream",
          "text": [
            "Your Shopping Cart:\n",
            "Mobile - ₹20000\n",
            "Laptop - ₹50000\n",
            "Mobile - ₹20000\n",
            "Mobile - ₹20000\n",
            "Total Price: ₹110000\n"
          ]
        }
      ],
      "source": [
        "cart.view_cart()"
      ]
    },
    {
      "cell_type": "code",
      "execution_count": null,
      "id": "3a40c6e6-efe5-415e-8e27-2ad4303e63f9",
      "metadata": {
        "id": "3a40c6e6-efe5-415e-8e27-2ad4303e63f9",
        "outputId": "e0cdb682-b5db-461c-a6c9-bbc0dfba6024"
      },
      "outputs": [
        {
          "name": "stdin",
          "output_type": "stream",
          "text": [
            "Which Product Do You Want To Remove?\n",
            "Enter 1 for Laptop (₹50,000)\n",
            "Enter 2 for Mobile (₹20,000)\n",
            " 1\n",
            "Quatity to remove from cart: 2\n"
          ]
        }
      ],
      "source": [
        "cart.remove_product()\n"
      ]
    },
    {
      "cell_type": "code",
      "execution_count": null,
      "id": "13a4d938-9f76-46c0-8678-ce13ca1cb6d4",
      "metadata": {
        "id": "13a4d938-9f76-46c0-8678-ce13ca1cb6d4"
      },
      "outputs": [],
      "source": []
    }
  ],
  "metadata": {
    "kernelspec": {
      "display_name": "Python 3 (ipykernel)",
      "language": "python",
      "name": "python3"
    },
    "language_info": {
      "codemirror_mode": {
        "name": "ipython",
        "version": 3
      },
      "file_extension": ".py",
      "mimetype": "text/x-python",
      "name": "python",
      "nbconvert_exporter": "python",
      "pygments_lexer": "ipython3",
      "version": "3.10.11"
    },
    "colab": {
      "provenance": [],
      "include_colab_link": true
    }
  },
  "nbformat": 4,
  "nbformat_minor": 5
}