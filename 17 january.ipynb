{
  "nbformat": 4,
  "nbformat_minor": 0,
  "metadata": {
    "colab": {
      "provenance": [],
      "authorship_tag": "ABX9TyNDQ/mRpIT/EHEsjS/WL0YD"
    },
    "kernelspec": {
      "name": "python3",
      "display_name": "Python 3"
    },
    "language_info": {
      "name": "python"
    }
  },
  "cells": [
    {
      "cell_type": "code",
      "execution_count": 6,
      "metadata": {
        "colab": {
          "base_uri": "https://localhost:8080/"
        },
        "id": "ME0Obvs5pgNz",
        "outputId": "9d46ae38-b48f-4db1-e0f2-b39a236c5175"
      },
      "outputs": [
        {
          "output_type": "stream",
          "name": "stdout",
          "text": [
            "2 + 11 = 13\n"
          ]
        }
      ],
      "source": [
        "#list pratice\n",
        "k=13\n",
        "mylist=[0,1,2,4,6,8,9,11]\n",
        "start=0\n",
        "end=len(mylist)-1\n",
        "sum_chk=0\n",
        "while(True):\n",
        "  sum_chk=mylist[start]+mylist[end]\n",
        "  if(sum_chk==k):\n",
        "    print(mylist[start],\"+\",mylist[end],\"=\",k)\n",
        "    sum_chk=0\n",
        "    break\n",
        "  elif(sum_chk<k):\n",
        "    start+=1\n",
        "  else:\n",
        "    end-=1"
      ]
    },
    {
      "cell_type": "code",
      "source": [
        "list1=[]\n",
        "q=0\n",
        "\n",
        "for i in range(1,6):\n",
        "  templist=[]\n",
        "  for t in range(i,5):\n",
        "    print(\" \",end=\"\")\n",
        "  for j in range (1,i+1):\n",
        "    if(j==1 or i==j):\n",
        "      templist.append(1)\n",
        "    else:\n",
        "      a=list1[i-2][j-2]+list1[i-2][j-1]\n",
        "      templist.append(a)\n",
        "  list1.append(templist)\n",
        "  print(list1[q])\n",
        "  q+=1"
      ],
      "metadata": {
        "id": "3lZaNYiysRCl",
        "colab": {
          "base_uri": "https://localhost:8080/"
        },
        "outputId": "b8455c75-687d-4fb0-e66d-e1a67db50e7e"
      },
      "execution_count": 3,
      "outputs": [
        {
          "output_type": "stream",
          "name": "stdout",
          "text": [
            "    [1]\n",
            "   [1, 1]\n",
            "  [1, 2, 1]\n",
            " [1, 3, 3, 1]\n",
            "[1, 4, 6, 4, 1]\n"
          ]
        }
      ]
    },
    {
      "cell_type": "code",
      "source": [
        "for i in range(1,6):\n",
        "  c=1\n",
        "  for k in range(i,5):\n",
        "    print(\" \",end=\"\")\n",
        "  for j in range(1,i+1):\n",
        "    print(c,end=\" \")\n",
        "    c=c*(i-j)//j\n",
        "  print(\"\")"
      ],
      "metadata": {
        "colab": {
          "base_uri": "https://localhost:8080/"
        },
        "id": "FJKyxraiw9Ch",
        "outputId": "cfe50a64-8144-40f9-8b1c-ba788349fa1d"
      },
      "execution_count": 117,
      "outputs": [
        {
          "output_type": "stream",
          "name": "stdout",
          "text": [
            "    1 \n",
            "   1 1 \n",
            "  1 2 1 \n",
            " 1 3 3 1 \n",
            "1 4 6 4 1 \n"
          ]
        }
      ]
    }
  ]
}