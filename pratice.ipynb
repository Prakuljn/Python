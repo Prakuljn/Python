{
  "nbformat": 4,
  "nbformat_minor": 0,
  "metadata": {
    "colab": {
      "provenance": [],
      "authorship_tag": "ABX9TyPOTmR+bpaTCjjeaWrQM7qx",
      "include_colab_link": true
    },
    "kernelspec": {
      "name": "python3",
      "display_name": "Python 3"
    },
    "language_info": {
      "name": "python"
    }
  },
  "cells": [
    {
      "cell_type": "markdown",
      "metadata": {
        "id": "view-in-github",
        "colab_type": "text"
      },
      "source": [
        "<a href=\"https://colab.research.google.com/github/Prakuljn/Python-Assignment/blob/main/pratice.ipynb\" target=\"_parent\"><img src=\"https://colab.research.google.com/assets/colab-badge.svg\" alt=\"Open In Colab\"/></a>"
      ]
    },
    {
      "cell_type": "code",
      "execution_count": 9,
      "metadata": {
        "colab": {
          "base_uri": "https://localhost:8080/"
        },
        "id": "pLDngpkv9DPw",
        "outputId": "f666e2f0-5dcb-4938-a276-48cef89af3e1"
      },
      "outputs": [
        {
          "output_type": "stream",
          "name": "stdout",
          "text": [
            "-57\n"
          ]
        }
      ],
      "source": [
        "arr=[57,57,-57,57]\n",
        "highest=-100\n",
        "second_highest=0\n",
        "for i in arr:\n",
        "    if i>highest:\n",
        "        second_highest=highest\n",
        "        highest=i\n",
        "    elif i>second_highest and i!=highest:\n",
        "        second_highest=i\n",
        "print(second_highest)"
      ]
    },
    {
      "cell_type": "code",
      "source": [
        "students = [['Harry', 37.21], ['Berry', 37.21], ['Tina', 37.2], ['Akriti', 41], ['Harsh', 39]]\n",
        "dict1={}\n",
        "lowest=100\n",
        "second_lowest=0\n",
        "for i in students:\n",
        "  dict1[i[0]]=i[1]\n",
        "for j in dict1.values():\n",
        "  if j<lowest:\n",
        "    second_lowest=lowest\n",
        "    lowest=j\n",
        "  elif j<second_lowest and j!=lowest:\n",
        "    second_lowest=j\n",
        "for k in dict1.keys():\n",
        "  if dict1[k]==second_lowest:\n",
        "    print(k)\n",
        "\n",
        "\n"
      ],
      "metadata": {
        "colab": {
          "base_uri": "https://localhost:8080/"
        },
        "id": "kDVBE-D0ChYd",
        "outputId": "95d49039-3772-408f-b8a3-d86f4928b41a"
      },
      "execution_count": 33,
      "outputs": [
        {
          "output_type": "stream",
          "name": "stdout",
          "text": [
            "Harry\n",
            "Berry\n"
          ]
        }
      ]
    },
    {
      "cell_type": "code",
      "source": [
        "dict1={}\n",
        "list1=[]\n",
        "lowest=100\n",
        "second_lowest=0\n",
        "for _ in range(int(input())):\n",
        "    name = input()\n",
        "    score = float(input())\n",
        "    dict1[name]=score\n",
        "for j in dict1.values():\n",
        "    if j<lowest:\n",
        "        second_lowest=lowest\n",
        "        lowest=j\n",
        "    elif j<second_lowest and j!=lowest:\n",
        "        second_lowest=j\n",
        "for k in dict1.keys():\n",
        "    if dict1[k]==second_lowest:\n",
        "        print(k)"
      ],
      "metadata": {
        "colab": {
          "base_uri": "https://localhost:8080/"
        },
        "id": "y1_8ocDnEfTL",
        "outputId": "9ff782cf-b815-4280-f355-a2a51f66e6bc"
      },
      "execution_count": 1,
      "outputs": [
        {
          "output_type": "stream",
          "name": "stdout",
          "text": [
            "5\n",
            "prakul\n",
            "44\n",
            "naman\n",
            "11\n",
            "jain\n",
            "14\n",
            "ajklj;fdsa45\n",
            "66\n",
            "ved\n",
            "88\n",
            "jain\n"
          ]
        }
      ]
    },
    {
      "cell_type": "code",
      "source": [],
      "metadata": {
        "id": "fu7YOgWP0ZWl"
      },
      "execution_count": null,
      "outputs": []
    }
  ]
}