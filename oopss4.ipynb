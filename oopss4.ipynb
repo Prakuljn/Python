{
  "nbformat": 4,
  "nbformat_minor": 0,
  "metadata": {
    "colab": {
      "provenance": [],
      "authorship_tag": "ABX9TyN9urMvZP2XoxkYEFJDrOMB",
      "include_colab_link": true
    },
    "kernelspec": {
      "name": "python3",
      "display_name": "Python 3"
    },
    "language_info": {
      "name": "python"
    }
  },
  "cells": [
    {
      "cell_type": "markdown",
      "metadata": {
        "id": "view-in-github",
        "colab_type": "text"
      },
      "source": [
        "<a href=\"https://colab.research.google.com/github/Prakuljn/MYSQL/blob/main/oopss4.ipynb\" target=\"_parent\"><img src=\"https://colab.research.google.com/assets/colab-badge.svg\" alt=\"Open In Colab\"/></a>"
      ]
    },
    {
      "cell_type": "code",
      "execution_count": 3,
      "metadata": {
        "colab": {
          "base_uri": "https://localhost:8080/"
        },
        "id": "lub-qe1k2L7X",
        "outputId": "815d856a-4246-43ab-80ca-d71ca6ea13ff"
      },
      "outputs": [
        {
          "output_type": "stream",
          "name": "stdout",
          "text": [
            "sam\n",
            "5000\n",
            "Deposit sucessfully ! total balance: 8000\n",
            "withrawn sucessfully ! total balance: 3000\n"
          ]
        }
      ],
      "source": [
        "class Balance:\n",
        "  def __init__ (self,ac_holder,balance):\n",
        "    self.__ac_holder=ac_holder   # private attribute\n",
        "    self.__balance=balance          # private attribute\n",
        "  def get_acc_holder_name(self):\n",
        "    return self.__ac_holder\n",
        "  def get_balance(self):\n",
        "    return self.__balance\n",
        "  def deposit(self,amount):\n",
        "    if amount>0:\n",
        "      self.__balance+=amount\n",
        "      return f\"Deposit sucessfully ! total balance: {self.__balance}\"\n",
        "  def withdrawn(self,amount):\n",
        "    if amount <= self.__balance:\n",
        "      self.__balance-=amount\n",
        "      return f\"withrawn sucessfully ! total balance: {self.__balance}\"\n",
        "    else:\n",
        "      return \"insufficent funds!\"\n",
        "\n",
        "account = Balance(\"sam\",5000)\n",
        "print(account.get_acc_holder_name())\n",
        "print(account.get_balance())\n",
        "print(account.deposit(3000))\n",
        "print(account.withdrawn(5000))\n"
      ]
    },
    {
      "cell_type": "code",
      "source": [
        "class Student:\n",
        "  def __init__ (self, name, grade):\n",
        "    self.name= name # Public attribute\n",
        "    self.__grade = grade # Private attribute\n",
        "  def get_grade(self):\n",
        "    return self.__grade\n",
        "# Setter for grade (with validation)\n",
        "  def set_grade(self,new_grade):\n",
        "    if 0<=new_grade<=100:\n",
        "      self.__grade = new_grade\n",
        "      return \"grade upgraded sucessfully !\"\n",
        "    else:\n",
        "      return \" invalid grade\"\n",
        "student1= Student(\"rohit\",85 )\n",
        "print(student1.name)\n",
        "print(student1.get_grade())\n",
        "print (student1.set_grade(90) )\n"
      ],
      "metadata": {
        "colab": {
          "base_uri": "https://localhost:8080/"
        },
        "id": "PAwBQOgY4R56",
        "outputId": "70c30da8-717d-462d-cd88-12e5acae320b"
      },
      "execution_count": 5,
      "outputs": [
        {
          "output_type": "stream",
          "name": "stdout",
          "text": [
            "rohit\n",
            "85\n",
            "grade upgraded sucessfully !\n"
          ]
        }
      ]
    },
    {
      "cell_type": "code",
      "source": [
        "class Hoispital:\n",
        "  def __init__(self,name, age):\n",
        "    self.__name=name\n",
        "    self.__age=age\n",
        "    self.__medical_details=[]\n",
        "  def get_paitent_details(self):\n",
        "    return self.__name , self.__age\n",
        "  def add_medical_record(self,record):\n",
        "    self.__medical_details.append(record)\n",
        "    return \"record updated\"\n",
        "  def get_medical_record(self):\n",
        "    return self.__name ,self.__age ,self.__medical_details\n",
        "paitent=Hoispital(\"paitent1\",23)\n",
        "print(paitent.get_paitent_details())\n",
        "print(paitent.add_medical_record([\"fever\",\"cold\"]))\n",
        "print(paitent())"
      ],
      "metadata": {
        "colab": {
          "base_uri": "https://localhost:8080/"
        },
        "id": "iRay_iBXf_ev",
        "outputId": "e707fc58-6c73-4ff9-90fc-bc65c6773698"
      },
      "execution_count": null,
      "outputs": [
        {
          "output_type": "stream",
          "name": "stdout",
          "text": [
            "('paitent1', 23)\n",
            "record updated\n",
            "('paitent1', 23, [['fever', 'cold']])\n"
          ]
        }
      ]
    },
    {
      "cell_type": "code",
      "source": [
        "class HealthcareSystem:\n",
        "    def __init__(self,name,age):\n",
        "        self.__name=name\n",
        "        self.__age=age\n",
        "        self.__medical_history=[]\n",
        "\n",
        "    def get_patient_info(self):\n",
        "        return f\"Name: {self.__name} , Age : {self.__age}\"\n",
        "    def patient_medical_record(self,record):\n",
        "        self.__medical_history.append(record)\n",
        "        print(\"Patient medical record added successfully!\")\n",
        "\n",
        "    def patient_medical_history(self):\n",
        "        return self.__medical_history.copy()\n",
        "\n",
        "    def update_patient_medical_record(self,i,new_record):\n",
        "        if 0<=i<len(self.__medical_history):\n",
        "            self.__medical_history[i]=new_record\n",
        "            print(\"Patient medical record updated successfully!\")\n",
        "        else:\n",
        "            print(\"Invalid record index!\")\n",
        "\n",
        "\n",
        "\n",
        "name=input(\"Enter the patient name :\")\n",
        "age=int(input(\"Enter the age of the patient :\"))\n",
        "patient=HealthcareSystem(name,age)\n",
        "print(patient.get_patient_info())\n",
        "patient.patient_medical_record(\"Seaviour Migrane Pain!\")\n",
        "patient.patient_medical_record(\"Bone Fracture!\")\n",
        "patient.patient_medical_record(\"Cancer 2nd Stage!\")\n",
        "print(\"Medical History of the patient is :\",patient.patient_medical_history())\n",
        "patient.update_patient_medical_record(2,\"Asthma!\")\n",
        "print(\"Patient updated medical history is :\",patient.patient_medical_history())"
      ],
      "metadata": {
        "colab": {
          "base_uri": "https://localhost:8080/"
        },
        "id": "1zaN9LtCiHPr",
        "outputId": "c773e981-07cc-4540-aaba-88ee212dc80a"
      },
      "execution_count": null,
      "outputs": [
        {
          "output_type": "stream",
          "name": "stdout",
          "text": [
            "Enter the patient name :prakul \n",
            "Enter the age of the patient :20\n",
            "Name: prakul  , Age : 20\n",
            "Patient medical record added successfully!\n",
            "Patient medical record added successfully!\n",
            "Patient medical record added successfully!\n",
            "Medical History of the patient is : ['Seaviour Migrane Pain!', 'Bone Fracture!', 'Cancer 2nd Stage!']\n",
            "Patient medical record updated successfully!\n",
            "Patient updated medical history is : ['Seaviour Migrane Pain!', 'Bone Fracture!', 'Asthma!']\n"
          ]
        }
      ]
    },
    {
      "cell_type": "code",
      "source": [
        "class HealthcareSystem:\n",
        "    def __init__(self,name,age):\n",
        "        self.__name=name\n",
        "        self.__age=age\n",
        "        self.__medical_history=[]\n",
        "\n",
        "    def get_patient_info(self):\n",
        "        return f\"Name: {self.__name} , Age : {self.__age}\"\n",
        "\n",
        "    def patient_medical_record(self,record):\n",
        "        self.__medical_history.append(record)\n",
        "        print(\"Patient medical record added successfully!\")\n",
        "\n",
        "    def patient_medical_history(self):\n",
        "        return self.__medical_history.copy()\n",
        "\n",
        "    def update_patient_medical_record(self,new_record):\n",
        "        self.__medical_history.append(new_record)\n",
        "\n",
        "name=input(\"Enter the patient name :\")\n",
        "age=int(input(\"Enter the age of the patient :\"))\n",
        "patient=HealthcareSystem(name,age)\n",
        "print(patient.get_patient_info())\n",
        "patient.patient_medical_record(\"Seaviour Migrane Pain!\")\n",
        "print(\"Medical History of the patient is :\",patient.patient_medical_history())\n",
        "patient.update_patient_medical_record(\"Asthma!\")\n",
        "print(\"Patient updated medical history is :\",patient.patient_medical_history())"
      ],
      "metadata": {
        "colab": {
          "base_uri": "https://localhost:8080/"
        },
        "id": "l5O9BDwNtgTi",
        "outputId": "02edc541-078f-4fb4-a221-826d047bced1"
      },
      "execution_count": null,
      "outputs": [
        {
          "output_type": "stream",
          "name": "stdout",
          "text": [
            "Enter the patient name :prakul\n",
            "Enter the age of the patient :20\n",
            "Name: prakul , Age : 20\n",
            "Patient medical record added successfully!\n",
            "Medical History of the patient is : ['Seaviour Migrane Pain!']\n",
            "Patient updated medical history is : ['Seaviour Migrane Pain!', 'Asthma!']\n"
          ]
        }
      ]
    },
    {
      "cell_type": "code",
      "source": [
        "class Engine:\n",
        "  def start_engine(self):\n",
        "    print(\"engine started\")\n",
        "class Wheels:\n",
        "  def rotate_wheels(self):\n",
        "    print(\"wheel are rotating\")\n",
        "class Car(Engine , Wheels):\n",
        "  def drive(self):\n",
        "    print (\"car is driving\")\n",
        "my_car=Car()\n",
        "my_car.start_engine()\n",
        "\n",
        "my_car.drive()\n",
        "my_car.rotate_wheels()"
      ],
      "metadata": {
        "id": "oCd7IyRGltQY",
        "colab": {
          "base_uri": "https://localhost:8080/"
        },
        "outputId": "b713b105-741f-4bf2-a8f2-17e380f04a62"
      },
      "execution_count": null,
      "outputs": [
        {
          "output_type": "stream",
          "name": "stdout",
          "text": [
            "engine started\n",
            "car is driving\n",
            "wheel are rotating\n"
          ]
        }
      ]
    },
    {
      "cell_type": "code",
      "source": [
        "class Animal:\n",
        "  def eat(self):\n",
        "    print(\"animal is eating\")\n",
        "class Dog(Animal):\n",
        "  def bark(self):\n",
        "    print(\"dog is barking\")\n",
        "class Puppy(Dog):\n",
        "  def weep(self):\n",
        "    print(\"dog is weeping\")\n",
        "puppy=Puppy()\n",
        "puppy.eat()\n",
        "puppy.bark()\n",
        "puppy.weep()\n"
      ],
      "metadata": {
        "colab": {
          "base_uri": "https://localhost:8080/"
        },
        "id": "FnYpUIar_hMu",
        "outputId": "f7f3a570-2b46-4ecb-ce59-a80a549a0bb3"
      },
      "execution_count": null,
      "outputs": [
        {
          "output_type": "stream",
          "name": "stdout",
          "text": [
            "animal is eating\n",
            "dog is barking\n",
            "dog is weeping\n"
          ]
        }
      ]
    },
    {
      "cell_type": "code",
      "source": [
        "class Employee:\n",
        "  company_name=\"regex software services\"\n",
        "  def __init__ (self,name,salary):\n",
        "    self.name=name\n",
        "    self.salary=salary\n",
        "  @classmethod\n",
        "  def change_company_name(cls,new_name):\n",
        "    cls.company_name= new_name\n",
        "emp1=Employee(\"anshul\",1)\n",
        "emp2=Employee(\"anmol\",2)\n",
        "emp3=Employee(\"prakul\",3)\n",
        "print(Employee.company_name)\n",
        "Employee.change_company_name(\"it solution\")\n",
        "print(Employee.company_name)\n"
      ],
      "metadata": {
        "colab": {
          "base_uri": "https://localhost:8080/"
        },
        "id": "K3YhFGM6_79G",
        "outputId": "cdef36ba-48a4-4855-c0f4-70fcba08e342"
      },
      "execution_count": 6,
      "outputs": [
        {
          "output_type": "stream",
          "name": "stdout",
          "text": [
            "regex software services\n",
            "it solution\n"
          ]
        }
      ]
    },
    {
      "cell_type": "code",
      "source": [
        "class Employee:\n",
        "  company_name=\"regex software services\"\n",
        "  def __init__ (self,name,salary):\n",
        "    self.name=name\n",
        "    self.salary=salary\n",
        "  @classmethod\n",
        "  def change_company_name(cls,new_name):\n",
        "    cls.company_name= new_name\n",
        "emp1=Employee(\"anshul\",1)\n",
        "emp2=Employee(\"anmol\",2)\n",
        "emp3=Employee(\"prakul\",3)\n",
        "print(Employee.company_name)\n",
        "Employee.change_company_name(\"it solution\")\n",
        "print(Employee.company_name)\n"
      ],
      "metadata": {
        "id": "74r8yeejhgO6"
      },
      "execution_count": null,
      "outputs": []
    }
  ]
}