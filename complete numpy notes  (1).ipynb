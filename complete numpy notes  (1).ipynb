{
 "cells": [
  {
   "cell_type": "code",
   "execution_count": 1,
   "id": "a198d9d1",
   "metadata": {},
   "outputs": [],
   "source": [
    "import numpy as np"
   ]
  },
  {
   "cell_type": "markdown",
   "id": "9f0904fd",
   "metadata": {},
   "source": [
    "# One dimensional array"
   ]
  },
  {
   "cell_type": "code",
   "execution_count": 2,
   "id": "bb719abf",
   "metadata": {},
   "outputs": [
    {
     "data": {
      "text/plain": [
       "array([1, 2, 3, 4, 5])"
      ]
     },
     "execution_count": 2,
     "metadata": {},
     "output_type": "execute_result"
    }
   ],
   "source": [
    "a = [1,2,3,4,5] \n",
    "b = np.array(a) \n",
    "b"
   ]
  },
  {
   "cell_type": "code",
   "execution_count": 3,
   "id": "aef4264b",
   "metadata": {},
   "outputs": [
    {
     "data": {
      "text/plain": [
       "numpy.ndarray"
      ]
     },
     "execution_count": 3,
     "metadata": {},
     "output_type": "execute_result"
    }
   ],
   "source": [
    "type(b)"
   ]
  },
  {
   "cell_type": "code",
   "execution_count": 5,
   "id": "f7d11634",
   "metadata": {},
   "outputs": [
    {
     "name": "stdout",
     "output_type": "stream",
     "text": [
      "Enter size:3\n",
      "Enter number:13\n",
      "Enter number:45\n",
      "Enter number:67\n",
      "[13, 45, 67]\n"
     ]
    },
    {
     "data": {
      "text/plain": [
       "array([13, 45, 67])"
      ]
     },
     "execution_count": 5,
     "metadata": {},
     "output_type": "execute_result"
    }
   ],
   "source": [
    "a = [] \n",
    "size  = int(input(\"Enter size:\")) \n",
    "for i in range(size):\n",
    "    val = int(input(\"Enter number:\")) \n",
    "    a.append(val) \n",
    "    \n",
    "print(a) \n",
    "b = np.array(a) \n",
    "b"
   ]
  },
  {
   "cell_type": "markdown",
   "id": "5fa33080",
   "metadata": {},
   "source": [
    "# Two dimensional array"
   ]
  },
  {
   "cell_type": "code",
   "execution_count": 6,
   "id": "d1f78345",
   "metadata": {},
   "outputs": [
    {
     "data": {
      "text/plain": [
       "array([[1, 2, 3],\n",
       "       [4, 5, 6],\n",
       "       [7, 8, 9]])"
      ]
     },
     "execution_count": 6,
     "metadata": {},
     "output_type": "execute_result"
    }
   ],
   "source": [
    "a  = [[1,2,3] , [4,5,6] , [7,8,9]] \n",
    "b = np.array(a) \n",
    "b"
   ]
  },
  {
   "cell_type": "markdown",
   "id": "424d15a9",
   "metadata": {},
   "source": [
    "# How to check size and dimension of an array  ?"
   ]
  },
  {
   "cell_type": "code",
   "execution_count": 7,
   "id": "da09de42",
   "metadata": {},
   "outputs": [
    {
     "data": {
      "text/plain": [
       "array([[1, 2, 3],\n",
       "       [4, 5, 6],\n",
       "       [7, 8, 9]])"
      ]
     },
     "execution_count": 7,
     "metadata": {},
     "output_type": "execute_result"
    }
   ],
   "source": [
    "a  = [[1,2,3] , [4,5,6] , [7,8,9]] \n",
    "b = np.array(a) \n",
    "b\n"
   ]
  },
  {
   "cell_type": "code",
   "execution_count": 8,
   "id": "2c2bb7f9",
   "metadata": {},
   "outputs": [
    {
     "name": "stdout",
     "output_type": "stream",
     "text": [
      "Total Dimensions : 2\n",
      "Shape of an array : (3, 3)\n",
      "Total Elements =  9\n"
     ]
    }
   ],
   "source": [
    "print(\"Total Dimensions :\" , b.ndim) \n",
    "print(\"Shape of an array :\" , b.shape) #shape = n(rows), n(columns)\n",
    "print(\"Total Elements = \" , b.size)  ### size = row*column  = total_element "
   ]
  },
  {
   "cell_type": "markdown",
   "id": "85bb4bc0",
   "metadata": {},
   "source": [
    "# Numpy Functions ==> \n",
    "\n"
   ]
  },
  {
   "cell_type": "markdown",
   "id": "41d3704d",
   "metadata": {},
   "source": [
    "# 1 . Zeros ==> This function create an array (either one dimensional or multi dimensional) and fill all the values with zeros . "
   ]
  },
  {
   "cell_type": "code",
   "execution_count": 1,
   "id": "61249a7d",
   "metadata": {},
   "outputs": [
    {
     "data": {
      "text/plain": [
       "array([0., 0., 0.])"
      ]
     },
     "execution_count": 1,
     "metadata": {},
     "output_type": "execute_result"
    }
   ],
   "source": [
    "import numpy as np \n",
    "a = np.zeros(3) \n",
    "a"
   ]
  },
  {
   "cell_type": "code",
   "execution_count": 2,
   "id": "b8aebb3d",
   "metadata": {},
   "outputs": [
    {
     "data": {
      "text/plain": [
       "array([[0., 0., 0.],\n",
       "       [0., 0., 0.]])"
      ]
     },
     "execution_count": 2,
     "metadata": {},
     "output_type": "execute_result"
    }
   ],
   "source": [
    "b = np.zeros((2,3)) \n",
    "b"
   ]
  },
  {
   "cell_type": "code",
   "execution_count": 3,
   "id": "d3f0c47f",
   "metadata": {},
   "outputs": [
    {
     "data": {
      "text/plain": [
       "2"
      ]
     },
     "execution_count": 3,
     "metadata": {},
     "output_type": "execute_result"
    }
   ],
   "source": [
    "b.ndim"
   ]
  },
  {
   "cell_type": "code",
   "execution_count": 4,
   "id": "e0d20f15",
   "metadata": {},
   "outputs": [
    {
     "data": {
      "text/plain": [
       "1"
      ]
     },
     "execution_count": 4,
     "metadata": {},
     "output_type": "execute_result"
    }
   ],
   "source": [
    "a.ndim"
   ]
  },
  {
   "cell_type": "markdown",
   "id": "257ebb33",
   "metadata": {},
   "source": [
    "# 2 . Ones ==> This function creats an array (either one dimensional or multi dimensional) and fill all the values with one . "
   ]
  },
  {
   "cell_type": "code",
   "execution_count": 17,
   "id": "06c5b6aa",
   "metadata": {},
   "outputs": [
    {
     "data": {
      "text/plain": [
       "array([1., 1., 1., 1., 1.])"
      ]
     },
     "execution_count": 17,
     "metadata": {},
     "output_type": "execute_result"
    }
   ],
   "source": [
    "import  numpy as np \n",
    "a = np.ones(5) \n",
    "a"
   ]
  },
  {
   "cell_type": "code",
   "execution_count": 18,
   "id": "c5c9b9e0",
   "metadata": {},
   "outputs": [
    {
     "data": {
      "text/plain": [
       "array([[1., 1., 1.],\n",
       "       [1., 1., 1.]])"
      ]
     },
     "execution_count": 18,
     "metadata": {},
     "output_type": "execute_result"
    }
   ],
   "source": [
    "b = np.ones((2,3)) \n",
    "b"
   ]
  },
  {
   "cell_type": "markdown",
   "id": "6c44bd8e",
   "metadata": {},
   "source": [
    "# 3 . eye ==> This function creats an array with all the digonal elements as 1 and rest are 0(In square matrix). In non-square matrix the value are sstill one for digonal (upto which it can draw digonal ) and rest are zero . "
   ]
  },
  {
   "cell_type": "code",
   "execution_count": 13,
   "id": "af136623",
   "metadata": {},
   "outputs": [
    {
     "data": {
      "text/plain": [
       "array([[1., 0., 0.],\n",
       "       [0., 1., 0.],\n",
       "       [0., 0., 1.]])"
      ]
     },
     "execution_count": 13,
     "metadata": {},
     "output_type": "execute_result"
    }
   ],
   "source": [
    "import numpy as np \n",
    "a = np.eye(3)         # n(rows) = n(columns) ==> Symmatric Matrix \n",
    "a"
   ]
  },
  {
   "cell_type": "code",
   "execution_count": 20,
   "id": "43a0895d",
   "metadata": {},
   "outputs": [
    {
     "data": {
      "text/plain": [
       "array([[1., 0., 0., 0.],\n",
       "       [0., 1., 0., 0.],\n",
       "       [0., 0., 1., 0.]])"
      ]
     },
     "execution_count": 20,
     "metadata": {},
     "output_type": "execute_result"
    }
   ],
   "source": [
    "b = np.eye(3,4)    # n(rows) != n(columns) ==> ASymmatric Matrix \n",
    "b"
   ]
  },
  {
   "cell_type": "markdown",
   "id": "3e4a9819",
   "metadata": {},
   "source": [
    "# 4 . diag ==> This function creats a two dimensional array with all the digonal elements as the given value and rest are zero . "
   ]
  },
  {
   "cell_type": "code",
   "execution_count": 21,
   "id": "5388e15a",
   "metadata": {},
   "outputs": [
    {
     "data": {
      "text/plain": [
       "array([[1, 0, 0, 0],\n",
       "       [0, 4, 0, 0],\n",
       "       [0, 0, 8, 0],\n",
       "       [0, 0, 0, 9]])"
      ]
     },
     "execution_count": 21,
     "metadata": {},
     "output_type": "execute_result"
    }
   ],
   "source": [
    "import numpy as np\n",
    "a = np.diag([1,4,8,9])\n",
    "a"
   ]
  },
  {
   "cell_type": "markdown",
   "id": "98310f54",
   "metadata": {},
   "source": [
    "# 5 . randint ==> This  function is used to generate a random number between a given range . "
   ]
  },
  {
   "cell_type": "markdown",
   "id": "98dd01e4",
   "metadata": {},
   "source": [
    "# syntax == randint(min_value , max_value , total_numbers) "
   ]
  },
  {
   "cell_type": "code",
   "execution_count": 8,
   "id": "6a0162a2",
   "metadata": {},
   "outputs": [
    {
     "data": {
      "text/plain": [
       "array([3, 9, 7])"
      ]
     },
     "execution_count": 8,
     "metadata": {},
     "output_type": "execute_result"
    }
   ],
   "source": [
    "import numpy as np \n",
    "a = np.random.randint(1,10,3) \n",
    "a"
   ]
  },
  {
   "cell_type": "markdown",
   "id": "56229a57",
   "metadata": {},
   "source": [
    "# 6 . rand() ==> This function is used to generate a random number between 0 to 1 . "
   ]
  },
  {
   "cell_type": "markdown",
   "id": "126e36e2",
   "metadata": {},
   "source": [
    "# syntax == rand(numberof values) "
   ]
  },
  {
   "cell_type": "code",
   "execution_count": 9,
   "id": "4274e09a",
   "metadata": {},
   "outputs": [
    {
     "data": {
      "text/plain": [
       "array([0.8241922 , 0.87433278, 0.57435913, 0.6254378 , 0.096369  ])"
      ]
     },
     "execution_count": 9,
     "metadata": {},
     "output_type": "execute_result"
    }
   ],
   "source": [
    "import numpy as np \n",
    "\n",
    "a = np.random.rand(5) \n",
    "a"
   ]
  },
  {
   "cell_type": "markdown",
   "id": "33ddeb14",
   "metadata": {},
   "source": [
    "# 7 . randn() ==> This function is used to generate a random number from -3 to close 3 . This may return positive or negative numbers as well . "
   ]
  },
  {
   "cell_type": "markdown",
   "id": "d1be8281",
   "metadata": {},
   "source": [
    "# syntax == random.randn(number of values) "
   ]
  },
  {
   "cell_type": "code",
   "execution_count": 10,
   "id": "f928ae3a",
   "metadata": {},
   "outputs": [
    {
     "data": {
      "text/plain": [
       "array([-0.93980687, -1.26832949,  0.64906503, -0.44732138, -0.61320111])"
      ]
     },
     "execution_count": 10,
     "metadata": {},
     "output_type": "execute_result"
    }
   ],
   "source": [
    "import numpy as np \n",
    "a = np.random.randn(5) \n",
    "a"
   ]
  },
  {
   "cell_type": "markdown",
   "id": "9ce1fb53",
   "metadata": {},
   "source": [
    "# Reshaping Data"
   ]
  },
  {
   "cell_type": "code",
   "execution_count": 31,
   "id": "d8d8b303",
   "metadata": {},
   "outputs": [],
   "source": [
    "# n(rows) * n(columns) = n(total_elements) ===> condition always True "
   ]
  },
  {
   "cell_type": "code",
   "execution_count": 11,
   "id": "f7e4a7c3",
   "metadata": {},
   "outputs": [
    {
     "data": {
      "text/plain": [
       "array([46, 29, 36, 23,  5, 13,  9, 49, 10, 41, 29, 15])"
      ]
     },
     "execution_count": 11,
     "metadata": {},
     "output_type": "execute_result"
    }
   ],
   "source": [
    "import numpy as np \n",
    "a = np.random.randint(1,50,12) \n",
    "a"
   ]
  },
  {
   "cell_type": "code",
   "execution_count": 12,
   "id": "0b52a1c4",
   "metadata": {},
   "outputs": [],
   "source": [
    "# n(rows) * n(columns) = n(total_elements) "
   ]
  },
  {
   "cell_type": "code",
   "execution_count": 13,
   "id": "e40983cb",
   "metadata": {},
   "outputs": [
    {
     "data": {
      "text/plain": [
       "(12,)"
      ]
     },
     "execution_count": 13,
     "metadata": {},
     "output_type": "execute_result"
    }
   ],
   "source": [
    "a.shape "
   ]
  },
  {
   "cell_type": "code",
   "execution_count": 14,
   "id": "1fdd53bd",
   "metadata": {},
   "outputs": [
    {
     "data": {
      "text/plain": [
       "array([[46, 29, 36, 23,  5, 13],\n",
       "       [ 9, 49, 10, 41, 29, 15]])"
      ]
     },
     "execution_count": 14,
     "metadata": {},
     "output_type": "execute_result"
    }
   ],
   "source": [
    "a.reshape(2,6) \n",
    "# a"
   ]
  },
  {
   "cell_type": "code",
   "execution_count": 15,
   "id": "9226f07f",
   "metadata": {},
   "outputs": [
    {
     "data": {
      "text/plain": [
       "array([46, 29, 36, 23,  5, 13,  9, 49, 10, 41, 29, 15])"
      ]
     },
     "execution_count": 15,
     "metadata": {},
     "output_type": "execute_result"
    }
   ],
   "source": [
    "a.reshape(6,2) \n",
    "# a"
   ]
  },
  {
   "cell_type": "code",
   "execution_count": 36,
   "id": "8ed88acd",
   "metadata": {},
   "outputs": [
    {
     "data": {
      "text/plain": [
       "array([[44, 36, 15, 39],\n",
       "       [ 7, 30,  8,  3],\n",
       "       [47, 46, 46,  2]])"
      ]
     },
     "execution_count": 36,
     "metadata": {},
     "output_type": "execute_result"
    }
   ],
   "source": [
    "a.reshape(3,4) \n",
    "# a"
   ]
  },
  {
   "cell_type": "code",
   "execution_count": 37,
   "id": "9c95237a",
   "metadata": {},
   "outputs": [
    {
     "data": {
      "text/plain": [
       "array([[44, 36, 15],\n",
       "       [39,  7, 30],\n",
       "       [ 8,  3, 47],\n",
       "       [46, 46,  2]])"
      ]
     },
     "execution_count": 37,
     "metadata": {},
     "output_type": "execute_result"
    }
   ],
   "source": [
    "a = a.reshape(4,3) \n",
    "a"
   ]
  },
  {
   "cell_type": "code",
   "execution_count": 38,
   "id": "f1baf700",
   "metadata": {},
   "outputs": [
    {
     "data": {
      "text/plain": [
       "array([[44],\n",
       "       [36],\n",
       "       [15],\n",
       "       [39],\n",
       "       [ 7],\n",
       "       [30],\n",
       "       [ 8],\n",
       "       [ 3],\n",
       "       [47],\n",
       "       [46],\n",
       "       [46],\n",
       "       [ 2]])"
      ]
     },
     "execution_count": 38,
     "metadata": {},
     "output_type": "execute_result"
    }
   ],
   "source": [
    "a = a.reshape(12,1) \n",
    "a"
   ]
  },
  {
   "cell_type": "markdown",
   "id": "cdca036d",
   "metadata": {},
   "source": [
    "# principal of -1 "
   ]
  },
  {
   "cell_type": "code",
   "execution_count": 40,
   "id": "3eff751a",
   "metadata": {},
   "outputs": [
    {
     "data": {
      "text/plain": [
       "array([[44, 36, 15, 39],\n",
       "       [ 7, 30,  8,  3],\n",
       "       [47, 46, 46,  2]])"
      ]
     },
     "execution_count": 40,
     "metadata": {},
     "output_type": "execute_result"
    }
   ],
   "source": [
    "a = a.reshape(-1 , 4) \n",
    "a"
   ]
  },
  {
   "cell_type": "markdown",
   "id": "0496661a",
   "metadata": {},
   "source": [
    "# Seed Function ()  ==> We know that randint function generates random numbers . Everytime we run the program  , new set of random number is generated . So , solve this problem we will use seed function . "
   ]
  },
  {
   "cell_type": "code",
   "execution_count": 14,
   "id": "fa6e6fc1",
   "metadata": {},
   "outputs": [
    {
     "data": {
      "text/plain": [
       "array([49, 97, 12, 34, 95,  5, 71, 71, 23,  6])"
      ]
     },
     "execution_count": 14,
     "metadata": {},
     "output_type": "execute_result"
    }
   ],
   "source": [
    "import numpy as np \n",
    "\n",
    "np.random.seed(50) \n",
    "a = np.random.randint(1,100 , 10) \n",
    "a"
   ]
  },
  {
   "cell_type": "markdown",
   "id": "295a8a1f",
   "metadata": {},
   "source": [
    "#### np.random.seed(111) \n",
    "a = np.random.randint(1,500,30).reshape(6,5) \n",
    "a"
   ]
  },
  {
   "cell_type": "markdown",
   "id": "6f0012f3",
   "metadata": {},
   "source": [
    "# View Vs Copy ==> When we slice a sub-array from an array , it may be done by two ways . "
   ]
  },
  {
   "cell_type": "code",
   "execution_count": 50,
   "id": "a9d58f7f",
   "metadata": {},
   "outputs": [
    {
     "data": {
      "text/plain": [
       "array([10, 20, 30,  0,  0,  0, 70, 80])"
      ]
     },
     "execution_count": 50,
     "metadata": {},
     "output_type": "execute_result"
    }
   ],
   "source": [
    "import numpy as np \n",
    "a = np.array([10 , 20 , 30 , 40 , 50 , 60 , 70 , 80 ])\n",
    "b = a[3:6] \n",
    "b[:] = 0 \n",
    "a"
   ]
  },
  {
   "cell_type": "markdown",
   "id": "65de0e30",
   "metadata": {},
   "source": [
    "# copy "
   ]
  },
  {
   "cell_type": "code",
   "execution_count": 52,
   "id": "5f75dc93",
   "metadata": {},
   "outputs": [
    {
     "data": {
      "text/plain": [
       "array([10, 20, 30, 40, 50, 60, 70, 80])"
      ]
     },
     "execution_count": 52,
     "metadata": {},
     "output_type": "execute_result"
    }
   ],
   "source": [
    "a = np.array([10 , 20 , 30 , 40 , 50 , 60 , 70 , 80 ])\n",
    "b = a[3:6].copy() \n",
    "b[:] = 0 \n",
    "a"
   ]
  },
  {
   "cell_type": "code",
   "execution_count": 53,
   "id": "8c560307",
   "metadata": {},
   "outputs": [
    {
     "data": {
      "text/plain": [
       "array([0, 0, 0])"
      ]
     },
     "execution_count": 53,
     "metadata": {},
     "output_type": "execute_result"
    }
   ],
   "source": [
    "b"
   ]
  },
  {
   "cell_type": "markdown",
   "id": "b4da5968",
   "metadata": {},
   "source": [
    "# conditional selection "
   ]
  },
  {
   "cell_type": "code",
   "execution_count": 54,
   "id": "8b314f0e",
   "metadata": {},
   "outputs": [
    {
     "data": {
      "text/plain": [
       "array([ 1,  2,  3,  4,  5,  6,  7,  8,  9, 10, 11, 12, 13, 14, 15])"
      ]
     },
     "execution_count": 54,
     "metadata": {},
     "output_type": "execute_result"
    }
   ],
   "source": [
    "import numpy as np \n",
    "a = np.arange(1,16) \n",
    "a"
   ]
  },
  {
   "cell_type": "code",
   "execution_count": 55,
   "id": "2a587921",
   "metadata": {},
   "outputs": [
    {
     "data": {
      "text/plain": [
       "array([False, False, False, False, False, False, False, False, False,\n",
       "       False,  True,  True,  True,  True,  True])"
      ]
     },
     "execution_count": 55,
     "metadata": {},
     "output_type": "execute_result"
    }
   ],
   "source": [
    "a>10"
   ]
  },
  {
   "cell_type": "code",
   "execution_count": 56,
   "id": "c2fb7f15",
   "metadata": {},
   "outputs": [
    {
     "data": {
      "text/plain": [
       "array([ True,  True,  True,  True,  True,  True,  True,  True,  True,\n",
       "       False, False, False, False, False, False])"
      ]
     },
     "execution_count": 56,
     "metadata": {},
     "output_type": "execute_result"
    }
   ],
   "source": [
    "a<10"
   ]
  },
  {
   "cell_type": "code",
   "execution_count": 57,
   "id": "4397b2aa",
   "metadata": {},
   "outputs": [
    {
     "data": {
      "text/plain": [
       "array([11, 12, 13, 14, 15])"
      ]
     },
     "execution_count": 57,
     "metadata": {},
     "output_type": "execute_result"
    }
   ],
   "source": [
    "b = a>10 \n",
    "a[b]"
   ]
  },
  {
   "cell_type": "code",
   "execution_count": 58,
   "id": "a1ea16f1",
   "metadata": {},
   "outputs": [
    {
     "data": {
      "text/plain": [
       "array([ 2,  4,  6,  8, 10, 12, 14])"
      ]
     },
     "execution_count": 58,
     "metadata": {},
     "output_type": "execute_result"
    }
   ],
   "source": [
    "a[a%2 == 0]"
   ]
  },
  {
   "cell_type": "markdown",
   "id": "fa06821d",
   "metadata": {},
   "source": [
    "# Operations on Array "
   ]
  },
  {
   "cell_type": "code",
   "execution_count": 59,
   "id": "e0bebead",
   "metadata": {},
   "outputs": [
    {
     "name": "stdout",
     "output_type": "stream",
     "text": [
      "[1 2 3 4]\n",
      "[2 4 6 8]\n"
     ]
    }
   ],
   "source": [
    "import numpy as np \n",
    "a = np.arange(1,5) \n",
    "print(a)\n",
    "print(a*2)"
   ]
  },
  {
   "cell_type": "code",
   "execution_count": 60,
   "id": "a09831e5",
   "metadata": {},
   "outputs": [
    {
     "data": {
      "text/plain": [
       "array([3, 4, 5, 6])"
      ]
     },
     "execution_count": 60,
     "metadata": {},
     "output_type": "execute_result"
    }
   ],
   "source": [
    "a+2 "
   ]
  },
  {
   "cell_type": "code",
   "execution_count": 61,
   "id": "3f9a09f3",
   "metadata": {},
   "outputs": [
    {
     "data": {
      "text/plain": [
       "array([ 1,  4,  9, 16])"
      ]
     },
     "execution_count": 61,
     "metadata": {},
     "output_type": "execute_result"
    }
   ],
   "source": [
    "a**2"
   ]
  },
  {
   "cell_type": "code",
   "execution_count": 62,
   "id": "5353fe1c",
   "metadata": {},
   "outputs": [
    {
     "data": {
      "text/plain": [
       "array([[1, 2],\n",
       "       [3, 4]])"
      ]
     },
     "execution_count": 62,
     "metadata": {},
     "output_type": "execute_result"
    }
   ],
   "source": [
    "a  = np.array([1,2,3,4]).reshape(2,2)\n",
    "a"
   ]
  },
  {
   "cell_type": "code",
   "execution_count": 63,
   "id": "0b5920da",
   "metadata": {},
   "outputs": [
    {
     "data": {
      "text/plain": [
       "array([[5, 6],\n",
       "       [7, 8]])"
      ]
     },
     "execution_count": 63,
     "metadata": {},
     "output_type": "execute_result"
    }
   ],
   "source": [
    "b = np.array([5,6,7,8]).reshape(2,2) \n",
    "b"
   ]
  },
  {
   "cell_type": "code",
   "execution_count": 64,
   "id": "e9939f13",
   "metadata": {},
   "outputs": [
    {
     "data": {
      "text/plain": [
       "array([[ 6,  8],\n",
       "       [10, 12]])"
      ]
     },
     "execution_count": 64,
     "metadata": {},
     "output_type": "execute_result"
    }
   ],
   "source": [
    "a+b "
   ]
  },
  {
   "cell_type": "code",
   "execution_count": 65,
   "id": "cd4cc5f4",
   "metadata": {},
   "outputs": [
    {
     "data": {
      "text/plain": [
       "array([[4, 4],\n",
       "       [4, 4]])"
      ]
     },
     "execution_count": 65,
     "metadata": {},
     "output_type": "execute_result"
    }
   ],
   "source": [
    "b-a"
   ]
  },
  {
   "cell_type": "code",
   "execution_count": 66,
   "id": "2949c9fe",
   "metadata": {},
   "outputs": [
    {
     "data": {
      "text/plain": [
       "array([[5.        , 3.        ],\n",
       "       [2.33333333, 2.        ]])"
      ]
     },
     "execution_count": 66,
     "metadata": {},
     "output_type": "execute_result"
    }
   ],
   "source": [
    "b/a"
   ]
  },
  {
   "cell_type": "code",
   "execution_count": 67,
   "id": "06ce43f7",
   "metadata": {},
   "outputs": [
    {
     "data": {
      "text/plain": [
       "array([[ 5, 12],\n",
       "       [21, 32]])"
      ]
     },
     "execution_count": 67,
     "metadata": {},
     "output_type": "execute_result"
    }
   ],
   "source": [
    "a*b"
   ]
  },
  {
   "cell_type": "code",
   "execution_count": 68,
   "id": "267578e2",
   "metadata": {},
   "outputs": [
    {
     "data": {
      "text/plain": [
       "array([[19, 22],\n",
       "       [43, 50]])"
      ]
     },
     "execution_count": 68,
     "metadata": {},
     "output_type": "execute_result"
    }
   ],
   "source": [
    "a.dot(b)   ##### for matrix multiplication "
   ]
  },
  {
   "cell_type": "markdown",
   "id": "5af44183",
   "metadata": {},
   "source": [
    "# some more important numpy functions "
   ]
  },
  {
   "cell_type": "code",
   "execution_count": 69,
   "id": "8c727c9c",
   "metadata": {},
   "outputs": [
    {
     "data": {
      "text/plain": [
       "10"
      ]
     },
     "execution_count": 69,
     "metadata": {},
     "output_type": "execute_result"
    }
   ],
   "source": [
    "import  numpy as np \n",
    "a = np.array([10,20,30,40,50]) \n",
    "np.min(a) "
   ]
  },
  {
   "cell_type": "code",
   "execution_count": 70,
   "id": "a7ba27c2",
   "metadata": {},
   "outputs": [
    {
     "data": {
      "text/plain": [
       "50"
      ]
     },
     "execution_count": 70,
     "metadata": {},
     "output_type": "execute_result"
    }
   ],
   "source": [
    "np.max(a)   #it will return maximum value of the array "
   ]
  },
  {
   "cell_type": "code",
   "execution_count": 71,
   "id": "b456a7c8",
   "metadata": {},
   "outputs": [
    {
     "data": {
      "text/plain": [
       "0"
      ]
     },
     "execution_count": 71,
     "metadata": {},
     "output_type": "execute_result"
    }
   ],
   "source": [
    "np.argmin(a)  #it will return indexing of minimum value"
   ]
  },
  {
   "cell_type": "code",
   "execution_count": 72,
   "id": "4969031e",
   "metadata": {},
   "outputs": [
    {
     "data": {
      "text/plain": [
       "4"
      ]
     },
     "execution_count": 72,
     "metadata": {},
     "output_type": "execute_result"
    }
   ],
   "source": [
    "np.argmax(a)   # it will return indexing of maximum value "
   ]
  },
  {
   "cell_type": "code",
   "execution_count": 73,
   "id": "4875fc06",
   "metadata": {},
   "outputs": [
    {
     "data": {
      "text/plain": [
       "array([3.16227766, 4.47213595, 5.47722558, 6.32455532, 7.07106781])"
      ]
     },
     "execution_count": 73,
     "metadata": {},
     "output_type": "execute_result"
    }
   ],
   "source": [
    "np.sqrt(a) "
   ]
  },
  {
   "cell_type": "code",
   "execution_count": 74,
   "id": "98b9e173",
   "metadata": {},
   "outputs": [
    {
     "data": {
      "text/plain": [
       "array([-0.54402111,  0.91294525, -0.98803162,  0.74511316, -0.26237485])"
      ]
     },
     "execution_count": 74,
     "metadata": {},
     "output_type": "execute_result"
    }
   ],
   "source": [
    "np.sin(a) "
   ]
  },
  {
   "cell_type": "markdown",
   "id": "1e2f2c82",
   "metadata": {},
   "source": [
    "# Linspace() ==> This function returns value between a given range and with a same gap between consicutive elements . "
   ]
  },
  {
   "cell_type": "code",
   "execution_count": 75,
   "id": "a95c0c25",
   "metadata": {},
   "outputs": [
    {
     "data": {
      "text/plain": [
       "array([1.  , 1.25, 1.5 , 1.75, 2.  ])"
      ]
     },
     "execution_count": 75,
     "metadata": {},
     "output_type": "execute_result"
    }
   ],
   "source": [
    "import numpy as np \n",
    "\n",
    "a = np.linspace(1,2,5) \n",
    "a"
   ]
  },
  {
   "cell_type": "code",
   "execution_count": 76,
   "id": "242f88d9",
   "metadata": {},
   "outputs": [
    {
     "data": {
      "text/plain": [
       "array([[16, 11, 13],\n",
       "       [17, 13, 16],\n",
       "       [ 3, 16, 11]])"
      ]
     },
     "execution_count": 76,
     "metadata": {},
     "output_type": "execute_result"
    }
   ],
   "source": [
    "import numpy as np \n",
    "\n",
    "np.random.seed(122) \n",
    "a = np.random.randint(1,21,9).reshape(3,3) \n",
    "a"
   ]
  },
  {
   "cell_type": "code",
   "execution_count": 77,
   "id": "5f20ead6",
   "metadata": {},
   "outputs": [
    {
     "data": {
      "text/plain": [
       "116"
      ]
     },
     "execution_count": 77,
     "metadata": {},
     "output_type": "execute_result"
    }
   ],
   "source": [
    "np.sum(a) "
   ]
  },
  {
   "cell_type": "code",
   "execution_count": 78,
   "id": "d3d1cbc1",
   "metadata": {},
   "outputs": [
    {
     "data": {
      "text/plain": [
       "array([40, 46, 30])"
      ]
     },
     "execution_count": 78,
     "metadata": {},
     "output_type": "execute_result"
    }
   ],
   "source": [
    "np.sum(a , axis = 1)   #### in numpy , axis = 1 means row wise operaqtion and \n",
    "# axis = 0 means coloumn wise operation."
   ]
  },
  {
   "cell_type": "code",
   "execution_count": 79,
   "id": "08395d29",
   "metadata": {},
   "outputs": [
    {
     "data": {
      "text/plain": [
       "3"
      ]
     },
     "execution_count": 79,
     "metadata": {},
     "output_type": "execute_result"
    }
   ],
   "source": [
    "np.min(a) "
   ]
  },
  {
   "cell_type": "code",
   "execution_count": 80,
   "id": "e0f958ff",
   "metadata": {},
   "outputs": [
    {
     "data": {
      "text/plain": [
       "17"
      ]
     },
     "execution_count": 80,
     "metadata": {},
     "output_type": "execute_result"
    }
   ],
   "source": [
    "np.max(a) "
   ]
  },
  {
   "cell_type": "code",
   "execution_count": 81,
   "id": "17127bd1",
   "metadata": {},
   "outputs": [
    {
     "data": {
      "text/plain": [
       "array([ 16,  27,  40,  57,  70,  86,  89, 105, 116])"
      ]
     },
     "execution_count": 81,
     "metadata": {},
     "output_type": "execute_result"
    }
   ],
   "source": [
    "np.cumsum(a) #### a,b,c,d = a , a+b , a+b+c , a+b+c+d "
   ]
  },
  {
   "cell_type": "code",
   "execution_count": 82,
   "id": "8399e096",
   "metadata": {},
   "outputs": [
    {
     "data": {
      "text/plain": [
       "array([[16, 11, 13],\n",
       "       [17, 13, 16],\n",
       "       [ 3, 16, 11]])"
      ]
     },
     "execution_count": 82,
     "metadata": {},
     "output_type": "execute_result"
    }
   ],
   "source": [
    "a"
   ]
  },
  {
   "cell_type": "markdown",
   "id": "549282e8",
   "metadata": {},
   "source": [
    "# np.unique(arr , return_index = True , return_counts = True) \n",
    "\n",
    "returns 3 array . \n",
    "1 . the array with unique values . \n",
    "2 . the array with respective index value . \n",
    "3 . the array with counting of frequencey . "
   ]
  },
  {
   "cell_type": "code",
   "execution_count": 83,
   "id": "dd217890",
   "metadata": {},
   "outputs": [
    {
     "data": {
      "text/plain": [
       "(array([10, 20, 30, 40, 50]),\n",
       " array([0, 1, 2, 3, 6], dtype=int64),\n",
       " array([2, 2, 1, 1, 1], dtype=int64))"
      ]
     },
     "execution_count": 83,
     "metadata": {},
     "output_type": "execute_result"
    }
   ],
   "source": [
    "a = np.array([10,20,30,40,10,20,50]) \n",
    "np.unique(a , return_index  = True , return_counts = True) \n"
   ]
  },
  {
   "cell_type": "markdown",
   "id": "6299f0b3",
   "metadata": {},
   "source": [
    "# horizontal and vertical stacking"
   ]
  },
  {
   "cell_type": "code",
   "execution_count": 89,
   "id": "59a7b2a0",
   "metadata": {},
   "outputs": [
    {
     "data": {
      "text/plain": [
       "array([1, 2, 3, 4])"
      ]
     },
     "execution_count": 89,
     "metadata": {},
     "output_type": "execute_result"
    }
   ],
   "source": [
    "a = np.array([1,2,3,4]) \n",
    "b = np.array([5,6,7,8]) \n",
    "c = np.array([9,10,11,12])\n",
    "a"
   ]
  },
  {
   "cell_type": "code",
   "execution_count": 91,
   "id": "94424649",
   "metadata": {},
   "outputs": [
    {
     "data": {
      "text/plain": [
       "array([ 1,  2,  3,  4,  5,  6,  7,  8,  9, 10, 11, 12])"
      ]
     },
     "execution_count": 91,
     "metadata": {},
     "output_type": "execute_result"
    }
   ],
   "source": [
    "np.hstack((a,b,c))"
   ]
  },
  {
   "cell_type": "code",
   "execution_count": 92,
   "id": "760722e7",
   "metadata": {},
   "outputs": [
    {
     "data": {
      "text/plain": [
       "array([[ 1,  2,  3,  4],\n",
       "       [ 5,  6,  7,  8],\n",
       "       [ 9, 10, 11, 12]])"
      ]
     },
     "execution_count": 92,
     "metadata": {},
     "output_type": "execute_result"
    }
   ],
   "source": [
    "np.vstack((a,b,c))"
   ]
  },
  {
   "cell_type": "markdown",
   "id": "c85b0057",
   "metadata": {},
   "source": [
    "# Q.1 = Write statement to import numpy ? \n",
    "\n",
    "Q.2 = Create an array using numpy ? \n",
    "\n",
    "Q.3 = Create an array of 10 random integers ?\n",
    "\n",
    "Q.4 = Create an array of elements from  10-20? \n",
    "\n",
    "Q.5 = Create an array which contains value 5 , 10 times ? \n",
    "\n",
    "Q.6 = Create a one dimensional array and convert that into 3*3 matrix ? \n",
    "\n",
    "Q.7 = Create a 2D array of size 3*3 but all the elements should be between 0 to 1 ? \n",
    "\n",
    "Q.8 = Concatenate 2D array horizontally and vertically ? "
   ]
  },
  {
   "cell_type": "code",
   "execution_count": null,
   "id": "c5daa8e1",
   "metadata": {},
   "outputs": [],
   "source": []
  }
 ],
 "metadata": {
  "kernelspec": {
   "display_name": "Python 3 (ipykernel)",
   "language": "python",
   "name": "python3"
  },
  "language_info": {
   "codemirror_mode": {
    "name": "ipython",
    "version": 3
   },
   "file_extension": ".py",
   "mimetype": "text/x-python",
   "name": "python",
   "nbconvert_exporter": "python",
   "pygments_lexer": "ipython3",
   "version": "3.9.12"
  }
 },
 "nbformat": 4,
 "nbformat_minor": 5
}
