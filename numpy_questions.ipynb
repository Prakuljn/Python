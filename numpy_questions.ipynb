{
  "nbformat": 4,
  "nbformat_minor": 0,
  "metadata": {
    "colab": {
      "provenance": [],
      "authorship_tag": "ABX9TyPMF9eHgU8wLJ2lvmRkgAOc",
      "include_colab_link": true
    },
    "kernelspec": {
      "name": "python3",
      "display_name": "Python 3"
    },
    "language_info": {
      "name": "python"
    }
  },
  "cells": [
    {
      "cell_type": "markdown",
      "metadata": {
        "id": "view-in-github",
        "colab_type": "text"
      },
      "source": [
        "<a href=\"https://colab.research.google.com/github/Prakuljn/Python/blob/main/numpy_questions.ipynb\" target=\"_parent\"><img src=\"https://colab.research.google.com/assets/colab-badge.svg\" alt=\"Open In Colab\"/></a>"
      ]
    },
    {
      "cell_type": "code",
      "execution_count": null,
      "metadata": {
        "id": "GXb-onwDgB_7"
      },
      "outputs": [],
      "source": [
        "# Q.1 = Write statement to import numpy ?\n",
        "\n",
        "import numpy as np\n",
        "\n",
        "\n",
        "# Q.2 = Create an array using numpy ?\n",
        "\n",
        "a=[1,2,3,4]\n",
        "b=np.array(a)\n",
        "print(b,type(b))\n",
        "\n",
        "# Q.3 = Create an array of 10 random integers ?\n",
        "\n",
        "a=np.random.randint(1,11,10)\n",
        "print(a)\n",
        "\n",
        "# Q.4 = Create an array of elements from 10-20?\n",
        "\n",
        "a=np.arange(10,21)\n",
        "print(a)"
      ]
    }
  ]
}