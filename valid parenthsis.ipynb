{
  "nbformat": 4,
  "nbformat_minor": 0,
  "metadata": {
    "colab": {
      "provenance": [],
      "authorship_tag": "ABX9TyPrBpOtZAKdIewTuedrI9D1",
      "include_colab_link": true
    },
    "kernelspec": {
      "name": "python3",
      "display_name": "Python 3"
    },
    "language_info": {
      "name": "python"
    }
  },
  "cells": [
    {
      "cell_type": "markdown",
      "metadata": {
        "id": "view-in-github",
        "colab_type": "text"
      },
      "source": [
        "<a href=\"https://colab.research.google.com/github/Prakuljn/Python-Assignment/blob/main/valid%20parenthsis.ipynb\" target=\"_parent\"><img src=\"https://colab.research.google.com/assets/colab-badge.svg\" alt=\"Open In Colab\"/></a>"
      ]
    },
    {
      "cell_type": "code",
      "execution_count": null,
      "metadata": {
        "colab": {
          "base_uri": "https://localhost:8080/"
        },
        "id": "Ha_UzC5RP0BX",
        "outputId": "050d2640-a926-4874-a746-48aeca7784ce"
      },
      "outputs": [
        {
          "output_type": "stream",
          "name": "stdout",
          "text": [
            "['(']\n",
            "['(', '{']\n",
            "['(', '{', '[']\n",
            "invalid parathensis\n"
          ]
        }
      ],
      "source": [
        "# valid parenthsis\n",
        "string=\"({[])\"\n",
        "mylist=[]\n",
        "x=0\n",
        "for char in string:\n",
        "  if char in \"({[\" :\n",
        "    mylist.append(char)\n",
        "    print(mylist)\n",
        "  elif(mylist):\n",
        "    if(char==\")\" and \"(\" != mylist.pop()):\n",
        "      x=1\n",
        "      break\n",
        "    elif(char==\"}\" and \"{\" != mylist.pop()):\n",
        "      x=1\n",
        "      break\n",
        "    elif(char==\"]\" and \"[\" != mylist.pop()):\n",
        "      x=1\n",
        "      break\n",
        "  else:\n",
        "    x=1\n",
        "if x==1 or len(mylist)>0:\n",
        "  print(\"invalid parathensis\")\n",
        "else:\n",
        "  print(\"valid parathensis\")\n",
        "\n"
      ]
    },
    {
      "cell_type": "code",
      "source": [
        "# dictionary\n",
        "# valid anagram\n",
        "dict1={}\n",
        "dict2={}\n",
        "s=\"tyu\"\n",
        "a=\"yut\"\n",
        "for i in s:\n",
        "  if i in dict1:\n",
        "    dict1[i]=dict1[i]+1\n",
        "  else:\n",
        "    dict1[i]=1\n",
        "for j in a:\n",
        "  if j in dict2:\n",
        "    dict2[j]=dict2[j]+1\n",
        "  else:\n",
        "    dict2[j]=1\n",
        "if dict1==dict2:\n",
        "  print(\"valid\")\n",
        "else:\n",
        "  print(\"invalid\")"
      ],
      "metadata": {
        "colab": {
          "base_uri": "https://localhost:8080/"
        },
        "id": "iF-pTrZUSSNu",
        "outputId": "877795bf-6ccb-4357-b69b-ed4879a05601"
      },
      "execution_count": null,
      "outputs": [
        {
          "output_type": "stream",
          "name": "stdout",
          "text": [
            "valid\n"
          ]
        }
      ]
    },
    {
      "cell_type": "code",
      "source": [],
      "metadata": {
        "id": "D68Mv7eFcWT7"
      },
      "execution_count": null,
      "outputs": []
    }
  ]
}