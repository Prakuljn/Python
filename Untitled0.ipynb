{
  "nbformat": 4,
  "nbformat_minor": 0,
  "metadata": {
    "colab": {
      "provenance": [],
      "authorship_tag": "ABX9TyMPlynjxJwUK+LDnQNg1q2l",
      "include_colab_link": true
    },
    "kernelspec": {
      "name": "python3",
      "display_name": "Python 3"
    },
    "language_info": {
      "name": "python"
    }
  },
  "cells": [
    {
      "cell_type": "markdown",
      "metadata": {
        "id": "view-in-github",
        "colab_type": "text"
      },
      "source": [
        "<a href=\"https://colab.research.google.com/github/Prakuljn/Python/blob/main/Untitled0.ipynb\" target=\"_parent\"><img src=\"https://colab.research.google.com/assets/colab-badge.svg\" alt=\"Open In Colab\"/></a>"
      ]
    },
    {
      "cell_type": "code",
      "source": [
        "#python -> python is a general purposee , interpreted programminng language which was invented in 1991 by gudio van rossoum\n",
        "#for check version\n",
        "#python --version"
      ],
      "metadata": {
        "id": "7pZFYWO7pvFi"
      },
      "execution_count": null,
      "outputs": []
    },
    {
      "cell_type": "code",
      "source": [
        "#fundamental of python\n",
        "# 1. variable\n",
        "# 2. data type\n",
        "# 3. input(), print()"
      ],
      "metadata": {
        "id": "epB9Y-GBw5Ge"
      },
      "execution_count": null,
      "outputs": []
    },
    {
      "cell_type": "code",
      "source": [
        "# variable--> this is a container in which we will store values or assin the vallues"
      ],
      "metadata": {
        "id": "U5YBhj9OxOYs"
      },
      "execution_count": null,
      "outputs": []
    },
    {
      "cell_type": "code",
      "source": [
        "a=56\n",
        "b=56.3\n",
        "c=\"prakul\"\n",
        "# here a,b,c are the variables"
      ],
      "metadata": {
        "id": "x9fI8PxExdbU"
      },
      "execution_count": null,
      "outputs": []
    },
    {
      "cell_type": "code",
      "source": [
        "# a. global variable ---->entirely modify\n",
        "# b. local variable ----->specific block of code modify"
      ],
      "metadata": {
        "id": "eC2gxyH6xoS0"
      },
      "execution_count": null,
      "outputs": []
    },
    {
      "cell_type": "code",
      "source": [
        "# data types->\n",
        "# a. integer --> all positive and negetive values\n",
        "# b0. float --> all decimal values\n",
        "# c.  string --> all statement in quotes\n",
        "# d. boolean ---> true false\n"
      ],
      "metadata": {
        "id": "lAWUl8Exx3UR"
      },
      "execution_count": null,
      "outputs": []
    },
    {
      "cell_type": "code",
      "source": [
        "#type() function is used to check the data type of any variable"
      ],
      "metadata": {
        "id": "yoNi7US8yDhG"
      },
      "execution_count": null,
      "outputs": []
    },
    {
      "cell_type": "code",
      "source": [
        "# type casting --> using type csting we can convert or change values from one type to another data type\n",
        "a=12\n",
        "b=12.3\n",
        "c='prakul'\n",
        "print(type(a))\n",
        "print(type(b))\n",
        "print(type(c))\n",
        "\n"
      ],
      "metadata": {
        "colab": {
          "base_uri": "https://localhost:8080/"
        },
        "id": "EUvW82btypW-",
        "outputId": "da6bda5d-f3ac-4379-de5a-b289a0498de2"
      },
      "execution_count": null,
      "outputs": [
        {
          "output_type": "stream",
          "name": "stdout",
          "text": [
            "<class 'int'>\n",
            "<class 'float'>\n",
            "<class 'str'>\n"
          ]
        }
      ]
    },
    {
      "cell_type": "code",
      "source": [
        "#print() function is used to print the statement and query\n",
        "#input () function is used to input the values or string from user\n",
        "#it will take query and send it to function and by default it output will be string"
      ],
      "metadata": {
        "id": "-z1JYgogzRB9"
      },
      "execution_count": null,
      "outputs": []
    },
    {
      "cell_type": "code",
      "source": [
        "a= input(\"wnter a number\")\n",
        "b= input(\"wnter a number\")\n",
        "print(a+b)"
      ],
      "metadata": {
        "colab": {
          "base_uri": "https://localhost:8080/"
        },
        "id": "0ZK8Lrsrzmeu",
        "outputId": "02a69dd3-2060-480a-d609-c3962c97c56f"
      },
      "execution_count": null,
      "outputs": [
        {
          "output_type": "stream",
          "name": "stdout",
          "text": [
            "wnter a number\n",
            "wnter a number\n",
            "\n"
          ]
        }
      ]
    },
    {
      "cell_type": "code",
      "source": [
        "a= int(input(\"wnter a number\"))\n",
        "b= int(input(\"wnter a number\"))\n",
        "print(a+b)\n",
        "##here we use type casting\n"
      ],
      "metadata": {
        "id": "OZ1vCB3y0FY_",
        "colab": {
          "base_uri": "https://localhost:8080/",
          "height": 211
        },
        "outputId": "65604e8b-256f-4420-945d-95a845eadd4c"
      },
      "execution_count": null,
      "outputs": [
        {
          "name": "stdout",
          "output_type": "stream",
          "text": [
            "wnter a number\n"
          ]
        },
        {
          "output_type": "error",
          "ename": "ValueError",
          "evalue": "invalid literal for int() with base 10: ''",
          "traceback": [
            "\u001b[0;31m---------------------------------------------------------------------------\u001b[0m",
            "\u001b[0;31mValueError\u001b[0m                                Traceback (most recent call last)",
            "\u001b[0;32m<ipython-input-11-ede5e21c4e13>\u001b[0m in \u001b[0;36m<cell line: 0>\u001b[0;34m()\u001b[0m\n\u001b[0;32m----> 1\u001b[0;31m \u001b[0ma\u001b[0m\u001b[0;34m=\u001b[0m \u001b[0mint\u001b[0m\u001b[0;34m(\u001b[0m\u001b[0minput\u001b[0m\u001b[0;34m(\u001b[0m\u001b[0;34m\"wnter a number\"\u001b[0m\u001b[0;34m)\u001b[0m\u001b[0;34m)\u001b[0m\u001b[0;34m\u001b[0m\u001b[0;34m\u001b[0m\u001b[0m\n\u001b[0m\u001b[1;32m      2\u001b[0m \u001b[0mb\u001b[0m\u001b[0;34m=\u001b[0m \u001b[0mint\u001b[0m\u001b[0;34m(\u001b[0m\u001b[0minput\u001b[0m\u001b[0;34m(\u001b[0m\u001b[0;34m\"wnter a number\"\u001b[0m\u001b[0;34m)\u001b[0m\u001b[0;34m)\u001b[0m\u001b[0;34m\u001b[0m\u001b[0;34m\u001b[0m\u001b[0m\n\u001b[1;32m      3\u001b[0m \u001b[0mprint\u001b[0m\u001b[0;34m(\u001b[0m\u001b[0ma\u001b[0m\u001b[0;34m+\u001b[0m\u001b[0mb\u001b[0m\u001b[0;34m)\u001b[0m\u001b[0;34m\u001b[0m\u001b[0;34m\u001b[0m\u001b[0m\n\u001b[1;32m      4\u001b[0m \u001b[0;31m##here we use type casting\u001b[0m\u001b[0;34m\u001b[0m\u001b[0;34m\u001b[0m\u001b[0m\n",
            "\u001b[0;31mValueError\u001b[0m: invalid literal for int() with base 10: ''"
          ]
        }
      ]
    },
    {
      "cell_type": "code",
      "source": [
        "# commanly used operator in python"
      ],
      "metadata": {
        "id": "nL1YAydzabvS"
      },
      "execution_count": null,
      "outputs": []
    },
    {
      "cell_type": "code",
      "source": [
        "#add(+)\n",
        "#subtract(-)\n",
        "#multiply(*)\n",
        "#dividion(/) gives float value\n",
        "#floar division(//) gives round off of division\n",
        "#modular(%) gives reminder\n",
        "# equal to(=) used for assign the values to variable\n",
        "#double equal to (==) used to compare the values\n",
        "# not equal to (!=)\n",
        "#greator than (>)\n",
        "#greator than or equal to (>=)\n",
        "#less than (<)\n",
        "#less than equal to(<=)\n"
      ],
      "metadata": {
        "id": "P0B_vD9mai-R"
      },
      "execution_count": null,
      "outputs": []
    },
    {
      "cell_type": "code",
      "source": [
        "#CONDITIONAL STATEMENT IN PYTHON\n",
        "# if\n",
        "# elif\n",
        "# else\n"
      ],
      "metadata": {
        "id": "N1sLPQdcb3-x"
      },
      "execution_count": null,
      "outputs": []
    },
    {
      "cell_type": "code",
      "source": [
        "#ex 1\n",
        "print (\"we provide tthese items : pizza burgur ice cream sandwich \")\n",
        "print (\"pizza=100, burgur =50, ice cream=50 , sandwich=100\")\n",
        "\n",
        "a = input (\"enter your item \")\n",
        "if (a== \"pizza\" ):\n",
        "     print(\"pizza is available \")\n",
        "     b= int (input (\"enter the quantity\"))\n",
        "     c=b*100\n",
        "     if (c>=2000):\n",
        "        print(\"actual price is :\", c)\n",
        "        print (\"your discounted price is \",c-(c*0.2))\n",
        "     elif (1000<c<2000):\n",
        "        print(\"actual price is :\", c)\n",
        "        print (\"your discounted price is \",c-(c*0.1))\n",
        "\n"
      ],
      "metadata": {
        "id": "2Q692HzQkhLY"
      },
      "execution_count": null,
      "outputs": []
    },
    {
      "cell_type": "code",
      "source": [
        "# loops in python\n",
        "# 1. for loop\n",
        "# 2. while loop\n",
        "\n",
        "# (1). for loop\n",
        "# index = 0 , length = 1\n",
        "# starting_values will include and last_values will exclude\n",
        "# by default it start with zero and have a default gap of one\n",
        "# for example\n"
      ],
      "metadata": {
        "id": "xshQKCsO_H-R"
      },
      "execution_count": null,
      "outputs": []
    },
    {
      "cell_type": "code",
      "source": [
        "for i in range(3):\n",
        "     for j in range(2):\n",
        "        print(f\"i={i} j={j}\")\n"
      ],
      "metadata": {
        "id": "S7tuQ9jgFkWL"
      },
      "execution_count": null,
      "outputs": []
    },
    {
      "cell_type": "code",
      "source": [
        "for i in range (0,6):\n",
        "  print(i* \"*\")\n"
      ],
      "metadata": {
        "id": "YPVFcfQpHOqC"
      },
      "execution_count": null,
      "outputs": []
    },
    {
      "cell_type": "code",
      "source": [
        "for i in range(1,6):\n",
        "    if i==1 or i==5:\n",
        "        print(\"* \"*i)\n",
        "    else:\n",
        "        print(\"* \"+\"  \"*(i-2)+\"*\")"
      ],
      "metadata": {
        "id": "wbVCRmvMHd7E"
      },
      "execution_count": null,
      "outputs": []
    },
    {
      "cell_type": "code",
      "source": [
        "n=int(input( \"enter the number \" ))\n",
        "for i in range(1,n):\n",
        "  print(\"  \"*(n-i)+\" *\"*(2*i-1))"
      ],
      "metadata": {
        "id": "WDMwUXU9Ir0V"
      },
      "execution_count": null,
      "outputs": []
    },
    {
      "cell_type": "code",
      "source": [
        "#while loop\n",
        "\n",
        "#(a). Initilazation\n",
        "#(b). Condition\n",
        "#(c). Incriment and Decrement\n"
      ],
      "metadata": {
        "id": "IVv--adlLEHT"
      },
      "execution_count": null,
      "outputs": []
    },
    {
      "cell_type": "code",
      "source": [
        "# print 1 to 4 number using while loop\n",
        "i=1\n",
        "while i<=4:\n",
        "    print(i)\n",
        "    i=i+1"
      ],
      "metadata": {
        "id": "D_LtrPOdMkFq"
      },
      "execution_count": null,
      "outputs": []
    },
    {
      "cell_type": "markdown",
      "source": [
        "step 1 --->(i=1 ,i<=4) while true\n",
        "it print the value\n",
        "same as when i =2,3,4\n",
        "it print the values\n",
        "when i = 5 condition false\n",
        "it exit the loop and give the output"
      ],
      "metadata": {
        "id": "zzfGWck_MvRX"
      }
    },
    {
      "cell_type": "code",
      "source": [
        "i = int (input(\"enter first number \"))\n",
        "n = int (input(\"enter last number \"))\n",
        "p = int (input(\"enter gap between number \"))\n",
        "while i<=n:\n",
        "    print(i)\n",
        "    i=i+p\n"
      ],
      "metadata": {
        "id": "rnOTv7KcMpXd"
      },
      "execution_count": null,
      "outputs": []
    },
    {
      "cell_type": "code",
      "source": [
        "while (5>=1):\n",
        "  print(i)\n",
        "  i=i-1\n"
      ],
      "metadata": {
        "id": "CjZHB-XIOBTK"
      },
      "execution_count": null,
      "outputs": []
    },
    {
      "cell_type": "code",
      "source": [
        "# write a program in pythonn to get the sum of the number\n",
        "i=1\n",
        "n=2\n",
        "sum =0\n",
        "while(i<=n):\n",
        "  sum= sum +i\n",
        "  i=i+1\n",
        "print(sum)"
      ],
      "metadata": {
        "id": "rtkmkOzlOwjB",
        "colab": {
          "base_uri": "https://localhost:8080/"
        },
        "outputId": "4d8b17c2-568e-4eec-e521-04bd1e5de8c9"
      },
      "execution_count": null,
      "outputs": [
        {
          "output_type": "stream",
          "name": "stdout",
          "text": [
            "3\n"
          ]
        }
      ]
    },
    {
      "cell_type": "code",
      "source": [
        "a= int (input(\"Enter first value for commpare:\"))\n",
        "b= int (input(\"Enter second value for commpare:\"))\n",
        "c= int (input(\"Enter third value for commpare:\"))\n",
        "if(a<b and b<c):\n",
        "  print(\"a contain the minimum value\", a)\n",
        "elif(b<a and a<c):\n",
        "  print(\"b contain the minimum value\", b)\n",
        "else:\n",
        "  print(\"c contain the minimum value:\", c)"
      ],
      "metadata": {
        "colab": {
          "base_uri": "https://localhost:8080/",
          "height": 228
        },
        "id": "ayp8EKJ_J9gB",
        "outputId": "1fc36e2a-602d-4b89-ab2b-4e24833f0af6"
      },
      "execution_count": null,
      "outputs": [
        {
          "name": "stdout",
          "output_type": "stream",
          "text": [
            "Enter first value for commpare:\n"
          ]
        },
        {
          "output_type": "error",
          "ename": "ValueError",
          "evalue": "invalid literal for int() with base 10: ''",
          "traceback": [
            "\u001b[0;31m---------------------------------------------------------------------------\u001b[0m",
            "\u001b[0;31mValueError\u001b[0m                                Traceback (most recent call last)",
            "\u001b[0;32m<ipython-input-13-1a1f5cf2238d>\u001b[0m in \u001b[0;36m<cell line: 0>\u001b[0;34m()\u001b[0m\n\u001b[0;32m----> 1\u001b[0;31m \u001b[0ma\u001b[0m\u001b[0;34m=\u001b[0m \u001b[0mint\u001b[0m \u001b[0;34m(\u001b[0m\u001b[0minput\u001b[0m\u001b[0;34m(\u001b[0m\u001b[0;34m\"Enter first value for commpare:\"\u001b[0m\u001b[0;34m)\u001b[0m\u001b[0;34m)\u001b[0m\u001b[0;34m\u001b[0m\u001b[0;34m\u001b[0m\u001b[0m\n\u001b[0m\u001b[1;32m      2\u001b[0m \u001b[0mb\u001b[0m\u001b[0;34m=\u001b[0m \u001b[0mint\u001b[0m \u001b[0;34m(\u001b[0m\u001b[0minput\u001b[0m\u001b[0;34m(\u001b[0m\u001b[0;34m\"Enter second value for commpare:\"\u001b[0m\u001b[0;34m)\u001b[0m\u001b[0;34m)\u001b[0m\u001b[0;34m\u001b[0m\u001b[0;34m\u001b[0m\u001b[0m\n\u001b[1;32m      3\u001b[0m \u001b[0mc\u001b[0m\u001b[0;34m=\u001b[0m \u001b[0mint\u001b[0m \u001b[0;34m(\u001b[0m\u001b[0minput\u001b[0m\u001b[0;34m(\u001b[0m\u001b[0;34m\"Enter third value for commpare:\"\u001b[0m\u001b[0;34m)\u001b[0m\u001b[0;34m)\u001b[0m\u001b[0;34m\u001b[0m\u001b[0;34m\u001b[0m\u001b[0m\n\u001b[1;32m      4\u001b[0m \u001b[0;32mif\u001b[0m\u001b[0;34m(\u001b[0m\u001b[0ma\u001b[0m\u001b[0;34m<\u001b[0m\u001b[0mb\u001b[0m \u001b[0;32mand\u001b[0m \u001b[0mb\u001b[0m\u001b[0;34m<\u001b[0m\u001b[0mc\u001b[0m\u001b[0;34m)\u001b[0m\u001b[0;34m:\u001b[0m\u001b[0;34m\u001b[0m\u001b[0;34m\u001b[0m\u001b[0m\n\u001b[1;32m      5\u001b[0m   \u001b[0mprint\u001b[0m\u001b[0;34m(\u001b[0m\u001b[0;34m\"a contain the minimum value\"\u001b[0m\u001b[0;34m,\u001b[0m \u001b[0ma\u001b[0m\u001b[0;34m)\u001b[0m\u001b[0;34m\u001b[0m\u001b[0;34m\u001b[0m\u001b[0m\n",
            "\u001b[0;31mValueError\u001b[0m: invalid literal for int() with base 10: ''"
          ]
        }
      ]
    },
    {
      "cell_type": "code",
      "source": [
        "a = int(input(\"enter value\"))\n",
        "if(a%2==0):\n",
        "  print(\"hii\")\n",
        "elif(a%5==0):\n",
        "  print(\"hello\")\n",
        "else:\n",
        "  print(\"bye\")"
      ],
      "metadata": {
        "id": "BajrO5LCK8CN"
      },
      "execution_count": null,
      "outputs": []
    },
    {
      "cell_type": "code",
      "source": [
        "age=int(input(\"enter your age: \"))\n",
        "if(age<10):\n",
        "  print(\"baby\")\n",
        "elif(age>=10 and age<18):\n",
        "  print(\"child\")\n",
        "elif(age>=18 and age<30):\n",
        "  print(\"adult\")\n",
        "elif(age>=30 and age<60):\n",
        "  print(\"mature\")\n",
        "elif(age>=60):\n",
        "  print(\"old cititen\")\n",
        "else:\n",
        "  print(\"infand\")"
      ],
      "metadata": {
        "colab": {
          "base_uri": "https://localhost:8080/",
          "height": 228
        },
        "id": "uR_PWN2COabD",
        "outputId": "28ce8f06-a646-48a7-a306-6fa44e089bb2"
      },
      "execution_count": null,
      "outputs": [
        {
          "name": "stdout",
          "output_type": "stream",
          "text": [
            "enter your age: \n"
          ]
        },
        {
          "output_type": "error",
          "ename": "ValueError",
          "evalue": "invalid literal for int() with base 10: ''",
          "traceback": [
            "\u001b[0;31m---------------------------------------------------------------------------\u001b[0m",
            "\u001b[0;31mValueError\u001b[0m                                Traceback (most recent call last)",
            "\u001b[0;32m<ipython-input-14-322f7b2a49a8>\u001b[0m in \u001b[0;36m<cell line: 0>\u001b[0;34m()\u001b[0m\n\u001b[0;32m----> 1\u001b[0;31m \u001b[0mage\u001b[0m\u001b[0;34m=\u001b[0m\u001b[0mint\u001b[0m\u001b[0;34m(\u001b[0m\u001b[0minput\u001b[0m\u001b[0;34m(\u001b[0m\u001b[0;34m\"enter your age: \"\u001b[0m\u001b[0;34m)\u001b[0m\u001b[0;34m)\u001b[0m\u001b[0;34m\u001b[0m\u001b[0;34m\u001b[0m\u001b[0m\n\u001b[0m\u001b[1;32m      2\u001b[0m \u001b[0;32mif\u001b[0m\u001b[0;34m(\u001b[0m\u001b[0mage\u001b[0m\u001b[0;34m<\u001b[0m\u001b[0;36m10\u001b[0m\u001b[0;34m)\u001b[0m\u001b[0;34m:\u001b[0m\u001b[0;34m\u001b[0m\u001b[0;34m\u001b[0m\u001b[0m\n\u001b[1;32m      3\u001b[0m   \u001b[0mprint\u001b[0m\u001b[0;34m(\u001b[0m\u001b[0;34m\"baby\"\u001b[0m\u001b[0;34m)\u001b[0m\u001b[0;34m\u001b[0m\u001b[0;34m\u001b[0m\u001b[0m\n\u001b[1;32m      4\u001b[0m \u001b[0;32melif\u001b[0m\u001b[0;34m(\u001b[0m\u001b[0mage\u001b[0m\u001b[0;34m>=\u001b[0m\u001b[0;36m10\u001b[0m \u001b[0;32mand\u001b[0m \u001b[0mage\u001b[0m\u001b[0;34m<\u001b[0m\u001b[0;36m18\u001b[0m\u001b[0;34m)\u001b[0m\u001b[0;34m:\u001b[0m\u001b[0;34m\u001b[0m\u001b[0;34m\u001b[0m\u001b[0m\n\u001b[1;32m      5\u001b[0m   \u001b[0mprint\u001b[0m\u001b[0;34m(\u001b[0m\u001b[0;34m\"child\"\u001b[0m\u001b[0;34m)\u001b[0m\u001b[0;34m\u001b[0m\u001b[0;34m\u001b[0m\u001b[0m\n",
            "\u001b[0;31mValueError\u001b[0m: invalid literal for int() with base 10: ''"
          ]
        }
      ]
    },
    {
      "cell_type": "code",
      "source": [
        "age = int(input(\"enter your age: \"))\n",
        "if (age >5):\n",
        "  print(\"aadhar card created\")\n",
        "  if (age >18):\n",
        "    print (\"aadhar and pan card is linked\")\n",
        "  else:\n",
        "    print(\"pan card is not created\")\n",
        "else:\n",
        "  print(\"age is small\")"
      ],
      "metadata": {
        "id": "QdM4iDCqRjXN"
      },
      "execution_count": null,
      "outputs": []
    },
    {
      "cell_type": "code",
      "source": [
        "a = int(input(\"enter number: \"))\n",
        "if (a%2==0):\n",
        "  if(a%3==0):\n",
        "    print(\"number is divisible by 6\")\n",
        "  else:\n",
        "    print(\"number is divisible by 2\")\n",
        "else:\n",
        "  print(\"number is not divisable\")"
      ],
      "metadata": {
        "id": "E5i_8OvUUdU1"
      },
      "execution_count": null,
      "outputs": []
    },
    {
      "cell_type": "markdown",
      "source": [
        "slicing in python is defined as to sice the string as wee want the range\n",
        "index is the position of every character in the given string such as in\n",
        "\n"
      ],
      "metadata": {
        "id": "5I7JqgB6Wibh"
      }
    },
    {
      "cell_type": "code",
      "source": [
        "city=\"Rajasthan\"\n",
        "print(city[0:5])\n",
        "print(city[5:11])\n",
        "print(city[2:7:-1])"
      ],
      "metadata": {
        "id": "yvNcl6t8VcBl",
        "colab": {
          "base_uri": "https://localhost:8080/"
        },
        "outputId": "f7a78dc5-09df-4097-8ff1-48d4a04a3723"
      },
      "execution_count": null,
      "outputs": [
        {
          "output_type": "stream",
          "name": "stdout",
          "text": [
            "Rajas\n",
            "than\n",
            "\n"
          ]
        }
      ]
    },
    {
      "cell_type": "code",
      "source": [
        "11//2+5-1"
      ],
      "metadata": {
        "colab": {
          "base_uri": "https://localhost:8080/"
        },
        "id": "SO5JkX6WWbuy",
        "outputId": "2563e32f-16fd-44b7-8868-9cf3ec79dd26"
      },
      "execution_count": null,
      "outputs": [
        {
          "output_type": "execute_result",
          "data": {
            "text/plain": [
              "9"
            ]
          },
          "metadata": {},
          "execution_count": 16
        }
      ]
    },
    {
      "cell_type": "markdown",
      "source": [
        "BITWISE OPERATOR\n",
        "\n",
        "                  8  4  2  1\n",
        "11                1  0  1  1\n",
        "14                1  1  1  0\n",
        "______________________________________\n",
        "bitwise and                   1     1\n",
        "11 & 14\n",
        "OUTPUT IS 10"
      ],
      "metadata": {
        "id": "vNckcuxWcvDC"
      }
    },
    {
      "cell_type": "code",
      "source": [
        "11 & 14"
      ],
      "metadata": {
        "colab": {
          "base_uri": "https://localhost:8080/"
        },
        "id": "jzFAuDz7cuas",
        "outputId": "160dc561-4b61-41d2-e55f-870f86a0f3d2"
      },
      "execution_count": null,
      "outputs": [
        {
          "output_type": "execute_result",
          "data": {
            "text/plain": [
              "10"
            ]
          },
          "metadata": {},
          "execution_count": 17
        }
      ]
    },
    {
      "cell_type": "code",
      "source": [
        "13 & 7"
      ],
      "metadata": {
        "colab": {
          "base_uri": "https://localhost:8080/"
        },
        "id": "UdAmJTHJaLA8",
        "outputId": "67cbf6c2-69a9-4468-fd15-32859d0a33a4"
      },
      "execution_count": null,
      "outputs": [
        {
          "output_type": "execute_result",
          "data": {
            "text/plain": [
              "5"
            ]
          },
          "metadata": {},
          "execution_count": 18
        }
      ]
    },
    {
      "cell_type": "markdown",
      "source": [
        "there are seven operator in python\n",
        "arithmatic(+, - ,* / ,// )\n",
        "bitwise( & ,| , << , >>)\n",
        "logicial( and or not)\n",
        "assignment( equal to(=))\n",
        "comparison ( < ,> ,<=,>= ,== ,!=)\n",
        "identity ("
      ],
      "metadata": {
        "id": "WfYh78F_jHEY"
      }
    },
    {
      "cell_type": "code",
      "source": [
        " for i in range (50,9,-1):\n",
        "  print(i)"
      ],
      "metadata": {
        "colab": {
          "base_uri": "https://localhost:8080/"
        },
        "id": "NKJ8An11hnWh",
        "outputId": "97454f39-3fe5-4261-c71d-ca70588ac3e5"
      },
      "execution_count": null,
      "outputs": [
        {
          "output_type": "stream",
          "name": "stdout",
          "text": [
            "50\n",
            "49\n",
            "48\n",
            "47\n",
            "46\n",
            "45\n",
            "44\n",
            "43\n",
            "42\n",
            "41\n",
            "40\n",
            "39\n",
            "38\n",
            "37\n",
            "36\n",
            "35\n",
            "34\n",
            "33\n",
            "32\n",
            "31\n",
            "30\n",
            "29\n",
            "28\n",
            "27\n",
            "26\n",
            "25\n",
            "24\n",
            "23\n",
            "22\n",
            "21\n",
            "20\n",
            "19\n",
            "18\n",
            "17\n",
            "16\n",
            "15\n",
            "14\n",
            "13\n",
            "12\n",
            "11\n",
            "10\n"
          ]
        }
      ]
    },
    {
      "cell_type": "code",
      "source": [
        "a = 0\n",
        "for i in range (1,11):\n",
        "  a=a+i\n",
        "print(a)"
      ],
      "metadata": {
        "colab": {
          "base_uri": "https://localhost:8080/"
        },
        "id": "H3AUrb8DlzAt",
        "outputId": "61ffc020-f84f-4939-f0f9-da08f5a43ba4"
      },
      "execution_count": null,
      "outputs": [
        {
          "output_type": "stream",
          "name": "stdout",
          "text": [
            "55\n"
          ]
        }
      ]
    },
    {
      "cell_type": "code",
      "source": [
        "count=0\n",
        "for i in range(69,3,-1):\n",
        "   count=count+1\n",
        "print(count)"
      ],
      "metadata": {
        "colab": {
          "base_uri": "https://localhost:8080/"
        },
        "id": "41v_hsW2mTAv",
        "outputId": "bd89fa90-e842-427e-90de-d91ff41c08a6"
      },
      "execution_count": null,
      "outputs": [
        {
          "output_type": "stream",
          "name": "stdout",
          "text": [
            "66\n"
          ]
        }
      ]
    },
    {
      "cell_type": "code",
      "source": [
        "for i in range (1,14):\n",
        "  if(i%3==0):\n",
        "    print(i)"
      ],
      "metadata": {
        "colab": {
          "base_uri": "https://localhost:8080/"
        },
        "id": "pnx6hz9vnyfE",
        "outputId": "36c9eb1d-1a85-4620-e7b4-4705af995f05"
      },
      "execution_count": null,
      "outputs": [
        {
          "output_type": "stream",
          "name": "stdout",
          "text": [
            "3\n",
            "6\n",
            "9\n",
            "12\n"
          ]
        }
      ]
    },
    {
      "cell_type": "code",
      "source": [
        "even_sum=0\n",
        "odd_sum=0\n",
        "for i in range (55,22,-1):\n",
        "  if(i%2==0):\n",
        "    even_sum=even_sum+i\n",
        "  else:\n",
        "    odd_sum=odd_sum+i\n",
        "print(\"even sum \",even_sum)\n",
        "print(\"odd sum \",odd_sum)\n"
      ],
      "metadata": {
        "colab": {
          "base_uri": "https://localhost:8080/"
        },
        "id": "ms5nXsCaoh-X",
        "outputId": "1337fa92-db26-407d-88df-fa8ee5489d78"
      },
      "execution_count": null,
      "outputs": [
        {
          "output_type": "stream",
          "name": "stdout",
          "text": [
            "even sum  624\n",
            "odd sum  663\n"
          ]
        }
      ]
    },
    {
      "cell_type": "code",
      "source": [
        "str1 = \"hello hey computer science new\"\n",
        "str2=\" \"\n",
        "k=4\n",
        "count=0\n",
        "for i in range(0,len(str1)):\n",
        "  if(str1[i]==\" \"):\n",
        "    if count>k:\n",
        "      print(str2,end=\"\")\n",
        "      str2=\" \"\n",
        "      count=0\n",
        "    else:\n",
        "      str2=\" \"\n",
        "      count=0\n",
        "  else:\n",
        "    str2=str2+str1[i]\n",
        "    count+=1\n",
        "\n"
      ],
      "metadata": {
        "id": "U1mVN9sQo7bD",
        "colab": {
          "base_uri": "https://localhost:8080/"
        },
        "outputId": "e8e984b9-10b9-455f-b981-d445af9ae9f8"
      },
      "execution_count": null,
      "outputs": [
        {
          "output_type": "stream",
          "name": "stdout",
          "text": [
            " hello computer science"
          ]
        }
      ]
    },
    {
      "cell_type": "code",
      "source": [
        "l1=[1,2,3]\n",
        "l2=[2,3,4]\n",
        "list1(set(list1) and set(list2))"
      ],
      "metadata": {
        "id": "RGyypYJ351sD",
        "colab": {
          "base_uri": "https://localhost:8080/",
          "height": 176
        },
        "outputId": "fcc2607c-9b5a-4161-f4f0-99cfc56edd4c"
      },
      "execution_count": null,
      "outputs": [
        {
          "output_type": "error",
          "ename": "NameError",
          "evalue": "name 'list1' is not defined",
          "traceback": [
            "\u001b[0;31m---------------------------------------------------------------------------\u001b[0m",
            "\u001b[0;31mNameError\u001b[0m                                 Traceback (most recent call last)",
            "\u001b[0;32m<ipython-input-25-4a39cb9b21ed>\u001b[0m in \u001b[0;36m<cell line: 0>\u001b[0;34m()\u001b[0m\n\u001b[1;32m      1\u001b[0m \u001b[0ml1\u001b[0m\u001b[0;34m=\u001b[0m\u001b[0;34m[\u001b[0m\u001b[0;36m1\u001b[0m\u001b[0;34m,\u001b[0m\u001b[0;36m2\u001b[0m\u001b[0;34m,\u001b[0m\u001b[0;36m3\u001b[0m\u001b[0;34m]\u001b[0m\u001b[0;34m\u001b[0m\u001b[0;34m\u001b[0m\u001b[0m\n\u001b[1;32m      2\u001b[0m \u001b[0ml2\u001b[0m\u001b[0;34m=\u001b[0m\u001b[0;34m[\u001b[0m\u001b[0;36m2\u001b[0m\u001b[0;34m,\u001b[0m\u001b[0;36m3\u001b[0m\u001b[0;34m,\u001b[0m\u001b[0;36m4\u001b[0m\u001b[0;34m]\u001b[0m\u001b[0;34m\u001b[0m\u001b[0;34m\u001b[0m\u001b[0m\n\u001b[0;32m----> 3\u001b[0;31m \u001b[0mlist1\u001b[0m\u001b[0;34m(\u001b[0m\u001b[0mset\u001b[0m\u001b[0;34m(\u001b[0m\u001b[0mlist1\u001b[0m\u001b[0;34m)\u001b[0m \u001b[0;32mand\u001b[0m \u001b[0mset\u001b[0m\u001b[0;34m(\u001b[0m\u001b[0mlist2\u001b[0m\u001b[0;34m)\u001b[0m\u001b[0;34m)\u001b[0m\u001b[0;34m\u001b[0m\u001b[0;34m\u001b[0m\u001b[0m\n\u001b[0m",
            "\u001b[0;31mNameError\u001b[0m: name 'list1' is not defined"
          ]
        }
      ]
    },
    {
      "cell_type": "code",
      "source": [
        "\n",
        "my_dict = {'apple': 3, 'banana': 2, 'cherry': 5}\n",
        "sorted_dict = sorted(my_dict)\n",
        "print(sorted_dict)\n"
      ],
      "metadata": {
        "colab": {
          "base_uri": "https://localhost:8080/"
        },
        "id": "9eVXyyvBIkRn",
        "outputId": "2dd77909-7b7b-4021-f25b-67b359870f77"
      },
      "execution_count": null,
      "outputs": [
        {
          "output_type": "stream",
          "name": "stdout",
          "text": [
            "['apple', 'banana', 'cherry']\n"
          ]
        }
      ]
    },
    {
      "cell_type": "code",
      "source": [
        "d1 = {'x': 1, 'y': 2}\n",
        "d2 = {'y': 3, 'z': 4}\n",
        "d1.update(d2)\n",
        "print(d1)"
      ],
      "metadata": {
        "colab": {
          "base_uri": "https://localhost:8080/"
        },
        "id": "dEhE6JKtJKtJ",
        "outputId": "17e5fdfe-caff-4643-bcb0-4bcbf114993e"
      },
      "execution_count": null,
      "outputs": [
        {
          "output_type": "stream",
          "name": "stdout",
          "text": [
            "{'x': 1, 'y': 3, 'z': 4}\n"
          ]
        }
      ]
    },
    {
      "cell_type": "code",
      "source": [
        "set1 = {1, 2, 3, 4}\n",
        "set2 = {3, 4, 5, 6}\n",
        "result = set1 & set2\n",
        "print(result)"
      ],
      "metadata": {
        "colab": {
          "base_uri": "https://localhost:8080/"
        },
        "id": "ZeImbJOvJruT",
        "outputId": "2c630bd0-72c5-4d4e-8bc6-515de1d028df"
      },
      "execution_count": null,
      "outputs": [
        {
          "output_type": "stream",
          "name": "stdout",
          "text": [
            "{3, 4}\n"
          ]
        }
      ]
    },
    {
      "cell_type": "code",
      "source": [
        "d = {1: 'a', 2: 'b', 3: 'c'}\n",
        "for key in list(d.keys()):\n",
        "    del d[key]\n",
        "print(d)"
      ],
      "metadata": {
        "colab": {
          "base_uri": "https://localhost:8080/"
        },
        "id": "8VtYXNR1J0XX",
        "outputId": "40be2f60-c76c-4c4c-94de-9f8076fb432f"
      },
      "execution_count": null,
      "outputs": [
        {
          "output_type": "stream",
          "name": "stdout",
          "text": [
            "{}\n"
          ]
        }
      ]
    },
    {
      "cell_type": "code",
      "source": [
        "len(set(range(5)))"
      ],
      "metadata": {
        "colab": {
          "base_uri": "https://localhost:8080/"
        },
        "id": "qFx2vftQKJxc",
        "outputId": "62712640-1946-4b8d-8758-157d19a3bbc9"
      },
      "execution_count": null,
      "outputs": [
        {
          "output_type": "execute_result",
          "data": {
            "text/plain": [
              "5"
            ]
          },
          "metadata": {},
          "execution_count": 30
        }
      ]
    },
    {
      "cell_type": "code",
      "source": [
        "\n",
        " numbers = [1, 2, 3, 4]\n",
        "\n",
        "squares = [n ** 2 for n in numbers if n % 2 == 0]\n",
        "\n",
        "print(squares)"
      ],
      "metadata": {
        "colab": {
          "base_uri": "https://localhost:8080/"
        },
        "id": "ujgsC5GAKh7G",
        "outputId": "f16d22f8-d048-43dc-829c-84f802a11c09"
      },
      "execution_count": null,
      "outputs": [
        {
          "output_type": "stream",
          "name": "stdout",
          "text": [
            "[4, 16]\n"
          ]
        }
      ]
    },
    {
      "cell_type": "code",
      "source": [
        "ord('a')ord('A')"
      ],
      "metadata": {
        "id": "on56H8blLWq6",
        "colab": {
          "base_uri": "https://localhost:8080/",
          "height": 106
        },
        "outputId": "b32e39f1-965e-424c-ed24-001f2e71feb9"
      },
      "execution_count": null,
      "outputs": [
        {
          "output_type": "error",
          "ename": "SyntaxError",
          "evalue": "invalid syntax (<ipython-input-32-e56c4e657b07>, line 1)",
          "traceback": [
            "\u001b[0;36m  File \u001b[0;32m\"<ipython-input-32-e56c4e657b07>\"\u001b[0;36m, line \u001b[0;32m1\u001b[0m\n\u001b[0;31m    ord('a')ord('A')\u001b[0m\n\u001b[0m            ^\u001b[0m\n\u001b[0;31mSyntaxError\u001b[0m\u001b[0;31m:\u001b[0m invalid syntax\n"
          ]
        }
      ]
    },
    {
      "cell_type": "code",
      "source": [
        "my_dict = {'a': 1, 'b': 2}\n",
        "new_dict = my_dict.copy()\n",
        "new_dict['a'] = 3\n",
        "print(my_dict['a'])\n"
      ],
      "metadata": {
        "colab": {
          "base_uri": "https://localhost:8080/"
        },
        "id": "-kKuyO9qNuiM",
        "outputId": "acdec103-c681-4678-f161-26ad0ce050be"
      },
      "execution_count": null,
      "outputs": [
        {
          "output_type": "stream",
          "name": "stdout",
          "text": [
            "1\n"
          ]
        }
      ]
    },
    {
      "cell_type": "code",
      "source": [
        "text = \"Python is a scripting language.\"\n",
        "text.find(\"scripting\")\n"
      ],
      "metadata": {
        "colab": {
          "base_uri": "https://localhost:8080/"
        },
        "id": "FTahUBZ8OEax",
        "outputId": "c881b668-34dd-41bd-adb8-eb34b4eed2ba"
      },
      "execution_count": null,
      "outputs": [
        {
          "output_type": "execute_result",
          "data": {
            "text/plain": [
              "12"
            ]
          },
          "metadata": {},
          "execution_count": 34
        }
      ]
    },
    {
      "cell_type": "code",
      "source": [
        "text = \"Python is a widely-used language.\"\n",
        "\n",
        "text.startswith(\"Java\")\n",
        "\n",
        "\n",
        "text"
      ],
      "metadata": {
        "colab": {
          "base_uri": "https://localhost:8080/",
          "height": 36
        },
        "id": "V3duYLApPJnL",
        "outputId": "8873b348-beaf-4f68-cdd1-b7fbc675a76f"
      },
      "execution_count": null,
      "outputs": [
        {
          "output_type": "execute_result",
          "data": {
            "text/plain": [
              "'Python is a widely-used language.'"
            ],
            "application/vnd.google.colaboratory.intrinsic+json": {
              "type": "string"
            }
          },
          "metadata": {},
          "execution_count": 35
        }
      ]
    },
    {
      "cell_type": "code",
      "source": [
        "my_list = [1, 2, 3, 4, 5]\n",
        "new_list = [x * 2 for x in my_list]\n",
        "print(new_list)"
      ],
      "metadata": {
        "colab": {
          "base_uri": "https://localhost:8080/"
        },
        "id": "XU-qldF5PkPh",
        "outputId": "3bfaa7d0-0a77-4823-81b9-8cbcbf403dbf"
      },
      "execution_count": null,
      "outputs": [
        {
          "output_type": "stream",
          "name": "stdout",
          "text": [
            "[2, 4, 6, 8, 10]\n"
          ]
        }
      ]
    },
    {
      "cell_type": "code",
      "source": [
        "set1 = {1, 2, 3}\n",
        "set2 = {3, 4, 5}\n",
        "result = set1.symmetric_difference(set2)\n",
        "print(result)\n"
      ],
      "metadata": {
        "colab": {
          "base_uri": "https://localhost:8080/"
        },
        "id": "20dfOeq9QorI",
        "outputId": "0e2aada0-c439-4300-8187-57b0579a087a"
      },
      "execution_count": null,
      "outputs": [
        {
          "output_type": "stream",
          "name": "stdout",
          "text": [
            "{1, 2, 4, 5}\n"
          ]
        }
      ]
    },
    {
      "cell_type": "code",
      "source": [
        "i = 0\n",
        "while i < 5:\n",
        "    if i == 3:\n",
        "        break\n",
        "    print(i, end=\" \")\n",
        "    i += 1\n",
        "else:\n",
        "    print(\"Loop End\")"
      ],
      "metadata": {
        "colab": {
          "base_uri": "https://localhost:8080/"
        },
        "id": "eKTakfHRRDCZ",
        "outputId": "db339498-87e1-47eb-fb01-5eb68d91893a"
      },
      "execution_count": null,
      "outputs": [
        {
          "output_type": "stream",
          "name": "stdout",
          "text": [
            "0 1 2 "
          ]
        }
      ]
    },
    {
      "cell_type": "code",
      "source": [
        "num = 7 result = \"Even\" if num % 2 == 0 else \"Odd\""
      ],
      "metadata": {
        "colab": {
          "base_uri": "https://localhost:8080/",
          "height": 106
        },
        "id": "p26M28YvRQQe",
        "outputId": "0f29a2ff-9001-4c22-82a5-7db218108a53"
      },
      "execution_count": null,
      "outputs": [
        {
          "output_type": "error",
          "ename": "SyntaxError",
          "evalue": "invalid syntax (<ipython-input-39-6d3d3b91df12>, line 1)",
          "traceback": [
            "\u001b[0;36m  File \u001b[0;32m\"<ipython-input-39-6d3d3b91df12>\"\u001b[0;36m, line \u001b[0;32m1\u001b[0m\n\u001b[0;31m    num = 7 result = \"Even\" if num % 2 == 0 else \"Odd\"\u001b[0m\n\u001b[0m            ^\u001b[0m\n\u001b[0;31mSyntaxError\u001b[0m\u001b[0;31m:\u001b[0m invalid syntax\n"
          ]
        }
      ]
    },
    {
      "cell_type": "code",
      "source": [
        "for i in range(4):\n",
        "    for j in range(4):\n",
        "        if i == 2:\n",
        "            continue\n",
        "        if j == 3:\n",
        "            break\n",
        "        print(i, j)"
      ],
      "metadata": {
        "colab": {
          "base_uri": "https://localhost:8080/"
        },
        "id": "YUHf6Z_6RU45",
        "outputId": "cf6fb327-ade2-40ae-c89b-187be6534265"
      },
      "execution_count": null,
      "outputs": [
        {
          "output_type": "stream",
          "name": "stdout",
          "text": [
            "0 0\n",
            "0 1\n",
            "0 2\n",
            "1 0\n",
            "1 1\n",
            "1 2\n",
            "3 0\n",
            "3 1\n",
            "3 2\n"
          ]
        }
      ]
    },
    {
      "cell_type": "code",
      "source": [
        "l1=[]\n",
        "len(l1)"
      ],
      "metadata": {
        "colab": {
          "base_uri": "https://localhost:8080/"
        },
        "id": "1u2UxBj7RkTZ",
        "outputId": "e024294c-069a-4fd2-d1ab-318db3dc6575"
      },
      "execution_count": null,
      "outputs": [
        {
          "output_type": "execute_result",
          "data": {
            "text/plain": [
              "0"
            ]
          },
          "metadata": {},
          "execution_count": 41
        }
      ]
    },
    {
      "cell_type": "code",
      "source": [
        "abs(-5)"
      ],
      "metadata": {
        "colab": {
          "base_uri": "https://localhost:8080/"
        },
        "id": "Qj9VNxZPR6Kr",
        "outputId": "1a74f570-41c5-43b4-aa6b-8462c3ea3bcb"
      },
      "execution_count": null,
      "outputs": [
        {
          "output_type": "execute_result",
          "data": {
            "text/plain": [
              "5"
            ]
          },
          "metadata": {},
          "execution_count": 42
        }
      ]
    },
    {
      "cell_type": "code",
      "source": [
        "3**3"
      ],
      "metadata": {
        "colab": {
          "base_uri": "https://localhost:8080/"
        },
        "id": "ZSdbrXGHR-88",
        "outputId": "05f7b319-b93e-4b13-9f69-57fc54df46b7"
      },
      "execution_count": null,
      "outputs": [
        {
          "output_type": "execute_result",
          "data": {
            "text/plain": [
              "27"
            ]
          },
          "metadata": {},
          "execution_count": 43
        }
      ]
    },
    {
      "cell_type": "code",
      "source": [
        "word = \"racecar\"\n",
        "\n",
        "word == word[::-1]\n"
      ],
      "metadata": {
        "colab": {
          "base_uri": "https://localhost:8080/"
        },
        "id": "bkjVgABNSDBQ",
        "outputId": "c0dc6f9f-9ab5-43ee-f346-bda564551374"
      },
      "execution_count": null,
      "outputs": [
        {
          "output_type": "execute_result",
          "data": {
            "text/plain": [
              "True"
            ]
          },
          "metadata": {},
          "execution_count": 44
        }
      ]
    },
    {
      "cell_type": "code",
      "source": [
        "my_dict = {'a': 1, 'b': 2}\n",
        "my_dict.update({'b': 3, 'c': 4})\n",
        "print(my_dict['b'])"
      ],
      "metadata": {
        "colab": {
          "base_uri": "https://localhost:8080/"
        },
        "id": "40kT01LeSIiG",
        "outputId": "d9d0ea7f-997a-423b-db51-85f44c53f2d3"
      },
      "execution_count": null,
      "outputs": [
        {
          "output_type": "stream",
          "name": "stdout",
          "text": [
            "3\n"
          ]
        }
      ]
    },
    {
      "cell_type": "code",
      "source": [
        "set1 = {1, 2, 3, 4}\n",
        "set2 = {3, 4, 5, 6}\n",
        "result = set1.difference_update(set2)\n",
        "print(result)"
      ],
      "metadata": {
        "colab": {
          "base_uri": "https://localhost:8080/"
        },
        "id": "liz1uO1ySXkU",
        "outputId": "75b958c4-0dac-4743-e44a-374b7f9ac052"
      },
      "execution_count": null,
      "outputs": [
        {
          "output_type": "stream",
          "name": "stdout",
          "text": [
            "None\n"
          ]
        }
      ]
    },
    {
      "cell_type": "code",
      "source": [
        "my_tuple = (1, 2, 3, 4, 5)\n",
        "my_tuple[0] = 10\n",
        "print(my_tuple)"
      ],
      "metadata": {
        "colab": {
          "base_uri": "https://localhost:8080/",
          "height": 176
        },
        "id": "UP98QCO0SeNl",
        "outputId": "04ef7a32-dec4-43c8-e31e-b95cf65d4de8"
      },
      "execution_count": null,
      "outputs": [
        {
          "output_type": "error",
          "ename": "TypeError",
          "evalue": "'tuple' object does not support item assignment",
          "traceback": [
            "\u001b[0;31m---------------------------------------------------------------------------\u001b[0m",
            "\u001b[0;31mTypeError\u001b[0m                                 Traceback (most recent call last)",
            "\u001b[0;32m<ipython-input-47-99b2083d3475>\u001b[0m in \u001b[0;36m<cell line: 0>\u001b[0;34m()\u001b[0m\n\u001b[1;32m      1\u001b[0m \u001b[0mmy_tuple\u001b[0m \u001b[0;34m=\u001b[0m \u001b[0;34m(\u001b[0m\u001b[0;36m1\u001b[0m\u001b[0;34m,\u001b[0m \u001b[0;36m2\u001b[0m\u001b[0;34m,\u001b[0m \u001b[0;36m3\u001b[0m\u001b[0;34m,\u001b[0m \u001b[0;36m4\u001b[0m\u001b[0;34m,\u001b[0m \u001b[0;36m5\u001b[0m\u001b[0;34m)\u001b[0m\u001b[0;34m\u001b[0m\u001b[0;34m\u001b[0m\u001b[0m\n\u001b[0;32m----> 2\u001b[0;31m \u001b[0mmy_tuple\u001b[0m\u001b[0;34m[\u001b[0m\u001b[0;36m0\u001b[0m\u001b[0;34m]\u001b[0m \u001b[0;34m=\u001b[0m \u001b[0;36m10\u001b[0m\u001b[0;34m\u001b[0m\u001b[0;34m\u001b[0m\u001b[0m\n\u001b[0m\u001b[1;32m      3\u001b[0m \u001b[0mprint\u001b[0m\u001b[0;34m(\u001b[0m\u001b[0mmy_tuple\u001b[0m\u001b[0;34m)\u001b[0m\u001b[0;34m\u001b[0m\u001b[0;34m\u001b[0m\u001b[0m\n",
            "\u001b[0;31mTypeError\u001b[0m: 'tuple' object does not support item assignment"
          ]
        }
      ]
    },
    {
      "cell_type": "code",
      "source": [
        "d = {'a': 1, 'b': 2}\n",
        "d[None] = d['b']\n",
        "del d['b']\n",
        "print(d)"
      ],
      "metadata": {
        "colab": {
          "base_uri": "https://localhost:8080/"
        },
        "id": "SdWC2EjKS2xd",
        "outputId": "caac9499-c1ad-4be4-be55-3168631847c0"
      },
      "execution_count": null,
      "outputs": [
        {
          "output_type": "stream",
          "name": "stdout",
          "text": [
            "{'a': 1, None: 2}\n"
          ]
        }
      ]
    },
    {
      "cell_type": "code",
      "source": [
        "\n",
        "d = {'a': 1, 'b': 2}\n",
        "d['c'] = d.get('c', 0) + 1\n",
        "print(d)"
      ],
      "metadata": {
        "colab": {
          "base_uri": "https://localhost:8080/"
        },
        "id": "E07MElpxTAi4",
        "outputId": "b7385016-6646-40a9-c70c-e35479383cbd"
      },
      "execution_count": null,
      "outputs": [
        {
          "output_type": "stream",
          "name": "stdout",
          "text": [
            "{'a': 1, 'b': 2, 'c': 1}\n"
          ]
        }
      ]
    },
    {
      "cell_type": "code",
      "source": [
        "lst = [1, 2, 3, 4]\n",
        "lst.extend([5, 6])\n",
        "lst.append([7, 8])\n",
        "print(lst)\n"
      ],
      "metadata": {
        "colab": {
          "base_uri": "https://localhost:8080/"
        },
        "id": "nExm6pwGTFcj",
        "outputId": "4277d11b-ebe7-4801-97c3-c9266e817409"
      },
      "execution_count": null,
      "outputs": [
        {
          "output_type": "stream",
          "name": "stdout",
          "text": [
            "[1, 2, 3, 4, 5, 6, [7, 8]]\n"
          ]
        }
      ]
    },
    {
      "cell_type": "code",
      "source": [
        "list1 = [1, 2, 3]\n",
        "list2 = [2, 3, 4]\n",
        "list(set(list1) & set(list2))"
      ],
      "metadata": {
        "colab": {
          "base_uri": "https://localhost:8080/"
        },
        "id": "ecfi-_amTMvQ",
        "outputId": "d70c407a-000b-4022-ef50-cdd4c4549da2"
      },
      "execution_count": null,
      "outputs": [
        {
          "output_type": "execute_result",
          "data": {
            "text/plain": [
              "[2, 3]"
            ]
          },
          "metadata": {},
          "execution_count": 51
        }
      ]
    },
    {
      "cell_type": "code",
      "source": [
        "prices=[2,4,1]\n",
        "a=min(prices)\n",
        "x=prices.index(a)\n",
        "max_val=0\n",
        "for i in range(x+1,len(prices)):\n",
        "    if prices[i]>max_val:\n",
        "        max_val=prices[i]\n",
        "if max_val>a:\n",
        "    print(max_val-a)\n",
        "x"
      ],
      "metadata": {
        "id": "ghXwOYjkTb03",
        "colab": {
          "base_uri": "https://localhost:8080/"
        },
        "outputId": "aacb2b98-89f6-489c-c595-d157bfec9f98"
      },
      "execution_count": null,
      "outputs": [
        {
          "output_type": "execute_result",
          "data": {
            "text/plain": [
              "2"
            ]
          },
          "metadata": {},
          "execution_count": 52
        }
      ]
    },
    {
      "cell_type": "code",
      "source": [
        "list1=[1,2,3,4,5]\n",
        "for i in range(len(prices)):\n",
        "  local_max = prices[i]\n",
        "  for j in range(i + 1, len(prices)):\n",
        "      local_max = max(local_max, prices[j])\n",
        "  global_max = max(global_max, local_max - prices[i])\n",
        "return global_max"
      ],
      "metadata": {
        "id": "4kq2JIojz6Pl",
        "colab": {
          "base_uri": "https://localhost:8080/",
          "height": 193
        },
        "outputId": "d39b33ed-98fc-4659-84d7-ab201d9e6781"
      },
      "execution_count": null,
      "outputs": [
        {
          "output_type": "error",
          "ename": "NameError",
          "evalue": "name 'global_max' is not defined",
          "traceback": [
            "\u001b[0;31m---------------------------------------------------------------------------\u001b[0m",
            "\u001b[0;31mNameError\u001b[0m                                 Traceback (most recent call last)",
            "\u001b[0;32m<ipython-input-53-de4e252d20d2>\u001b[0m in \u001b[0;36m<cell line: 0>\u001b[0;34m()\u001b[0m\n\u001b[1;32m      4\u001b[0m   \u001b[0;32mfor\u001b[0m \u001b[0mj\u001b[0m \u001b[0;32min\u001b[0m \u001b[0mrange\u001b[0m\u001b[0;34m(\u001b[0m\u001b[0mi\u001b[0m \u001b[0;34m+\u001b[0m \u001b[0;36m1\u001b[0m\u001b[0;34m,\u001b[0m \u001b[0mlen\u001b[0m\u001b[0;34m(\u001b[0m\u001b[0mprices\u001b[0m\u001b[0;34m)\u001b[0m\u001b[0;34m)\u001b[0m\u001b[0;34m:\u001b[0m\u001b[0;34m\u001b[0m\u001b[0;34m\u001b[0m\u001b[0m\n\u001b[1;32m      5\u001b[0m       \u001b[0mlocal_max\u001b[0m \u001b[0;34m=\u001b[0m \u001b[0mmax\u001b[0m\u001b[0;34m(\u001b[0m\u001b[0mlocal_max\u001b[0m\u001b[0;34m,\u001b[0m \u001b[0mprices\u001b[0m\u001b[0;34m[\u001b[0m\u001b[0mj\u001b[0m\u001b[0;34m]\u001b[0m\u001b[0;34m)\u001b[0m\u001b[0;34m\u001b[0m\u001b[0;34m\u001b[0m\u001b[0m\n\u001b[0;32m----> 6\u001b[0;31m   \u001b[0mglobal_max\u001b[0m \u001b[0;34m=\u001b[0m \u001b[0mmax\u001b[0m\u001b[0;34m(\u001b[0m\u001b[0mglobal_max\u001b[0m\u001b[0;34m,\u001b[0m \u001b[0mlocal_max\u001b[0m \u001b[0;34m-\u001b[0m \u001b[0mprices\u001b[0m\u001b[0;34m[\u001b[0m\u001b[0mi\u001b[0m\u001b[0;34m]\u001b[0m\u001b[0;34m)\u001b[0m\u001b[0;34m\u001b[0m\u001b[0;34m\u001b[0m\u001b[0m\n\u001b[0m\u001b[1;32m      7\u001b[0m \u001b[0;32mreturn\u001b[0m \u001b[0mglobal_max\u001b[0m\u001b[0;34m\u001b[0m\u001b[0;34m\u001b[0m\u001b[0m\n",
            "\u001b[0;31mNameError\u001b[0m: name 'global_max' is not defined"
          ]
        }
      ]
    },
    {
      "cell_type": "code",
      "source": [
        "        list1 = []\n",
        "        nums.sort()\n",
        "        for i in range(len(nums)):\n",
        "            if i > 0 and nums[i] == nums[i - 1]:\n",
        "                continue\n",
        "            left, right = i + 1, len(nums) - 1\n",
        "            while left < right:\n",
        "                total = nums[i] + nums[left] + nums[right]\n",
        "                if total == 0:\n",
        "                    list1.append([nums[i], nums[left], nums[right]])\n",
        "                    while left < right and nums[left] == nums[left + 1]:\n",
        "                        left += 1\n",
        "                    while left < right and nums[right] == nums[right - 1]:\n",
        "                        right -= 1\n",
        "                    left += 1\n",
        "                    right -= 1\n",
        "                    elif total < 0:\n",
        "                    left += 1\n",
        "                else:\n",
        "                    right -= 1\n",
        "        return list1"
      ],
      "metadata": {
        "colab": {
          "base_uri": "https://localhost:8080/",
          "height": 106
        },
        "id": "xav9d3f97Y7n",
        "outputId": "08fcd08e-32dd-4134-8a05-227bdb74b696"
      },
      "execution_count": null,
      "outputs": [
        {
          "output_type": "error",
          "ename": "SyntaxError",
          "evalue": "invalid syntax (<ipython-input-54-67bb5f04a55b>, line 17)",
          "traceback": [
            "\u001b[0;36m  File \u001b[0;32m\"<ipython-input-54-67bb5f04a55b>\"\u001b[0;36m, line \u001b[0;32m17\u001b[0m\n\u001b[0;31m    elif total < 0:\u001b[0m\n\u001b[0m    ^\u001b[0m\n\u001b[0;31mSyntaxError\u001b[0m\u001b[0;31m:\u001b[0m invalid syntax\n"
          ]
        }
      ]
    },
    {
      "cell_type": "code",
      "source": [
        "# isomorfic string\n",
        "# three sum closer\n",
        "# three sum smaller"
      ],
      "metadata": {
        "id": "vC2LYPKV-U4i"
      },
      "execution_count": null,
      "outputs": []
    },
    {
      "cell_type": "code",
      "source": [
        "s=\"add\"\n",
        "t=\"egg\"\n",
        "dict1={}\n",
        "if len(s)==len(t):\n",
        "  for i in range(0,len(s)):\n",
        "    if s[i] not in dict1:\n",
        "      dict1[s[i]]=t[i]\n",
        "    elif dict1[s[i]]!=t[i]:\n",
        "      return False\n",
        "  return True\n",
        "else:\n",
        "  return False\n",
        "\n"
      ],
      "metadata": {
        "id": "9g0bees3-ea8",
        "colab": {
          "base_uri": "https://localhost:8080/",
          "height": 106
        },
        "outputId": "acd37a4d-8374-4989-ee8a-1feef71832d6"
      },
      "execution_count": null,
      "outputs": [
        {
          "output_type": "error",
          "ename": "SyntaxError",
          "evalue": "'return' outside function (<ipython-input-56-adee8c78ebb8>, line 9)",
          "traceback": [
            "\u001b[0;36m  File \u001b[0;32m\"<ipython-input-56-adee8c78ebb8>\"\u001b[0;36m, line \u001b[0;32m9\u001b[0m\n\u001b[0;31m    return False\u001b[0m\n\u001b[0m    ^\u001b[0m\n\u001b[0;31mSyntaxError\u001b[0m\u001b[0;31m:\u001b[0m 'return' outside function\n"
          ]
        }
      ]
    },
    {
      "cell_type": "code",
      "source": [
        "nums = []\n",
        "target=2\n",
        "nums.sort()\n",
        "ans, n = 0, len(nums)\n",
        "for i in range(n):\n",
        "    start, end = i + 1, n - 1\n",
        "    while start < end:\n",
        "        s = nums[i] + nums[start] + nums[end]\n",
        "        if s <= target:\n",
        "            ans +=1\n",
        "            start += 1\n",
        "        else:\n",
        "            end -= 1\n",
        "print(ans)"
      ],
      "metadata": {
        "id": "m5oNcCGOS2r5",
        "colab": {
          "base_uri": "https://localhost:8080/"
        },
        "outputId": "cd51f6a0-b00f-4a58-eb78-020b5622d610"
      },
      "execution_count": null,
      "outputs": [
        {
          "output_type": "stream",
          "name": "stdout",
          "text": [
            "0\n"
          ]
        }
      ]
    },
    {
      "cell_type": "code",
      "source": [
        "str1=\"hey hello regex software\"\n",
        "list1=str1.split()\n",
        "a=list1.pop(0)\n",
        "b=list1.pop()\n",
        "str2=\" \".join(list1)\n",
        "print(b,str2,a)"
      ],
      "metadata": {
        "id": "FVnDiz3eDCkV",
        "colab": {
          "base_uri": "https://localhost:8080/"
        },
        "outputId": "6380faac-df18-4ada-8c3d-513cb318bb3e"
      },
      "execution_count": null,
      "outputs": [
        {
          "output_type": "stream",
          "name": "stdout",
          "text": [
            "software hello regex hey\n"
          ]
        }
      ]
    },
    {
      "cell_type": "code",
      "source": [
        "n = int(input(\"enter first number\"))\n",
        "p = int(input(\"enter second number\"))\n",
        "if n>p:\n",
        "  num=p\n",
        "else:\n",
        "  num=n\n",
        "while (num>0):\n",
        "  if n%num==0 and p%num==0:\n",
        "    print(num)\n",
        "    break\n",
        "  num=num-1"
      ],
      "metadata": {
        "id": "MDQKqKUOgO65"
      },
      "execution_count": null,
      "outputs": []
    },
    {
      "cell_type": "code",
      "source": [
        "class Employee:\n",
        "    def __init_(self,name,emp_ID,salary):\n",
        "        self.name=name\n",
        "        self.emp_ID=emp_ID\n",
        "        self.salary=salary\n",
        "    def annual_salary(self):\n",
        "        return self.salary*12\n",
        "    def employee_details(self):\n",
        "        print(f\"Employee Name is : {self.name}\")\n",
        "        print(f\"Employee ID is : {self.emp_ID}\")\n",
        "        print(f\"Monthly Salary is : {self.salary}\")\n",
        "        print(f\"Total Annual Salary is : {self.annual_salary()}\")\n",
        "name=input(\"Enter the name of the Employee :\")\n",
        "emp_ID=int(input(\"Enter the ID of the Employee :\"))\n",
        "salary=int(input(\"Enter the Monthly Salary of the employee :\"))\n",
        "Emp1= Employee(name,emp_ID,salary)\n",
        "Emp1.employee_details()"
      ],
      "metadata": {
        "id": "4mrG2X7cs_SC"
      },
      "execution_count": null,
      "outputs": []
    },
    {
      "cell_type": "code",
      "source": [
        "a=9\n",
        "set1 ={1,2,3,4,5,6,7,8,9}\n",
        "c=10\n",
        "\n",
        "for i in range(c):\n",
        "    list1=list(input().split())\n",
        "    if list1[0]==\"remove\":\n",
        "        if int(list1[1]) not in set1:\n",
        "            continue\n",
        "        else:\n",
        "            set1.remove(int(list1[1]))\n",
        "    elif list1[0]==\"discard\":\n",
        "        set1.discard(int(list1[1]))\n",
        "    else:\n",
        "        set1.pop()\n",
        "print(sum(set1))\n"
      ],
      "metadata": {
        "id": "WekGjZDfHwCL"
      },
      "execution_count": null,
      "outputs": []
    },
    {
      "cell_type": "code",
      "source": [
        "a=[5,3]\n",
        "list1=[89,90,78,93,80]\n",
        "list2=[90,91,85,88,86]\n",
        "list3=[91,92,83,89,90.5]\n",
        "z=[list1]+[list2]+[list3]\n",
        "q=list(zip(*z))\n",
        "\n",
        "q"
      ],
      "metadata": {
        "id": "deYhZ-VpHrda"
      },
      "execution_count": null,
      "outputs": []
    },
    {
      "cell_type": "code",
      "source": [
        "q=(89, 90, 91)\n",
        "a=0\n",
        "for i in q:\n",
        "  a+=i\n",
        "print(a/3)\n",
        "w=sum(q)\n",
        "w"
      ],
      "metadata": {
        "id": "4Heqgd32v1OG"
      },
      "execution_count": null,
      "outputs": []
    },
    {
      "cell_type": "code",
      "source": [
        "str1=\"babad\"\n",
        "list1=[]\n",
        "for i in range(len(s1)+1):\n",
        "  for j in range(i+1,len(s1)):\n",
        "    if s[i:j+1] == s[i:j+1][::-1]:\n",
        "      list1.append(s[i:j+1])\n",
        "list1"
      ],
      "metadata": {
        "id": "Opwkoytlxji8"
      },
      "execution_count": null,
      "outputs": []
    },
    {
      "cell_type": "code",
      "source": [
        "s=\"babad\"\n",
        "i=0\n",
        "j=len(s)-1\n",
        "a=''\n",
        "list1=[]\n",
        "while i<j:\n",
        "        if s[i:j+1] == s[i:j+1][::-1]:\n",
        "            if len(s[i:j+1])>len(a):\n",
        "                a=s[i:j+1]\n",
        "            i+=1\n",
        "            j-=1\n",
        "        elif(i<j):\n",
        "          j-=1\n",
        "        else:\n",
        "          i+=1\n",
        "a"
      ],
      "metadata": {
        "id": "ipaZwSAkcvbP"
      },
      "execution_count": null,
      "outputs": []
    },
    {
      "cell_type": "code",
      "source": [
        "# Python program showing a use\n",
        "# of get() and set() method in\n",
        "# normal function\n",
        "\n",
        "class Geek:\n",
        "\tdef __init__(self, age = 0):\n",
        "\t\tself._age = age\n",
        "\n",
        "\t# getter method\n",
        "\tdef age(self):\n",
        "\t\treturn self._age\n",
        "\n",
        "\t# setter method\n",
        "\tdef set_age(self, x):\n",
        "\t\tself._age = x\n",
        "\n",
        "raj = Geek()\n",
        "\n",
        "# setting the age using setter\n",
        "raj.set_age(21)\n",
        "\n",
        "# retrieving age using getter\n",
        "print(raj.get_age())\n",
        "\n",
        "print(raj._age)\n",
        "\n"
      ],
      "metadata": {
        "id": "WcaQtPMkeVrx"
      },
      "execution_count": null,
      "outputs": []
    },
    {
      "cell_type": "code",
      "source": [
        "class Vehicle:\n",
        "    def move(self):\n",
        "        print(\"Vehicle is moving!\")\n",
        "\n",
        "class Car(Vehicle):\n",
        "    def move(self):\n",
        "        print(\"Car is moving on four wheels!\")\n",
        "        super().move()\n",
        "class Bike(Car,Vehicle):\n",
        "    def move(self):\n",
        "        print(\"Bike is moving on two wheels!\")\n",
        "        super().move()\n",
        "\n",
        "# Instances\n",
        "vehicle=Vehicle()\n",
        "car=Car()\n",
        "bike=Bike()\n",
        "\n",
        "# vehicle.move()\n",
        "# car.move()\n",
        "bike.move()"
      ],
      "metadata": {
        "id": "pB26yauW-_gr"
      },
      "execution_count": null,
      "outputs": []
    },
    {
      "cell_type": "code",
      "source": [
        "list1=[\n",
        "    1,2,3]\n",
        "list2=[4,5,6]\n",
        "dict1={i:j for i,j in zip(list1,list2)}"
      ],
      "metadata": {
        "id": "ny71GEUOzBbs"
      },
      "execution_count": null,
      "outputs": []
    },
    {
      "cell_type": "code",
      "source": [
        "dict1"
      ],
      "metadata": {
        "id": "7U75eW4K44TQ"
      },
      "execution_count": null,
      "outputs": []
    },
    {
      "cell_type": "code",
      "source": [
        "str1=\"prakul jain\"\n",
        "dict1="
      ],
      "metadata": {
        "id": "jWMqQaUA5Sij"
      },
      "execution_count": null,
      "outputs": []
    },
    {
      "cell_type": "code",
      "source": [
        "dict1={}\n",
        "str1=\"babab\"\n",
        "for i in range(0,len(str1)-1):\n",
        "  for j in range(1,len(str1)+1):\n",
        "    if str1[i:j] not in dict1:\n",
        "      dict1[str1[i:j]]=1\n",
        "    else:\n",
        "      dict1[str1[i:j]]+=1\n",
        "dict1"
      ],
      "metadata": {
        "id": "LAbXyLoz6c-9"
      },
      "execution_count": null,
      "outputs": []
    },
    {
      "cell_type": "code",
      "source": [
        "# range  and  xrange\n",
        "# range\n",
        "# xrange list return\n",
        "# range single intiger\n",
        "for i in range(10):\n",
        "  print (i)"
      ],
      "metadata": {
        "id": "FKOilxzK8yyb"
      },
      "execution_count": null,
      "outputs": []
    },
    {
      "cell_type": "code",
      "source": [
        "for i in range(1,6):\n",
        "  for j in range(1,6-i):\n",
        "    print(\" \", end=\"\")\n",
        "  for k in range(1,i):\n",
        "    if i==1:\n",
        "      print(\"*\", end=\" \")\n",
        "    else:\n",
        "      print(\" \", end=\" \")\n",
        "  print()\n",
        "for i in range(1,6):\n",
        "  for k in range(1,i):\n",
        "    print(\" \", end=\"\")\n",
        "  for j in range(1,6-i):\n",
        "    print(\"*\", end=\" \")\n",
        "  print()"
      ],
      "metadata": {
        "id": "1PaG6NHRV8hz"
      },
      "execution_count": null,
      "outputs": []
    },
    {
      "cell_type": "code",
      "source": [
        "openB=[] ## VALID PARENTHESIS\n",
        "x=0\n",
        "data=\"(()\"\n",
        "for char in data:\n",
        "    if char==\"(\":\n",
        "        openB.append(char)\n",
        "    elif(openB):\n",
        "        if(char==\")\" and \"(\"==openB.pop()):\n",
        "            x=1\n",
        "            x=1\n",
        "        else:\n",
        "            x=0\n",
        "if(x==0 or len(openB)>0):\n",
        "    print(\"invalid\")\n",
        "else:\n",
        "    print(\"valid parenthesis\")"
      ],
      "metadata": {
        "id": "TlTxQAA6WoXK"
      },
      "execution_count": null,
      "outputs": []
    },
    {
      "cell_type": "code",
      "source": [
        "a = list(input().split())\n",
        "a"
      ],
      "metadata": {
        "id": "BlmHEu7PkItk"
      },
      "execution_count": null,
      "outputs": []
    },
    {
      "cell_type": "code",
      "source": [
        "openB=[] ## VALID PARENTHESIS\n",
        "x=0\n",
        "data=\"(()\"\n",
        "for char in data:\n",
        "    if char==\"(\":\n",
        "        openB.append(char)\n",
        "    elif(openB):\n",
        "        if(char==\")\" and \"(\"==openB.pop()):\n",
        "            x=1\n",
        "            x=1\n",
        "        else:\n",
        "            x=0\n",
        "if(x==0 or len(openB)>0):\n",
        "    print(\"invalid\")\n",
        "else:\n",
        "    print(\"valid parenthesis\")"
      ],
      "metadata": {
        "id": "1c5NI9-FkvD-",
        "colab": {
          "base_uri": "https://localhost:8080/"
        },
        "outputId": "0cb53b26-1d7f-4bf4-a3fc-5be3eaac563d"
      },
      "execution_count": null,
      "outputs": [
        {
          "output_type": "stream",
          "name": "stdout",
          "text": [
            "invalid\n"
          ]
        }
      ]
    },
    {
      "cell_type": "code",
      "source": [
        "mylist=[]\n",
        "for i in range(0,5):\n",
        "  templist=[]\n",
        "  for j in range(0,i+1):\n",
        "    if(j==0 or j==i):\n",
        "      templist.append(1)\n",
        "    else:\n",
        "      templist.append(mylist[i-1][j-1]+mylist[i-1][j])\n",
        "  mylist.append(templist)\n",
        "for i in mylist:\n",
        "  for k in range(3,0,-1):\n",
        "    print(\" \"*k,end=\" \")\n",
        "  print(i)"
      ],
      "metadata": {
        "colab": {
          "base_uri": "https://localhost:8080/"
        },
        "id": "fw_c6aAw74zW",
        "outputId": "ef1ebcaa-8267-4a7f-a0cc-4863e072eb47"
      },
      "execution_count": null,
      "outputs": [
        {
          "output_type": "stream",
          "name": "stdout",
          "text": [
            "         [1]\n",
            "         [1, 1]\n",
            "         [1, 2, 1]\n",
            "         [1, 3, 3, 1]\n",
            "         [1, 4, 6, 4, 1]\n"
          ]
        }
      ]
    },
    {
      "cell_type": "code",
      "source": [
        "for i in range(1,6):\n",
        "  for j in range(i,5):\n",
        "    print(\" \",end=\"\")\n",
        "  for j in range(1,i+1):\n",
        "    print(\"*\",end=\" \")\n",
        "  print()"
      ],
      "metadata": {
        "colab": {
          "base_uri": "https://localhost:8080/"
        },
        "id": "bCymSmq18YFS",
        "outputId": "17e305a9-ff93-4e0f-dd42-580f9de5dd1b"
      },
      "execution_count": null,
      "outputs": [
        {
          "output_type": "stream",
          "name": "stdout",
          "text": [
            "    * \n",
            "   * * \n",
            "  * * * \n",
            " * * * * \n",
            "* * * * * \n"
          ]
        }
      ]
    },
    {
      "cell_type": "code",
      "source": [
        "a=10\n",
        "for i in range(a):\n",
        "  print(i)"
      ],
      "metadata": {
        "id": "EJgV98aS9RFo",
        "colab": {
          "base_uri": "https://localhost:8080/"
        },
        "outputId": "476f7ce2-5363-4df6-d0b3-6e09cb41ffc8"
      },
      "execution_count": null,
      "outputs": [
        {
          "output_type": "stream",
          "name": "stdout",
          "text": [
            "0\n",
            "1\n",
            "2\n",
            "3\n",
            "4\n",
            "5\n",
            "6\n",
            "7\n",
            "8\n",
            "9\n"
          ]
        }
      ]
    },
    {
      "cell_type": "code",
      "source": [
        "i"
      ],
      "metadata": {
        "colab": {
          "base_uri": "https://localhost:8080/"
        },
        "id": "brRCM_kxlalT",
        "outputId": "92a398cd-f53d-4e50-e231-2a4607c18ca4"
      },
      "execution_count": null,
      "outputs": [
        {
          "output_type": "execute_result",
          "data": {
            "text/plain": [
              "9"
            ]
          },
          "metadata": {},
          "execution_count": 22
        }
      ]
    },
    {
      "cell_type": "code",
      "source": [
        "a=0\n",
        "while a<10:\n",
        "  print(a)\n",
        "  a+=1"
      ],
      "metadata": {
        "colab": {
          "base_uri": "https://localhost:8080/"
        },
        "id": "AtheqpFyldcT",
        "outputId": "6680702e-cb76-4cd9-9f12-8c84561b3e28"
      },
      "execution_count": null,
      "outputs": [
        {
          "output_type": "stream",
          "name": "stdout",
          "text": [
            "0\n",
            "1\n",
            "2\n",
            "3\n",
            "4\n",
            "5\n",
            "6\n",
            "7\n",
            "8\n",
            "9\n"
          ]
        }
      ]
    },
    {
      "cell_type": "code",
      "source": [
        "a"
      ],
      "metadata": {
        "colab": {
          "base_uri": "https://localhost:8080/"
        },
        "id": "ufUE4P6mlnhl",
        "outputId": "880313a1-fe0d-4951-af79-5edb66870404"
      },
      "execution_count": null,
      "outputs": [
        {
          "output_type": "execute_result",
          "data": {
            "text/plain": [
              "10"
            ]
          },
          "metadata": {},
          "execution_count": 20
        }
      ]
    },
    {
      "cell_type": "code",
      "source": [
        "nums = [-1,0,1,2,-1,-4]\n",
        "list1=[]\n",
        "nums.sort()\n",
        "for i in range(0,len(nums)):\n",
        "    for j in range(i+1,len(nums)):\n",
        "        for k in range(j+1,len(nums)):\n",
        "            if (nums[i] + nums[j] + nums[k] == 0) :\n",
        "                if [nums[i] , nums[j] , nums[k]] in list1:\n",
        "                    continue\n",
        "                else:\n",
        "                    list1.append([nums[i] , nums[j] , nums[k]])\n",
        "print(list1)"
      ],
      "metadata": {
        "id": "YVYxfklJlyTa",
        "colab": {
          "base_uri": "https://localhost:8080/"
        },
        "outputId": "94ac02e6-455a-4798-8922-5a5af943f52c"
      },
      "execution_count": null,
      "outputs": [
        {
          "output_type": "stream",
          "name": "stdout",
          "text": [
            "[[-1, -1, 2], [-1, 0, 1]]\n"
          ]
        }
      ]
    },
    {
      "cell_type": "code",
      "source": [
        "nums.sort()\n",
        "for i in range(0,len(nums)):\n",
        "    for j in range(i+1,len(nums)):\n",
        "        for k in range(j+1,len(nums)):\n",
        "            if (nums[i] + nums[j] + nums[k] == 0) :\n",
        "                if [nums[i] , nums[j] , nums[k]] in list1:\n",
        "                    continue\n",
        "                else:\n",
        "                    list1.append([nums[i] , nums[j] , nums[k]])\n",
        "print(list1)"
      ],
      "metadata": {
        "id": "h7KurelGKtje",
        "colab": {
          "base_uri": "https://localhost:8080/",
          "height": 211
        },
        "outputId": "17da4f37-fec8-40c8-8eb5-f256490614fa"
      },
      "execution_count": null,
      "outputs": [
        {
          "output_type": "error",
          "ename": "NameError",
          "evalue": "name 'nums' is not defined",
          "traceback": [
            "\u001b[0;31m---------------------------------------------------------------------------\u001b[0m",
            "\u001b[0;31mNameError\u001b[0m                                 Traceback (most recent call last)",
            "\u001b[0;32m<ipython-input-1-4b721bc6a763>\u001b[0m in \u001b[0;36m<cell line: 0>\u001b[0;34m()\u001b[0m\n\u001b[0;32m----> 1\u001b[0;31m \u001b[0mnums\u001b[0m\u001b[0;34m.\u001b[0m\u001b[0msort\u001b[0m\u001b[0;34m(\u001b[0m\u001b[0;34m)\u001b[0m\u001b[0;34m\u001b[0m\u001b[0;34m\u001b[0m\u001b[0m\n\u001b[0m\u001b[1;32m      2\u001b[0m \u001b[0;32mfor\u001b[0m \u001b[0mi\u001b[0m \u001b[0;32min\u001b[0m \u001b[0mrange\u001b[0m\u001b[0;34m(\u001b[0m\u001b[0;36m0\u001b[0m\u001b[0;34m,\u001b[0m\u001b[0mlen\u001b[0m\u001b[0;34m(\u001b[0m\u001b[0mnums\u001b[0m\u001b[0;34m)\u001b[0m\u001b[0;34m)\u001b[0m\u001b[0;34m:\u001b[0m\u001b[0;34m\u001b[0m\u001b[0;34m\u001b[0m\u001b[0m\n\u001b[1;32m      3\u001b[0m     \u001b[0;32mfor\u001b[0m \u001b[0mj\u001b[0m \u001b[0;32min\u001b[0m \u001b[0mrange\u001b[0m\u001b[0;34m(\u001b[0m\u001b[0mi\u001b[0m\u001b[0;34m+\u001b[0m\u001b[0;36m1\u001b[0m\u001b[0;34m,\u001b[0m\u001b[0mlen\u001b[0m\u001b[0;34m(\u001b[0m\u001b[0mnums\u001b[0m\u001b[0;34m)\u001b[0m\u001b[0;34m)\u001b[0m\u001b[0;34m:\u001b[0m\u001b[0;34m\u001b[0m\u001b[0;34m\u001b[0m\u001b[0m\n\u001b[1;32m      4\u001b[0m         \u001b[0;32mfor\u001b[0m \u001b[0mk\u001b[0m \u001b[0;32min\u001b[0m \u001b[0mrange\u001b[0m\u001b[0;34m(\u001b[0m\u001b[0mj\u001b[0m\u001b[0;34m+\u001b[0m\u001b[0;36m1\u001b[0m\u001b[0;34m,\u001b[0m\u001b[0mlen\u001b[0m\u001b[0;34m(\u001b[0m\u001b[0mnums\u001b[0m\u001b[0;34m)\u001b[0m\u001b[0;34m)\u001b[0m\u001b[0;34m:\u001b[0m\u001b[0;34m\u001b[0m\u001b[0;34m\u001b[0m\u001b[0m\n\u001b[1;32m      5\u001b[0m             \u001b[0;32mif\u001b[0m \u001b[0;34m(\u001b[0m\u001b[0mnums\u001b[0m\u001b[0;34m[\u001b[0m\u001b[0mi\u001b[0m\u001b[0;34m]\u001b[0m \u001b[0;34m+\u001b[0m \u001b[0mnums\u001b[0m\u001b[0;34m[\u001b[0m\u001b[0mj\u001b[0m\u001b[0;34m]\u001b[0m \u001b[0;34m+\u001b[0m \u001b[0mnums\u001b[0m\u001b[0;34m[\u001b[0m\u001b[0mk\u001b[0m\u001b[0;34m]\u001b[0m \u001b[0;34m==\u001b[0m \u001b[0;36m0\u001b[0m\u001b[0;34m)\u001b[0m \u001b[0;34m:\u001b[0m\u001b[0;34m\u001b[0m\u001b[0;34m\u001b[0m\u001b[0m\n",
            "\u001b[0;31mNameError\u001b[0m: name 'nums' is not defined"
          ]
        }
      ]
    },
    {
      "cell_type": "code",
      "source": [
        "# Find second highest value\n",
        "# k highest\n",
        "\n",
        "\n",
        "list2= [10,25,14,6,8,1,78,521,8,654,1,2,521]\n",
        "\n",
        "# list2 = [1,1,2,3,4,5,45,3,5,3,5,4,3,21,1]\n",
        "list2.sort()\n",
        "print(list2)\n",
        "start=0\n",
        "while(start<len(list2)-1):\n",
        "  if list2[start]==list2[start+1]:\n",
        "    list2.remove(list2[start+1])\n",
        "  else:\n",
        "    start+=1\n",
        "print(list2)\n",
        "k = int( input ( \" enter k highest valueee: \"))\n",
        "if k> len(list2):\n",
        "  print(\" enter in range list \")\n",
        "else:\n",
        "  print(\"The \",k,\"highest value is \",list2[-k])\n",
        "\n"
      ],
      "metadata": {
        "colab": {
          "base_uri": "https://localhost:8080/"
        },
        "id": "seCDKfMTFQ_w",
        "outputId": "c4019d9a-1526-4bbc-cfb2-3cfb70ee139f"
      },
      "execution_count": null,
      "outputs": [
        {
          "output_type": "stream",
          "name": "stdout",
          "text": [
            "[1, 1, 2, 6, 8, 8, 10, 14, 25, 78, 521, 521, 654]\n",
            "[1, 2, 6, 8, 10, 14, 25, 78, 521, 654]\n",
            " enter k highest valueee: 5\n",
            "The  5 highest value is  14\n"
          ]
        }
      ]
    },
    {
      "cell_type": "code",
      "source": [
        "list1=[x for x in range(10) if x%2==0]"
      ],
      "metadata": {
        "id": "KJRs09gDFhHd"
      },
      "execution_count": null,
      "outputs": []
    },
    {
      "cell_type": "code",
      "source": [
        "list1"
      ],
      "metadata": {
        "colab": {
          "base_uri": "https://localhost:8080/"
        },
        "id": "JdBlFbvxM5Lv",
        "outputId": "b46df5f3-db9b-4e13-bdbf-f13cef861cd4"
      },
      "execution_count": null,
      "outputs": [
        {
          "output_type": "execute_result",
          "data": {
            "text/plain": [
              "[0, 2, 4, 6, 8]"
            ]
          },
          "metadata": {},
          "execution_count": 53
        }
      ]
    },
    {
      "cell_type": "code",
      "source": [
        "set1={x for x in range(10) if x%2==0}"
      ],
      "metadata": {
        "id": "f3rfn7m-NngT"
      },
      "execution_count": null,
      "outputs": []
    },
    {
      "cell_type": "code",
      "source": [
        "set1"
      ],
      "metadata": {
        "colab": {
          "base_uri": "https://localhost:8080/"
        },
        "id": "SUuhwU2gNrsh",
        "outputId": "fadd811f-e0d6-4ebb-a0b8-a3c71e191f0f"
      },
      "execution_count": null,
      "outputs": [
        {
          "output_type": "execute_result",
          "data": {
            "text/plain": [
              "{0, 2, 4, 6, 8}"
            ]
          },
          "metadata": {},
          "execution_count": 56
        }
      ]
    },
    {
      "cell_type": "code",
      "source": [
        "dict1 = {x:x**2 for x in range(10)}"
      ],
      "metadata": {
        "id": "U-2eNsbrNwyk"
      },
      "execution_count": null,
      "outputs": []
    },
    {
      "cell_type": "code",
      "source": [
        "dict1"
      ],
      "metadata": {
        "id": "x_hxEgQpN-3x",
        "outputId": "08f9cb72-e4d5-4727-ea64-dbff00303341",
        "colab": {
          "base_uri": "https://localhost:8080/"
        }
      },
      "execution_count": null,
      "outputs": [
        {
          "output_type": "execute_result",
          "data": {
            "text/plain": [
              "{0: 0, 1: 1, 2: 4, 3: 9, 4: 16, 5: 25, 6: 36, 7: 49, 8: 64, 9: 81}"
            ]
          },
          "metadata": {},
          "execution_count": 58
        }
      ]
    },
    {
      "cell_type": "code",
      "source": [
        "num1=int(input(\"Enter the num to convert into roman :\"))\n",
        "dict1={1000:\"M\",900:\"CM\",500:\"D\",400:\"CD\",100:\"C\",90:\"XC\",50:\"L\",40:\"XL\",10:\"X\",9:\"IX\",5:\"V\",4:\"IV\",1:\"I\"}\n",
        "roman_num=\"\"\n",
        "for i in dict1:\n",
        "  while(num1>=i):\n",
        "    roman_num+=dict1[i]\n",
        "    num1-=i\n",
        "print(roman_num)"
      ],
      "metadata": {
        "id": "jKMc6yz8N_je",
        "colab": {
          "base_uri": "https://localhost:8080/"
        },
        "outputId": "804a5387-1369-4b0c-bd16-5212591f24d2"
      },
      "execution_count": null,
      "outputs": [
        {
          "output_type": "stream",
          "name": "stdout",
          "text": [
            "Enter the num to convert into roman :52\n",
            "LII\n"
          ]
        }
      ]
    },
    {
      "cell_type": "code",
      "source": [
        "# set\n",
        "myset= set({})\n",
        "myset={1,2,3,4,5,6}\n",
        "myset.add(10)"
      ],
      "metadata": {
        "id": "W7zkzAVZMFmj"
      },
      "execution_count": null,
      "outputs": []
    },
    {
      "cell_type": "code",
      "source": [
        "dict1={x:1 for x in range(1,10)}\n",
        "mylist=[x for x in range(1,10)]"
      ],
      "metadata": {
        "id": "CoYh83PeTa7x"
      },
      "execution_count": null,
      "outputs": []
    },
    {
      "cell_type": "code",
      "source": [
        "print(dict1)\n",
        "print(type(mylist))\n"
      ],
      "metadata": {
        "colab": {
          "base_uri": "https://localhost:8080/"
        },
        "id": "vhfZEVyfUZw_",
        "outputId": "c878af5d-91d3-4be9-fc4f-6016e3a042a7"
      },
      "execution_count": null,
      "outputs": [
        {
          "output_type": "stream",
          "name": "stdout",
          "text": [
            "{1: 1, 2: 1, 3: 1, 4: 1, 5: 1, 6: 1, 7: 1, 8: 1, 9: 1}\n",
            "<class 'list'>\n"
          ]
        }
      ]
    },
    {
      "cell_type": "code",
      "source": [
        "dict1={x:y for x in range(10) for y in range(150)}"
      ],
      "metadata": {
        "id": "tbE0qia0UaeW"
      },
      "execution_count": null,
      "outputs": []
    },
    {
      "cell_type": "code",
      "source": [
        "dict1"
      ],
      "metadata": {
        "colab": {
          "base_uri": "https://localhost:8080/"
        },
        "id": "WPRZjP7OVqhY",
        "outputId": "e3b8cce3-a5df-4664-a74b-12a9dd8f900a"
      },
      "execution_count": null,
      "outputs": [
        {
          "output_type": "execute_result",
          "data": {
            "text/plain": [
              "{0: 149,\n",
              " 1: 149,\n",
              " 2: 149,\n",
              " 3: 149,\n",
              " 4: 149,\n",
              " 5: 149,\n",
              " 6: 149,\n",
              " 7: 149,\n",
              " 8: 149,\n",
              " 9: 149}"
            ]
          },
          "metadata": {},
          "execution_count": 21
        }
      ]
    },
    {
      "cell_type": "code",
      "source": [
        "# introduction should be clear\n",
        "# mo marrige status no male female\n",
        "mylist\n"
      ],
      "metadata": {
        "colab": {
          "base_uri": "https://localhost:8080/"
        },
        "id": "jERy1dUgVrYQ",
        "outputId": "e0c28d0f-59da-48f3-b9c0-ecbb6561e2ef"
      },
      "execution_count": null,
      "outputs": [
        {
          "output_type": "execute_result",
          "data": {
            "text/plain": [
              "[1, 2, 3, 4, 5, 6, 7, 8, 9]"
            ]
          },
          "metadata": {},
          "execution_count": 22
        }
      ]
    },
    {
      "cell_type": "code",
      "source": [
        "10 in mylist"
      ],
      "metadata": {
        "colab": {
          "base_uri": "https://localhost:8080/"
        },
        "id": "3vOCestDXReu",
        "outputId": "889196ed-160d-470e-9636-aa4122708169"
      },
      "execution_count": null,
      "outputs": [
        {
          "output_type": "execute_result",
          "data": {
            "text/plain": [
              "False"
            ]
          },
          "metadata": {},
          "execution_count": 23
        }
      ]
    },
    {
      "cell_type": "code",
      "source": [
        "# {0 - 256} and it store in cache memory addresss in python"
      ],
      "metadata": {
        "id": "V4bxNxgcXaEg"
      },
      "execution_count": null,
      "outputs": []
    },
    {
      "cell_type": "code",
      "source": [
        "x = 100\n",
        "a=x\n",
        "a=1002\n",
        "x"
      ],
      "metadata": {
        "colab": {
          "base_uri": "https://localhost:8080/"
        },
        "id": "iF002mB4XmHx",
        "outputId": "6f971861-8542-4843-a198-0c00aecd468e"
      },
      "execution_count": null,
      "outputs": [
        {
          "output_type": "execute_result",
          "data": {
            "text/plain": [
              "100"
            ]
          },
          "metadata": {},
          "execution_count": 27
        }
      ]
    },
    {
      "cell_type": "code",
      "source": [
        "# Functions :\n",
        "# a collection of statements\n",
        "# a block of code\n",
        "# which can reuse when we need\n",
        "def add(a,b):\n",
        "  global x\n",
        "  x=10\n",
        "  print(\"prakul jain \",x,)\n",
        "  return a+b\n",
        "z=10\n",
        "print(add(10,12))\n",
        "print(x)"
      ],
      "metadata": {
        "colab": {
          "base_uri": "https://localhost:8080/"
        },
        "id": "KxUhYCZSYLwJ",
        "outputId": "5f628291-067a-4e96-8216-38483fcc57c8"
      },
      "execution_count": null,
      "outputs": [
        {
          "output_type": "stream",
          "name": "stdout",
          "text": [
            "prakul jain  10\n",
            "22\n",
            "10\n"
          ]
        }
      ]
    },
    {
      "cell_type": "code",
      "source": [
        "from typing import final"
      ],
      "metadata": {
        "id": "GZUolYYHZQ4_"
      },
      "execution_count": null,
      "outputs": []
    },
    {
      "cell_type": "code",
      "source": [
        "\n",
        "a:final=10\n",
        "a=13"
      ],
      "metadata": {
        "id": "MJQxgX3VayDf"
      },
      "execution_count": null,
      "outputs": []
    },
    {
      "cell_type": "code",
      "source": [
        "a"
      ],
      "metadata": {
        "colab": {
          "base_uri": "https://localhost:8080/"
        },
        "id": "FGjLQTQMa5kV",
        "outputId": "ee975090-7849-4a2f-bda9-bc914698597d"
      },
      "execution_count": null,
      "outputs": [
        {
          "output_type": "execute_result",
          "data": {
            "text/plain": [
              "13"
            ]
          },
          "metadata": {},
          "execution_count": 53
        }
      ]
    },
    {
      "cell_type": "code",
      "source": [
        "a=13"
      ],
      "metadata": {
        "id": "3Wu96qqPa58P"
      },
      "execution_count": null,
      "outputs": []
    },
    {
      "cell_type": "code",
      "source": [
        "a"
      ],
      "metadata": {
        "colab": {
          "base_uri": "https://localhost:8080/"
        },
        "id": "OYz-N2Kia6_d",
        "outputId": "8e1e7970-5ea7-4164-fb7b-13e99a7215ef"
      },
      "execution_count": null,
      "outputs": [
        {
          "output_type": "execute_result",
          "data": {
            "text/plain": [
              "13"
            ]
          },
          "metadata": {},
          "execution_count": 55
        }
      ]
    },
    {
      "cell_type": "code",
      "source": [
        "# learning assignment\n",
        "# keyword argument and default argument\n",
        "# var len argument and keyword len argument (args and kwargs)\n",
        "# high order func and first class func"
      ],
      "metadata": {
        "id": "_ymte0cwa7qt"
      },
      "execution_count": null,
      "outputs": []
    },
    {
      "cell_type": "code",
      "source": [
        "def square(n):\n",
        "    return n * n\n",
        "\n",
        "def apply_function(func, value):\n",
        "    return func(value)  # Calling the passed function\n",
        "\n",
        "print(apply_function(square, 5))"
      ],
      "metadata": {
        "id": "LQkNHhnidiAJ",
        "colab": {
          "base_uri": "https://localhost:8080/"
        },
        "outputId": "90b3da0e-2316-4517-85aa-4db7418c0d20"
      },
      "execution_count": null,
      "outputs": [
        {
          "output_type": "stream",
          "name": "stdout",
          "text": [
            "25\n"
          ]
        }
      ]
    },
    {
      "cell_type": "code",
      "source": [
        "def fun(name, course=\"DSA\"): # 2\n",
        "    print(name,course)\n",
        "    print(name)\n",
        "    print(course)\n",
        "fun(\"prakul\",\"data science\")\n",
        "# # Positional arguments\n",
        "# fun(\"dsa\",\"gfg\" )  # POSITIONAL ARGUMENT\n",
        "# fun(course=\"DSA\",name=\"gfg\") # KEYWORD ARGUMENT\n",
        "# fun(name=\"gfg\",course=\"DSA\")"
      ],
      "metadata": {
        "colab": {
          "base_uri": "https://localhost:8080/"
        },
        "id": "Y-knIOD2OA9Q",
        "outputId": "6e4e8b14-53c5-401f-fece-c50397b1263e"
      },
      "execution_count": null,
      "outputs": [
        {
          "output_type": "stream",
          "name": "stdout",
          "text": [
            "prakul data science\n",
            "prakul\n",
            "data science\n"
          ]
        }
      ]
    },
    {
      "cell_type": "code",
      "source": [
        "def function(*args):\n",
        "  print(*args)\n",
        "  print(type(args))\n",
        "function(1,2,3,4,5,6,7)\n"
      ],
      "metadata": {
        "colab": {
          "base_uri": "https://localhost:8080/"
        },
        "id": "MhDb6lw6OtC2",
        "outputId": "44efe6c1-750e-412c-9386-2e52f8f3821b"
      },
      "execution_count": null,
      "outputs": [
        {
          "output_type": "stream",
          "name": "stdout",
          "text": [
            "1 2 3 4 5 6 7\n",
            "<class 'tuple'>\n"
          ]
        }
      ]
    },
    {
      "cell_type": "code",
      "source": [
        "def function(**kwargs):\n",
        "  print(kwargs)\n",
        "  print(type(kwargs))\n",
        "function(name=\"prakul\",age=26,occupation = \"accountant\")"
      ],
      "metadata": {
        "colab": {
          "base_uri": "https://localhost:8080/"
        },
        "id": "spB2vvnDQUw6",
        "outputId": "cd06b848-f67e-416c-cb79-4af4b783015e"
      },
      "execution_count": null,
      "outputs": [
        {
          "output_type": "stream",
          "name": "stdout",
          "text": [
            "{'name': 'prakul', 'age': 26, 'occupation': 'accountant'}\n",
            "<class 'dict'>\n"
          ]
        }
      ]
    },
    {
      "cell_type": "code",
      "source": [
        "square =  lambda x: x**2"
      ],
      "metadata": {
        "id": "wwZlsDa-Rc1L"
      },
      "execution_count": null,
      "outputs": []
    },
    {
      "cell_type": "code",
      "source": [
        "x=10"
      ],
      "metadata": {
        "id": "HjMLIFv_Rxp-"
      },
      "execution_count": null,
      "outputs": []
    },
    {
      "cell_type": "code",
      "source": [
        "square =  lambda x: x+1\n",
        "print(square(x))"
      ],
      "metadata": {
        "colab": {
          "base_uri": "https://localhost:8080/"
        },
        "id": "yR2D_LHGRyu5",
        "outputId": "1bd12693-8592-4216-9775-907deed7c288"
      },
      "execution_count": null,
      "outputs": [
        {
          "output_type": "stream",
          "name": "stdout",
          "text": [
            "11\n"
          ]
        }
      ]
    },
    {
      "cell_type": "code",
      "source": [
        "# aman mathur\n",
        "# rajat namdi\n",
        "# mehul\n",
        "# gautam jangid\n"
      ],
      "metadata": {
        "id": "IHnjLDL0R0zV"
      },
      "execution_count": 42,
      "outputs": []
    },
    {
      "cell_type": "code",
      "source": [
        "list1= [\"hey\",\"my\",\"name\",\"prakul\"]\n",
        "list1[0],list1[-1]=list1[-1],list1[0]"
      ],
      "metadata": {
        "id": "0-1JGiuNb4o5"
      },
      "execution_count": 43,
      "outputs": []
    },
    {
      "cell_type": "code",
      "source": [
        "list1"
      ],
      "metadata": {
        "colab": {
          "base_uri": "https://localhost:8080/"
        },
        "id": "bDHx3XmKcD5l",
        "outputId": "29bfe94c-f7cf-44a4-dc4a-f5d0f47a60e1"
      },
      "execution_count": 44,
      "outputs": [
        {
          "output_type": "execute_result",
          "data": {
            "text/plain": [
              "['prakul', 'my', 'name', 'hey']"
            ]
          },
          "metadata": {},
          "execution_count": 44
        }
      ]
    },
    {
      "cell_type": "code",
      "source": [
        "\" \".join(list1)"
      ],
      "metadata": {
        "colab": {
          "base_uri": "https://localhost:8080/",
          "height": 36
        },
        "id": "h7_5sVg6cEhR",
        "outputId": "5fbab7d9-3808-4502-def9-054d09fb3eac"
      },
      "execution_count": 45,
      "outputs": [
        {
          "output_type": "execute_result",
          "data": {
            "text/plain": [
              "'prakul my name hey'"
            ],
            "application/vnd.google.colaboratory.intrinsic+json": {
              "type": "string"
            }
          },
          "metadata": {},
          "execution_count": 45
        }
      ]
    },
    {
      "cell_type": "code",
      "source": [
        "mylist= [10,25,14,6,8,1,78,521,8,654,1,2,521]\n",
        "x = list(map(lambda a:a%2==0,mylist))\n",
        "x"
      ],
      "metadata": {
        "colab": {
          "base_uri": "https://localhost:8080/"
        },
        "id": "eiKz53FSckP-",
        "outputId": "eae8ddfe-f4eb-40fb-af61-8ae46a647dae"
      },
      "execution_count": 46,
      "outputs": [
        {
          "output_type": "execute_result",
          "data": {
            "text/plain": [
              "[True,\n",
              " False,\n",
              " True,\n",
              " True,\n",
              " True,\n",
              " False,\n",
              " True,\n",
              " False,\n",
              " True,\n",
              " True,\n",
              " False,\n",
              " True,\n",
              " False]"
            ]
          },
          "metadata": {},
          "execution_count": 46
        }
      ]
    },
    {
      "cell_type": "code",
      "source": [
        "mylist= [10,25,14,6,8,1,78,521,8,654,1,2,521]\n",
        "x = list(filter(lambda a:a%2==0,mylist))\n",
        "x"
      ],
      "metadata": {
        "colab": {
          "base_uri": "https://localhost:8080/"
        },
        "id": "l4T8zhwuhTfI",
        "outputId": "0b6219dd-d602-4dcc-ca91-96cd81359096"
      },
      "execution_count": 47,
      "outputs": [
        {
          "output_type": "execute_result",
          "data": {
            "text/plain": [
              "[10, 14, 6, 8, 78, 8, 654, 2]"
            ]
          },
          "metadata": {},
          "execution_count": 47
        }
      ]
    },
    {
      "cell_type": "code",
      "source": [
        "def generator(a):\n",
        "    yield a\n",
        "for i in generator(10):\n",
        "  print(i)"
      ],
      "metadata": {
        "id": "UM6I10Vghoon",
        "colab": {
          "base_uri": "https://localhost:8080/"
        },
        "outputId": "85e6c51c-dc61-4baa-df16-1d019401b79a"
      },
      "execution_count": 48,
      "outputs": [
        {
          "output_type": "stream",
          "name": "stdout",
          "text": [
            "10\n"
          ]
        }
      ]
    },
    {
      "cell_type": "code",
      "source": [
        "def func():\n",
        "  print(\"return \")\n",
        "  yield 1\n",
        "  yield 4\n",
        "a= func()\n",
        "b= next(a)\n"
      ],
      "metadata": {
        "colab": {
          "base_uri": "https://localhost:8080/"
        },
        "id": "nEZC6lNkfrNI",
        "outputId": "9ae01b59-f63e-405b-e9b0-3815dc6a77f2"
      },
      "execution_count": 49,
      "outputs": [
        {
          "output_type": "stream",
          "name": "stdout",
          "text": [
            "return \n"
          ]
        }
      ]
    },
    {
      "cell_type": "code",
      "source": [
        "print(b)"
      ],
      "metadata": {
        "colab": {
          "base_uri": "https://localhost:8080/"
        },
        "id": "ppYEq0IWgbmk",
        "outputId": "c65467d7-f948-4b76-f754-5b82a9fd7bb4"
      },
      "execution_count": 50,
      "outputs": [
        {
          "output_type": "stream",
          "name": "stdout",
          "text": [
            "1\n"
          ]
        }
      ]
    },
    {
      "cell_type": "code",
      "source": [
        "print(b)\n"
      ],
      "metadata": {
        "colab": {
          "base_uri": "https://localhost:8080/"
        },
        "id": "895uIgFWhRdQ",
        "outputId": "f961df1d-05fc-4097-c99f-4ea9911edd61"
      },
      "execution_count": 51,
      "outputs": [
        {
          "output_type": "stream",
          "name": "stdout",
          "text": [
            "1\n"
          ]
        }
      ]
    },
    {
      "cell_type": "code",
      "source": [
        "for i in range(10):\n",
        "  print(a)"
      ],
      "metadata": {
        "colab": {
          "base_uri": "https://localhost:8080/"
        },
        "id": "73ZgMCLthTWC",
        "outputId": "2e69e28d-a441-421c-c594-425c5a5555e6"
      },
      "execution_count": 52,
      "outputs": [
        {
          "output_type": "stream",
          "name": "stdout",
          "text": [
            "<generator object func at 0x7dac6ba5c580>\n",
            "<generator object func at 0x7dac6ba5c580>\n",
            "<generator object func at 0x7dac6ba5c580>\n",
            "<generator object func at 0x7dac6ba5c580>\n",
            "<generator object func at 0x7dac6ba5c580>\n",
            "<generator object func at 0x7dac6ba5c580>\n",
            "<generator object func at 0x7dac6ba5c580>\n",
            "<generator object func at 0x7dac6ba5c580>\n",
            "<generator object func at 0x7dac6ba5c580>\n",
            "<generator object func at 0x7dac6ba5c580>\n"
          ]
        }
      ]
    },
    {
      "cell_type": "code",
      "source": [
        "print(a)"
      ],
      "metadata": {
        "colab": {
          "base_uri": "https://localhost:8080/"
        },
        "id": "9lZNQE-dhzMG",
        "outputId": "ff52a760-df05-423a-800e-25134095cb4a"
      },
      "execution_count": 53,
      "outputs": [
        {
          "output_type": "stream",
          "name": "stdout",
          "text": [
            "<generator object func at 0x7dac6ba5c580>\n"
          ]
        }
      ]
    },
    {
      "cell_type": "code",
      "source": [
        "def fibo(n):\n",
        "    a,b =0,1\n",
        "    for i in range(n):\n",
        "      yield a\n",
        "      a, b = b, a + b\n",
        "n=10\n",
        "for num in fibo(n):\n",
        "  print(num , end = \" \")"
      ],
      "metadata": {
        "id": "Ee_zQG1biMTI",
        "colab": {
          "base_uri": "https://localhost:8080/"
        },
        "outputId": "d26aa4d9-0269-4658-acac-37f34f51d823"
      },
      "execution_count": 54,
      "outputs": [
        {
          "output_type": "stream",
          "name": "stdout",
          "text": [
            "0 1 1 2 3 5 8 13 21 34 "
          ]
        }
      ]
    },
    {
      "cell_type": "code",
      "source": [
        "# decorators= it is a design patter which allows us to add a functionalaty to a object without modifing the structure\n",
        "# a is basically a pattern which is used for the behaviour of the function     without changing the code\n",
        "# variable scope / closure closure are basically a function that remember the enviroment of outer function (agr mere pass nested function h toh ye bhr wale function ki value le sakta h) any inner function can access outer variables even the outer function is closed"
      ],
      "metadata": {
        "id": "bcTUq2gqjb53"
      },
      "execution_count": 55,
      "outputs": []
    },
    {
      "cell_type": "code",
      "source": [
        "def func_add(func):\n",
        "  def one():\n",
        "    result = func()\n",
        "    # print(\"inside one value =>\", result.upper())\n",
        "    return result.upper()\n",
        "  return one\n"
      ],
      "metadata": {
        "id": "oSOrp90dnXrl"
      },
      "execution_count": 113,
      "outputs": []
    },
    {
      "cell_type": "code",
      "source": [
        "@func_add\n",
        "def test():\n",
        "  return \" Prakul\""
      ],
      "metadata": {
        "id": "JEECDbeOn8_P"
      },
      "execution_count": 114,
      "outputs": []
    },
    {
      "cell_type": "code",
      "source": [
        "print(test())"
      ],
      "metadata": {
        "colab": {
          "base_uri": "https://localhost:8080/"
        },
        "id": "q4Q92XW0tZrA",
        "outputId": "1f7cd2c8-04be-4887-c8b5-12b6da53d401"
      },
      "execution_count": 115,
      "outputs": [
        {
          "output_type": "stream",
          "name": "stdout",
          "text": [
            " PRAKUL\n"
          ]
        }
      ]
    },
    {
      "cell_type": "code",
      "source": [],
      "metadata": {
        "id": "7__0BU9rrAZD"
      },
      "execution_count": 83,
      "outputs": []
    }
  ]
}