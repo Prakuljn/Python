{
  "nbformat": 4,
  "nbformat_minor": 0,
  "metadata": {
    "colab": {
      "provenance": [],
      "authorship_tag": "ABX9TyOXTOF2aew+fJNqVJn0hLe2",
      "include_colab_link": true
    },
    "kernelspec": {
      "name": "python3",
      "display_name": "Python 3"
    },
    "language_info": {
      "name": "python"
    }
  },
  "cells": [
    {
      "cell_type": "markdown",
      "metadata": {
        "id": "view-in-github",
        "colab_type": "text"
      },
      "source": [
        "<a href=\"https://colab.research.google.com/github/Prakuljn/Python-Assignment/blob/main/function.ipynb\" target=\"_parent\"><img src=\"https://colab.research.google.com/assets/colab-badge.svg\" alt=\"Open In Colab\"/></a>"
      ]
    },
    {
      "cell_type": "code",
      "execution_count": 1,
      "metadata": {
        "id": "Gg20C_kxP4S9"
      },
      "outputs": [],
      "source": [
        "# function\n",
        "# require argument\n",
        "# positional argument\n",
        "# keyword argument\n",
        "# default argument => function declaration\n"
      ]
    },
    {
      "cell_type": "code",
      "source": [
        "def func (name,empid):\n",
        "  print(name , empid)\n",
        "func(\"prakul\" ,100)"
      ],
      "metadata": {
        "colab": {
          "base_uri": "https://localhost:8080/"
        },
        "id": "2AcLoloIUf0s",
        "outputId": "42cea987-b4b9-4527-9fd5-1f2d3e08739e"
      },
      "execution_count": 3,
      "outputs": [
        {
          "output_type": "stream",
          "name": "stdout",
          "text": [
            "prakul 100\n"
          ]
        }
      ]
    },
    {
      "cell_type": "code",
      "source": [
        "def func (name,empid):\n",
        "  print(name , empid)\n",
        "func(empid=100,name=\"prakul\")"
      ],
      "metadata": {
        "colab": {
          "base_uri": "https://localhost:8080/"
        },
        "id": "ffLwtGiqU2eZ",
        "outputId": "af596753-7eb2-4737-dfd1-3926d70e333b"
      },
      "execution_count": 12,
      "outputs": [
        {
          "output_type": "stream",
          "name": "stdout",
          "text": [
            "prakul 100\n"
          ]
        }
      ]
    },
    {
      "cell_type": "code",
      "source": [
        "# variable length argument (*var)=the length of argument vary or change according by userr is called variable length argument\n",
        "# also known as *args\n",
        "def func (*data):\n",
        "  print(data)\n",
        "func(65654,654,6554,645654,64,65,46,46,4,64,654,6,465,5165,132)# store value in tuple"
      ],
      "metadata": {
        "colab": {
          "base_uri": "https://localhost:8080/"
        },
        "id": "uc_WutuHU9Kb",
        "outputId": "679dbd0f-5d91-49ad-af24-1fd8789d60e1"
      },
      "execution_count": 14,
      "outputs": [
        {
          "output_type": "stream",
          "name": "stdout",
          "text": [
            "(65654, 654, 6554, 645654, 64, 65, 46, 46, 4, 64, 654, 6, 465, 5165, 132)\n"
          ]
        }
      ]
    },
    {
      "cell_type": "code",
      "source": [
        "# keyword variable length argument (**var)= ## also known as **kwargs main interwies question\n",
        "def func (**kwargs):\n",
        "  print(kwargs)\n",
        "func(eid=[] ,name=\"prakul\",salary=10000)# store value in dictionary"
      ],
      "metadata": {
        "colab": {
          "base_uri": "https://localhost:8080/"
        },
        "id": "sVk7wKKwWUS0",
        "outputId": "2b5d3c81-9b09-4d33-858b-8a9619521d17"
      },
      "execution_count": 20,
      "outputs": [
        {
          "output_type": "stream",
          "name": "stdout",
          "text": [
            "{'eid': [], 'name': 'prakul', 'salary': 10000}\n"
          ]
        }
      ]
    },
    {
      "cell_type": "code",
      "source": [
        "# first class function and high order function\n",
        "def func (name,empid):\n",
        "  print(name , empid)\n",
        "y=func(empid=100,name=\"prakul\")\n",
        "print(y)"
      ],
      "metadata": {
        "colab": {
          "base_uri": "https://localhost:8080/"
        },
        "id": "JX3lGyjPXBoP",
        "outputId": "76799c02-6521-481c-fa7e-ea3f3435ae5d"
      },
      "execution_count": 22,
      "outputs": [
        {
          "output_type": "stream",
          "name": "stdout",
          "text": [
            "prakul 100\n",
            "None\n"
          ]
        }
      ]
    },
    {
      "cell_type": "code",
      "source": [
        "# first class function and high order function\n",
        "def func (name,empid):\n",
        "  return (name , empid)\n",
        "y=func(empid=100,name=\"prakul\")\n",
        "print(y)"
      ],
      "metadata": {
        "colab": {
          "base_uri": "https://localhost:8080/"
        },
        "id": "3burGtYPYoaw",
        "outputId": "fc3c4393-628b-414e-adb0-92c845d75aff"
      },
      "execution_count": 23,
      "outputs": [
        {
          "output_type": "stream",
          "name": "stdout",
          "text": [
            "('prakul', 100)\n"
          ]
        }
      ]
    },
    {
      "cell_type": "code",
      "source": [
        "# first class function and high order function\n",
        "def func (name,empid):\n",
        "  return (name , empid)\n",
        "print(func(empid=100,name=\"prakul\"))\n"
      ],
      "metadata": {
        "colab": {
          "base_uri": "https://localhost:8080/"
        },
        "id": "m4DrOrGiY3RM",
        "outputId": "eed79ab7-a697-4235-8dc4-2a232a1c5b12"
      },
      "execution_count": 25,
      "outputs": [
        {
          "output_type": "stream",
          "name": "stdout",
          "text": [
            "('prakul', 100)\n"
          ]
        }
      ]
    },
    {
      "cell_type": "code",
      "source": [
        "# first class function\n",
        "# Assigned to Variables: We can assign functions to variables.\n",
        "# Passed as Arguments: We can pass functions as arguments to other functions.\n",
        "# Returned from Functions: Functions can return other functions.\n",
        "# Stored in Data Structures: Functions can be stored in data structures such as lists, dictionaries, etc.\n"
      ],
      "metadata": {
        "id": "NUePyUwbaB-j"
      },
      "execution_count": 26,
      "outputs": []
    },
    {
      "cell_type": "code",
      "source": [
        "def func ():\n",
        "  print(\"name\")\n",
        "y=func # here we have assign a function to a variable\n",
        "func()\n",
        "y()"
      ],
      "metadata": {
        "colab": {
          "base_uri": "https://localhost:8080/"
        },
        "id": "4zKe-aEFbMvY",
        "outputId": "ed72ca54-0181-4ad4-c691-43f1a1ff7c19"
      },
      "execution_count": 29,
      "outputs": [
        {
          "output_type": "stream",
          "name": "stdout",
          "text": [
            "name\n",
            "name\n"
          ]
        }
      ]
    },
    {
      "cell_type": "code",
      "source": [
        "def sum(a,b):\n",
        "  print(a+b)\n",
        "\n",
        "\n",
        "\n",
        "def print_statement(x,y):\n",
        "  print(x,y)\n",
        "\n",
        "sum(4,5)\n",
        "\n",
        "print_statement(4,sum(2,3))   # here We can pass functions as arguments to other functions."
      ],
      "metadata": {
        "colab": {
          "base_uri": "https://localhost:8080/"
        },
        "id": "yMEXLUz9bzg_",
        "outputId": "7f099e23-dd97-4ff7-e267-19f4b643f2a2"
      },
      "execution_count": 32,
      "outputs": [
        {
          "output_type": "stream",
          "name": "stdout",
          "text": [
            "9\n",
            "5\n",
            "4 None\n"
          ]
        }
      ]
    },
    {
      "cell_type": "code",
      "source": [
        "def sum(a,b):\n",
        "  print(a+b)\n",
        "\n",
        "\n",
        "\n",
        "def print_statement(x,y):\n",
        "  print(x,y)\n",
        "  y(4,5)\n",
        "\n",
        "sum(4,5)\n",
        "\n",
        "print_statement(4,sum) # here Functions can return other functions."
      ],
      "metadata": {
        "colab": {
          "base_uri": "https://localhost:8080/"
        },
        "id": "aGIyZwG_dbh4",
        "outputId": "292bc8ef-fd63-4aab-f39c-7028e6e0dbeb"
      },
      "execution_count": 36,
      "outputs": [
        {
          "output_type": "stream",
          "name": "stdout",
          "text": [
            "9\n",
            "4 <function sum at 0x7a9c04713c40>\n",
            "9\n"
          ]
        }
      ]
    },
    {
      "cell_type": "code",
      "source": [
        "# high order function\n",
        "# Takes another function as an argument.\n",
        "# Returns another function as its result.\n",
        "# all high order function are first class order but vice versa is not possible"
      ],
      "metadata": {
        "id": "ji4Wz8t8dvJi"
      },
      "execution_count": 38,
      "outputs": []
    },
    {
      "cell_type": "code",
      "source": [
        "# leetcode\n",
        "# threesum\n",
        "# two sum two\n",
        "# best to buy and sell stock\n"
      ],
      "metadata": {
        "id": "tx6Qcxa_haZT"
      },
      "execution_count": 39,
      "outputs": []
    },
    {
      "cell_type": "code",
      "source": [
        "#"
      ],
      "metadata": {
        "id": "hTMpAoE_h2iz"
      },
      "execution_count": null,
      "outputs": []
    }
  ]
}