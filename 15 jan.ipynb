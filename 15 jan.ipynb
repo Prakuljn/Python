{
  "nbformat": 4,
  "nbformat_minor": 0,
  "metadata": {
    "colab": {
      "provenance": [],
      "authorship_tag": "ABX9TyND4WQBlngwgsMDlzvZRcCp"
    },
    "kernelspec": {
      "name": "python3",
      "display_name": "Python 3"
    },
    "language_info": {
      "name": "python"
    }
  },
  "cells": [
    {
      "cell_type": "code",
      "source": [
        "for i in range(1,6):\n",
        "  for j in range(i,5):\n",
        "    print(\" \",end=\"\")\n",
        "  for k in range (1,i+1):\n",
        "    print(\"*\", end=\" \")\n",
        "  print(\" \")"
      ],
      "metadata": {
        "colab": {
          "base_uri": "https://localhost:8080/"
        },
        "id": "PnSqoHT5XkEV",
        "outputId": "73940ab3-e8d5-4d96-ff70-7729484391b6"
      },
      "execution_count": 21,
      "outputs": [
        {
          "output_type": "stream",
          "name": "stdout",
          "text": [
            "    *  \n",
            "   * *  \n",
            "  * * *  \n",
            " * * * *  \n",
            "* * * * *  \n"
          ]
        }
      ]
    },
    {
      "cell_type": "code",
      "source": [
        "for i in range(5,0,-1):\n",
        "  for j in range(i,5):\n",
        "    print(\" \",end=\"\")\n",
        "  for k in range (1,i+1):\n",
        "    print(\"*\", end=\" \")\n",
        "  print(\" \")"
      ],
      "metadata": {
        "colab": {
          "base_uri": "https://localhost:8080/"
        },
        "id": "08mf_mtKYVCd",
        "outputId": "d3a56c7c-e1e5-4eaa-954e-a42dc69f2441"
      },
      "execution_count": 22,
      "outputs": [
        {
          "output_type": "stream",
          "name": "stdout",
          "text": [
            "* * * * *  \n",
            " * * * *  \n",
            "  * * *  \n",
            "   * *  \n",
            "    *  \n"
          ]
        }
      ]
    },
    {
      "cell_type": "code",
      "source": [
        "for i in range(1,6):\n",
        "  a=65\n",
        "  for j in range(i,5):\n",
        "    print(\" \",end=\"\")\n",
        "  for k in range (1,i+1):\n",
        "    print(chr(a), end=\" \")\n",
        "    a+=1\n",
        "  print(\" \")"
      ],
      "metadata": {
        "colab": {
          "base_uri": "https://localhost:8080/"
        },
        "id": "xFAVMJQKZBNM",
        "outputId": "b91f508a-4d71-4d7f-bbf4-64dc1199fd79"
      },
      "execution_count": 26,
      "outputs": [
        {
          "output_type": "stream",
          "name": "stdout",
          "text": [
            "    A  \n",
            "   A B  \n",
            "  A B C  \n",
            " A B C D  \n",
            "A B C D E  \n"
          ]
        }
      ]
    },
    {
      "cell_type": "code",
      "source": [
        "a=65\n",
        "for i in range(1,6):\n",
        "  for j in range(i,5):\n",
        "    print(\" \",end=\"\")\n",
        "  for k in range (1,i+1):\n",
        "    print(chr(a), end=\" \")\n",
        "    a+=1\n",
        "  print(\" \")"
      ],
      "metadata": {
        "colab": {
          "base_uri": "https://localhost:8080/"
        },
        "id": "WHRORxczaADY",
        "outputId": "f8da4823-0e9c-4697-bbe1-4ad812dfe0ee"
      },
      "execution_count": 27,
      "outputs": [
        {
          "output_type": "stream",
          "name": "stdout",
          "text": [
            "    A  \n",
            "   B C  \n",
            "  D E F  \n",
            " G H I J  \n",
            "K L M N O  \n"
          ]
        }
      ]
    },
    {
      "cell_type": "code",
      "source": [
        "for i in range(1,6):\n",
        "  for j in range(1,i+1):\n",
        "    if(i==j or j==1 or i==5):\n",
        "      print(\"*\",end=\" \")\n",
        "    else:\n",
        "      print(\" \",end=\" \")\n",
        "  print()\n"
      ],
      "metadata": {
        "colab": {
          "base_uri": "https://localhost:8080/"
        },
        "id": "ArplEjZ3aV-w",
        "outputId": "4df89a27-318f-4bc1-a45e-1fd5646692d3"
      },
      "execution_count": 45,
      "outputs": [
        {
          "output_type": "stream",
          "name": "stdout",
          "text": [
            "* \n",
            "* * \n",
            "*   * \n",
            "*     * \n",
            "* * * * * \n"
          ]
        }
      ]
    },
    {
      "cell_type": "code",
      "source": [
        "for i in range(1,6):\n",
        "  for j in range(i,5):\n",
        "    print(\" \",end=\"\")\n",
        "  for k in range (1,i+1):\n",
        "    if(k==1 or i==5 or i==k):\n",
        "      print(\"*\", end=\" \")\n",
        "    else:\n",
        "      print(\" \",end=\" \")\n",
        "  print(\" \")"
      ],
      "metadata": {
        "colab": {
          "base_uri": "https://localhost:8080/"
        },
        "id": "cnwmNgtAcIAP",
        "outputId": "2f7fa517-9aa1-4429-fc96-0f5a92ae1940"
      },
      "execution_count": 60,
      "outputs": [
        {
          "output_type": "stream",
          "name": "stdout",
          "text": [
            "    *  \n",
            "   * *  \n",
            "  *   *  \n",
            " *     *  \n",
            "* * * * *  \n"
          ]
        }
      ]
    },
    {
      "cell_type": "code",
      "source": [
        "a=1\n",
        "for i in range(1,6):\n",
        "  for j in range(i,5):\n",
        "    print(\" \",end=\"\")\n",
        "  for k in range (1,i+1):\n",
        "    if(k==1 or i==5 or i==k):\n",
        "      print(a, end=\" \")\n",
        "    else:\n",
        "      print(\" \",end=\" \")\n",
        "    a+=1\n",
        "  print(\" \")"
      ],
      "metadata": {
        "colab": {
          "base_uri": "https://localhost:8080/"
        },
        "id": "ico_IjmPef0E",
        "outputId": "75cd4e28-567d-4f34-dded-2741ddc27e71"
      },
      "execution_count": 62,
      "outputs": [
        {
          "output_type": "stream",
          "name": "stdout",
          "text": [
            "    1  \n",
            "   2 3  \n",
            "  4   6  \n",
            " 7     10  \n",
            "11 12 13 14 15  \n"
          ]
        }
      ]
    },
    {
      "cell_type": "code",
      "source": [
        "# list = it is a data type which store multiple values in square brackets \"[]\"\n",
        "# it is a collection of elements and also based on index working\n",
        "# it is a mutuable sata type\n",
        "# it is also called sequence data type\n",
        "# it store every type of data\n",
        "# such as\n",
        "x=[\"a\",12,True,12.5]\n",
        "print(type(x))"
      ],
      "metadata": {
        "colab": {
          "base_uri": "https://localhost:8080/"
        },
        "id": "63AsFhMOgO9R",
        "outputId": "86e3e6cf-04cd-4085-8eb8-2fbf18c0322d"
      },
      "execution_count": 65,
      "outputs": [
        {
          "output_type": "stream",
          "name": "stdout",
          "text": [
            "<class 'list'>\n"
          ]
        }
      ]
    },
    {
      "cell_type": "code",
      "source": [
        "a =[10,12,15,42,15]\n",
        "a[0]=14\n",
        "print(a)\n",
        "print(type(x[1]))"
      ],
      "metadata": {
        "colab": {
          "base_uri": "https://localhost:8080/"
        },
        "id": "eViWJti2hoPR",
        "outputId": "d553c3f7-a571-4456-a247-9cf930129b3f"
      },
      "execution_count": 69,
      "outputs": [
        {
          "output_type": "stream",
          "name": "stdout",
          "text": [
            "[14, 12, 15, 42, 15]\n",
            "<class 'int'>\n"
          ]
        }
      ]
    },
    {
      "cell_type": "code",
      "source": [
        "a =[10,12,15,42,15]\n",
        "a[0]=14\n",
        "a.append(23)\n",
        "a.extend((\"hello\"))\n",
        "a.extend(([\"hello\",46,10.3235]))\n",
        "print(a)\n",
        "print(type(x[1]))"
      ],
      "metadata": {
        "colab": {
          "base_uri": "https://localhost:8080/"
        },
        "id": "EqixHjgkh9rl",
        "outputId": "10039503-9809-4950-bedd-d710fd99bb50"
      },
      "execution_count": 73,
      "outputs": [
        {
          "output_type": "stream",
          "name": "stdout",
          "text": [
            "[14, 12, 15, 42, 15, 23, 'h', 'e', 'l', 'l', 'o', 'hello', 46, 10.3235]\n",
            "<class 'int'>\n"
          ]
        }
      ]
    },
    {
      "cell_type": "code",
      "source": [
        "a =[10,12,15,42,15]\n",
        "a[0]=14\n",
        "a.append(23)\n",
        "a.insert(2,\"jj\")\n",
        "a.extend((\"hello\"))\n",
        "a.extend(([\"hello\",46,10.3235]))\n",
        "c=a.pop()\n",
        "a.remove(15)\n",
        "q= 0\n",
        "for i in a:\n",
        "  q+=1\n",
        "print(q)\n",
        "print(a)\n",
        "print(c)\n",
        "print(type(x[1]))"
      ],
      "metadata": {
        "colab": {
          "base_uri": "https://localhost:8080/"
        },
        "id": "VaHElzqHiNdB",
        "outputId": "e3e78e47-f64a-474b-fa57-f3695a74c483"
      },
      "execution_count": 79,
      "outputs": [
        {
          "output_type": "stream",
          "name": "stdout",
          "text": [
            "13\n",
            "[14, 12, 'jj', 42, 15, 23, 'h', 'e', 'l', 'l', 'o', 'hello', 46]\n",
            "10.3235\n",
            "<class 'int'>\n"
          ]
        }
      ]
    },
    {
      "cell_type": "code",
      "source": [
        "a=[14, 12, 'jj', 42, 15, 23, 'h', 'e', 'l', 'l', 'o', 'hello', 46]\n",
        "for i in a:\n",
        "  if (type(i)==int):\n",
        "    print(i)\n"
      ],
      "metadata": {
        "colab": {
          "base_uri": "https://localhost:8080/"
        },
        "id": "ilvqhBUIj-9z",
        "outputId": "13484ffa-d133-41d9-c63c-a482a1ec6c3f"
      },
      "execution_count": 81,
      "outputs": [
        {
          "output_type": "stream",
          "name": "stdout",
          "text": [
            "14\n",
            "12\n",
            "42\n",
            "15\n",
            "23\n",
            "46\n"
          ]
        }
      ]
    },
    {
      "cell_type": "code",
      "source": [
        "lst = [5, 10, 15, 20]\n",
        "total = 0\n",
        "for i in lst:\n",
        "    total += i / 2\n",
        "print(total)"
      ],
      "metadata": {
        "colab": {
          "base_uri": "https://localhost:8080/"
        },
        "id": "E-WfILSUrxhj",
        "outputId": "a2bd4309-e891-4f59-ba16-bd28f4fc7f1e"
      },
      "execution_count": 82,
      "outputs": [
        {
          "output_type": "stream",
          "name": "stdout",
          "text": [
            "25.0\n"
          ]
        }
      ]
    },
    {
      "cell_type": "code",
      "source": [
        "\n",
        "\n",
        "x = 0\n",
        "for i in range(1, 6):\n",
        "    for j in range(i):\n",
        "        x += i\n",
        "print(x)"
      ],
      "metadata": {
        "colab": {
          "base_uri": "https://localhost:8080/"
        },
        "id": "_oXdIwljry0X",
        "outputId": "3c4bfdbc-1c29-44de-b682-026ca24531aa"
      },
      "execution_count": 83,
      "outputs": [
        {
          "output_type": "stream",
          "name": "stdout",
          "text": [
            "55\n"
          ]
        }
      ]
    },
    {
      "cell_type": "code",
      "source": [
        "x = 0\n",
        "for i in range(3, 0, -1):\n",
        "    for j in range(1, 4):\n",
        "        if i == 2:\n",
        "            break\n",
        "        x += i\n",
        "print(x)"
      ],
      "metadata": {
        "colab": {
          "base_uri": "https://localhost:8080/"
        },
        "id": "fkwGAdX0sG5I",
        "outputId": "4d72901c-18af-47fd-f459-2611c960394f"
      },
      "execution_count": 84,
      "outputs": [
        {
          "output_type": "stream",
          "name": "stdout",
          "text": [
            "12\n"
          ]
        }
      ]
    },
    {
      "cell_type": "code",
      "source": [
        "lst = [5, 10, 15, 20]\n",
        "total = 0\n",
        "for i in lst:\n",
        "    total += i / 2\n",
        "print(total)"
      ],
      "metadata": {
        "colab": {
          "base_uri": "https://localhost:8080/"
        },
        "id": "ndOGLZdCsLsD",
        "outputId": "1227d531-65c4-4d66-a119-a32a9d661218"
      },
      "execution_count": 85,
      "outputs": [
        {
          "output_type": "stream",
          "name": "stdout",
          "text": [
            "25.0\n"
          ]
        }
      ]
    },
    {
      "cell_type": "code",
      "source": [],
      "metadata": {
        "id": "AQ-D5NeXsPt6"
      },
      "execution_count": null,
      "outputs": []
    }
  ]
}