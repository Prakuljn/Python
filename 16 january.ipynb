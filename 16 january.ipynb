{
  "nbformat": 4,
  "nbformat_minor": 0,
  "metadata": {
    "colab": {
      "provenance": [],
      "authorship_tag": "ABX9TyMmtdMhiRef6sVIIEpUdDGq",
      "include_colab_link": true
    },
    "kernelspec": {
      "name": "python3",
      "display_name": "Python 3"
    },
    "language_info": {
      "name": "python"
    }
  },
  "cells": [
    {
      "cell_type": "markdown",
      "metadata": {
        "id": "view-in-github",
        "colab_type": "text"
      },
      "source": [
        "<a href=\"https://colab.research.google.com/github/Prakuljn/Python-Assignment/blob/main/16%20january.ipynb\" target=\"_parent\"><img src=\"https://colab.research.google.com/assets/colab-badge.svg\" alt=\"Open In Colab\"/></a>"
      ]
    },
    {
      "cell_type": "code",
      "execution_count": 20,
      "metadata": {
        "colab": {
          "base_uri": "https://localhost:8080/"
        },
        "id": "oRAMRohCfjyB",
        "outputId": "2f2e1eec-38df-42ba-88d3-a45ba18d1a9c"
      },
      "outputs": [
        {
          "output_type": "stream",
          "name": "stdout",
          "text": [
            "20\n",
            "7\n",
            "[20, 7]\n"
          ]
        }
      ],
      "source": [
        "a=[]\n",
        "mylist=[10,20,4,7,5,12]\n",
        "for i in range (0,len(mylist)-1):\n",
        "  if(mylist[i]>mylist[i+1]):\n",
        "    print(mylist[i])\n",
        "    a.append(mylist[i])\n",
        "print(a)"
      ]
    },
    {
      "cell_type": "code",
      "source": [
        "mylist=[20,40,60,7,4,100,80]\n",
        "a=0\n",
        "for i in range (0,len(mylist)):\n",
        "  if(a<mylist[i]):\n",
        "    a=mylist[i]\n",
        "print(a)"
      ],
      "metadata": {
        "colab": {
          "base_uri": "https://localhost:8080/"
        },
        "id": "RUqYDCORhgiS",
        "outputId": "b22a5640-eb65-4108-e0cf-6788e202ea2e"
      },
      "execution_count": 17,
      "outputs": [
        {
          "output_type": "stream",
          "name": "stdout",
          "text": [
            "100\n"
          ]
        }
      ]
    },
    {
      "cell_type": "code",
      "source": [
        "temp=0\n",
        "mylist=[20,40,60,7,4,100,80,809]\n",
        "for i in range(0,len(mylist)):\n",
        "  for j in range(i+1,len(mylist)):\n",
        "    print(mylist[i],mylist[j])\n",
        "    if(mylist[i]>mylist[j]):\n",
        "      temp=mylist[j]\n",
        "      mylist[j]=mylist[i]\n",
        "      mylist[j]=temp\n",
        "print(temp)"
      ],
      "metadata": {
        "colab": {
          "base_uri": "https://localhost:8080/"
        },
        "id": "-9fHWQuGnFnl",
        "outputId": "4583194b-469b-41f9-b9bd-597f43fe4ab3"
      },
      "execution_count": 35,
      "outputs": [
        {
          "output_type": "stream",
          "name": "stdout",
          "text": [
            "20 40\n",
            "20 60\n",
            "20 7\n",
            "20 4\n",
            "20 100\n",
            "20 80\n",
            "20 809\n",
            "40 60\n",
            "40 7\n",
            "40 4\n",
            "40 100\n",
            "40 80\n",
            "40 809\n",
            "60 7\n",
            "60 4\n",
            "60 100\n",
            "60 80\n",
            "60 809\n",
            "7 4\n",
            "7 100\n",
            "7 80\n",
            "7 809\n",
            "4 100\n",
            "4 80\n",
            "4 809\n",
            "100 80\n",
            "100 809\n",
            "80 809\n",
            "80\n"
          ]
        }
      ]
    },
    {
      "cell_type": "code",
      "source": [
        "mylist=[10,30,50,700,60,100]\n",
        "x=mylist[0]\n",
        "y=0\n",
        "for i in range(0,len(mylist)):\n",
        "  if(x<mylist[i]):\n",
        "    y=x\n",
        "    x=mylist[i]\n",
        "  else:\n",
        "    y=mylist[i]\n",
        "print(x,y)\n",
        "print(y)"
      ],
      "metadata": {
        "colab": {
          "base_uri": "https://localhost:8080/"
        },
        "id": "YQFgDVngnwZq",
        "outputId": "0ac6e452-c2dc-44cd-841e-83392c11d117"
      },
      "execution_count": 58,
      "outputs": [
        {
          "output_type": "stream",
          "name": "stdout",
          "text": [
            "700 100\n",
            "100\n"
          ]
        }
      ]
    },
    {
      "cell_type": "code",
      "source": [
        "mylist=[20,40,60,7,4,100,800]\n",
        "highest=0\n",
        "for i in range (0,len(mylist)):\n",
        "  if(highest<mylist[i]):\n",
        "    second_highest=highest\n",
        "    highest=mylist[i]\n",
        "  else:\n",
        "    second_highest=mylist[i]\n",
        "print(second_highest)\n"
      ],
      "metadata": {
        "colab": {
          "base_uri": "https://localhost:8080/"
        },
        "id": "Gc8Pj2ldquTQ",
        "outputId": "fbc5aea0-19dc-485c-8114-3dc4731bc309"
      },
      "execution_count": 65,
      "outputs": [
        {
          "output_type": "stream",
          "name": "stdout",
          "text": [
            "100\n"
          ]
        }
      ]
    },
    {
      "cell_type": "code",
      "source": [
        "k=13\n",
        "mylist=[0,1,2,4,6,8,9,11]\n",
        "for i in range(0,len(mylist)):\n",
        "  for j in range(i,len(mylist)):\n",
        "    if(mylist[i]+mylist[j]==k):\n",
        "      print(mylist[i],\"+\",mylist[j],\"=\",k)"
      ],
      "metadata": {
        "colab": {
          "base_uri": "https://localhost:8080/"
        },
        "id": "BLFvA1q4uIC7",
        "outputId": "504a5663-a60e-45fd-87f5-24d6c900e05f"
      },
      "execution_count": 80,
      "outputs": [
        {
          "output_type": "stream",
          "name": "stdout",
          "text": [
            "2 + 11 = 13\n",
            "4 + 9 = 13\n"
          ]
        }
      ]
    },
    {
      "cell_type": "code",
      "source": [
        "#time complexity\n",
        "#how to calculate time complexity for for loop\n",
        "#what is enumerate vs zip function (interview)\n",
        "#what is dictionary and uses of dictionary"
      ],
      "metadata": {
        "id": "ggwGdcqhvqWc"
      },
      "execution_count": 81,
      "outputs": []
    },
    {
      "cell_type": "code",
      "source": [
        "k=13\n",
        "mylist=[0,1,2,4,6,8,9,11]\n",
        "sum=mylist[0]\n",
        "for i in range(1,len(mylist)):\n",
        "  if(sum+mylist[i]==k):\n",
        "    print(sum,\"+\",mylist[i],\"=\",k)\n",
        "  else:\n",
        "    sum=mylist[i]"
      ],
      "metadata": {
        "id": "Qu1fpMjEyQXo"
      },
      "execution_count": 87,
      "outputs": []
    },
    {
      "cell_type": "code",
      "source": [],
      "metadata": {
        "id": "pJE1LGfPyzd8"
      },
      "execution_count": 86,
      "outputs": []
    }
  ]
}