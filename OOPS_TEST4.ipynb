{
  "nbformat": 4,
  "nbformat_minor": 0,
  "metadata": {
    "colab": {
      "provenance": [],
      "authorship_tag": "ABX9TyNW7d72O1Im0sc90dMzB0yY",
      "include_colab_link": true
    },
    "kernelspec": {
      "name": "python3",
      "display_name": "Python 3"
    },
    "language_info": {
      "name": "python"
    }
  },
  "cells": [
    {
      "cell_type": "markdown",
      "metadata": {
        "id": "view-in-github",
        "colab_type": "text"
      },
      "source": [
        "<a href=\"https://colab.research.google.com/github/Prakuljn/Python-Assignment/blob/main/OOPS_TEST4.ipynb\" target=\"_parent\"><img src=\"https://colab.research.google.com/assets/colab-badge.svg\" alt=\"Open In Colab\"/></a>"
      ]
    },
    {
      "cell_type": "code",
      "execution_count": null,
      "metadata": {
        "colab": {
          "base_uri": "https://localhost:8080/"
        },
        "id": "L8ckCP70S3tv",
        "outputId": "8ac12df5-736d-40e2-b7df-28c6cbee60db"
      },
      "outputs": [
        {
          "output_type": "stream",
          "name": "stdout",
          "text": [
            "['vineet', ['coding while driving', 'no helmet', 'shouting while coding'], 50000]\n",
            "['anmol', ['overspeed', 'no helmet'], 500] with total 2 violation \n",
            "['gurusewak', ['no helmet'], 200] with total 1 violation \n",
            "['vineet', ['coding while driving', 'no helmet', 'shouting while coding'], 50000] with total 3 violation \n",
            "['anshul', ['bike without seatbelt'], 100] with total 1 violation \n",
            "None\n",
            "{'overspeed': 1, 'no helmet': 3, 'coding while driving': 1, 'shouting while coding': 1, 'bike without seatbelt': 1}\n"
          ]
        }
      ],
      "source": [
        "def highfine(dict1):\n",
        "  a=0\n",
        "  b=[]\n",
        "  for i in dict1.values():\n",
        "    if i[2]>a:\n",
        "      a=i[2]\n",
        "      b=i\n",
        "  return b\n",
        "def violation(dict1):\n",
        "  for i in dict1.values():\n",
        "    print( i, \"with total\" ,len(i[1]), \"violation \")\n",
        "def common_violation(dict1):\n",
        "  dict2={}\n",
        "  for i in dict1.values():\n",
        "    for j in i[1]:\n",
        "      if j not in dict2:\n",
        "        dict2[j]=1\n",
        "      else:\n",
        "        dict2[j]+=1\n",
        "  return dict2\n",
        "dict1={2461:[\"anmol\",[\"overspeed\",\"no helmet\"],500],\n",
        "       4561:[\"gurusewak\",[\"no helmet\"],200],\n",
        "       7452:[\"vineet\",[\"coding while driving\",\"no helmet\",\"shouting while coding\"],50000],\n",
        "       1235:[\"anshul\",[\"bike without seatbelt\"],100]}\n",
        "print(highfine(dict1))\n",
        "print(violation(dict1))\n",
        "print(common_violation(dict1))"
      ]
    },
    {
      "cell_type": "code",
      "source": [
        "def available_item(available_items,sold_out_items):\n",
        "  list1=list(available_items)\n",
        "  for i in list1:\n",
        "    if i in sold_out_items:\n",
        "      list1.remove(i)\n",
        "  return \"avalilable items\",list1\n",
        "def cart():\n",
        "  cart=[\"bread\",\"milk\"]\n",
        "  return \"your cart\", cart\n",
        "available_items={\"milk\",\"bread\",\"egg\",\"rice\",\"sugar\"}\n",
        "sold_out_items={\"egg\",\"sugar\"}\n",
        "a=list(available_item(available_items,sold_out_items))\n",
        "def check(a):\n",
        "  b = input (\"item to check  \")\n",
        "  if b in a:\n",
        "    return \"yupsss\"\n",
        "  else:\n",
        "    return \"nope\"\n",
        "print(a)\n",
        "print(cart())\n",
        "print(check(a))"
      ],
      "metadata": {
        "colab": {
          "base_uri": "https://localhost:8080/"
        },
        "id": "rv_B69VKT5uU",
        "outputId": "f6b3e923-8857-4595-8e10-393cf5c2920c"
      },
      "execution_count": null,
      "outputs": [
        {
          "output_type": "stream",
          "name": "stdout",
          "text": [
            "['avalilable items', ['milk', 'rice', 'bread']]\n",
            "('your cart', ['bread', 'milk'])\n",
            "item to checkmilk\n",
            "nope\n"
          ]
        }
      ]
    },
    {
      "cell_type": "code",
      "source": [
        "def trending(list1):\n",
        "  a=0\n",
        "  b=[]\n",
        "  c=[]\n",
        "  d=[]\n",
        "  for i in list1:\n",
        "    if i[1]>a:\n",
        "      a=i[1]\n",
        "      d=c\n",
        "      c=b\n",
        "      b=i\n",
        "  return \"top three trend\",b,d,c\n",
        "def lowest(list1):\n",
        "  a=0\n",
        "  b=[]\n",
        "  c=[]\n",
        "  d=[]\n",
        "  for i in list1:\n",
        "    if i[1]<a:\n",
        "      a=i[1]\n",
        "      d=c\n",
        "      c=b\n",
        "      b=i\n",
        "  return \"lowest 3\",b,d,c\n",
        "def common(list1):\n",
        "  a=0\n",
        "  b=[]\n",
        "  c=[]\n",
        "  d=[]\n",
        "  for i in list1:\n",
        "    if i[1]>a:\n",
        "      a=i[1]\n",
        "      c=b\n",
        "      b=i\n",
        "  return \"two most common\",b,c\n",
        "list1=[[\"#samayraina\",50],\n",
        "       [\"#noviolene\",20],\n",
        "       [\"#trend\",90],\n",
        "       [\"#politics\",200]]\n",
        "trending(list1)\n",
        "common(list1)\n",
        "lowest(list1)"
      ],
      "metadata": {
        "colab": {
          "base_uri": "https://localhost:8080/"
        },
        "id": "bf3eXHzQXXLI",
        "outputId": "62e1ca4c-62b9-4240-b191-ba389712119f"
      },
      "execution_count": null,
      "outputs": [
        {
          "output_type": "execute_result",
          "data": {
            "text/plain": [
              "('lowest 3', [], [], [])"
            ]
          },
          "metadata": {},
          "execution_count": 28
        }
      ]
    },
    {
      "cell_type": "code",
      "source": [
        "def passenger_flight(flight_number):\n",
        "    passenger=[]\n",
        "    for i in booking:\n",
        "        if i[1]==flight_number:\n",
        "            passenger.append(i)\n",
        "    return f\"Passenger in Specific fight {flight_number} : {passenger}\"\n",
        "\n",
        "def seat_booked(seat_number):\n",
        "    for i in booking:\n",
        "        if i[2]==seat_number:\n",
        "            return f\"\\nSeat is already booked!\"\n",
        "        else:\n",
        "            return f\"\\nSeat is not booked!\"\n",
        "\n",
        "def sort_passenger():\n",
        "    sorted_booking=sorted(booking,key=lambda x:x[1])\n",
        "    passenger_sorted=[]\n",
        "    for i in sorted_booking:\n",
        "        passenger_sorted.append(i[0])\n",
        "    return f\"\\nSorted passenger according to the flight number : {passenger_sorted}\"\n",
        "\n",
        "booking=[(\"Anmol\",\"AI202\",\"12A\"),(\"Vineet\",\"AI204\",\"13A\"),(\"Gursewak\",\"AI203\",\"15B\"),(\"Ansul\",\"AI201\",\"17A\"),(\"Prakul\",\"AI206\",\"18C\")]\n",
        "print(passenger_flight(\"AI204\"))\n",
        "print(seat_booked(\"12A\"))\n",
        "print(sort_passenger())"
      ],
      "metadata": {
        "colab": {
          "base_uri": "https://localhost:8080/"
        },
        "id": "MhXGdSjya8tt",
        "outputId": "33b25901-a05c-4e65-e672-2815501c5b66"
      },
      "execution_count": 1,
      "outputs": [
        {
          "output_type": "stream",
          "name": "stdout",
          "text": [
            "Passenger in Specific fight AI204 : [('Vineet', 'AI204', '13A')]\n",
            "\n",
            "Seat is already booked!\n",
            "\n",
            "Sorted passenger according to the flight number : ['Ansul', 'Anmol', 'Gursewak', 'Vineet', 'Prakul']\n"
          ]
        }
      ]
    },
    {
      "cell_type": "code",
      "source": [
        "def available(books):\n",
        "  list1=[]\n",
        "  for i in books:\n",
        "    if books[i][1]==None:\n",
        "      list1.append(i)\n",
        "  return \"available books are\",list1\n",
        "def borrower(books):\n",
        "  a=input(\"enter borrower name \")\n",
        "  for i in books:\n",
        "    if books[i][1]==a:\n",
        "      return \"borrowed boook is\",i\n",
        "def book(books):\n",
        "  set1=set()\n",
        "  for i in books:\n",
        "    set1.add(i)\n",
        "  return set1\n",
        "books={\"The Great Gatsby\": (\"F. Scott Fitzgerald\", None),\n",
        "    \"1984\": (\"George Orwell\", \"John Doe\"),\n",
        "    \"To Kill a Mockingbird\": (\"Harper Lee\", None),\n",
        "    \"Moby Dick\": (\"Herman Melville\", \"Jane Smith\"),\n",
        "    \"Pride and Prejudice\": (\" AJaneusten\", None)}\n",
        "print(available(books))\n",
        "print(borrower(books))\n",
        "print(book(books))"
      ],
      "metadata": {
        "colab": {
          "base_uri": "https://localhost:8080/"
        },
        "id": "s6gE2iwKdbEp",
        "outputId": "d0c6f7dd-481c-4b17-9ebb-8c525c68e519"
      },
      "execution_count": null,
      "outputs": [
        {
          "output_type": "stream",
          "name": "stdout",
          "text": [
            "('available books are', ['The Great Gatsby', 'To Kill a Mockingbird', 'Pride and Prejudice'])\n",
            "enter borrower name Jane Smith\n",
            "('borrowed boook is', 'Moby Dick')\n",
            "{'The Great Gatsby', 'Moby Dick', '1984', 'To Kill a Mockingbird', 'Pride and Prejudice'}\n"
          ]
        }
      ]
    },
    {
      "cell_type": "code",
      "source": [],
      "metadata": {
        "id": "3Twjr1mMoYVM"
      },
      "execution_count": null,
      "outputs": []
    }
  ]
}