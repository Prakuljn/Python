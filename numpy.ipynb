{
  "nbformat": 4,
  "nbformat_minor": 0,
  "metadata": {
    "colab": {
      "provenance": [],
      "authorship_tag": "ABX9TyMUvAs2M1Ws1+CsNOwYgSCM",
      "include_colab_link": true
    },
    "kernelspec": {
      "name": "python3",
      "display_name": "Python 3"
    },
    "language_info": {
      "name": "python"
    }
  },
  "cells": [
    {
      "cell_type": "markdown",
      "metadata": {
        "id": "view-in-github",
        "colab_type": "text"
      },
      "source": [
        "<a href=\"https://colab.research.google.com/github/Prakuljn/Python/blob/main/numpy.ipynb\" target=\"_parent\"><img src=\"https://colab.research.google.com/assets/colab-badge.svg\" alt=\"Open In Colab\"/></a>"
      ]
    },
    {
      "cell_type": "code",
      "execution_count": 8,
      "metadata": {
        "id": "u9Jes4lQDKNc"
      },
      "outputs": [],
      "source": [
        "# numpy -> it is a open source library that is used for sintific calculation\n",
        "# why numpy is beeter than list ?\n",
        "# 1. numpy (homogeneous data type ),list(hetrogeneous data type)\n",
        "# 2. numpy (time less consuption ), list (more time consuption)\n",
        "# 3. numpy (less memory consume), list(more memory consuption )\n",
        "# 4. numpy has more functionality than list\n"
      ]
    },
    {
      "cell_type": "code",
      "source": [
        "import numpy as np"
      ],
      "metadata": {
        "id": "ho5a9TygDgOV"
      },
      "execution_count": 9,
      "outputs": []
    },
    {
      "cell_type": "code",
      "source": [
        "a=[1,45,89,90]\n",
        "type (a)"
      ],
      "metadata": {
        "colab": {
          "base_uri": "https://localhost:8080/"
        },
        "id": "GkfcWB77EPN9",
        "outputId": "9055b811-9508-40dc-bade-05ae3b7c4a66"
      },
      "execution_count": 10,
      "outputs": [
        {
          "output_type": "execute_result",
          "data": {
            "text/plain": [
              "list"
            ]
          },
          "metadata": {},
          "execution_count": 10
        }
      ]
    },
    {
      "cell_type": "code",
      "source": [
        "b=np.array(a)\n",
        "print(b)\n",
        "type(b)"
      ],
      "metadata": {
        "colab": {
          "base_uri": "https://localhost:8080/"
        },
        "id": "zzwvkW6hEn87",
        "outputId": "ce0c91bc-0505-44f2-f2bc-91fc6690e246"
      },
      "execution_count": 12,
      "outputs": [
        {
          "output_type": "stream",
          "name": "stdout",
          "text": [
            "[ 1 45 89 90]\n"
          ]
        },
        {
          "output_type": "execute_result",
          "data": {
            "text/plain": [
              "numpy.ndarray"
            ]
          },
          "metadata": {},
          "execution_count": 12
        }
      ]
    },
    {
      "cell_type": "code",
      "source": [
        "c=[[1,2,3],[4,5,6],[7,8,9]]\n",
        "d=np.array(c)\n",
        "d"
      ],
      "metadata": {
        "colab": {
          "base_uri": "https://localhost:8080/"
        },
        "id": "YEdypQp1Eq-_",
        "outputId": "3dd99bc0-6640-45d7-99f8-651c935e0a32"
      },
      "execution_count": 15,
      "outputs": [
        {
          "output_type": "execute_result",
          "data": {
            "text/plain": [
              "array([[1, 2, 3],\n",
              "       [4, 5, 6],\n",
              "       [7, 8, 9]])"
            ]
          },
          "metadata": {},
          "execution_count": 15
        }
      ]
    },
    {
      "cell_type": "code",
      "source": [
        "print(\"total rows and column\", d.shape)\n",
        "print(\"total elements\", d.size)\n",
        "print(\"total dimension\", d.ndim)"
      ],
      "metadata": {
        "colab": {
          "base_uri": "https://localhost:8080/"
        },
        "id": "N4w33vOpFQgD",
        "outputId": "415fec27-41a0-4058-948c-ad1e2ed60a44"
      },
      "execution_count": 18,
      "outputs": [
        {
          "output_type": "stream",
          "name": "stdout",
          "text": [
            "total rows and column (3, 3)\n",
            "total elements 9\n",
            "total dimension 2\n"
          ]
        }
      ]
    },
    {
      "cell_type": "code",
      "source": [
        "b.ndim"
      ],
      "metadata": {
        "colab": {
          "base_uri": "https://localhost:8080/"
        },
        "id": "gnG2YiW1Fcea",
        "outputId": "46feb761-00ce-44fe-d9cd-8fe55a6f3156"
      },
      "execution_count": 19,
      "outputs": [
        {
          "output_type": "execute_result",
          "data": {
            "text/plain": [
              "1"
            ]
          },
          "metadata": {},
          "execution_count": 19
        }
      ]
    },
    {
      "cell_type": "code",
      "source": [
        "# how to create user define array\n",
        "\n",
        "a=[]\n",
        "size= int (input(\"enter array size: \"))\n",
        "for i in range (size):\n",
        "  val= int (input (\"enter values: \"))\n",
        "  a.append(val)\n",
        "b=np.array(a)"
      ],
      "metadata": {
        "colab": {
          "base_uri": "https://localhost:8080/"
        },
        "id": "TH_U05j2FpE9",
        "outputId": "38a28099-8aad-4332-f27c-c1f96073b06f"
      },
      "execution_count": 21,
      "outputs": [
        {
          "name": "stdout",
          "output_type": "stream",
          "text": [
            "enter array size: 3\n",
            "enter values: 3 \n",
            "enter values: 4\n",
            "enter values: 5\n"
          ]
        }
      ]
    },
    {
      "cell_type": "code",
      "source": [
        "b"
      ],
      "metadata": {
        "colab": {
          "base_uri": "https://localhost:8080/"
        },
        "id": "PtcCL47pF3Tt",
        "outputId": "9d3b366c-a1ef-4053-f96a-c6a32baf4346"
      },
      "execution_count": 22,
      "outputs": [
        {
          "output_type": "execute_result",
          "data": {
            "text/plain": [
              "array([3, 4, 5])"
            ]
          },
          "metadata": {},
          "execution_count": 22
        }
      ]
    },
    {
      "cell_type": "code",
      "source": [
        "b*3"
      ],
      "metadata": {
        "colab": {
          "base_uri": "https://localhost:8080/"
        },
        "id": "QzbO1gUaGZqk",
        "outputId": "7b1e5377-a61d-4e5c-defc-3f9ea96db511"
      },
      "execution_count": 23,
      "outputs": [
        {
          "output_type": "execute_result",
          "data": {
            "text/plain": [
              "array([ 9, 12, 15])"
            ]
          },
          "metadata": {},
          "execution_count": 23
        }
      ]
    },
    {
      "cell_type": "code",
      "source": [
        "# pre defined function in python\n",
        "# 1. zeros()--> it will create an array in which all values will be 0\n",
        "a=np.zeros(3)\n",
        "print(a)\n",
        "b=np.zeros((3,4))\n",
        "print(b)"
      ],
      "metadata": {
        "colab": {
          "base_uri": "https://localhost:8080/"
        },
        "id": "r9_Kqr8jGb0B",
        "outputId": "85b65a0c-24bf-452d-e691-1b18ec79eddc"
      },
      "execution_count": 27,
      "outputs": [
        {
          "output_type": "stream",
          "name": "stdout",
          "text": [
            "[0. 0. 0.]\n",
            "[[0. 0. 0. 0.]\n",
            " [0. 0. 0. 0.]\n",
            " [0. 0. 0. 0.]]\n"
          ]
        }
      ]
    },
    {
      "cell_type": "code",
      "source": [
        "# 2. ones --> it will create an array in which all the values will be 1\n",
        "a=np.ones(3)\n",
        "print(a)\n",
        "b=np.ones((3,4))\n",
        "print(b)"
      ],
      "metadata": {
        "colab": {
          "base_uri": "https://localhost:8080/"
        },
        "id": "smoFTSE3G4_t",
        "outputId": "0a7ff634-48da-42b8-d261-d87a6f1cf3c1"
      },
      "execution_count": 30,
      "outputs": [
        {
          "output_type": "stream",
          "name": "stdout",
          "text": [
            "[1. 1. 1.]\n",
            "[[1. 1. 1. 1.]\n",
            " [1. 1. 1. 1.]\n",
            " [1. 1. 1. 1.]]\n"
          ]
        }
      ]
    },
    {
      "cell_type": "code",
      "source": [
        "# 3. eye() --> it will create an array in which the diagonal positional elements value will be one and rest of are zero\n",
        "a=np.eye(3,3) # it create by default dimension will be 2\n",
        "a=np.eye(3,3) # it create by default dimension will be 2\n",
        "# a=np.eye(3,3)  number(rows) == number (column) it means symettric matrix\n",
        "print(a)\n",
        "b=np.eye(3,4)     # number(rows) != number (column) it means asymettric matrix\n",
        "print(b)"
      ],
      "metadata": {
        "colab": {
          "base_uri": "https://localhost:8080/"
        },
        "id": "2kxFnkP0Hje3",
        "outputId": "6acb7fc6-a543-418e-eec0-1d4b93f8b25d"
      },
      "execution_count": 33,
      "outputs": [
        {
          "output_type": "stream",
          "name": "stdout",
          "text": [
            "[[1. 0. 0.]\n",
            " [0. 1. 0.]\n",
            " [0. 0. 1.]]\n",
            "[[1. 0. 0. 0.]\n",
            " [0. 1. 0. 0.]\n",
            " [0. 0. 1. 0.]]\n"
          ]
        }
      ]
    },
    {
      "cell_type": "code",
      "source": [
        "# 4. diag()--> it will create an array that will set diagonal positional custum element by us\n",
        "a = np.diag([11,2,3,4000]) # it default create symmetric matrix\n",
        "a"
      ],
      "metadata": {
        "colab": {
          "base_uri": "https://localhost:8080/"
        },
        "id": "l8p3r0iLIND8",
        "outputId": "58dc070b-0ce2-4007-e87a-25805b247625"
      },
      "execution_count": 35,
      "outputs": [
        {
          "output_type": "execute_result",
          "data": {
            "text/plain": [
              "array([[  11,    0,    0,    0],\n",
              "       [   0,    2,    0,    0],\n",
              "       [   0,    0,    3,    0],\n",
              "       [   0,    0,    0, 4000]])"
            ]
          },
          "metadata": {},
          "execution_count": 35
        }
      ]
    }
  ]
}