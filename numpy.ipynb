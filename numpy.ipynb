{
  "nbformat": 4,
  "nbformat_minor": 0,
  "metadata": {
    "colab": {
      "provenance": [],
      "authorship_tag": "ABX9TyOmigrmSFzFalKBvO1Vd2AM",
      "include_colab_link": true
    },
    "kernelspec": {
      "name": "python3",
      "display_name": "Python 3"
    },
    "language_info": {
      "name": "python"
    }
  },
  "cells": [
    {
      "cell_type": "markdown",
      "metadata": {
        "id": "view-in-github",
        "colab_type": "text"
      },
      "source": [
        "<a href=\"https://colab.research.google.com/github/Prakuljn/Python/blob/main/numpy.ipynb\" target=\"_parent\"><img src=\"https://colab.research.google.com/assets/colab-badge.svg\" alt=\"Open In Colab\"/></a>"
      ]
    },
    {
      "cell_type": "code",
      "execution_count": null,
      "metadata": {
        "id": "u9Jes4lQDKNc"
      },
      "outputs": [],
      "source": [
        "# numpy -> it is a open source library that is used for sintific calculation\n",
        "# why numpy is beeter than list ?\n",
        "# 1. numpy (homogeneous data type ),list(hetrogeneous data type)\n",
        "# 2. numpy (time less consuption ), list (more time consuption)\n",
        "# 3. numpy (less memory consume), list(more memory consuption )\n",
        "# 4. numpy has more functionality than list\n"
      ]
    },
    {
      "cell_type": "code",
      "source": [
        "import numpy as np"
      ],
      "metadata": {
        "id": "ho5a9TygDgOV"
      },
      "execution_count": 2,
      "outputs": []
    },
    {
      "cell_type": "code",
      "source": [
        "a=[1,45,89,90]\n",
        "type (a)"
      ],
      "metadata": {
        "colab": {
          "base_uri": "https://localhost:8080/"
        },
        "id": "GkfcWB77EPN9",
        "outputId": "9055b811-9508-40dc-bade-05ae3b7c4a66"
      },
      "execution_count": null,
      "outputs": [
        {
          "output_type": "execute_result",
          "data": {
            "text/plain": [
              "list"
            ]
          },
          "metadata": {},
          "execution_count": 10
        }
      ]
    },
    {
      "cell_type": "code",
      "source": [
        "b=np.array(a)\n",
        "print(b)\n",
        "type(b)"
      ],
      "metadata": {
        "colab": {
          "base_uri": "https://localhost:8080/"
        },
        "id": "zzwvkW6hEn87",
        "outputId": "ce0c91bc-0505-44f2-f2bc-91fc6690e246"
      },
      "execution_count": null,
      "outputs": [
        {
          "output_type": "stream",
          "name": "stdout",
          "text": [
            "[ 1 45 89 90]\n"
          ]
        },
        {
          "output_type": "execute_result",
          "data": {
            "text/plain": [
              "numpy.ndarray"
            ]
          },
          "metadata": {},
          "execution_count": 12
        }
      ]
    },
    {
      "cell_type": "code",
      "source": [
        "c=[[1,2,3],[4,5,6],[7,8,9]]\n",
        "d=np.array(c)\n",
        "d"
      ],
      "metadata": {
        "colab": {
          "base_uri": "https://localhost:8080/"
        },
        "id": "YEdypQp1Eq-_",
        "outputId": "3dd99bc0-6640-45d7-99f8-651c935e0a32"
      },
      "execution_count": null,
      "outputs": [
        {
          "output_type": "execute_result",
          "data": {
            "text/plain": [
              "array([[1, 2, 3],\n",
              "       [4, 5, 6],\n",
              "       [7, 8, 9]])"
            ]
          },
          "metadata": {},
          "execution_count": 15
        }
      ]
    },
    {
      "cell_type": "code",
      "source": [
        "print(\"total rows and column\", d.shape)\n",
        "print(\"total elements\", d.size)\n",
        "print(\"total dimension\", d.ndim)"
      ],
      "metadata": {
        "colab": {
          "base_uri": "https://localhost:8080/"
        },
        "id": "N4w33vOpFQgD",
        "outputId": "415fec27-41a0-4058-948c-ad1e2ed60a44"
      },
      "execution_count": null,
      "outputs": [
        {
          "output_type": "stream",
          "name": "stdout",
          "text": [
            "total rows and column (3, 3)\n",
            "total elements 9\n",
            "total dimension 2\n"
          ]
        }
      ]
    },
    {
      "cell_type": "code",
      "source": [
        "b.ndim"
      ],
      "metadata": {
        "colab": {
          "base_uri": "https://localhost:8080/"
        },
        "id": "gnG2YiW1Fcea",
        "outputId": "46feb761-00ce-44fe-d9cd-8fe55a6f3156"
      },
      "execution_count": null,
      "outputs": [
        {
          "output_type": "execute_result",
          "data": {
            "text/plain": [
              "1"
            ]
          },
          "metadata": {},
          "execution_count": 19
        }
      ]
    },
    {
      "cell_type": "code",
      "source": [
        "# how to create user define array\n",
        "\n",
        "a=[]\n",
        "size= int (input(\"enter array size: \"))\n",
        "for i in range (size):\n",
        "  val= int (input (\"enter values: \"))\n",
        "  a.append(val)\n",
        "b=np.array(a)"
      ],
      "metadata": {
        "colab": {
          "base_uri": "https://localhost:8080/"
        },
        "id": "TH_U05j2FpE9",
        "outputId": "38a28099-8aad-4332-f27c-c1f96073b06f"
      },
      "execution_count": null,
      "outputs": [
        {
          "name": "stdout",
          "output_type": "stream",
          "text": [
            "enter array size: 3\n",
            "enter values: 3 \n",
            "enter values: 4\n",
            "enter values: 5\n"
          ]
        }
      ]
    },
    {
      "cell_type": "code",
      "source": [
        "b"
      ],
      "metadata": {
        "colab": {
          "base_uri": "https://localhost:8080/"
        },
        "id": "PtcCL47pF3Tt",
        "outputId": "9d3b366c-a1ef-4053-f96a-c6a32baf4346"
      },
      "execution_count": null,
      "outputs": [
        {
          "output_type": "execute_result",
          "data": {
            "text/plain": [
              "array([3, 4, 5])"
            ]
          },
          "metadata": {},
          "execution_count": 22
        }
      ]
    },
    {
      "cell_type": "code",
      "source": [
        "b*3"
      ],
      "metadata": {
        "colab": {
          "base_uri": "https://localhost:8080/"
        },
        "id": "QzbO1gUaGZqk",
        "outputId": "7b1e5377-a61d-4e5c-defc-3f9ea96db511"
      },
      "execution_count": null,
      "outputs": [
        {
          "output_type": "execute_result",
          "data": {
            "text/plain": [
              "array([ 9, 12, 15])"
            ]
          },
          "metadata": {},
          "execution_count": 23
        }
      ]
    },
    {
      "cell_type": "code",
      "source": [
        "# pre defined function in python\n",
        "# 1. zeros()--> it will create an array in which all values will be 0\n",
        "a=np.zeros(3)\n",
        "print(a)\n",
        "b=np.zeros((3,4))\n",
        "print(b)"
      ],
      "metadata": {
        "colab": {
          "base_uri": "https://localhost:8080/"
        },
        "id": "r9_Kqr8jGb0B",
        "outputId": "85b65a0c-24bf-452d-e691-1b18ec79eddc"
      },
      "execution_count": null,
      "outputs": [
        {
          "output_type": "stream",
          "name": "stdout",
          "text": [
            "[0. 0. 0.]\n",
            "[[0. 0. 0. 0.]\n",
            " [0. 0. 0. 0.]\n",
            " [0. 0. 0. 0.]]\n"
          ]
        }
      ]
    },
    {
      "cell_type": "code",
      "source": [
        "# 2. ones --> it will create an array in which all the values will be 1\n",
        "a=np.ones(3)\n",
        "print(a)\n",
        "b=np.ones((3,4))\n",
        "print(b)"
      ],
      "metadata": {
        "colab": {
          "base_uri": "https://localhost:8080/"
        },
        "id": "smoFTSE3G4_t",
        "outputId": "0a7ff634-48da-42b8-d261-d87a6f1cf3c1"
      },
      "execution_count": null,
      "outputs": [
        {
          "output_type": "stream",
          "name": "stdout",
          "text": [
            "[1. 1. 1.]\n",
            "[[1. 1. 1. 1.]\n",
            " [1. 1. 1. 1.]\n",
            " [1. 1. 1. 1.]]\n"
          ]
        }
      ]
    },
    {
      "cell_type": "code",
      "source": [
        "# 3. eye() --> it will create an array in which the diagonal positional elements value will be one and rest of are zero\n",
        "a=np.eye(3,3) # it create by default dimension will be 2\n",
        "a=np.eye(3,3) # it create by default dimension will be 2\n",
        "# a=np.eye(3,3)  number(rows) == number (column) it means symettric matrix\n",
        "print(a)\n",
        "b=np.eye(3,4)     # number(rows) != number (column) it means asymettric matrix\n",
        "print(b)"
      ],
      "metadata": {
        "colab": {
          "base_uri": "https://localhost:8080/"
        },
        "id": "2kxFnkP0Hje3",
        "outputId": "6acb7fc6-a543-418e-eec0-1d4b93f8b25d"
      },
      "execution_count": null,
      "outputs": [
        {
          "output_type": "stream",
          "name": "stdout",
          "text": [
            "[[1. 0. 0.]\n",
            " [0. 1. 0.]\n",
            " [0. 0. 1.]]\n",
            "[[1. 0. 0. 0.]\n",
            " [0. 1. 0. 0.]\n",
            " [0. 0. 1. 0.]]\n"
          ]
        }
      ]
    },
    {
      "cell_type": "code",
      "source": [
        "# 4. diag()--> it will create an array that will set diagonal positional custum element by us\n",
        "a = np.diag([11,2,3,4000]) # it default create symmetric matrix\n",
        "a"
      ],
      "metadata": {
        "colab": {
          "base_uri": "https://localhost:8080/"
        },
        "id": "l8p3r0iLIND8",
        "outputId": "a4bbeeed-b2d5-4607-b9a5-47580a75e916"
      },
      "execution_count": 3,
      "outputs": [
        {
          "output_type": "execute_result",
          "data": {
            "text/plain": [
              "array([[  11,    0,    0,    0],\n",
              "       [   0,    2,    0,    0],\n",
              "       [   0,    0,    3,    0],\n",
              "       [   0,    0,    0, 4000]])"
            ]
          },
          "metadata": {},
          "execution_count": 3
        }
      ]
    },
    {
      "cell_type": "code",
      "source": [
        "# random module\n",
        "\n",
        "# a. randint() ----> it will generate random values based on fix criteria\n",
        "# np.random.randint(min range , max range , total number )\n",
        "a = np.random.randint(1,10,3)\n",
        "a"
      ],
      "metadata": {
        "colab": {
          "base_uri": "https://localhost:8080/"
        },
        "id": "vg_q9ZkpNSNV",
        "outputId": "1df18cf1-f6c4-408e-9e22-5c8a425f1219"
      },
      "execution_count": 19,
      "outputs": [
        {
          "output_type": "execute_result",
          "data": {
            "text/plain": [
              "array([8, 3, 6])"
            ]
          },
          "metadata": {},
          "execution_count": 19
        }
      ]
    },
    {
      "cell_type": "code",
      "source": [
        "# b. rand() ---> it will generate random number from 0 to 1\n",
        "b = np.random.rand(5)\n",
        "b"
      ],
      "metadata": {
        "colab": {
          "base_uri": "https://localhost:8080/"
        },
        "id": "GPl21q7EN_oI",
        "outputId": "6b75d09e-0d96-44c4-8083-4387b09a6ad0"
      },
      "execution_count": 14,
      "outputs": [
        {
          "output_type": "execute_result",
          "data": {
            "text/plain": [
              "array([0.34163173, 0.34278228, 0.06738266, 0.81922732, 0.25722087])"
            ]
          },
          "metadata": {},
          "execution_count": 14
        }
      ]
    },
    {
      "cell_type": "code",
      "source": [
        "# c. seed()----> it will fix our random generated data .\n",
        "np.random.seed(52)\n",
        "a = np.random.randint(1,10,3)\n",
        "a"
      ],
      "metadata": {
        "colab": {
          "base_uri": "https://localhost:8080/"
        },
        "id": "dUZpkmbKN_G6",
        "outputId": "1af6a586-32b4-4067-c455-243063844067"
      },
      "execution_count": 24,
      "outputs": [
        {
          "output_type": "execute_result",
          "data": {
            "text/plain": [
              "array([6, 8, 7])"
            ]
          },
          "metadata": {},
          "execution_count": 24
        }
      ]
    },
    {
      "cell_type": "code",
      "source": [
        "# view vs copy\n",
        "a= np.array([1,20,30,40,50,60])\n",
        "b=a[2:5]\n",
        "b[:]=0        # view method can change in real array\n",
        "b\n",
        "a"
      ],
      "metadata": {
        "colab": {
          "base_uri": "https://localhost:8080/"
        },
        "id": "wJJdR0vRQ2Hy",
        "outputId": "a65cc097-df9e-489f-9664-cefa8bf7ae6d"
      },
      "execution_count": 26,
      "outputs": [
        {
          "output_type": "execute_result",
          "data": {
            "text/plain": [
              "array([ 1, 20,  0,  0,  0, 60])"
            ]
          },
          "metadata": {},
          "execution_count": 26
        }
      ]
    },
    {
      "cell_type": "code",
      "source": [
        "a= np.array([1,20,30,40,50,60])\n",
        "b=a[2:5].copy()\n",
        "b[:]=0              # copy method can't change in real array\n",
        "b\n",
        "a"
      ],
      "metadata": {
        "colab": {
          "base_uri": "https://localhost:8080/"
        },
        "id": "_7PjbQiJRldU",
        "outputId": "b98f90af-e901-4b5c-bfa3-5a20fa1a2739"
      },
      "execution_count": 28,
      "outputs": [
        {
          "output_type": "execute_result",
          "data": {
            "text/plain": [
              "array([ 1, 20, 30, 40, 50, 60])"
            ]
          },
          "metadata": {},
          "execution_count": 28
        }
      ]
    },
    {
      "cell_type": "code",
      "source": [
        "# reshaping the array\n",
        "# n(rows)* n(column)=total number of elements\n",
        "a=np.random.randint(1,50,12)\n",
        "a"
      ],
      "metadata": {
        "colab": {
          "base_uri": "https://localhost:8080/"
        },
        "id": "RyY4_nImRucW",
        "outputId": "9802b3eb-d024-48b3-e4fd-07cef1f3717c"
      },
      "execution_count": 32,
      "outputs": [
        {
          "output_type": "execute_result",
          "data": {
            "text/plain": [
              "array([43, 12, 28, 36, 36, 34, 36, 34,  6, 17, 12, 49])"
            ]
          },
          "metadata": {},
          "execution_count": 32
        }
      ]
    },
    {
      "cell_type": "code",
      "source": [
        "a.reshape(2,6)\n",
        "# can be change in\n",
        "# 1,12\n",
        "# 12,1\n",
        "# 2,6\n",
        "# 6,2\n",
        "# 3,4\n",
        "# 4,3"
      ],
      "metadata": {
        "colab": {
          "base_uri": "https://localhost:8080/"
        },
        "id": "co9tG_ODSC6g",
        "outputId": "4dbc54b7-e97a-48ab-a27b-47630fd15a17"
      },
      "execution_count": 33,
      "outputs": [
        {
          "output_type": "execute_result",
          "data": {
            "text/plain": [
              "array([[43, 12, 28, 36, 36, 34],\n",
              "       [36, 34,  6, 17, 12, 49]])"
            ]
          },
          "metadata": {},
          "execution_count": 33
        }
      ]
    },
    {
      "cell_type": "code",
      "source": [
        "# condition selection in array\n",
        "a= np.arange(1,15)\n",
        "a"
      ],
      "metadata": {
        "colab": {
          "base_uri": "https://localhost:8080/"
        },
        "id": "PoY0u2fNSKAD",
        "outputId": "5c59444f-b792-4353-a910-a94a690386ca"
      },
      "execution_count": 35,
      "outputs": [
        {
          "output_type": "execute_result",
          "data": {
            "text/plain": [
              "array([ 1,  2,  3,  4,  5,  6,  7,  8,  9, 10, 11, 12, 13, 14])"
            ]
          },
          "metadata": {},
          "execution_count": 35
        }
      ]
    },
    {
      "cell_type": "code",
      "source": [
        "a>10"
      ],
      "metadata": {
        "colab": {
          "base_uri": "https://localhost:8080/"
        },
        "id": "iV-lnlr3Sc2K",
        "outputId": "a805fbdc-3752-487b-f73a-3ae23a9bf6a8"
      },
      "execution_count": 36,
      "outputs": [
        {
          "output_type": "execute_result",
          "data": {
            "text/plain": [
              "array([False, False, False, False, False, False, False, False, False,\n",
              "       False,  True,  True,  True,  True])"
            ]
          },
          "metadata": {},
          "execution_count": 36
        }
      ]
    },
    {
      "cell_type": "code",
      "source": [
        "a[a>10]"
      ],
      "metadata": {
        "colab": {
          "base_uri": "https://localhost:8080/"
        },
        "id": "_CSg9fkcSe1q",
        "outputId": "30b6986a-44e7-4207-9261-55a06b47b287"
      },
      "execution_count": 37,
      "outputs": [
        {
          "output_type": "execute_result",
          "data": {
            "text/plain": [
              "array([11, 12, 13, 14])"
            ]
          },
          "metadata": {},
          "execution_count": 37
        }
      ]
    },
    {
      "cell_type": "code",
      "source": [
        "a[a%3==0]"
      ],
      "metadata": {
        "colab": {
          "base_uri": "https://localhost:8080/"
        },
        "id": "g7UieeJ7SgX1",
        "outputId": "d94196a1-7578-470e-c413-6409d52d799b"
      },
      "execution_count": 38,
      "outputs": [
        {
          "output_type": "execute_result",
          "data": {
            "text/plain": [
              "array([ 3,  6,  9, 12])"
            ]
          },
          "metadata": {},
          "execution_count": 38
        }
      ]
    },
    {
      "cell_type": "code",
      "source": [
        "a=np.array([1,2,3,4])\n",
        "a**2"
      ],
      "metadata": {
        "colab": {
          "base_uri": "https://localhost:8080/"
        },
        "id": "UsWaOaAfSjkM",
        "outputId": "e1c1245e-6e75-4750-f738-6330d2be8b46"
      },
      "execution_count": 39,
      "outputs": [
        {
          "output_type": "execute_result",
          "data": {
            "text/plain": [
              "array([ 1,  4,  9, 16])"
            ]
          },
          "metadata": {},
          "execution_count": 39
        }
      ]
    },
    {
      "cell_type": "code",
      "source": [
        "a*2"
      ],
      "metadata": {
        "colab": {
          "base_uri": "https://localhost:8080/"
        },
        "id": "VUDvF40BSrR0",
        "outputId": "76352e2e-cfdb-4c17-b7fb-c4c80906e31e"
      },
      "execution_count": 40,
      "outputs": [
        {
          "output_type": "execute_result",
          "data": {
            "text/plain": [
              "array([2, 4, 6, 8])"
            ]
          },
          "metadata": {},
          "execution_count": 40
        }
      ]
    },
    {
      "cell_type": "code",
      "source": [
        "np.sin(a)"
      ],
      "metadata": {
        "colab": {
          "base_uri": "https://localhost:8080/"
        },
        "id": "PYPpqAQiSt3H",
        "outputId": "ff90264c-4555-48c6-b4b4-6618670d8848"
      },
      "execution_count": 41,
      "outputs": [
        {
          "output_type": "execute_result",
          "data": {
            "text/plain": [
              "array([ 0.84147098,  0.90929743,  0.14112001, -0.7568025 ])"
            ]
          },
          "metadata": {},
          "execution_count": 41
        }
      ]
    },
    {
      "cell_type": "code",
      "source": [
        "np.cos(a)"
      ],
      "metadata": {
        "colab": {
          "base_uri": "https://localhost:8080/"
        },
        "id": "iSsYUOw0Sz9n",
        "outputId": "292a803f-bac5-4f74-e9f2-9c1008515f5f"
      },
      "execution_count": 42,
      "outputs": [
        {
          "output_type": "execute_result",
          "data": {
            "text/plain": [
              "array([ 0.54030231, -0.41614684, -0.9899925 , -0.65364362])"
            ]
          },
          "metadata": {},
          "execution_count": 42
        }
      ]
    },
    {
      "cell_type": "code",
      "source": [
        "np.sqrt(a)"
      ],
      "metadata": {
        "colab": {
          "base_uri": "https://localhost:8080/"
        },
        "id": "2n6ouWeAS1YD",
        "outputId": "2b3a9c40-8cb3-450a-a132-a0ced1bdb4d6"
      },
      "execution_count": 45,
      "outputs": [
        {
          "output_type": "execute_result",
          "data": {
            "text/plain": [
              "array([1.        , 1.41421356, 1.73205081, 2.        ])"
            ]
          },
          "metadata": {},
          "execution_count": 45
        }
      ]
    },
    {
      "cell_type": "code",
      "source": [
        "a=np.array([1,2,3,4]).reshape(2,2)\n",
        "a"
      ],
      "metadata": {
        "colab": {
          "base_uri": "https://localhost:8080/"
        },
        "id": "YJiOXG0yS5x0",
        "outputId": "d58580f5-61c4-4b18-ba56-3ee75d270207"
      },
      "execution_count": 47,
      "outputs": [
        {
          "output_type": "execute_result",
          "data": {
            "text/plain": [
              "array([[1, 2],\n",
              "       [3, 4]])"
            ]
          },
          "metadata": {},
          "execution_count": 47
        }
      ]
    },
    {
      "cell_type": "code",
      "source": [
        "b=np.array([5,6,7,8]).reshape(2,2)\n",
        "b"
      ],
      "metadata": {
        "colab": {
          "base_uri": "https://localhost:8080/"
        },
        "id": "1hLxrRMgTF4E",
        "outputId": "7b134a09-de40-4685-9c3b-defbe880b53e"
      },
      "execution_count": 48,
      "outputs": [
        {
          "output_type": "execute_result",
          "data": {
            "text/plain": [
              "array([[5, 6],\n",
              "       [7, 8]])"
            ]
          },
          "metadata": {},
          "execution_count": 48
        }
      ]
    },
    {
      "cell_type": "code",
      "source": [
        "a+b"
      ],
      "metadata": {
        "colab": {
          "base_uri": "https://localhost:8080/"
        },
        "id": "Gj7tf_J_TOIF",
        "outputId": "5d0724aa-3559-4edf-c0d9-caccbf8dcd05"
      },
      "execution_count": 49,
      "outputs": [
        {
          "output_type": "execute_result",
          "data": {
            "text/plain": [
              "array([[ 6,  8],\n",
              "       [10, 12]])"
            ]
          },
          "metadata": {},
          "execution_count": 49
        }
      ]
    },
    {
      "cell_type": "code",
      "source": [
        "a-b"
      ],
      "metadata": {
        "colab": {
          "base_uri": "https://localhost:8080/"
        },
        "id": "zV96mJ6oTPSf",
        "outputId": "c491745d-598b-478a-8df3-f4b3da8203a9"
      },
      "execution_count": 50,
      "outputs": [
        {
          "output_type": "execute_result",
          "data": {
            "text/plain": [
              "array([[-4, -4],\n",
              "       [-4, -4]])"
            ]
          },
          "metadata": {},
          "execution_count": 50
        }
      ]
    },
    {
      "cell_type": "code",
      "source": [
        "a.dot(b) # for multiply the matrix"
      ],
      "metadata": {
        "colab": {
          "base_uri": "https://localhost:8080/"
        },
        "id": "QVnW1Ht0TQF1",
        "outputId": "eeebc326-e72d-4c4c-eb52-b37e792526d0"
      },
      "execution_count": 52,
      "outputs": [
        {
          "output_type": "execute_result",
          "data": {
            "text/plain": [
              "array([[19, 22],\n",
              "       [43, 50]])"
            ]
          },
          "metadata": {},
          "execution_count": 52
        }
      ]
    },
    {
      "cell_type": "code",
      "source": [
        "# unique method ----> this method return 3 array\n",
        "# (1). arr --> store unique value\n",
        "# (2). return_index = True----> in which indexing we have unique values\n",
        "# (3). return_count = True----> frequency of each element\n"
      ],
      "metadata": {
        "id": "5BZEiKEyTUDJ"
      },
      "execution_count": 53,
      "outputs": []
    },
    {
      "cell_type": "code",
      "source": [
        "a=np.array([1,2,5,3,4,2,6,4,2,6,4,6,55,1,5,6,23,5,56,3,6])\n",
        "a"
      ],
      "metadata": {
        "colab": {
          "base_uri": "https://localhost:8080/"
        },
        "id": "TKcDUkjNUTj8",
        "outputId": "6afe5c67-bcea-4a94-bd50-edc0bb28233e"
      },
      "execution_count": 56,
      "outputs": [
        {
          "output_type": "execute_result",
          "data": {
            "text/plain": [
              "array([ 1,  2,  5,  3,  4,  2,  6,  4,  2,  6,  4,  6, 55,  1,  5,  6, 23,\n",
              "        5, 56,  3,  6])"
            ]
          },
          "metadata": {},
          "execution_count": 56
        }
      ]
    },
    {
      "cell_type": "code",
      "source": [
        "np.unique(a, return_index= True, return_counts= True)"
      ],
      "metadata": {
        "colab": {
          "base_uri": "https://localhost:8080/"
        },
        "id": "5tg2_JkNUdxX",
        "outputId": "a556018b-3fc6-42ad-d5bb-b229c7575296"
      },
      "execution_count": 57,
      "outputs": [
        {
          "output_type": "execute_result",
          "data": {
            "text/plain": [
              "(array([ 1,  2,  3,  4,  5,  6, 23, 55, 56]),\n",
              " array([ 0,  1,  3,  4,  2,  6, 16, 12, 18]),\n",
              " array([2, 3, 2, 3, 3, 5, 1, 1, 1]))"
            ]
          },
          "metadata": {},
          "execution_count": 57
        }
      ]
    },
    {
      "cell_type": "code",
      "source": [
        "np.unique(a)"
      ],
      "metadata": {
        "colab": {
          "base_uri": "https://localhost:8080/"
        },
        "id": "4F3z9dqdUnqP",
        "outputId": "6b2e51f9-adf7-4e8d-b57a-e4e2f93e20ae"
      },
      "execution_count": 58,
      "outputs": [
        {
          "output_type": "execute_result",
          "data": {
            "text/plain": [
              "array([ 1,  2,  3,  4,  5,  6, 23, 55, 56])"
            ]
          },
          "metadata": {},
          "execution_count": 58
        }
      ]
    },
    {
      "cell_type": "code",
      "source": [
        "np.unique(a, return_index= False, return_counts= True)"
      ],
      "metadata": {
        "colab": {
          "base_uri": "https://localhost:8080/"
        },
        "id": "JXX1DfzeUuNH",
        "outputId": "2b5ea786-2433-482f-fd7d-abe3d0ab9e55"
      },
      "execution_count": 59,
      "outputs": [
        {
          "output_type": "execute_result",
          "data": {
            "text/plain": [
              "(array([ 1,  2,  3,  4,  5,  6, 23, 55, 56]),\n",
              " array([2, 3, 2, 3, 3, 5, 1, 1, 1]))"
            ]
          },
          "metadata": {},
          "execution_count": 59
        }
      ]
    },
    {
      "cell_type": "code",
      "source": [],
      "metadata": {
        "id": "v1KMgueVUzqZ"
      },
      "execution_count": null,
      "outputs": []
    }
  ]
}