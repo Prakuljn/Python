{
 "cells": [
  {
   "cell_type": "markdown",
   "id": "8af513fd-a7a3-4a70-9a4d-b1e30418c9ee",
   "metadata": {},
   "source": [
    "# "
   ]
  },
  {
   "cell_type": "markdown",
   "id": "a6deadfc-dd43-41a6-a2b0-1ee94f2fc3e8",
   "metadata": {},
   "source": [
    "#task 1 \n",
    "create a calculator \n",
    "add method for addition , subtraction, multiplication and division \n",
    "use the self parameter to access the nummber"
   ]
  },
  {
   "cell_type": "code",
   "execution_count": 14,
   "id": "00b54e72-4ddf-4e25-908c-778e5add7e13",
   "metadata": {},
   "outputs": [
    {
     "name": "stdout",
     "output_type": "stream",
     "text": [
      "12\n"
     ]
    }
   ],
   "source": [
    "class Calculator:\n",
    "    def __init__ ( self ,num1,num2):\n",
    "        \n",
    "        self.num1=num1\n",
    "        self.num2=num2\n",
    "    def add(self):\n",
    "        return self.num1 + self.num2\n",
    "    \n",
    "    def sub(self):\n",
    "        return self.num1 -self.num2\n",
    "    \n",
    "    def mul(self):\n",
    "        return self.num1 *self.num2\n",
    "    \n",
    "    def div(self):\n",
    "        if self.num2 !=0:\n",
    "            return self.num1 /self.num2\n",
    "        else:\n",
    "            return \"number is not divided by zero\"\n",
    "calc= Calculator( 10, 2)\n",
    "print(calc.add())"
   ]
  },
  {
   "cell_type": "code",
   "execution_count": 18,
   "id": "b70b9c99-9b73-4330-9434-6f828212d353",
   "metadata": {},
   "outputs": [
    {
     "name": "stdin",
     "output_type": "stream",
     "text": [
      "enter task 1 for balance check 2 for withdrawl 3 for deposit money 1\n"
     ]
    },
    {
     "ename": "TypeError",
     "evalue": "BankAccount.deposit() takes 1 positional argument but 3 were given",
     "output_type": "error",
     "traceback": [
      "\u001b[1;31m---------------------------------------------------------------------------\u001b[0m",
      "\u001b[1;31mTypeError\u001b[0m                                 Traceback (most recent call last)",
      "Cell \u001b[1;32mIn[18], line 19\u001b[0m\n\u001b[0;32m     17\u001b[0m a \u001b[38;5;241m=\u001b[39m \u001b[38;5;28mint\u001b[39m(\u001b[38;5;28minput\u001b[39m(\u001b[38;5;124m\"\u001b[39m\u001b[38;5;124menter task 1 for balance check 2 for withdrawl 3 for deposit money\u001b[39m\u001b[38;5;124m\"\u001b[39m))\n\u001b[0;32m     18\u001b[0m \u001b[38;5;28;01mif\u001b[39;00m a\u001b[38;5;241m==\u001b[39m\u001b[38;5;241m1\u001b[39m:\n\u001b[1;32m---> 19\u001b[0m     \u001b[38;5;28mprint\u001b[39m(\u001b[43maccholdname\u001b[49m\u001b[38;5;241;43m.\u001b[39;49m\u001b[43mdeposit\u001b[49m\u001b[43m(\u001b[49m\u001b[38;5;124;43m\"\u001b[39;49m\u001b[38;5;124;43mnaman\u001b[39;49m\u001b[38;5;124;43m\"\u001b[39;49m\u001b[43m,\u001b[49m\u001b[38;5;241;43m7000\u001b[39;49m\u001b[43m)\u001b[49m)\n",
      "\u001b[1;31mTypeError\u001b[0m: BankAccount.deposit() takes 1 positional argument but 3 were given"
     ]
    }
   ],
   "source": [
    "class BankAccount:\n",
    "    def __init__ (self , acname ,balance=0 ):\n",
    "        self.acname= acname\n",
    "        self.balance= balance\n",
    "    def deposit(self):\n",
    "        balance= balance+self.balance\n",
    "        return balance\n",
    "    def withdraw(self):\n",
    "        if balance >= 0:\n",
    "            return \"infucient balance\"\n",
    "        else:\n",
    "            balance=balance-self.balance\n",
    "            return \"remaining balance\",balance\n",
    "    def chkbalance(self):\n",
    "        return self.balance\n",
    "accholdname = BankAccount(\"naman\",10000)\n",
    "a = int(input(\"enter task 1 for balance check 2 for withdrawl 3 for deposit money\"))\n",
    "if a==1:\n",
    "    print(accholdname.deposit(\"naman\",7000))"
   ]
  },
  {
   "cell_type": "code",
   "execution_count": 28,
   "id": "453bb7c5-16e1-4275-88e6-70ba08820165",
   "metadata": {},
   "outputs": [
    {
     "name": "stdout",
     "output_type": "stream",
     "text": [
      "('naman', 20, 33)\n",
      " student is fail!!!\n"
     ]
    }
   ],
   "source": [
    "class Student:\n",
    "    def __init__ (self, name , age , marks):\n",
    "        self.name = name\n",
    "        self.age = age\n",
    "        self.marks = marks \n",
    "    def details(self):\n",
    "        return self.name ,self.age,self.marks\n",
    "    def passed(self):\n",
    "        if self.marks>=40 :\n",
    "            return \" student is passed\"\n",
    "        else :\n",
    "            return \" student is fail!!!\"\n",
    "std1= Student(\"naman\" , 20 ,33)\n",
    "print(std1.details())\n",
    "print(std1.passed())"
   ]
  },
  {
   "cell_type": "code",
   "execution_count": null,
   "id": "36decf71-dc18-4847-9b7b-f99980ade09f",
   "metadata": {},
   "outputs": [],
   "source": []
  }
 ],
 "metadata": {
  "kernelspec": {
   "display_name": "Python 3 (ipykernel)",
   "language": "python",
   "name": "python3"
  },
  "language_info": {
   "codemirror_mode": {
    "name": "ipython",
    "version": 3
   },
   "file_extension": ".py",
   "mimetype": "text/x-python",
   "name": "python",
   "nbconvert_exporter": "python",
   "pygments_lexer": "ipython3",
   "version": "3.13.1"
  },
  "widgets": {
   "application/vnd.jupyter.widget-state+json": {
    "state": {},
    "version_major": 2,
    "version_minor": 0
   }
  }
 },
 "nbformat": 4,
 "nbformat_minor": 5
}
