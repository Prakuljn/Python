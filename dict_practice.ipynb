{
  "nbformat": 4,
  "nbformat_minor": 0,
  "metadata": {
    "colab": {
      "provenance": [],
      "authorship_tag": "ABX9TyOaPfVuzDaq/SENJjjLrlJW",
      "include_colab_link": true
    },
    "kernelspec": {
      "name": "python3",
      "display_name": "Python 3"
    },
    "language_info": {
      "name": "python"
    }
  },
  "cells": [
    {
      "cell_type": "markdown",
      "metadata": {
        "id": "view-in-github",
        "colab_type": "text"
      },
      "source": [
        "<a href=\"https://colab.research.google.com/github/Prakuljn/Python/blob/main/dict_practice.ipynb\" target=\"_parent\"><img src=\"https://colab.research.google.com/assets/colab-badge.svg\" alt=\"Open In Colab\"/></a>"
      ]
    },
    {
      "cell_type": "code",
      "execution_count": 2,
      "metadata": {
        "colab": {
          "base_uri": "https://localhost:8080/"
        },
        "id": "2acFHPJJQMSq",
        "outputId": "122603f5-e4cb-47be-febf-914c9443cee6"
      },
      "outputs": [
        {
          "output_type": "stream",
          "name": "stdout",
          "text": [
            "{10: 10, 20: 20, 300: 300}\n"
          ]
        }
      ],
      "source": [
        "# Q1\n",
        "# l1=[10,20,30]\n",
        "# l2=[40,50,60]\n",
        "# dict1={}\n",
        "# {10:40,  20:50,  300:60}\n",
        "# note using zip and without zip\n",
        "l1=[10,20,30]\n",
        "l2=[40,50,60]\n",
        "dict1={}\n",
        "for i in range(len(l1)):\n",
        "  dict1[l1[i]]=l1[i]\n",
        "print(dict1)"
      ]
    },
    {
      "cell_type": "code",
      "source": [
        "# Q2 {name: marks .. . . . .  ======>} multiple elements\n",
        "# now take a input from the user for score variable\n",
        "# - print the key who have more value then the score variable\n",
        "marks = {\n",
        "    \"prakul\": 85,\n",
        "    \"Anmol\": 70,\n",
        "    \"vineet\": 90,\n",
        "    \"anshul\": 60,\n",
        "    \"gursewak\": 95\n",
        "}\n",
        "\n",
        "x = int(input(\"Enter the score: \"))\n",
        "\n",
        "print(\"Students who scored more than\", x, \":\")\n",
        "for i in marks:\n",
        "    if marks[i] > x:\n",
        "     print(i,marks[i])\n"
      ],
      "metadata": {
        "colab": {
          "base_uri": "https://localhost:8080/"
        },
        "id": "5SBcqWuGQW0f",
        "outputId": "80c891fc-94e4-4c72-92f2-f9265e0b95ea"
      },
      "execution_count": 35,
      "outputs": [
        {
          "output_type": "stream",
          "name": "stdout",
          "text": [
            "Enter the score: 90\n",
            "Students who scored more than 90 :\n",
            "gursewak 95\n"
          ]
        }
      ]
    },
    {
      "cell_type": "code",
      "source": [
        "# Q3 {10:19,  11:20,  13:NONE}\n",
        "# delete the key-value pair where the value is none\n",
        "dict1={10:19,  11:20,  13:None}\n",
        "d1={k:v for k,v in dict1.items() if v!=None}\n",
        "print(d1)"
      ],
      "metadata": {
        "colab": {
          "base_uri": "https://localhost:8080/"
        },
        "id": "gu0qEmqrRcvH",
        "outputId": "a0953822-7128-4a20-f315-a31c83907750"
      },
      "execution_count": 31,
      "outputs": [
        {
          "output_type": "stream",
          "name": "stdout",
          "text": [
            "{10: 19, 11: 20}\n"
          ]
        }
      ]
    },
    {
      "cell_type": "code",
      "source": [
        "# Q4:   {\"x\":5, \"y\":7, \"z\":10}\n",
        "# print new dictionary as square of each key {x:25, y:49,  z:100}\n",
        "\n",
        "dict1={\"x\":5, \"y\":7, \"z\":10}\n",
        "d1={k : v**2 for k,v in dict1.items()}\n",
        "print(d1)\n"
      ],
      "metadata": {
        "colab": {
          "base_uri": "https://localhost:8080/"
        },
        "id": "0Q7X1NPZV5s8",
        "outputId": "34cb75c9-705f-4dee-f320-d7ab252acc4b"
      },
      "execution_count": 32,
      "outputs": [
        {
          "output_type": "stream",
          "name": "stdout",
          "text": [
            "{'x': 25, 'y': 49, 'z': 100}\n"
          ]
        }
      ]
    },
    {
      "cell_type": "code",
      "source": [
        "# Q5\n",
        "# create a dictionary as cube of number from 1 to 5\n",
        "# {1:1, 2:8, 3:27, 4:64, 5:125}\n",
        "# Note use only thing we have learnt\n",
        "dict1={x:x**3 for x in range(1,6)}\n",
        "print(dict1)"
      ],
      "metadata": {
        "colab": {
          "base_uri": "https://localhost:8080/"
        },
        "id": "iZL8yiaXXwGr",
        "outputId": "22b23963-662a-4a80-b3f4-938a40bfd9d1"
      },
      "execution_count": 33,
      "outputs": [
        {
          "output_type": "stream",
          "name": "stdout",
          "text": [
            "{1: 1, 2: 8, 3: 27, 4: 64, 5: 125}\n"
          ]
        }
      ]
    },
    {
      "cell_type": "code",
      "source": [
        "# Q6 {\"x\":5, \"y\":7, \"z\":10}\n",
        "# get the ans in new dictionary {\"average\":7.3 ,   \"max\":10}\n",
        "dict1={\"x\":5, \"y\":7, \"z\":10}\n",
        "average=sum(dict1.values())/len(dict1)\n",
        "maxi=max(dict1.values())\n",
        "dict2={\"average\":round(average,1),\"max\":average}\n",
        "print(dict2)"
      ],
      "metadata": {
        "colab": {
          "base_uri": "https://localhost:8080/"
        },
        "id": "UYsOZEwUYQWz",
        "outputId": "c366c291-65d0-4825-a7be-c6cd15b2746b"
      },
      "execution_count": 34,
      "outputs": [
        {
          "output_type": "stream",
          "name": "stdout",
          "text": [
            "{'average': 7.3, 'max': 7.333333333333333}\n"
          ]
        }
      ]
    },
    {
      "cell_type": "code",
      "source": [],
      "metadata": {
        "id": "Wq9fiHqjYjsK"
      },
      "execution_count": null,
      "outputs": []
    }
  ]
}