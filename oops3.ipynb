{
  "nbformat": 4,
  "nbformat_minor": 0,
  "metadata": {
    "colab": {
      "provenance": [],
      "authorship_tag": "ABX9TyOvxAOYLlL7kSqRoWAJZBA+",
      "include_colab_link": true
    },
    "kernelspec": {
      "name": "python3",
      "display_name": "Python 3"
    },
    "language_info": {
      "name": "python"
    }
  },
  "cells": [
    {
      "cell_type": "markdown",
      "metadata": {
        "id": "view-in-github",
        "colab_type": "text"
      },
      "source": [
        "<a href=\"https://colab.research.google.com/github/Prakuljn/Python-Assignment/blob/main/oops3.ipynb\" target=\"_parent\"><img src=\"https://colab.research.google.com/assets/colab-badge.svg\" alt=\"Open In Colab\"/></a>"
      ]
    },
    {
      "cell_type": "code",
      "execution_count": 3,
      "metadata": {
        "colab": {
          "base_uri": "https://localhost:8080/"
        },
        "id": "lub-qe1k2L7X",
        "outputId": "e5399cd2-0613-47e2-96b8-cc88ac53ee73"
      },
      "outputs": [
        {
          "output_type": "stream",
          "name": "stdout",
          "text": [
            "sam\n",
            "5000\n",
            "Deposit sucessfully ! total balance: 8000\n",
            "withrawn sucessfully ! total balance: 3000\n"
          ]
        }
      ],
      "source": [
        "class Balance:\n",
        "  def __init__ (self,ac_holder,balance):\n",
        "    self.__ac_holder=ac_holder   # private attribute\n",
        "    self.__balance=balance          # private attribute\n",
        "  def get_acc_holder_name(self):\n",
        "    return self.__ac_holder\n",
        "  def get_balance(self):\n",
        "    return self.__balance\n",
        "  def deposit(self,amount):\n",
        "    if amount>0:\n",
        "      self.__balance+=amount\n",
        "      return f\"Deposit sucessfully ! total balance: {self.__balance}\"\n",
        "  def withdrawn(self,amount):\n",
        "    if amount <= self.__balance:\n",
        "      self.__balance-=amount\n",
        "      return f\"withrawn sucessfully ! total balance: {self.__balance}\"\n",
        "    else:\n",
        "      return \"insufficent funds!\"\n",
        "\n",
        "account = Balance(\"sam\",5000)\n",
        "print(account.get_acc_holder_name())\n",
        "print(account.get_balance())\n",
        "print(account.deposit(3000))\n",
        "print(account.withdrawn(5000))\n"
      ]
    },
    {
      "cell_type": "code",
      "source": [
        "class Student:\n",
        "  def __init__ (self, name, grade):\n",
        "    self.name= name # Public attribute\n",
        "    self.__grade = grade # Private attribute\n",
        "  def get_grade(self):\n",
        "    return self.__grade\n",
        "# Setter for grade (with validation)\n",
        "  def set_grade(self,new_grade):\n",
        "    if 0<=new_grade<=100:\n",
        "      self.__grade = new_grade\n",
        "      return \"grade upgraded sucessfully !\"\n",
        "    else:\n",
        "      return \" invalid grade\"\n",
        "student1= Student(\"rohit\",85 )\n",
        "print(student1.name)\n",
        "print(student1.get_grade())\n",
        "print (student1.set_grade(90) )\n"
      ],
      "metadata": {
        "colab": {
          "base_uri": "https://localhost:8080/"
        },
        "id": "PAwBQOgY4R56",
        "outputId": "a061d128-2a4c-43e2-aa6a-934f5b011b51"
      },
      "execution_count": 8,
      "outputs": [
        {
          "output_type": "stream",
          "name": "stdout",
          "text": [
            "rohit\n",
            "85\n",
            "grade upgraded sucessfully !\n"
          ]
        }
      ]
    },
    {
      "cell_type": "code",
      "source": [],
      "metadata": {
        "id": "qo9Hd0986pyR"
      },
      "execution_count": null,
      "outputs": []
    }
  ]
}