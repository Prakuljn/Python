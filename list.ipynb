{
  "nbformat": 4,
  "nbformat_minor": 0,
  "metadata": {
    "colab": {
      "provenance": []
    },
    "kernelspec": {
      "name": "python3",
      "display_name": "Python 3"
    },
    "language_info": {
      "name": "python"
    }
  },
  "cells": [
    {
      "cell_type": "code",
      "execution_count": null,
      "metadata": {
        "colab": {
          "base_uri": "https://localhost:8080/"
        },
        "id": "TfdM6hs2bzM3",
        "outputId": "4d26ca53-ad3a-480a-def0-f534916505e6"
      },
      "outputs": [
        {
          "output_type": "stream",
          "name": "stdout",
          "text": [
            "[1, 3, 5, 7, 9, 11, 13, 15, 17, 19, 21, 23, 25, 27, 29, 31, 33, 35, 37, 39, 41, 43, 45, 47, 49, 51]\n"
          ]
        }
      ],
      "source": [
        "count=0\n",
        "a=0\n",
        "odd_num=[]\n",
        "while (count<=25):\n",
        "  if(a%2!=0):\n",
        "    odd_num.append(a)\n",
        "    count+=1\n",
        "  a+=1\n",
        "print(odd_num)\n"
      ]
    },
    {
      "cell_type": "code",
      "source": [
        "string=input(\"enter character\")\n",
        "lower=[]\n",
        "for i in string:\n",
        "  if(ord(i)<=122 and ord(i)>=97):\n",
        "    lower.append(i)\n",
        "for i in string:\n",
        "  if(ord(i)<=96 and ord(i)>=65):\n",
        "    lower.append(i)\n",
        "print(lower)"
      ],
      "metadata": {
        "colab": {
          "base_uri": "https://localhost:8080/"
        },
        "id": "up-qHEencTWx",
        "outputId": "14c23fd7-54be-4cb3-ad9d-ef8b7ee09dff"
      },
      "execution_count": null,
      "outputs": [
        {
          "output_type": "stream",
          "name": "stdout",
          "text": [
            "enter characterpRJJKHdsdkjashOJDs\n",
            "['p', 'd', 's', 'd', 'k', 'j', 'a', 's', 'h', 's', 'R', 'J', 'J', 'K', 'H', 'O', 'J', 'D']\n"
          ]
        }
      ]
    },
    {
      "cell_type": "code",
      "source": [
        "str1 =\"P@#yn26at^&i5ve\"\n",
        "char=[]\n",
        "inti=[]\n",
        "spsy=[]\n",
        "chrcount=0\n",
        "inticount=0\n",
        "spsycount=0\n",
        "for i in str1:\n",
        "  if(ord(i)<=122 and ord(i)>=65):\n",
        "    char.append(i)\n",
        "    chrcount+=1\n",
        "  elif(ord(i)<=57 and ord(i)>=48 ):\n",
        "    inti.append(i)\n",
        "    inticount+=1\n",
        "  else:\n",
        "    spsy.append(i)\n",
        "    spsycount+=1\n",
        "print(char,\"total character are :\",chrcount)\n",
        "print(inti,\"total intiger are :\",inticount)\n",
        "print(spsy,\"total symbol are :\",spsycount)\n"
      ],
      "metadata": {
        "colab": {
          "base_uri": "https://localhost:8080/"
        },
        "id": "0VlYmjmkeLO4",
        "outputId": "e391e6e2-5f67-4a65-e1e1-7dd2433b2723"
      },
      "execution_count": null,
      "outputs": [
        {
          "output_type": "stream",
          "name": "stdout",
          "text": [
            "['P', 'y', 'n', 'a', 't', '^', 'i', 'v', 'e'] total character are : 9\n",
            "['2', '6', '5'] total intiger are : 3\n",
            "['@', '#', '&'] total symbol are : 3\n"
          ]
        }
      ]
    },
    {
      "cell_type": "code",
      "source": [
        "string=input(\"enter character\")\n",
        "list1=[]\n",
        "for i in string:\n",
        "  list1.append(i)\n",
        "print(list1)\n",
        "for i in list1:\n",
        "  if(ord(i)==32):\n",
        "    list1.remove(i)\n",
        "print(list1)\n"
      ],
      "metadata": {
        "colab": {
          "base_uri": "https://localhost:8080/"
        },
        "id": "31FzHaTLhrtL",
        "outputId": "491b965f-054b-47a6-9601-3a34d97b634e"
      },
      "execution_count": null,
      "outputs": [
        {
          "output_type": "stream",
          "name": "stdout",
          "text": [
            "enter characterdh hh ioh dodh\n",
            "['d', 'h', ' ', 'h', 'h', ' ', 'i', 'o', 'h', ' ', 'd', 'o', 'd', 'h']\n",
            "['d', 'h', 'h', 'h', 'i', 'o', 'h', 'd', 'o', 'd', 'h']\n"
          ]
        }
      ]
    },
    {
      "cell_type": "code",
      "source": [
        "#string=input(\"enter character\")\n",
        "list1=[]\n",
        "for i in string:\n",
        "  list1.append(i)\n",
        "for i in string:\n",
        "  if(ord(i)<=47 and ord(i)>=33 or ord(i)<=64 and ord(i)>=58 or ord(i)<=96 and ord(i)>=91 or ord(i)<=126 and ord(i)>=123):\n",
        "    list1.remove(i)\n",
        "print(list1)"
      ],
      "metadata": {
        "colab": {
          "base_uri": "https://localhost:8080/"
        },
        "id": "qdNn643ghvrf",
        "outputId": "c28fab9b-2118-4785-ede4-dae40ebc0522"
      },
      "execution_count": null,
      "outputs": [
        {
          "output_type": "stream",
          "name": "stdout",
          "text": [
            "['A', 12, '$', '$', '*', '+']\n"
          ]
        }
      ]
    },
    {
      "cell_type": "code",
      "source": [
        "str1 = 'I am 25 years and 10 months old'\n",
        "mylist=[]\n",
        "for i in str1:\n",
        "  if(ord(i)>=48 and ord(i)<=57):\n",
        "    print(int(i),end=\"\")\n",
        "    mylist.append(int(i))\n",
        "print()\n",
        "print(mylist)\n"
      ],
      "metadata": {
        "colab": {
          "base_uri": "https://localhost:8080/"
        },
        "id": "eY3HmG0hn-de",
        "outputId": "216268e1-6a17-4669-f76e-aa27033b2b4f"
      },
      "execution_count": null,
      "outputs": [
        {
          "output_type": "stream",
          "name": "stdout",
          "text": [
            "2510\n",
            "[2, 5, 1, 0]\n"
          ]
        }
      ]
    },
    {
      "cell_type": "code",
      "source": [],
      "metadata": {
        "id": "GZ3vB5kmuRKN"
      },
      "execution_count": null,
      "outputs": []
    }
  ]
}