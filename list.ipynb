{
  "nbformat": 4,
  "nbformat_minor": 0,
  "metadata": {
    "colab": {
      "provenance": [],
      "authorship_tag": "ABX9TyOhtUmM/OTIi6G7bnU5pH51",
      "include_colab_link": true
    },
    "kernelspec": {
      "name": "python3",
      "display_name": "Python 3"
    },
    "language_info": {
      "name": "python"
    }
  },
  "cells": [
    {
      "cell_type": "markdown",
      "metadata": {
        "id": "view-in-github",
        "colab_type": "text"
      },
      "source": [
        "<a href=\"https://colab.research.google.com/github/Prakuljn/Python-Assignment/blob/main/list.ipynb\" target=\"_parent\"><img src=\"https://colab.research.google.com/assets/colab-badge.svg\" alt=\"Open In Colab\"/></a>"
      ]
    },
    {
      "cell_type": "code",
      "execution_count": null,
      "metadata": {
        "colab": {
          "base_uri": "https://localhost:8080/"
        },
        "id": "TfdM6hs2bzM3",
        "outputId": "4d26ca53-ad3a-480a-def0-f534916505e6"
      },
      "outputs": [
        {
          "output_type": "stream",
          "name": "stdout",
          "text": [
            "[1, 3, 5, 7, 9, 11, 13, 15, 17, 19, 21, 23, 25, 27, 29, 31, 33, 35, 37, 39, 41, 43, 45, 47, 49, 51]\n"
          ]
        }
      ],
      "source": [
        "count=0\n",
        "a=0\n",
        "odd_num=[]\n",
        "while (count<=25):\n",
        "  if(a%2!=0):\n",
        "    odd_num.append(a)\n",
        "    count+=1\n",
        "  a+=1\n",
        "print(odd_num)\n"
      ]
    },
    {
      "cell_type": "code",
      "source": [
        "string=input(\"enter character\")\n",
        "lower=[]\n",
        "for i in string:\n",
        "  if(ord(i)<=122 and ord(i)>=97):\n",
        "    lower.append(i)\n",
        "for i in string:\n",
        "  if(ord(i)<=96 and ord(i)>=65):\n",
        "    lower.append(i)\n",
        "print(lower)"
      ],
      "metadata": {
        "colab": {
          "base_uri": "https://localhost:8080/"
        },
        "id": "up-qHEencTWx",
        "outputId": "14c23fd7-54be-4cb3-ad9d-ef8b7ee09dff"
      },
      "execution_count": null,
      "outputs": [
        {
          "output_type": "stream",
          "name": "stdout",
          "text": [
            "enter characterpRJJKHdsdkjashOJDs\n",
            "['p', 'd', 's', 'd', 'k', 'j', 'a', 's', 'h', 's', 'R', 'J', 'J', 'K', 'H', 'O', 'J', 'D']\n"
          ]
        }
      ]
    },
    {
      "cell_type": "code",
      "source": [
        "str1 =\"P@#yn26at^&i5ve\"\n",
        "char=[]\n",
        "inti=[]\n",
        "spsy=[]\n",
        "chrcount=0\n",
        "inticount=0\n",
        "spsycount=0\n",
        "for i in str1:\n",
        "  if(ord(i)<=122 and ord(i)>=65):\n",
        "    char.append(i)\n",
        "    chrcount+=1\n",
        "  elif(ord(i)<=57 and ord(i)>=48 ):\n",
        "    inti.append(i)\n",
        "    inticount+=1\n",
        "  else:\n",
        "    spsy.append(i)\n",
        "    spsycount+=1\n",
        "print(char,\"total character are :\",chrcount)\n",
        "print(inti,\"total intiger are :\",inticount)\n",
        "print(spsy,\"total symbol are :\",spsycount)\n"
      ],
      "metadata": {
        "colab": {
          "base_uri": "https://localhost:8080/"
        },
        "id": "0VlYmjmkeLO4",
        "outputId": "e391e6e2-5f67-4a65-e1e1-7dd2433b2723"
      },
      "execution_count": null,
      "outputs": [
        {
          "output_type": "stream",
          "name": "stdout",
          "text": [
            "['P', 'y', 'n', 'a', 't', '^', 'i', 'v', 'e'] total character are : 9\n",
            "['2', '6', '5'] total intiger are : 3\n",
            "['@', '#', '&'] total symbol are : 3\n"
          ]
        }
      ]
    },
    {
      "cell_type": "code",
      "source": [
        "string=input(\"enter character\")\n",
        "list1=[]\n",
        "for i in string:\n",
        "  list1.append(i)\n",
        "print(list1)\n",
        "for i in list1:\n",
        "  if(ord(i)==32):\n",
        "    list1.remove(i)\n",
        "print(list1)\n"
      ],
      "metadata": {
        "colab": {
          "base_uri": "https://localhost:8080/"
        },
        "id": "31FzHaTLhrtL",
        "outputId": "491b965f-054b-47a6-9601-3a34d97b634e"
      },
      "execution_count": null,
      "outputs": [
        {
          "output_type": "stream",
          "name": "stdout",
          "text": [
            "enter characterdh hh ioh dodh\n",
            "['d', 'h', ' ', 'h', 'h', ' ', 'i', 'o', 'h', ' ', 'd', 'o', 'd', 'h']\n",
            "['d', 'h', 'h', 'h', 'i', 'o', 'h', 'd', 'o', 'd', 'h']\n"
          ]
        }
      ]
    },
    {
      "cell_type": "code",
      "source": [
        "string=input(\"enter character\")\n",
        "list1=[]\n",
        "for i in string:\n",
        "  list1.append(i)\n",
        "for i in string:\n",
        "  if(ord(i)<=47 and ord(i)>=33 or ord(i)<=64 and ord(i)>=58 or ord(i)<=96 and ord(i)>=91 or ord(i)<=126 and ord(i)>=123):\n",
        "    list1.remove(i)\n",
        "print(list1)"
      ],
      "metadata": {
        "colab": {
          "base_uri": "https://localhost:8080/"
        },
        "id": "qdNn643ghvrf",
        "outputId": "986ec8ef-c051-47f7-885a-e1048a250caf"
      },
      "execution_count": null,
      "outputs": [
        {
          "output_type": "stream",
          "name": "stdout",
          "text": [
            "enter character+-*/+__)lkkjfdalkfjdf;dklajfdkjlhds\n",
            "['l', 'k', 'k', 'j', 'f', 'd', 'a', 'l', 'k', 'f', 'j', 'd', 'f', 'd', 'k', 'l', 'a', 'j', 'f', 'd', 'k', 'j', 'l', 'h', 'd', 's']\n"
          ]
        }
      ]
    },
    {
      "cell_type": "code",
      "source": [
        "str1 = 'I am 25 years and 10 months old'\n",
        "mylist=[]\n",
        "for i in str1:\n",
        "  if(ord(i)>=48 and ord(i)<=57):\n",
        "    print(int(i),end=\"\")\n",
        "    mylist.append(int(i))\n",
        "print()\n",
        "print(mylist)\n"
      ],
      "metadata": {
        "colab": {
          "base_uri": "https://localhost:8080/"
        },
        "id": "eY3HmG0hn-de",
        "outputId": "216268e1-6a17-4669-f76e-aa27033b2b4f"
      },
      "execution_count": null,
      "outputs": [
        {
          "output_type": "stream",
          "name": "stdout",
          "text": [
            "2510\n",
            "[2, 5, 1, 0]\n"
          ]
        }
      ]
    },
    {
      "cell_type": "code",
      "source": [
        "list1=[2,3,4,5,6,7,8,9]\n",
        "list2=[4,9,16,25,36,49,64,81]\n",
        "list3=[]\n",
        "for i in list1:\n",
        "  list4=[]\n",
        "  for j in list2:\n",
        "    if i*i==j:\n",
        "      list4.extend([i,j])\n",
        "  list3.append(list4)\n",
        "print(list3)"
      ],
      "metadata": {
        "id": "GZ3vB5kmuRKN",
        "colab": {
          "base_uri": "https://localhost:8080/"
        },
        "outputId": "a435cc39-25b9-441c-e21b-3ec99ae46aef"
      },
      "execution_count": null,
      "outputs": [
        {
          "output_type": "stream",
          "name": "stdout",
          "text": [
            "[[2, 4], [3, 9], [4, 16], [5, 25], [6, 36], [7, 49], [8, 64], [9, 81]]\n"
          ]
        }
      ]
    },
    {
      "cell_type": "code",
      "source": [
        "list1=[1,2,3,5,6,7,2,37]\n",
        "list2=[]\n",
        "for i in range(len(list1)-1,-1,-1):\n",
        "  list2.append(list1[i])\n",
        "print(list1)\n",
        "print(list2)\n"
      ],
      "metadata": {
        "colab": {
          "base_uri": "https://localhost:8080/"
        },
        "id": "XP0bKswAvR9V",
        "outputId": "32efaa1e-f638-4b94-eb78-10744f4b2e49"
      },
      "execution_count": null,
      "outputs": [
        {
          "output_type": "stream",
          "name": "stdout",
          "text": [
            "[1, 2, 3, 5, 6, 7, 2, 37]\n",
            "[37, 2, 7, 6, 5, 3, 2, 1]\n"
          ]
        }
      ]
    },
    {
      "cell_type": "code",
      "source": [
        "list1=[1,2,3,5,6,7,2,37]\n",
        "list2=[]\n",
        "for i in list1:\n",
        "  list2.append(i)\n",
        "print(\"original list \", list1)\n",
        "print(\"copy list \", list2)\n"
      ],
      "metadata": {
        "colab": {
          "base_uri": "https://localhost:8080/"
        },
        "id": "fNk1blGewnTL",
        "outputId": "f48f281f-0860-496b-8537-532848cbb892"
      },
      "execution_count": null,
      "outputs": [
        {
          "output_type": "stream",
          "name": "stdout",
          "text": [
            "original list  [1, 2, 3, 5, 6, 7, 2, 37]\n",
            "copy list  [1, 2, 3, 5, 6, 7, 2, 37]\n"
          ]
        }
      ]
    },
    {
      "cell_type": "code",
      "source": [
        "mylist=[1,2,2,3,3,5,4,4]\n",
        "mylist1=[]\n",
        "for i in mylist:\n",
        "  if i not in mylist1:\n",
        "    mylist1.append(i)\n",
        "print(mylist1)\n",
        "print(len(mylist1))"
      ],
      "metadata": {
        "colab": {
          "base_uri": "https://localhost:8080/"
        },
        "id": "BI_4BR21y7rh",
        "outputId": "f31e10b2-0b0b-4eac-f34c-c2c6e286596f"
      },
      "execution_count": null,
      "outputs": [
        {
          "output_type": "stream",
          "name": "stdout",
          "text": [
            "[1, 2, 3, 5, 4]\n",
            "5\n"
          ]
        }
      ]
    },
    {
      "cell_type": "code",
      "source": [
        "mylist=[2,4,5,4,4,1,3,5,9,7,8,5,2,1,5,6,8,7]\n",
        "even=0\n",
        "odd=0\n",
        "for i in mylist:\n",
        "  if i %2==0:\n",
        "    even+=1\n",
        "  else:\n",
        "    odd+=1\n",
        "print(\"total even number are :\",even)\n",
        "print(\"total odd number are :\",odd)"
      ],
      "metadata": {
        "colab": {
          "base_uri": "https://localhost:8080/"
        },
        "id": "JBXxPwPjw3dV",
        "outputId": "8b17f544-df8b-4c70-be11-f6f955b5ffea"
      },
      "execution_count": null,
      "outputs": [
        {
          "output_type": "stream",
          "name": "stdout",
          "text": [
            "total even number are : 8\n",
            "total odd number are : 10\n"
          ]
        }
      ]
    },
    {
      "cell_type": "code",
      "source": [
        "list1=[4,9,16,25,36,49,64,81]\n",
        "a=list1[0]\n",
        "\n",
        "for i in range(1,len(list1)):\n",
        "  if list1[i]<a:\n",
        "    a=list1[i]\n",
        "print(\"smallest number is \",a)"
      ],
      "metadata": {
        "colab": {
          "base_uri": "https://localhost:8080/"
        },
        "id": "Pweh8e04z1vK",
        "outputId": "c8aa1a5c-2341-44dc-a018-abdbaf645f97"
      },
      "execution_count": null,
      "outputs": [
        {
          "output_type": "stream",
          "name": "stdout",
          "text": [
            "smallest number is  4\n"
          ]
        }
      ]
    },
    {
      "cell_type": "code",
      "source": [
        "list1=[4,9,16,25,36,49,64,81]\n",
        "sum=0\n",
        "for i in list1:\n",
        "  sum+=i\n",
        "print(\"sum of all number is \",sum)"
      ],
      "metadata": {
        "colab": {
          "base_uri": "https://localhost:8080/"
        },
        "id": "0o9VBJU40YZH",
        "outputId": "fa6c08e2-2adc-4e3d-81d8-45a8d33a89d7"
      },
      "execution_count": null,
      "outputs": [
        {
          "output_type": "stream",
          "name": "stdout",
          "text": [
            "sum of all number is  284\n"
          ]
        }
      ]
    },
    {
      "cell_type": "code",
      "source": [
        "emaillist=[\"KSR@datavizion.com\",\"mymail@yahoo.com\",\"milindmali@google.com\",\"snehal@health.com\"]\n",
        "list1=[]\n",
        "for i in emaillist:\n",
        "\n",
        "  for j in i:\n",
        "    list1.append(j)\n"
      ],
      "metadata": {
        "colab": {
          "base_uri": "https://localhost:8080/"
        },
        "id": "JfhpERek1cgm",
        "outputId": "09fea598-d51e-43b9-990f-c803af72906b"
      },
      "execution_count": null,
      "outputs": [
        {
          "output_type": "stream",
          "name": "stdout",
          "text": [
            "['K', 'S', 'R', '@', 'd', 'a', 't', 'a', 'v', 'i', 'z', 'i', 'o', 'n', '.', 'c', 'o', 'm', 'm', 'y', 'm', 'a', 'i', 'l', '@', 'y', 'a', 'h', 'o', 'o', '.', 'c', 'o', 'm', 'm', 'i', 'l', 'i', 'n', 'd', 'm', 'a', 'l', 'i', '@', 'g', 'o', 'o', 'g', 'l', 'e', '.', 'c', 'o', 'm', 's', 'n', 'e', 'h', 'a', 'l', '@', 'h', 'e', 'a', 'l', 't', 'h', '.', 'c', 'o', 'm']\n"
          ]
        }
      ]
    },
    {
      "cell_type": "code",
      "source": [],
      "metadata": {
        "id": "cX2OgjGY35Wv"
      },
      "execution_count": null,
      "outputs": []
    }
  ]
}