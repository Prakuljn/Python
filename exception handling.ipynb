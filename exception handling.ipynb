{
 "cells": [
  {
   "cell_type": "code",
   "execution_count": 1,
   "id": "d3fe98af-7c2e-41ef-8755-78e404a244c8",
   "metadata": {},
   "outputs": [
    {
     "name": "stdout",
     "output_type": "stream",
     "text": [
      "hello\n"
     ]
    },
    {
     "ename": "NameError",
     "evalue": "name 'x' is not defined",
     "output_type": "error",
     "traceback": [
      "\u001b[1;31m---------------------------------------------------------------------------\u001b[0m",
      "\u001b[1;31mNameError\u001b[0m                                 Traceback (most recent call last)",
      "Cell \u001b[1;32mIn[1], line 5\u001b[0m\n\u001b[0;32m      1\u001b[0m \u001b[38;5;66;03m# file handling\u001b[39;00m\n\u001b[0;32m      2\u001b[0m \u001b[38;5;66;03m# exceptional handling\u001b[39;00m\n\u001b[0;32m      3\u001b[0m \u001b[38;5;66;03m# exception => unwanted condition, situation \u001b[39;00m\n\u001b[0;32m      4\u001b[0m \u001b[38;5;28mprint\u001b[39m(\u001b[38;5;124m\"\u001b[39m\u001b[38;5;124mhello\u001b[39m\u001b[38;5;124m\"\u001b[39m)\n\u001b[1;32m----> 5\u001b[0m \u001b[43mx\u001b[49m\u001b[38;5;241m+\u001b[39m\u001b[38;5;241m10\u001b[39m \u001b[38;5;66;03m# it terminate the program \u001b[39;00m\n\u001b[0;32m      6\u001b[0m \u001b[38;5;28mprint\u001b[39m(\u001b[38;5;124m\"\u001b[39m\u001b[38;5;124mhey\u001b[39m\u001b[38;5;124m\"\u001b[39m)\n",
      "\u001b[1;31mNameError\u001b[0m: name 'x' is not defined"
     ]
    }
   ],
   "source": [
    "# file handling\n",
    "# exceptional handling\n",
    "# exception => unwanted condition, situation \n",
    "print(\"hello\")\n",
    "x+10 # it terminate the program \n",
    "print(\"hey\")"
   ]
  },
  {
   "cell_type": "code",
   "execution_count": 3,
   "id": "caa6d01c-4134-4fe3-8eb0-b05073436b01",
   "metadata": {},
   "outputs": [
    {
     "name": "stdout",
     "output_type": "stream",
     "text": [
      "hello\n",
      "error\n"
     ]
    }
   ],
   "source": [
    "# exceptional handling is used to handle error and run the remaining program\n",
    "# we use try : and except: function \n",
    "# such as\n",
    "try: # if the code written in try function and error occur it enter to except function \n",
    "    print(\"hello\")\n",
    "    x+10  # when error occur it terminate the code to error \n",
    "    print(\"hey\")\n",
    "except: # when error occur the expect function starts running\n",
    "    print(\"error\")"
   ]
  },
  {
   "cell_type": "code",
   "execution_count": 6,
   "id": "0bb3f33f-c365-42bc-ad65-8515c31dfd25",
   "metadata": {},
   "outputs": [
    {
     "name": "stdout",
     "output_type": "stream",
     "text": [
      "hello\n",
      "error name 'x' is not defined\n"
     ]
    }
   ],
   "source": [
    "try:\n",
    "    print(\"hello\")\n",
    "    x+10  \n",
    "    print(\"hey\")\n",
    "except NameError as e: \n",
    "    print(\"error\",e)"
   ]
  },
  {
   "cell_type": "code",
   "execution_count": 8,
   "id": "3ea734b5-14bb-494f-b432-00d11af83541",
   "metadata": {},
   "outputs": [
    {
     "name": "stdout",
     "output_type": "stream",
     "text": [
      "hello\n",
      "error name 'x' is not defined\n"
     ]
    }
   ],
   "source": [
    "try:\n",
    "    print(\"hello\")\n",
    "    s=\"st\"\n",
    "    x+10\n",
    "    print(\"hey\")\n",
    "except NameError as e: \n",
    "    print(\"error\",e)"
   ]
  },
  {
   "cell_type": "code",
   "execution_count": 9,
   "id": "8ed6df70-d50c-4aad-9d09-12ed99687daf",
   "metadata": {},
   "outputs": [
    {
     "name": "stdout",
     "output_type": "stream",
     "text": [
      "Hello\n",
      "Error!!!! name 'z' is not defined\n"
     ]
    }
   ],
   "source": [
    "try: \n",
    "    print(\"Hello\")\n",
    "    z+10 \n",
    "    print(\"hey\")\n",
    "except NameError as n_error: #here we know if any name error occurs then we store it in variiable using as and print it\n",
    "    print(\"Error!!!!\",n_error)"
   ]
  },
  {
   "cell_type": "code",
   "execution_count": 10,
   "id": "9c4a9286-e65a-41bf-924c-3ec15e0f6cba",
   "metadata": {},
   "outputs": [
    {
     "name": "stdout",
     "output_type": "stream",
     "text": [
      "hello\n"
     ]
    },
    {
     "ename": "IndexError",
     "evalue": "string index out of range",
     "output_type": "error",
     "traceback": [
      "\u001b[1;31m---------------------------------------------------------------------------\u001b[0m",
      "\u001b[1;31mIndexError\u001b[0m                                Traceback (most recent call last)",
      "Cell \u001b[1;32mIn[10], line 4\u001b[0m\n\u001b[0;32m      2\u001b[0m \u001b[38;5;28mprint\u001b[39m(\u001b[38;5;124m\"\u001b[39m\u001b[38;5;124mhello\u001b[39m\u001b[38;5;124m\"\u001b[39m)\n\u001b[0;32m      3\u001b[0m s\u001b[38;5;241m=\u001b[39m\u001b[38;5;124m\"\u001b[39m\u001b[38;5;124mst\u001b[39m\u001b[38;5;124m\"\u001b[39m\n\u001b[1;32m----> 4\u001b[0m \u001b[43ms\u001b[49m\u001b[43m[\u001b[49m\u001b[38;5;241;43m5\u001b[39;49m\u001b[43m]\u001b[49m\n\u001b[0;32m      5\u001b[0m x\u001b[38;5;241m+\u001b[39m\u001b[38;5;241m10\u001b[39m\n\u001b[0;32m      6\u001b[0m \u001b[38;5;28mprint\u001b[39m(\u001b[38;5;124m\"\u001b[39m\u001b[38;5;124mhey\u001b[39m\u001b[38;5;124m\"\u001b[39m)\n",
      "\u001b[1;31mIndexError\u001b[0m: string index out of range"
     ]
    }
   ],
   "source": [
    "try:\n",
    "    print(\"hello\")\n",
    "    s=\"st\"\n",
    "    s[5]\n",
    "    x+10\n",
    "    print(\"hey\")\n",
    "except NameError as e: \n",
    "    print(\"error\",e)"
   ]
  },
  {
   "cell_type": "code",
   "execution_count": 11,
   "id": "2d3b561f-f37a-474f-ab61-10ce1b8c8559",
   "metadata": {},
   "outputs": [
    {
     "name": "stdout",
     "output_type": "stream",
     "text": [
      "hello\n",
      "error string index out of range\n"
     ]
    }
   ],
   "source": [
    "try:\n",
    "    print(\"hello\")\n",
    "    s=\"st\"\n",
    "    s[5]\n",
    "    x+10\n",
    "    print(\"hey\")\n",
    "except (NameError,IndexError) as e: #we can define mumtiple error in one except or also can single single\n",
    "    print(\"error\",e)"
   ]
  },
  {
   "cell_type": "code",
   "execution_count": 12,
   "id": "ef02acdf-953a-44c1-a6e6-18ca4d19cec2",
   "metadata": {},
   "outputs": [
    {
     "name": "stdout",
     "output_type": "stream",
     "text": [
      "hello\n",
      "error string index out of range\n"
     ]
    }
   ],
   "source": [
    "try:\n",
    "    print(\"hello\")\n",
    "    s=\"st\"\n",
    "    s[5]\n",
    "    x+10\n",
    "    print(\"hey\")\n",
    "except NameError as e: #we can define mumtiple error in one except or also can single single\n",
    "    print(\"error\",e)\n",
    "except IndexError as e: #we can define mumtiple error in one except or also can single single\n",
    "    print(\"error\",e)"
   ]
  },
  {
   "cell_type": "code",
   "execution_count": 18,
   "id": "069bab97-af01-424b-a3bb-8e77700149ba",
   "metadata": {},
   "outputs": [
    {
     "name": "stdout",
     "output_type": "stream",
     "text": [
      "outer error name 'aab' is not defined\n"
     ]
    }
   ],
   "source": [
    "# nested try except\n",
    "\n",
    "try:\n",
    "    aab\n",
    "    try:\n",
    "        print(\"hello\")\n",
    "        s=\"st\"\n",
    "        s[5]\n",
    "        x+10\n",
    "    except NameError as e: #we can define mumtiple error in one except or also can single single\n",
    "        print(\"inner error\",e)\n",
    "    except IndexError as e: #we can define mumtiple error in one except or also can single single\n",
    "        print(\"inner error\",e)\n",
    "    x+1\n",
    "    print(\"hey\")\n",
    "except NameError as e: #we can define mumtiple error in one except or also can single single\n",
    "    print(\"outer error\",e)\n",
    "except IndexError as e: #we can define mumtiple error in one except or also can single single\n",
    "    print(\"outer error\",e)"
   ]
  },
  {
   "cell_type": "code",
   "execution_count": 24,
   "id": "78d27ca2-02f6-45ee-885d-bc01bc203e18",
   "metadata": {},
   "outputs": [
    {
     "name": "stdout",
     "output_type": "stream",
     "text": [
      "hello\n",
      "hey\n",
      "else statement no error found\n"
     ]
    }
   ],
   "source": [
    "# else and finally  function is used with try and except\n",
    "try:\n",
    "    print(\"hello\")\n",
    "    s=\"st\"\n",
    "    s[1]\n",
    "    print(\"hey\")\n",
    "except (NameError,IndexError) as e:\n",
    "    print(\"error\",e)\n",
    "else: # it terminate when there is no error in try function \n",
    "    print(\"else statement no error found\")"
   ]
  },
  {
   "cell_type": "code",
   "execution_count": 25,
   "id": "1547393b-5595-4b27-acc4-77020c36790a",
   "metadata": {},
   "outputs": [
    {
     "name": "stdout",
     "output_type": "stream",
     "text": [
      "hello\n",
      "error name 'x' is not defined\n"
     ]
    }
   ],
   "source": [
    "# else and finally  function is used with try and except\n",
    "try:\n",
    "    print(\"hello\")\n",
    "    s=\"st\"\n",
    "    s[1]\n",
    "    x+10  # if there was an error else function doesn't work\n",
    "    print(\"hey\")\n",
    "except (NameError,IndexError) as e:\n",
    "    print(\"error\",e)\n",
    "else: # it terminate when there is no error in try function \n",
    "    print(\"else statement no error found\")"
   ]
  },
  {
   "cell_type": "code",
   "execution_count": 27,
   "id": "f158f2a3-b554-4780-84c0-2c57c1e11c54",
   "metadata": {},
   "outputs": [
    {
     "name": "stdout",
     "output_type": "stream",
     "text": [
      "hello\n",
      "error name 'x' is not defined\n",
      "always work at end \n"
     ]
    }
   ],
   "source": [
    "# else and finally  function is used with try and except\n",
    "try:\n",
    "    print(\"hello\")\n",
    "    s=\"st\"\n",
    "    s[1]\n",
    "    x+10  # if there was an error else function doesn't work\n",
    "    print(\"hey\")\n",
    "except (NameError,IndexError) as e:\n",
    "    print(\"error\",e)\n",
    "else: # it terminate when there is no error in try function \n",
    "    print(\"else statement no error found\")\n",
    "finally :\n",
    "    print(\"always work at end \") # it doesn't matter error is there or not it always work at end"
   ]
  },
  {
   "cell_type": "code",
   "execution_count": 29,
   "id": "c37f13d5-58ea-4660-a556-e9562569ca90",
   "metadata": {},
   "outputs": [
    {
     "name": "stdout",
     "output_type": "stream",
     "text": [
      "hello user\n"
     ]
    }
   ],
   "source": [
    "# raise funnction used defiene the error \n",
    "age=19\n",
    "try:\n",
    "    if age<18:\n",
    "        raise ValueError\n",
    "    else:\n",
    "         print(\"hello user\")    \n",
    "except ValueError : # in this we know the error is value error which is defined by raise function \n",
    "    print(\"invalid age\")\n",
    "    "
   ]
  },
  {
   "cell_type": "code",
   "execution_count": 31,
   "id": "e6b1b40b-303f-4672-b0fd-7f09b426109d",
   "metadata": {},
   "outputs": [],
   "source": [
    "# assignment for interwiev question:\n",
    "    # what is assert keyword or statement\n",
    "    # python 2 and python 3\n",
    "    # call by object and call by value\n",
    "    # list vs tuple\n",
    "    # dictionay and set use case\n",
    "    # function *args and  **kwargs\n",
    "    # normal function and lambda function\n",
    "    # first class function and high class function\n",
    "    # asserts\n",
    "    # list /array /stack question =>very important (lifo and fifo)\n",
    "    # question on stack , queue and linked list (important) \n",
    "    # generators is most important in data sccience"
   ]
  },
  {
   "cell_type": "code",
   "execution_count": null,
   "id": "a99d0711-da40-4ef7-a697-f9eea36d394b",
   "metadata": {},
   "outputs": [],
   "source": [
    "# today assignment \n",
    "# assert and assert statement\n",
    "# what is generator and how it is different from normal function and its return keyword"
   ]
  }
 ],
 "metadata": {
  "kernelspec": {
   "display_name": "Python 3 (ipykernel)",
   "language": "python",
   "name": "python3"
  },
  "language_info": {
   "codemirror_mode": {
    "name": "ipython",
    "version": 3
   },
   "file_extension": ".py",
   "mimetype": "text/x-python",
   "name": "python",
   "nbconvert_exporter": "python",
   "pygments_lexer": "ipython3",
   "version": "3.13.1"
  },
  "widgets": {
   "application/vnd.jupyter.widget-state+json": {
    "state": {},
    "version_major": 2,
    "version_minor": 0
   }
  }
 },
 "nbformat": 4,
 "nbformat_minor": 5
}
