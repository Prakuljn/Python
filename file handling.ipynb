{
 "cells": [
  {
   "cell_type": "code",
   "execution_count": 5,
   "id": "17c40964-27f3-45a2-b091-d2da66902961",
   "metadata": {},
   "outputs": [
    {
     "name": "stdout",
     "output_type": "stream",
     "text": [
      "hello my name is prakul jain\n"
     ]
    }
   ],
   "source": [
    "# file handling\n",
    "fileobj=open(\"prakul.txt\",\"r\") # step 1 open the file we use\n",
    "x=fileobj.read() # step 2 operations on file \n",
    "print(x)\n",
    "fileobj.close() # step 3 close the file"
   ]
  },
  {
   "cell_type": "code",
   "execution_count": 75,
   "id": "0cb69305-6c2a-4a81-ac19-c06147f8400d",
   "metadata": {},
   "outputs": [],
   "source": [
    "# r mode is used to read the file \n",
    "# w mode is used to write in file (overwrite the data )\n",
    "# w+ mode first delete the data then we can update the data\n",
    "# r+ mode is used to read and write the data (this function is depend on the task first argument )\n",
    "# .tell() is used to return the position of cursur\n",
    "# .seek() function is used to change the position of cursur\n",
    "# with open function is used to access the file from memory address \n",
    "# read() to read function is used to read all data only\n",
    "# readline() is used to read the line only\n",
    "# readlines() is used to read the lines in form of list\n",
    "# .strip() is used to remove unwanted character starting and ending\n",
    "# .split() function is used to remove the space and store data in list\n",
    "# .join() is used to convert list to string with white space\n",
    "# import csv is used to read comma seperated value (it is a package )"
   ]
  },
  {
   "cell_type": "code",
   "execution_count": 76,
   "id": "00d33563-3482-4e00-9691-bbd3e37ea5bd",
   "metadata": {},
   "outputs": [],
   "source": [
    "fileobj=open(\"prakul.txt\",\"w\") # step 1 open the file we use\n",
    "fileobj.write(\"prakul jain\") # step 2 operations on file \n",
    "fileobj.close() # step 3 close the file"
   ]
  },
  {
   "cell_type": "code",
   "execution_count": 55,
   "id": "31def550-8836-4bc7-8d63-15d36cb099e8",
   "metadata": {},
   "outputs": [],
   "source": [
    "fileobj=open(\"prakul.txt\",\"r+\")# step 1 open the file we use\n",
    "x=fileobj.read()\n",
    "fileobj.write(\" prakul jain\") # step 2 operations on file \n",
    "fileobj.close() # step 3 close the file"
   ]
  },
  {
   "cell_type": "code",
   "execution_count": 56,
   "id": "0f03a4fa-2c40-48c6-9ec1-257b850eaa73",
   "metadata": {},
   "outputs": [
    {
     "name": "stdout",
     "output_type": "stream",
     "text": [
      "l jain prakul jain\n"
     ]
    }
   ],
   "source": [
    "fileobj=open(\"prakul.txt\",\"r+\")# step 1 open the file we use\n",
    "fileobj.write(\"jain \") # step 2 operations on file \n",
    "x=fileobj.read()\n",
    "print(x)\n",
    "fileobj.close() # step 3 close the file\n"
   ]
  },
  {
   "cell_type": "code",
   "execution_count": 57,
   "id": "dc9e4fa8-2b1c-406d-9d25-3f60ffae9811",
   "metadata": {},
   "outputs": [],
   "source": [
    "fileobj=open(\"prakul.txt\",\"w+\")# step 1 open the file we use\n",
    "fileobj.write(\"jain \") # step 2 operations on file \n",
    "x=fileobj.read()\n",
    "fileobj.close() # step 3 close the file"
   ]
  },
  {
   "cell_type": "code",
   "execution_count": 58,
   "id": "91ea55d9-7458-4516-a171-31c8476490fc",
   "metadata": {},
   "outputs": [
    {
     "name": "stdout",
     "output_type": "stream",
     "text": [
      "1: 0\n",
      "2: 5\n"
     ]
    }
   ],
   "source": [
    "fileobj=open(\"prakul.txt\",\"w+\")# step 1 open the file we use\n",
    "print(\"1:\",fileobj.tell())\n",
    "fileobj.write(\"jain \") # step 2 operations on file \n",
    "print(\"2:\",fileobj.tell())\n",
    "fileobj.close() # step 3 close the file"
   ]
  },
  {
   "cell_type": "code",
   "execution_count": 59,
   "id": "c13d5a94-55c7-4f85-9aac-690d9929409a",
   "metadata": {},
   "outputs": [
    {
     "name": "stdout",
     "output_type": "stream",
     "text": [
      "1: 0\n",
      "2: 11\n",
      "3: 5\n"
     ]
    }
   ],
   "source": [
    "fileobj=open(\"prakul.txt\",\"w+\")# step 1 open the file we use\n",
    "print(\"1:\",fileobj.tell())\n",
    "fileobj.write(\"jain prakul\") # step 2 operations on file \n",
    "print(\"2:\",fileobj.tell())\n",
    "fileobj.seek(5)\n",
    "print(\"3:\",fileobj.tell())\n",
    "fileobj.close() # step 3 close the file"
   ]
  },
  {
   "cell_type": "code",
   "execution_count": 60,
   "id": "bc760e58-4088-4f18-b264-c3ffc655b287",
   "metadata": {},
   "outputs": [
    {
     "name": "stdout",
     "output_type": "stream",
     "text": [
      "jain prakul\n"
     ]
    }
   ],
   "source": [
    "with open (\"prakul.txt\",\"r\") as f:\n",
    "    x=f.read()\n",
    "    print(x)"
   ]
  },
  {
   "cell_type": "code",
   "execution_count": 61,
   "id": "faae19e8-2c28-472f-8b5c-c071bb39fca2",
   "metadata": {},
   "outputs": [
    {
     "name": "stdout",
     "output_type": "stream",
     "text": [
      "jain prakul\n"
     ]
    }
   ],
   "source": [
    "with open (\"prakul.txt\",\"r\") as f:\n",
    "    x=f.readline()\n",
    "    print(x)"
   ]
  },
  {
   "cell_type": "code",
   "execution_count": 62,
   "id": "63e34e5c-670c-42b0-b89e-c74558795a83",
   "metadata": {},
   "outputs": [
    {
     "name": "stdout",
     "output_type": "stream",
     "text": [
      "jain prakul\n"
     ]
    }
   ],
   "source": [
    "with open (\"prakul.txt\",\"r\") as f:\n",
    "    for x in f:\n",
    "        print(x)"
   ]
  },
  {
   "cell_type": "code",
   "execution_count": 63,
   "id": "d6584c41-c21a-424b-b858-727279d82934",
   "metadata": {},
   "outputs": [
    {
     "name": "stdout",
     "output_type": "stream",
     "text": [
      "jain prakul\n"
     ]
    }
   ],
   "source": [
    "with open (\"prakul.txt\",\"r\") as f:\n",
    "    for x in f:\n",
    "        print(x)"
   ]
  },
  {
   "cell_type": "code",
   "execution_count": 65,
   "id": "483ae465-2371-4bc6-8149-edac13706faf",
   "metadata": {},
   "outputs": [
    {
     "name": "stdout",
     "output_type": "stream",
     "text": [
      "jain prakul <class 'str'>\n"
     ]
    }
   ],
   "source": [
    "with open (\"prakul.txt\",\"r\") as f:\n",
    "    for x in f:\n",
    "        print(x.strip(),     type(x)          )"
   ]
  },
  {
   "cell_type": "code",
   "execution_count": 66,
   "id": "53eb2901-2f7d-4264-ad8c-715078819007",
   "metadata": {},
   "outputs": [
    {
     "name": "stdout",
     "output_type": "stream",
     "text": [
      "['jain', 'prakul']\n"
     ]
    }
   ],
   "source": [
    "with open (\"prakul.txt\",\"r\") as f:\n",
    "    for x in f:\n",
    "        x=x.split()\n",
    "        print(x)"
   ]
  },
  {
   "cell_type": "code",
   "execution_count": 72,
   "id": "0d175dfa-3601-4989-8c58-6b4a8bc8d923",
   "metadata": {},
   "outputs": [
    {
     "name": "stdout",
     "output_type": "stream",
     "text": [
      "('name:', 'jain', 'caste:', '10\\n')\n",
      "('name:', 'prakul', 'caste:', '20\\n')\n",
      "('name:', 'aman', 'caste:', '30')\n"
     ]
    }
   ],
   "source": [
    "with open (\"prakul.txt\",\"r\") as f:\n",
    "    for x in f:\n",
    "        name,caste= x.split(\",\")\n",
    "        print((\"name:\",name,\"caste:\",caste))"
   ]
  },
  {
   "cell_type": "code",
   "execution_count": 74,
   "id": "23a013b1-797a-46ce-9bfe-45361ea01ede",
   "metadata": {},
   "outputs": [
    {
     "name": "stdout",
     "output_type": "stream",
     "text": [
      "('name:', 'jain', 'caste:', '30')\n",
      "('name:', 'prakul', 'caste:', '30')\n",
      "('name:', 'aman', 'caste:', '30')\n"
     ]
    }
   ],
   "source": [
    "import csv\n",
    "fileobj=open(\"prakul.txt\",\"r\")\n",
    "fcsv=csv.reader(fileobj)\n",
    "for i in fcsv:\n",
    "    name,age=i\n",
    "    print((\"name:\",name,\"caste:\",caste))"
   ]
  },
  {
   "cell_type": "code",
   "execution_count": null,
   "id": "fb0179df-4f87-49a9-a349-94b6380898a6",
   "metadata": {},
   "outputs": [],
   "source": []
  }
 ],
 "metadata": {
  "kernelspec": {
   "display_name": "Python 3 (ipykernel)",
   "language": "python",
   "name": "python3"
  },
  "language_info": {
   "codemirror_mode": {
    "name": "ipython",
    "version": 3
   },
   "file_extension": ".py",
   "mimetype": "text/x-python",
   "name": "python",
   "nbconvert_exporter": "python",
   "pygments_lexer": "ipython3",
   "version": "3.13.1"
  },
  "widgets": {
   "application/vnd.jupyter.widget-state+json": {
    "state": {},
    "version_major": 2,
    "version_minor": 0
   }
  }
 },
 "nbformat": 4,
 "nbformat_minor": 5
}
