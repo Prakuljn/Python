{
 "cells": [
  {
   "cell_type": "markdown",
   "id": "d48f893e-7af9-49ce-b750-b7edb6a841ad",
   "metadata": {},
   "source": [
    "# Test 1"
   ]
  },
  {
   "cell_type": "markdown",
   "id": "a4116395-79af-4f8b-a19b-9bdf8950c1dc",
   "metadata": {},
   "source": [
    "# Case Study 1: Healthcare System (Patient Record Management)\n",
    "\n",
    "Problem: Develop a system for managing patient records in a hospital where:\n",
    "\n",
    "Patient details (name, age, and medical history) should be private.\n",
    "\n",
    "Only authorized methods can retrieve or update medical history.\n",
    "\n",
    "Provide a method to add new medical records while keeping previous data secure."
   ]
  },
  {
   "cell_type": "code",
   "execution_count": 10,
   "id": "b3312ba2-50c1-4776-9a2c-de0291fdc2f0",
   "metadata": {},
   "outputs": [
    {
     "name": "stdin",
     "output_type": "stream",
     "text": [
      "Enter patient name : ABC\n",
      "Enter patient age : 45\n"
     ]
    },
    {
     "name": "stdout",
     "output_type": "stream",
     "text": [
      "Name : ABC, Age : 45\n",
      "Patient record added successfully!\n",
      "Patient medical history is : ['Blood Cancer!']\n",
      "Patient record updated successfully!\n",
      "Patient medical updated record : ['Blood Cancer!', 'Asthma!']\n"
     ]
    }
   ],
   "source": [
    "class HealthcareSystem:\n",
    "    \n",
    "    def __init__(self,name,age):\n",
    "        self.__name=name\n",
    "        self.__age=age\n",
    "        self.__medical_history=[]\n",
    "        \n",
    "    def patient_details(self):\n",
    "        return f\"Name : {self.__name}, Age : {self.__age}\"\n",
    "        \n",
    "    def patient_records(self,record):\n",
    "        self.__medical_history.append(record)\n",
    "        print(\"Patient record added successfully!\")\n",
    "\n",
    "    def patient_medical_history(self):\n",
    "        return self.__medical_history\n",
    "\n",
    "    def update_patient_records(self,new_record):\n",
    "        self.__medical_history.append(new_record)\n",
    "        print(\"Patient record updated successfully!\")\n",
    "\n",
    "name=input(\"Enter patient name :\")\n",
    "age=int(input(\"Enter patient age :\"))\n",
    "\n",
    "patient=HealthcareSystem(name,age)\n",
    "\n",
    "print(patient.patient_details())\n",
    "\n",
    "patient.patient_records(\"Blood Cancer!\")\n",
    "print(\"Patient medical history is :\",patient.patient_medical_history())\n",
    "\n",
    "patient.update_patient_records(\"Asthma!\")\n",
    "print(\"Patient medical updated record :\",patient.patient_medical_history())"
   ]
  },
  {
   "cell_type": "markdown",
   "id": "c07faddf-33bd-4c7b-8711-10c3ecae696a",
   "metadata": {},
   "source": [
    "# Case Study 2: Online Examination System\n",
    "\n",
    "Problem: Create a system for online examinations where:\n",
    "\n",
    "Student scores are private and cannot be accessed directly.\n",
    "\n",
    "Scores can only be added or retrieved using specific methods.\n",
    "\n",
    "Implement a feature to calculate the average score of the student."
   ]
  },
  {
   "cell_type": "code",
   "execution_count": 17,
   "id": "11bb6a99-f69c-4917-90b4-3472535e607c",
   "metadata": {},
   "outputs": [
    {
     "name": "stdout",
     "output_type": "stream",
     "text": [
      "Scores added successfully!\n",
      "Scores added successfully!\n",
      "Scores added successfully!\n",
      "Scores added successfully!\n",
      "Scores added successfully!\n",
      "Name : Anmol, Scores : [90, 91, 89, 70, 85]\n",
      "Avg score is : 85.0\n"
     ]
    }
   ],
   "source": [
    "class Student:\n",
    "    \n",
    "    def __init__(self,name):\n",
    "        self.__name=name\n",
    "        self.__scores=[]\n",
    "\n",
    "    def score(self,new_score):\n",
    "        self.__scores.append(new_score)\n",
    "        print(\"Scores added successfully!\")\n",
    "\n",
    "    def student_details(self):\n",
    "        return f\"Name : {self.__name}, Scores : {self.__scores}\"\n",
    "    \n",
    "    def avg_score(self):\n",
    "        avg=sum(self.__scores)/len(self.__scores)\n",
    "        return avg\n",
    "\n",
    "student1=Student(\"Anmol\")\n",
    "student1.score(90)\n",
    "student1.score(91)\n",
    "student1.score(89)\n",
    "student1.score(70)\n",
    "student1.score(85)\n",
    "print(student1.student_details())\n",
    "print(\"Avg score is :\",student1.avg_score())"
   ]
  },
  {
   "cell_type": "markdown",
   "id": "e776dc86-9334-4a78-a30b-af17b0e35459",
   "metadata": {},
   "source": [
    "# Case Study 3: E-Commerce Order Management\n",
    "\n",
    "Scenario: You are designing an e-commerce order system. The system includes:\n",
    "\n",
    "Customer class (with name and contact details).\n",
    "\n",
    "Product class (with name and price).\n",
    "\n",
    "Order class (that inherits Customer and Product to manage customer orders).\n",
    "\n",
    "Requirements:\n",
    "\n",
    "Customer should store customer details.\n",
    "\n",
    "Product should store product details.\n",
    "\n",
    "Order should generate an order summary for a customer, including product details."
   ]
  },
  {
   "cell_type": "code",
   "execution_count": 45,
   "id": "878c8d09-79cc-4b5b-9818-083f62165ea9",
   "metadata": {},
   "outputs": [
    {
     "name": "stdout",
     "output_type": "stream",
     "text": [
      "Customer Details => Name : Anmol Contact : anmol@gmail.com\n",
      "Product Details => Product name : Laptop Product price : 100000.0\n",
      "Order Summary => Name : Anmol Contact : anmol@gmail.com Product name : Laptop Product price : 100000.0\n"
     ]
    }
   ],
   "source": [
    "class Customer:\n",
    "    \n",
    "    def __init__(self,name,contact):\n",
    "        self.name=name\n",
    "        self.contact=contact\n",
    "\n",
    "    def customer_details(self):\n",
    "        return f\"Name : {self.name} Contact : {self.contact}\"\n",
    "\n",
    "class Product:\n",
    "\n",
    "    def __init__(self,p_name,p_price):\n",
    "        self.p_name=p_name\n",
    "        self.p_price=p_price\n",
    "\n",
    "    def product_details(self):\n",
    "        return f\"Product name : {self.p_name} Product price : {self.p_price}\"\n",
    "\n",
    "class Order(Customer,Product):\n",
    "    \n",
    "    def __init__(self,name,contact,p_name,p_price):\n",
    "        Customer.__init__(self,name,contact)\n",
    "        Product.__init__(self,p_name,p_price)\n",
    "\n",
    "    def order_summary(self):\n",
    "        return f\"{self.customer_details()} {self.product_details()}\"\n",
    "\n",
    "customer1=Order(\"Anmol\",\"anmol@gmail.com\",\"Laptop\",100000.00)\n",
    "print(\"Customer Details =>\",customer1.customer_details())\n",
    "print(\"Product Details =>\",customer1.product_details())\n",
    "print(\"Order Summary =>\",customer1.order_summary())"
   ]
  },
  {
   "cell_type": "markdown",
   "id": "b586022f-58c1-4588-b65d-a83181df48ba",
   "metadata": {},
   "source": [
    "# Case Study 4:Personal Shopping Assistant\n",
    "\n",
    "Problem Statement:\n",
    "\n",
    "Develop an Personal Shopping Assistant to help users find products based on their preferences and\n",
    "budget.\n",
    "\n",
    "Requirements:\n",
    "\n",
    "Classes:\n",
    "\n",
    "User: Attributes include user_id, name, preferences, and budget.\n",
    "\n",
    "Product: Attributes include product_id, name, category, and price.\n",
    "\n",
    "ShoppingAssistant: Recommends products, tracks shopping lists, and manages orders.\n",
    "\n",
    "Features:\n",
    "\n",
    "Recommend products based on the users preferences (e.g., clothing style, electronics brand).\n",
    "\n",
    "Create and manage a shopping cart with dynamic budget updates.\n",
    "\n",
    "Generate personalized deals based on user purchase history.\n",
    "\n",
    "Provide insights such as total spending trends and savings."
   ]
  },
  {
   "cell_type": "code",
   "execution_count": 20,
   "id": "ecffea1b-53be-4d3e-919e-49f1c4ada472",
   "metadata": {},
   "outputs": [
    {
     "name": "stdout",
     "output_type": "stream",
     "text": [
      "Suggested Product: laptop_001, HP Laptop, Price: 45000\n"
     ]
    }
   ],
   "source": [
    "class User:\n",
    "\n",
    "    def __init__(self,user_id,name,preferences,budget):\n",
    "        self.user_id=user_id\n",
    "        self.name=name\n",
    "        self.preferences=preferences\n",
    "        self.budget=budget\n",
    "\n",
    "class Product:\n",
    "    def __init__(self,product_id,p_name,category,price):\n",
    "        self.product_id=product_id\n",
    "        self.p_name=p_name\n",
    "        self.category=category\n",
    "        self.price=price\n",
    "\n",
    "class ShoppingAssitant(User,Product):\n",
    "\n",
    "    def __init__(self,user_id,name,preferences,budget,product_id,p_name,category,price):\n",
    "        User.__init__(self,user_id,name,preferences,budget)\n",
    "        Product.__init__(self,product_id,p_name,category,price)\n",
    "\n",
    "    def assist(self):\n",
    "        if self.budget >= self.price:\n",
    "            return f\"Suggested Product: {self.product_id}, {self.p_name}, Price: {self.price}\"\n",
    "        else:\n",
    "            return \"Not in budget\"\n",
    "\n",
    "user = ShoppingAssitant(\"anmol_123\", \"Anmol\", \"electronic\", 50000, \"laptop_001\", \"HP Laptop\", \"electronic\", 45000)\n",
    "print(user.assist())"
   ]
  },
  {
   "cell_type": "markdown",
   "id": "54d6b625-c89c-4123-be92-04f7aa495d78",
   "metadata": {},
   "source": [
    "# Test 2"
   ]
  },
  {
   "cell_type": "markdown",
   "id": "48f1a14f-26b0-4f7e-a3fd-16d19ade20b5",
   "metadata": {},
   "source": [
    "# Case Study 1: Student Management System\n",
    "\n",
    "Problem Statement:\n",
    "\n",
    "Create a system to store student details and display their information.\n",
    "\n",
    "Requirements:\n",
    "\n",
    " Define a class Student with attributes: name, roll_number, and grade.\n",
    "\n",
    " Create methods to:\n",
    "\n",
    "    o display_details(): Print student details.\n",
    "\n",
    "    o update_grade(new_grade): Update the student&#39;s grade.\n"
   ]
  },
  {
   "cell_type": "code",
   "execution_count": 63,
   "id": "3ffb15e0-c228-4d87-871e-b4e6b71f225a",
   "metadata": {},
   "outputs": [
    {
     "name": "stdin",
     "output_type": "stream",
     "text": [
      "Enter the name of the Student : Anmol\n",
      "Enter the roll number of the student : 20\n",
      "Enter the grade of the Student from Grade(A,B,C,D) : B\n"
     ]
    },
    {
     "name": "stdout",
     "output_type": "stream",
     "text": [
      "Name : Anmol, Roll Number : 20, Grade : B\n"
     ]
    },
    {
     "name": "stdin",
     "output_type": "stream",
     "text": [
      "Enter the updated grade of the Student from Grade(A,B,C,D) : A\n"
     ]
    },
    {
     "name": "stdout",
     "output_type": "stream",
     "text": [
      "Grade is A updated successfully!\n",
      "Name : Anmol, Roll Number : 20, Grade : A\n"
     ]
    }
   ],
   "source": [
    "class Student:\n",
    "    \n",
    "    def __init__(self,name,roll_number,grade):\n",
    "        self.name=name\n",
    "        self.roll_number=roll_number\n",
    "        self.grade=grade\n",
    "\n",
    "    def display_details(self):\n",
    "        return f\"Name : {self.name}, Roll Number : {self.roll_number}, Grade : {self.grade}\"\n",
    "\n",
    "    def update_grades(self,new_grade):\n",
    "        self.grade=new_grade\n",
    "        print(f\"Grade is {new_grade} updated successfully!\")\n",
    "\n",
    "name=input(\"Enter the name of the Student :\")\n",
    "roll_number=int(input(\"Enter the roll number of the student :\"))\n",
    "grade=input(\"Enter the grade of the Student from Grade(A,B,C,D) :\")\n",
    "student1=Student(name,roll_number,grade)\n",
    "print(student1.display_details())\n",
    "new_grade=input(\"Enter the updated grade of the Student from Grade(A,B,C,D) :\")\n",
    "student1.update_grades(new_grade)\n",
    "print(student1.display_details())"
   ]
  },
  {
   "cell_type": "markdown",
   "id": "8dbb40fb-0fae-4e2b-8b43-86e716ae5bc4",
   "metadata": {},
   "source": [
    "# Case Study 2: Car Showroom\n",
    "\n",
    "Problem Statement:\n",
    "\n",
    "Develop a system to manage cars in a showroom.\n",
    "\n",
    "Requirements:\n",
    "\n",
    " Define a class Car with attributes: brand, model, price.\n",
    "\n",
    " Implement methods:\n",
    "\n",
    "    o display_info(): Show car details.\n",
    "    \n",
    "    o apply_discount(discount): Reduce price based on the discount percentage."
   ]
  },
  {
   "cell_type": "code",
   "execution_count": 71,
   "id": "0377c4fd-059a-492d-a659-71f24b235c00",
   "metadata": {},
   "outputs": [
    {
     "name": "stdin",
     "output_type": "stream",
     "text": [
      "Enter the brand of the car you want to purchase : volvo\n",
      "Enter the model of the car : xc90\n",
      "Enter the estimated price of the car : 20000000\n"
     ]
    },
    {
     "name": "stdout",
     "output_type": "stream",
     "text": [
      "Car brand : volvo, Car model : xc90, Car price : 20000000\n",
      "Discount Price is : 2000000.0\n",
      "After Discount the total amount for paying is : 18000000.0\n"
     ]
    }
   ],
   "source": [
    "class Car:\n",
    "\n",
    "    def __init__(self,brand,model,price):\n",
    "        self.brand=brand\n",
    "        self.model=model\n",
    "        self.price=price\n",
    "\n",
    "    def display_info(self):\n",
    "        return f\"Car brand : {self.brand}, Car model : {self.model}, Car price : {self.price}\"\n",
    "\n",
    "    def apply_discount(self,discount):\n",
    "        if 0<=discount<=100:\n",
    "            discount_price=self.price*discount/100\n",
    "            print(f\"Discount Price is : {discount_price}\")\n",
    "            after_disc_price=self.price-discount_price\n",
    "            return(f\"After Discount the total amount for paying is : {after_disc_price}\")\n",
    "        else:\n",
    "            return(\"Invalid discount criteria!\")\n",
    "\n",
    "brand=input(\"Enter the brand of the car you want to purchase :\")\n",
    "model=input(\"Enter the model of the car :\")\n",
    "price=int(input(\"Enter the estimated price of the car :\"))\n",
    "car1=Car(brand,model,price)\n",
    "print(car1.display_info())\n",
    "print(car1.apply_discount(10))"
   ]
  },
  {
   "cell_type": "markdown",
   "id": "9ef3b2f2-54a2-4537-af5b-3b8bca406b13",
   "metadata": {},
   "source": [
    "# Case Study 3: Simple Calculator\n",
    "\n",
    "Problem Statement:\n",
    "\n",
    "Create a basic calculator that performs arithmetic operations.\n",
    "\n",
    "Requirements:\n",
    "\n",
    " Define a class Calculator with methods:\n",
    "\n",
    "    o add(a, b), subtract(a, b), multiply(a, b), divide(a, b).\n",
    "    \n",
    " Ensure division by zero is handled properly."
   ]
  },
  {
   "cell_type": "code",
   "execution_count": 77,
   "id": "7a8e3e4c-e1be-4e23-b8f5-0dce17c5e6aa",
   "metadata": {},
   "outputs": [
    {
     "name": "stdin",
     "output_type": "stream",
     "text": [
      "Enter the first num : 4\n",
      "Enter the second num : 2\n",
      "Choose ('+','-','*','/') :  +\n"
     ]
    },
    {
     "name": "stdout",
     "output_type": "stream",
     "text": [
      "Result 4.0 + 2.0 = 6.0\n"
     ]
    }
   ],
   "source": [
    "class Calculator:\n",
    "\n",
    "    def add(self,a,b):\n",
    "        return a+b\n",
    "\n",
    "    def subtract(self,a,b):\n",
    "        return a-b\n",
    "\n",
    "    def multiply(self,a,b):\n",
    "        return a*b\n",
    "\n",
    "    def divide(self,a,b):\n",
    "        if b==0:\n",
    "            return \"Division by 0 is not allowed!\"\n",
    "        else:\n",
    "            return a/b\n",
    "\n",
    "c=Calculator()\n",
    "n1=float(input(\"Enter the first num :\"))\n",
    "n2=float(input(\"Enter the second num :\"))\n",
    "operand=input(\"Choose ('+','-','*','/') : \")\n",
    "\n",
    "if operand=='+':\n",
    "    res=c.add(n1,n2)\n",
    "elif operand=='-':\n",
    "    res=c.subtract(n1,n2)\n",
    "elif operand=='*':\n",
    "    res=c.multiply(n1,n2)\n",
    "elif operand=='/':\n",
    "    res=c.divide(n1,n2)\n",
    "else:\n",
    "    res=\"Invalid operand!\"\n",
    "\n",
    "print(f\"Result {n1} {operand} {n2} = {res}\")"
   ]
  },
  {
   "cell_type": "markdown",
   "id": "2221f200-82db-48b6-9ef0-ca0ff50b7627",
   "metadata": {},
   "source": [
    "# Case Study 4: Movie Ticket Booking System\n",
    "\n",
    "Problem Statement:\n",
    "\n",
    "Build a basic movie ticket booking system.\n",
    "\n",
    "Requirements:\n",
    "\n",
    " Define a class Movie with attributes: name, available_seats.\n",
    "\n",
    " Implement methods:\n",
    "\n",
    "    o book_ticket(num_seats): Deduct seats if available.\n",
    "    \n",
    "    o show_details(): Display movie name and available seats."
   ]
  },
  {
   "cell_type": "code",
   "execution_count": 81,
   "id": "2da4a9bd-be4d-47e9-8599-8a089b313494",
   "metadata": {},
   "outputs": [
    {
     "name": "stdout",
     "output_type": "stream",
     "text": [
      "Movie name : KGF Available seats : 100\n",
      "5 Ticket booked successfully!\n",
      "Movie name : KGF Available seats : 95\n"
     ]
    }
   ],
   "source": [
    "class Movie:\n",
    "\n",
    "    def __init__(self,name,available_seats):\n",
    "        self.name=name\n",
    "        self.available_seats=available_seats\n",
    "\n",
    "    def book_ticket(self,num_seats):\n",
    "        if self.available_seats>num_seats:\n",
    "            self.available_seats-=num_seats\n",
    "            return f\"{num_seats} Ticket booked successfully!\"\n",
    "        else:\n",
    "            return f\"No seat available!\"\n",
    "\n",
    "    def show_details(self):\n",
    "        return f\"Movie name : {self.name} Available seats : {self.available_seats}\"\n",
    "\n",
    "movie1=Movie(\"KGF\",100)\n",
    "print(movie1.show_details())\n",
    "print(movie1.book_ticket(5))\n",
    "print(movie1.show_details())"
   ]
  },
  {
   "cell_type": "markdown",
   "id": "e00ee384-ad30-4f57-b79f-1e02897d0bee",
   "metadata": {},
   "source": [
    "# Case Study 5: Online Shopping Cart\n",
    "\n",
    "Problem Statement:\n",
    "\n",
    "Build an Online Shopping Cart system where users can add, remove, and view products in their cart.\n",
    "\n",
    "Requirements:\n",
    "\n",
    " Define a class Product with attributes: name, price, stock_quantity.\n",
    "\n",
    " Create a class ShoppingCart with methods to:\n",
    "\n",
    "    o add_product(product, quantity): Add a product to the cart.\n",
    "    \n",
    "    o remove_product(product): Remove a product from the cart.\n",
    "    \n",
    "    o view_cart(): Display all products with total price."
   ]
  },
  {
   "cell_type": "code",
   "execution_count": 18,
   "id": "f8233d00-c17f-49aa-b33f-6e49a76dac83",
   "metadata": {},
   "outputs": [
    {
     "name": "stdin",
     "output_type": "stream",
     "text": [
      "Which Product Do You Want To Add?\n",
      "Enter 1 for Laptop (₹50,000)\n",
      "Enter 2 for Mobile (₹20,000)\n",
      "Enter 0 to stop adding products\n",
      " 1\n"
     ]
    },
    {
     "name": "stdout",
     "output_type": "stream",
     "text": [
      "Laptop added to cart successfully!\n"
     ]
    },
    {
     "name": "stdin",
     "output_type": "stream",
     "text": [
      "Which Product Do You Want To Add?\n",
      "Enter 1 for Laptop (₹50,000)\n",
      "Enter 2 for Mobile (₹20,000)\n",
      "Enter 0 to stop adding products\n",
      " 2\n"
     ]
    },
    {
     "name": "stdout",
     "output_type": "stream",
     "text": [
      "Mobile added to cart successfully!\n"
     ]
    },
    {
     "name": "stdin",
     "output_type": "stream",
     "text": [
      "Which Product Do You Want To Add?\n",
      "Enter 1 for Laptop (₹50,000)\n",
      "Enter 2 for Mobile (₹20,000)\n",
      "Enter 0 to stop adding products\n",
      " 2\n"
     ]
    },
    {
     "name": "stdout",
     "output_type": "stream",
     "text": [
      "Mobile added to cart successfully!\n"
     ]
    },
    {
     "name": "stdin",
     "output_type": "stream",
     "text": [
      "Which Product Do You Want To Add?\n",
      "Enter 1 for Laptop (₹50,000)\n",
      "Enter 2 for Mobile (₹20,000)\n",
      "Enter 0 to stop adding products\n",
      " 0\n"
     ]
    },
    {
     "name": "stdout",
     "output_type": "stream",
     "text": [
      "None\n",
      "Your Shopping Cart:\n",
      "Laptop - ₹50000\n",
      "Mobile - ₹20000\n",
      "Mobile - ₹20000\n",
      "Total Price: ₹90000\n",
      "None\n"
     ]
    },
    {
     "name": "stdin",
     "output_type": "stream",
     "text": [
      "Which Product Do You Want To Remove?\n",
      "Enter 1 for Laptop (₹50,000)\n",
      "Enter 2 for Mobile (₹20,000)\n",
      " 1\n",
      "Quatity to remove from cart: 1\n"
     ]
    },
    {
     "name": "stdout",
     "output_type": "stream",
     "text": [
      "None\n"
     ]
    }
   ],
   "source": [
    "class Cart:\n",
    "\n",
    "    def __init__(self):\n",
    "        self.name = []\n",
    "        self.price = []\n",
    "\n",
    "    def add_product(self):\n",
    "        while (True):\n",
    "            product = int(input(\"Which Product Do You Want To Add?\\nEnter 1 for Laptop (₹50,000)\\nEnter 2 for Mobile (₹20,000)\\nEnter 0 to stop adding products\\n\"))\n",
    "            if product == 1:\n",
    "                self.name.append(\"Laptop\")\n",
    "                self.price.append(50000)\n",
    "                print(\"Laptop added to cart successfully!\")\n",
    "            elif product == 2:\n",
    "                self.name.append(\"Mobile\")\n",
    "                self.price.append(20000)\n",
    "                print(\"Mobile added to cart successfully!\")\n",
    "            elif product == 0:\n",
    "                break\n",
    "            else:\n",
    "                print(\"Invalid input\")\n",
    "\n",
    "    def view_cart(self):\n",
    "        if not self.name:\n",
    "            return \"Your cart is empty!\"\n",
    "        total_price = sum(self.price)\n",
    "        print(\"Your Shopping Cart:\")\n",
    "        for i in range(len(self.name)):\n",
    "            print(f\"{self.name[i]} - ₹{self.price[i]}\")\n",
    "        print(f\"Total Price: ₹{total_price}\")\n",
    "\n",
    "    def remove_product(self):\n",
    "        count=0\n",
    "        product = int(input(\"Which Product Do You Want To Remove?\\nEnter 1 for Laptop (₹50,000)\\nEnter 2 for Mobile (₹20,000)\\n\"))\n",
    "        quantity = int(input(\"Quatity to remove from cart:\"))\n",
    "        if product==1:\n",
    "            product=\"Laptop\"\n",
    "        elif product==2:\n",
    "            product=\"Mobile\"\n",
    "        for i in range(len(self.name)):\n",
    "            if self.name[i] == product:\n",
    "                count+=1\n",
    "                self.name.remove(self.name[i])\n",
    "                self.price.remove(self.price[i])\n",
    "                if count == quantity:\n",
    "                    break\n",
    "cart = Cart()\n",
    "print(cart.add_product())\n",
    "print(cart.view_cart())\n",
    "print(cart.remove_product())"
   ]
  },
  {
   "cell_type": "markdown",
   "id": "1fb80f41-19da-4bb2-85b2-73e32f8ff37a",
   "metadata": {},
   "source": [
    "# Test 3"
   ]
  },
  {
   "cell_type": "markdown",
   "id": "5697d6a9-5764-4b3b-a3e3-13c2763a15ca",
   "metadata": {},
   "source": [
    "# Case Study 1: Employee Salary Management\n",
    "\n",
    "Scenario:\n",
    "\n",
    "A company wants to store and analyze employee salary data. You need to create a system where:\n",
    "\n",
    "1. Employees are stored in a dictionary with employee ID as key and (name, department,\n",
    "salary) as values.\n",
    "\n",
    "2. Implement functions to:\n",
    "\n",
    "   \n",
    "    o Increase the salary of all employees in a particular department by a given\n",
    "    percentage.\n",
    "\n",
    "   \n",
    "    o Find the employee with the highest salary.\n",
    "\n",
    "   \n",
    "    o Filter employees earning more than a given amount.\n",
    "\n",
    "Hints:\n",
    "\n",
    "     Use a dictionary to store employee data.\n",
    "    \n",
    "     Use loops to iterate and modify salaries.\n",
    "    \n",
    "     Use tuple unpacking when retrieving data."
   ]
  },
  {
   "cell_type": "code",
   "execution_count": 16,
   "id": "9ca1310f-1b49-4f56-8668-0b7dd0663431",
   "metadata": {},
   "outputs": [
    {
     "name": "stdin",
     "output_type": "stream",
     "text": [
      "Enter the no. of pairs in dict : 4\n",
      "Enter the id of the employee : 1\n",
      "Enter the name of the employee : Anmol\n",
      "Enter the department of the employee python developer\n",
      "Enter the salary of the employee : 1200000\n",
      "Enter the id of the employee : 2\n",
      "Enter the name of the employee : Vineet\n",
      "Enter the department of the employee frontend developer\n",
      "Enter the salary of the employee : 1000000\n",
      "Enter the id of the employee : 3\n",
      "Enter the name of the employee : Prakul\n",
      "Enter the department of the employee sql developer\n",
      "Enter the salary of the employee : 1100000\n",
      "Enter the id of the employee : 4\n",
      "Enter the name of the employee : Ansul\n",
      "Enter the department of the employee backend developer\n",
      "Enter the salary of the employee : 1200000\n"
     ]
    },
    {
     "name": "stdout",
     "output_type": "stream",
     "text": [
      "\n",
      "Employee Details : {'1': ('Anmol', 'python developer', 1200000.0), '2': ('Vineet', 'frontend developer', 1000000.0), '3': ('Prakul', 'sql developer', 1100000.0), '4': ('Ansul', 'backend developer', 1200000.0)}\n",
      "Emp_id : 1, Name : Anmol, Department : python developer, Salary : 1200000.0\n",
      "Emp_id : 2, Name : Vineet, Department : frontend developer, Salary : 1000000.0\n",
      "Emp_id : 3, Name : Prakul, Department : sql developer, Salary : 1100000.0\n",
      "Emp_id : 4, Name : Ansul, Department : backend developer, Salary : 1200000.0\n",
      "\n",
      " Updated Employee Details :\n",
      "Emp_id : 1, Name : Anmol, Department : python developer, Salary : 1800000.0\n",
      "Emp_id : 2, Name : Vineet, Department : frontend developer, Salary : 1100000.0\n",
      "Emp_id : 3, Name : Prakul, Department : sql developer, Salary : 1320000.0\n",
      "Emp_id : 4, Name : Ansul, Department : backend developer, Salary : 1500000.0\n",
      "\n",
      "Employee with the highest salary :\n",
      "Emp_id : 1, Name : Anmol, Department : python developer, Salary : 1800000.0\n"
     ]
    },
    {
     "name": "stdin",
     "output_type": "stream",
     "text": [
      "\n",
      "Enter the total earning amount : 1200000\n"
     ]
    },
    {
     "name": "stdout",
     "output_type": "stream",
     "text": [
      "\n",
      "Employee earning more then the given amount:\n",
      "Emp_id : 1, Name : Anmol, Department : python developer, Salary : 1800000.0\n",
      "Emp_id : 3, Name : Prakul, Department : sql developer, Salary : 1320000.0\n",
      "Emp_id : 4, Name : Ansul, Department : backend developer, Salary : 1500000.0\n"
     ]
    }
   ],
   "source": [
    "employee={}\n",
    "n=int(input(\"Enter the no. of pairs in dict :\"))\n",
    "for i in range(n):\n",
    "    emp_id=input(\"Enter the id of the employee :\")\n",
    "    name=input(\"Enter the name of the employee :\")\n",
    "    department=input(\"Enter the department of the employee\")\n",
    "    salary=float(input(\"Enter the salary of the employee :\"))\n",
    "    employee[emp_id] = (name, department, salary)\n",
    "print(\"\\nEmployee Details :\",employee)\n",
    "\n",
    "for emp_id,details in employee.items():\n",
    "    print(f\"Emp_id : {emp_id}, Name : {details[0]}, Department : {details[1]}, Salary : {details[2]}\")\n",
    "emp={}\n",
    "for emp_id,details in employee.items():\n",
    "    name,department,salary=details\n",
    "\n",
    "    if department.lower() == \"python developer\":\n",
    "        salary += salary * 0.50\n",
    "    elif department.lower() == \"frontend developer\":\n",
    "        salary += salary * 0.10\n",
    "    elif department.lower() == \"sql developer\":\n",
    "        salary += salary * 0.20\n",
    "    elif department.lower() == \"backend developer\":\n",
    "        salary += salary * 0.25\n",
    "    else:\n",
    "        salary += salary * 0.05\n",
    "\n",
    "    emp[emp_id]=(name,department,salary)\n",
    "print(\"\\n Updated Employee Details :\")\n",
    "\n",
    "for emp_id,details in emp.items():\n",
    "    print(f\"Emp_id : {emp_id}, Name : {details[0]}, Department : {details[1]}, Salary : {details[2]}\")\n",
    "\n",
    "highest_salary=max(emp.items(),key=lambda x:x[1][2])\n",
    "print(\"\\nEmployee with the highest salary :\")\n",
    "print(f\"Emp_id : {highest_salary[0]}, Name : {highest_salary[1][0]}, Department : {highest_salary[1][1]}, Salary : {highest_salary[1][2]}\")\n",
    "\n",
    "given_amount=float(input(\"\\nEnter the given amount :\"))\n",
    "print(\"\\nEmployee earning more then the given amount:\")\n",
    "\n",
    "for emp_id,details in emp.items():\n",
    "    if details[2]>given_amount:\n",
    "        print(f\"Emp_id : {emp_id}, Name : {details[0]}, Department : {details[1]}, Salary : {details[2]}\")"
   ]
  },
  {
   "cell_type": "markdown",
   "id": "65baff83-aa16-4b65-9da9-0e88f12dba24",
   "metadata": {},
   "source": [
    "# Case Study 2: Student Performance Analysis\n",
    "\n",
    "Scenario:\n",
    "\n",
    "A school maintains student records with their scores in different subjects. You need to:\n",
    "\n",
    "    1. Store students in a list of tuples where each tuple contains (name, math_score,\n",
    "    science_score, english_score).\n",
    "    \n",
    "    2. Implement functions to:\n",
    "    \n",
    "        o Find the student with the highest average marks.\n",
    "        \n",
    "        o Sort students based on total marks.\n",
    "        \n",
    "        o Find students who scored below 40 in any subject (failed students).\n",
    "\n",
    "Hints:\n",
    "\n",
    "     Use a list of tuples to store data.\n",
    "    \n",
    "     Use loops and conditional statements to process the data.\n",
    "    \n",
    "     Use the sorted() function to sort based on total marks."
   ]
  },
  {
   "cell_type": "code",
   "execution_count": null,
   "id": "81a8a900-3429-4641-8455-8416be7b7f9e",
   "metadata": {},
   "outputs": [
    {
     "name": "stdin",
     "output_type": "stream",
     "text": [
      "Enter the no. of Students : 3\n",
      "Enter the name of the student : Anmol\n",
      "Enter the math score : 89\n",
      "Enter the science score : 78\n",
      "Enter the english score : 86\n"
     ]
    }
   ],
   "source": [
    "students=[]\n",
    "n=int(input(\"Enter the no. of Students :\"))\n",
    "for i in range(n):\n",
    "    name=input(\"Enter the name of the student :\")\n",
    "    math_score=int(input(\"Enter the math score :\"))\n",
    "    science_score=int(input(\"Enter the science score :\"))\n",
    "    english_score=int(input(\"Enter the english score :\"))\n",
    "    students.append((name,math_score,science_score,english_score))\n",
    "print(\"\\n Detailed list of the Student :\")\n",
    "print(students)\n",
    "\n",
    "def highest_avg_student(students):\n",
    "    high_avg=0\n",
    "    for student in students:\n",
    "        avg = (student[1] + student[2] + student[3]) / 3\n",
    "        if avg > high_avg:\n",
    "            high_avg = avg\n",
    "            high_student = student\n",
    "    return f\"\\nStudent with highest average marks : {high_student}, average marks :{high_avg}\"\n",
    "\n",
    "def sort_total(students):\n",
    "    for i in range(len(students)):\n",
    "        for j in range(i + 1, len(students)):\n",
    "            if sum(students[j][1:]) > sum(students[i][1:]):  \n",
    "                students[i], students[j] = students[j], students[i]\n",
    "    return f\"\\nSorted student based on total marks : {students}\"\n",
    "\n",
    "def failed_students(students):\n",
    "    failed_students = []\n",
    "    for student in students:\n",
    "        if student[1] < 40 or student[2] < 40 or student[3] < 40:\n",
    "            failed_students.append(student)\n",
    "    return f\"\\nFailed student : {failed_students}\"\n",
    "\n",
    "print(highest_avg_student(students))\n",
    "print(sort_total(students))\n",
    "print(failed_students(students))"
   ]
  },
  {
   "cell_type": "markdown",
   "id": "fa3964e7-e297-4cee-9bed-64f7488ac726",
   "metadata": {},
   "source": [
    "# Case Study 3: Unique Word Counter\n",
    "\n",
    "Scenario:\n",
    "\n",
    "You are given a paragraph of text. You need to:\n",
    "\n",
    "    1. Extract all unique words from the paragraph.\n",
    "    \n",
    "    2. Count the frequency of each word.\n",
    "    \n",
    "    3. Display the top 5 most common words.\n",
    "    \n",
    "Hints:\n",
    "\n",
    "     Use a set to store unique words.\n",
    "    \n",
    "     Use a dictionary to maintain word counts.\n",
    "    \n",
    "     Use loops to iterate and count words.\n",
    "    \n",
    "     Use sorted() with lambda to get the top 5 words."
   ]
  },
  {
   "cell_type": "code",
   "execution_count": 74,
   "id": "9e614515-c940-4223-99ff-ac8956cc0292",
   "metadata": {},
   "outputs": [
    {
     "name": "stdin",
     "output_type": "stream",
     "text": [
      "Enter the paragraph : Python is a versatile programming language that is widely used for web development, data analysis, machine learning,  and more. Its simple syntax and readability make it an excellent choice for beginners. Python's extensive library support  also makes it ideal for complex applications. Whether you are building websites or automating tasks, Python is an invaluable tool.\n"
     ]
    },
    {
     "name": "stdout",
     "output_type": "stream",
     "text": [
      "\n",
      "All extracted unique words :\n",
      "{'simple', 'excellent', 'a', 'automating', 'it', 'programming', 'Whether', 'you', 'widely', 'development,', 'Its', 'is', 'choice', 'makes', 'that', 'applications.', 'syntax', 'tool.', 'tasks,', 'ideal', \"Python's\", 'used', 'language', 'versatile', 'learning,', 'machine', 'more.', 'complex', 'or', 'an', 'for', 'data', 'support', 'also', 'extensive', 'building', 'Python', 'make', 'invaluable', 'analysis,', 'are', 'library', 'readability', 'websites', 'web', 'beginners.', 'and'}\n",
      "\n",
      "Count the frequency of each word: \n",
      "{'Python': 2, 'is': 3, 'a': 1, 'versatile': 1, 'programming': 1, 'language': 1, 'that': 1, 'widely': 1, 'used': 1, 'for': 3, 'web': 1, 'development,': 1, 'data': 1, 'analysis,': 1, 'machine': 1, 'learning,': 1, 'and': 2, 'more.': 1, 'Its': 1, 'simple': 1, 'syntax': 1, 'readability': 1, 'make': 1, 'it': 2, 'an': 2, 'excellent': 1, 'choice': 1, 'beginners.': 1, \"Python's\": 1, 'extensive': 1, 'library': 1, 'support': 1, 'also': 1, 'makes': 1, 'ideal': 1, 'complex': 1, 'applications.': 1, 'Whether': 1, 'you': 1, 'are': 1, 'building': 1, 'websites': 1, 'or': 1, 'automating': 1, 'tasks,': 1, 'invaluable': 1, 'tool.': 1}\n",
      "\n",
      "The top 5 most common words:\n",
      "[('is', 3), ('for', 3), ('Python', 2), ('and', 2), ('it', 2)]\n"
     ]
    }
   ],
   "source": [
    "paragraph=input(\"Enter the paragraph :\").split()\n",
    "unique_words=set(paragraph)\n",
    "print(\"\\nAll extracted unique words :\")\n",
    "print(unique_words)\n",
    "\n",
    "dict1={}\n",
    "for i in paragraph:\n",
    "    if i not in dict1:\n",
    "        dict1[i]=1\n",
    "    else:\n",
    "        dict1[i]+=1\n",
    "print(\"\\nCount the frequency of each word: \")\n",
    "print(dict1)\n",
    "\n",
    "common_words=sorted(dict1.items(),key=lambda x:x[1],reverse=True)[:5]\n",
    "print(\"\\nThe top 5 most common words:\")\n",
    "print(common_words)"
   ]
  },
  {
   "cell_type": "markdown",
   "id": "8a17fc0a-c856-459c-92ca-31d3d1d93c23",
   "metadata": {},
   "source": [
    "# Case Study 4: E-commerce Product Catalog\n",
    "\n",
    "Scenario:\n",
    "\n",
    "You are developing a product catalog system for an e-commerce store. You need to:\n",
    "\n",
    "    1. Store products as a dictionary, where keys are product IDs and values are (name, category,price).\n",
    "    \n",
    "    2. Implement functions to:\n",
    "\n",
    "    o Get all products in a specific category.\n",
    "    \n",
    "    o Find the most expensive product.\n",
    "    \n",
    "    o Identify and remove duplicate product names using a set.\n",
    "\n",
    "Hints:\n",
    "\n",
    "     Use a dictionary for product data.\n",
    "    \n",
    "     Use a set to remove duplicate names.\n",
    "    \n",
    "     Use loops and conditional statements to find the most expensive product."
   ]
  },
  {
   "cell_type": "code",
   "execution_count": 12,
   "id": "1999d70d-cbb4-4450-8ce2-2e923e53e5fe",
   "metadata": {},
   "outputs": [
    {
     "name": "stdout",
     "output_type": "stream",
     "text": [
      "\n",
      "Product Added Successfully!\n",
      "\n",
      "Product Added Successfully!\n",
      "\n",
      "Product Added Successfully!\n",
      "\n",
      "Product Added Successfully!\n",
      "\n",
      "All Products:\n",
      "['Product_id', ':', '1,', 'Product', 'Name', ':', 'Mobile,', 'Category', ':', 'Electronics,', 'Product', 'price', ':', '10000', 'Product_id', ':', '2,', 'Product', 'Name', ':', 'Laptop,', 'Category', ':', 'Electronics,', 'Product', 'price', ':', '50000', 'Product_id', ':', '3,', 'Product', 'Name', ':', 'T-shirt,', 'Category', ':', 'Clothing,', 'Product', 'price', ':', '1500', 'Product_id', ':', '4,', 'Product', 'Name', ':', 'Mobile,', 'Category', ':', 'Electronics,', 'Product', 'price', ':', '12000']\n",
      "\n",
      "Product in the Electronics category is {1: ('Mobile', 'Electronics', 10000), 2: ('Laptop', 'Electronics', 50000), 4: ('Mobile', 'Electronics', 12000)}\n",
      "\n",
      "Expensive product : Product_id : 2, Product name : Laptop, Product category : Electronics, Product price : 50000\n",
      "None\n",
      "\n",
      "After Removing Duplicates:\n",
      "['Product_id', ':', '1,', 'Product', 'Name', ':', 'Mobile,', 'Category', ':', 'Electronics,', 'Product', 'price', ':', '10000', 'Product_id', ':', '2,', 'Product', 'Name', ':', 'Laptop,', 'Category', ':', 'Electronics,', 'Product', 'price', ':', '50000', 'Product_id', ':', '3,', 'Product', 'Name', ':', 'T-shirt,', 'Category', ':', 'Clothing,', 'Product', 'price', ':', '1500']\n"
     ]
    }
   ],
   "source": [
    "products={}\n",
    "\n",
    "def add_products(product_id,name,category,price):\n",
    "    if product_id in products:\n",
    "        print(\"Product_id already exist!\")\n",
    "    else:\n",
    "        products[product_id]=(name,category,price)\n",
    "        return \"\\nProduct Added Successfully!\"\n",
    "\n",
    "def product_specific_category(category):\n",
    "    specific_product={}\n",
    "    for product_id,details in products.items():\n",
    "        if details[1]==category:\n",
    "            specific_product[product_id]=details\n",
    "    if specific_product:\n",
    "        return f\"\\nProduct in the {category} category is {specific_product}\"\n",
    "    else:\n",
    "        return \"\\nSorry! in this category we have no products.\"\n",
    "\n",
    "def expensive_product():\n",
    "    if not products:\n",
    "        return \"\\nSorry! no product available.\"\n",
    "    expensive=max(products.items(),key=lambda x:x[1][2])\n",
    "    return f\"\\nExpensive product : Product_id : {expensive[0]}, Product name : {expensive[1][0]}, Product category : {expensive[1][1]}, Product price : {expensive[1][2]}\"\n",
    "\n",
    "def remove_duplicate_product():\n",
    "    product_name=set()\n",
    "    updated_product={}\n",
    "    for product_id,details in products.items():\n",
    "        name,category,price = details\n",
    "        if name not in product_name:\n",
    "            product_name.add(name)\n",
    "            updated_product[product_id]=details\n",
    "    products.clear()\n",
    "    products.update(updated_product)\n",
    "\n",
    "def product_details():\n",
    "    if not products:\n",
    "        return \"\\nSorry! no product available.\"\n",
    "    res=\"\"\n",
    "    for product_id,details in products.items():\n",
    "        res+=f\"\\nProduct_id : {product_id}, Product Name : {details[0]}, Category : {details[1]}, Product price : {details[2]}\"\n",
    "    return res.split()\n",
    "    \n",
    "print(add_products(1, \"Mobile\", \"Electronics\", 10000))\n",
    "print(add_products(2, \"Laptop\", \"Electronics\", 50000))\n",
    "print(add_products(3, \"T-shirt\", \"Clothing\", 1500))\n",
    "print(add_products(4, \"Mobile\", \"Electronics\", 12000)) \n",
    "print(\"\\nAll Products:\")\n",
    "print(product_details())\n",
    "print(product_specific_category(\"Electronics\"))\n",
    "print(expensive_product())\n",
    "print(remove_duplicate_product())\n",
    "print(\"\\nAfter Removing Duplicates:\")\n",
    "print(product_details())"
   ]
  },
  {
   "cell_type": "markdown",
   "id": "4c66ebac-3dbe-4fef-bf9c-b0416b4fdedb",
   "metadata": {},
   "source": [
    "# Case Study 5: Movie Recommendation System\n",
    "\n",
    "Scenario:\n",
    "\n",
    "A streaming service wants to recommend movies based on user interests. You need to:\n",
    "\n",
    "    1. Store users and their watched movies as a dictionary:\n",
    "    \n",
    "    users = {\n",
    "    \n",
    "        \"Sam\": {\"Inception\",\"Titanic\", \"Avengers\"},\n",
    "        \n",
    "        \"Mohit\": {\"Inception\", \"Avatar\", \"Jurassic Park\"},\n",
    "        \n",
    "        \"Raj\": {\"Titanic\", \"Avatar\", \"Harry Potter\"}\n",
    "        \n",
    "    }\n",
    "    \n",
    "    2. Implement functions to:\n",
    "    \n",
    "        o Find common movies between two users (movies they both watched).\n",
    "        \n",
    "        o Suggest new movies for a user based on what their friends watched.\n",
    "        \n",
    "        o Find the most-watched movie among all users.\n",
    "\n",
    "Hints:\n",
    "\n",
    "     Use sets to find common and suggested movies.\n",
    "    \n",
    "     Use dictionaries for user-movie mapping.\n",
    "    \n",
    "     Use loops to analyze data."
   ]
  },
  {
   "cell_type": "code",
   "execution_count": 34,
   "id": "e81241f7-d73e-4eb8-b7ab-7bcf596072bb",
   "metadata": {},
   "outputs": [
    {
     "name": "stdout",
     "output_type": "stream",
     "text": [
      "Common movies :  {'Titanic'}\n",
      "Movie Suggestion : {'Avengers', 'Harry Potter', 'Titanic'}\n",
      "{'Avengers': 1, 'Titanic': 2, 'Inception': 2, 'Avatar': 2, 'Jurassic Park': 1, 'Harry Potter': 1}\n",
      "The most watched movie among the all users is : Titanic\n"
     ]
    }
   ],
   "source": [
    "def find_common_movies(user1,user2):\n",
    "    return users[user1].intersection(users[user2])\n",
    "\n",
    "def suggest_new_movie(user):\n",
    "    return set().union(*users.values()) - users[user]\n",
    "\n",
    "def most_watched_movie():\n",
    "    count={}\n",
    "    for i in users.values():\n",
    "        for j in i:\n",
    "            if j not in count:\n",
    "                count[j]=1\n",
    "            else:\n",
    "                count[j]+=1\n",
    "    print(count)\n",
    "    return max(count,key=count.get)\n",
    "\n",
    "users = {\n",
    "    \"Sam\": {\"Inception\",\"Titanic\", \"Avengers\"}, \n",
    "    \"Mohit\": {\"Inception\", \"Avatar\", \"Jurassic Park\"},  \n",
    "    \"Raj\": {\"Titanic\", \"Avatar\", \"Harry Potter\"}  \n",
    "}\n",
    "print(\"Common movies : \",find_common_movies(\"Sam\",\"Raj\"))\n",
    "print(\"Movie Suggestion :\",suggest_new_movie(\"Mohit\"))\n",
    "print(\"The most watched movie among the all users is :\",most_watched_movie())"
   ]
  },
  {
   "cell_type": "markdown",
   "id": "6820b997-5e44-439e-881b-53e6d568eac9",
   "metadata": {},
   "source": [
    "# Test 4"
   ]
  },
  {
   "cell_type": "markdown",
   "id": "499e114a-c493-48a1-a808-52e1a9c1fa53",
   "metadata": {},
   "source": [
    "# Case Study 6: Traffic Violation Analysis (Dictionaries, Lists, Loops)\n",
    "\n",
    "Scenario:\n",
    "\n",
    "A city traffic department wants to analyze violations. You need to:\n",
    "\n",
    "1. Store data in a dictionary, where keys are license plate numbers, and values are (driver\n",
    "name, violation type, fine amount).\n",
    "\n",
    "2. Implement functions to:\n",
    "\n",
    "    o Find the driver with the highest fine.\n",
    "\n",
    "    o Count violations per driver.\n",
    "\n",
    "    o Identify the most common violation type.\n",
    "\n",
    "Hints:\n",
    "\n",
    "     Use a dictionary to store violation data.\n",
    "    \n",
    "     Use a loop to analyze violations.\n",
    "    \n",
    "     Use a secondary dictionary to track counts."
   ]
  },
  {
   "cell_type": "code",
   "execution_count": 116,
   "id": "1fe1d7c3-310a-4489-9678-8bc557c21f3d",
   "metadata": {},
   "outputs": [
    {
     "name": "stdout",
     "output_type": "stream",
     "text": [
      "The Driver with highest fine :\n",
      "Plate no. : 1327, Name : prakul, Violation type : ('underage', 'no helmet'), Fine amount : 5000\n",
      "\n",
      "Count violation per driver :\n",
      "['anmol', ('overspeed', 'no helmet'), 1000] : total 2 violation\n",
      "\n",
      "The most common violation is :\n",
      "no helmet\n"
     ]
    }
   ],
   "source": [
    "def driver_highest_fine():\n",
    "    highest_fine=max(violation.items(),key=lambda x:x[1][2])\n",
    "    print(\"The Driver with highest fine :\")\n",
    "    return f\"Plate no. : {highest_fine[0]}, Name : {highest_fine[1][0]}, Violation type : {highest_fine[1][1]}, Fine amount : {highest_fine[1][2]}\"\n",
    "\n",
    "def count_violation():\n",
    "    print(\"\\nCount violation per driver :\")\n",
    "    for i in violation.values():\n",
    "        return f\"{i} : total {len(i[1])} violation\"\n",
    "\n",
    "def most_common_violation():\n",
    "    count_violation={}\n",
    "    for i in violation.values():\n",
    "        for j in i[1]:\n",
    "            if j not in count_violation:\n",
    "                count_violation[j]=1\n",
    "            else:\n",
    "                count_violation[j]+=1\n",
    "    print(\"\\nThe most common violation is :\")\n",
    "    return max(count_violation,key=count_violation.get)\n",
    "\n",
    "violation={1313 : [\"anmol\",(\"overspeed\",\"no helmet\"),1000],\n",
    "           1327 : [\"prakul\",(\"underage\",\"no helmet\"),5000],\n",
    "           3640 : [\"vineet\",(\"trippling\",\"no helmet\"),500]\n",
    "          }\n",
    "print(driver_highest_fine())\n",
    "print(count_violation())\n",
    "print(most_common_violation())"
   ]
  },
  {
   "cell_type": "markdown",
   "id": "cb6706f3-5d60-4949-9771-b3b036971960",
   "metadata": {},
   "source": [
    "# Case Study 7: Grocery Store Inventory Management (Sets, Dictionaries, Loops)\n",
    "\n",
    "Scenario:\n",
    "\n",
    "A grocery store needs to track available and sold-out items. You need to:\n",
    "\n",
    "1. Maintain two sets:\n",
    "   \n",
    "    o available_items = {&quot;Milk&quot;, &quot;Bread&quot;, &quot;Eggs&quot;, &quot;Rice&quot;, &quot;Sugar&quot;}\n",
    "   \n",
    "    o sold_out_items = {&quot;Eggs&quot;, &quot;Sugar&quot;}\n",
    "   \n",
    "2. Implement functions to:\n",
    "\n",
    "    o Get all available items (remove sold-out items).\n",
    "\n",
    "    o Add new stock to available items.\n",
    "\n",
    "    o Check if an item is in stock.\n",
    "\n",
    "Hints:\n",
    "\n",
    "     Use sets to manage available and sold-out items.\n",
    "    \n",
    "     Use set operations (difference, union, intersection)."
   ]
  },
  {
   "cell_type": "code",
   "execution_count": 83,
   "id": "87d238a8-bb5b-4992-940a-bb06f1bb2e0e",
   "metadata": {},
   "outputs": [
    {
     "name": "stdout",
     "output_type": "stream",
     "text": [
      "{'Rice', 'Milk', 'Bread'}\n",
      "\n",
      "Flour added to stock!\n",
      "\n",
      "Item Milk is available.\n"
     ]
    }
   ],
   "source": [
    "def available_item():\n",
    "    return available_items - sold_out_items\n",
    "\n",
    "def add_stock(item):\n",
    "    sold_out_items.discard(item)\n",
    "    available_items.add(item)\n",
    "    return f\"\\n{item} added to stock!\"\n",
    "\n",
    "def check_item(item):\n",
    "    if item in available_items:\n",
    "        return f\"\\nItem {item} is available.\"\n",
    "    else:\n",
    "        return f\"\\nItem {item} is not available.\"\n",
    "            \n",
    "\n",
    "available_items = {\"Milk\", \"Bread\", \"Eggs\", \"Rice\", \"Sugar\"}\n",
    "sold_out_items = {\"Eggs\", \"Sugar\"}\n",
    "print(available_item())\n",
    "print(add_stock(\"Flour\"))\n",
    "print(check_item(\"Milk\"))"
   ]
  },
  {
   "cell_type": "markdown",
   "id": "21d1cc52-f1be-4759-9389-815121903356",
   "metadata": {},
   "source": [
    "# Case Study 8: Social Media Hashtag Analysis (Dictionaries, Sets, Loops)\n",
    "\n",
    "Scenario:\n",
    "\n",
    "A social media company wants to analyze trending hashtags. You need to:\n",
    "\n",
    "1. Store hashtag usage in a dictionary where keys are hashtags, and values are usage counts.\n",
    "   \n",
    "2. Implement functions to:\n",
    "\n",
    "    o Find the top 3 trending hashtags.\n",
    "\n",
    "    o Filter out hashtags with low usage (less than a given threshold).\n",
    "\n",
    "    o Identify common hashtags used by two users (use sets).\n",
    "\n",
    "Hints:\n",
    "\n",
    "     Use a dictionary to count occurrences.\n",
    "    \n",
    "     Use sorting to get top hashtags.\n",
    "    \n",
    "     Use sets to compare hashtag usage across users."
   ]
  },
  {
   "cell_type": "code",
   "execution_count": 103,
   "id": "35cc1358-6098-4b34-9c0a-38f8395ee525",
   "metadata": {},
   "outputs": [
    {
     "name": "stdout",
     "output_type": "stream",
     "text": [
      "Hashtag Usage :  {'#AI': 3, '#Python': 3, '#Tech': 2, '#Coding': 1, '#MachineLearning': 1}\n",
      "\n",
      "Top 3 trending hashtags is : [('#AI', 3), ('#Python', 3), ('#Tech', 2)]\n",
      "\n",
      "Low usage hashtag below: 2 is ['#Coding', '#MachineLearning']\n",
      "\n",
      "Common hashtag user by two user : {'#AI', '#Python'}\n"
     ]
    }
   ],
   "source": [
    "def trending_hashtag():\n",
    "    trending=sorted(hashtags_usage.items(),key=lambda x:x[1], reverse=True)[:3]\n",
    "    return f\"\\nTop 3 trending hashtags is : {trending}\"\n",
    "\n",
    "def low_usage_hashtag(threshold):\n",
    "    low_usage=[]\n",
    "    for hashtag,count in hashtags_usage.items():\n",
    "        if count<threshold:\n",
    "            low_usage.append(hashtag)\n",
    "    return f\"\\nLow usage hashtag below: {threshold} is {low_usage}\"\n",
    "\n",
    "def common_hashtag():\n",
    "    common=user1_hashtag.intersection(user2_hashtag)\n",
    "    return f\"\\nCommon hashtag user by two user : {common}\"\n",
    "\n",
    "hashtags = [\"#AI\", \"#Python\", \"#Tech\", \"#AI\", \"#Coding\", \"#Python\", \"#Python\", \"#Tech\", \"#AI\", \"#MachineLearning\"]\n",
    "user1_hashtag={\"#AI\", \"#Python\", \"#Tech\"}\n",
    "user2_hashtag={\"#AI\", \"#Coding\", \"#Python\",\"#MachineLearning\"}\n",
    "\n",
    "hashtags_usage={}\n",
    "for i in hashtags:\n",
    "    if i not in hashtags_usage:\n",
    "        hashtags_usage[i]=1\n",
    "    else:\n",
    "        hashtags_usage[i]+=1\n",
    "print(f\"Hashtag Usage : \",hashtags_usage)\n",
    "print(trending_hashtag())\n",
    "print(low_usage_hashtag(2))\n",
    "print(common_hashtag())"
   ]
  },
  {
   "cell_type": "markdown",
   "id": "ac39a465-dd45-413d-a2bf-79e3ccd4691c",
   "metadata": {},
   "source": [
    "# Case Study 9: Airline Ticket Booking System (Lists, Tuples, Loops)\n",
    "\n",
    "Scenario:\n",
    "\n",
    "An airline company needs to manage ticket bookings. You need to:\n",
    "\n",
    "1. Store bookings in a list of tuples where each tuple contains (passenger_name,\n",
    "flight_number, seat_number).\n",
    "\n",
    "2. Implement functions to:\n",
    "\n",
    "    o Find all passengers on a specific flight.\n",
    "\n",
    "    o Check if a seat is already booked.\n",
    "\n",
    "    o Sort passengers by flight number.\n",
    "\n",
    "Hints:\n",
    "\n",
    "     Use a list of tuples to store bookings.\n",
    "    \n",
    "     Use loops to filter and find passengers.\n",
    "    \n",
    "     Use sorting for better organization."
   ]
  },
  {
   "cell_type": "code",
   "execution_count": 113,
   "id": "5a9514d2-0c66-4b14-8a93-1d45af0836bc",
   "metadata": {},
   "outputs": [
    {
     "name": "stdout",
     "output_type": "stream",
     "text": [
      "Passenger in Specific fight AI204 : [('Vineet', 'AI204', '13A')]\n",
      "\n",
      "Seat is already booked!\n",
      "\n",
      "Sorted passenger according to the flight number : ['Ansul', 'Anmol', 'Gursewak', 'Vineet', 'Prakul']\n"
     ]
    }
   ],
   "source": [
    "def passenger_flight(flight_number):\n",
    "    passenger=[]\n",
    "    for i in booking:\n",
    "        if i[1]==flight_number:\n",
    "            passenger.append(i)\n",
    "    return f\"Passenger in Specific fight {flight_number} : {passenger}\"\n",
    "\n",
    "def seat_booked(seat_number):\n",
    "    for i in booking:\n",
    "        if i[2]==seat_number:\n",
    "            return f\"\\nSeat is already booked!\"\n",
    "        else:\n",
    "            return f\"\\nSeat is not booked!\"\n",
    "\n",
    "def sort_passenger():\n",
    "    sorted_booking=sorted(booking,key=lambda x:x[1])\n",
    "    passenger_sorted=[]\n",
    "    for i in sorted_booking:\n",
    "        passenger_sorted.append(i[0])\n",
    "    return f\"\\nSorted passenger according to the flight number : {passenger_sorted}\"\n",
    "\n",
    "booking=[(\"Anmol\",\"AI202\",\"12A\"),(\"Vineet\",\"AI204\",\"13A\"),(\"Gursewak\",\"AI203\",\"15B\"),(\"Ansul\",\"AI201\",\"17A\"),(\"Prakul\",\"AI206\",\"18C\")]\n",
    "print(passenger_flight(\"AI204\"))\n",
    "print(seat_booked(\"12A\"))\n",
    "print(sort_passenger())"
   ]
  },
  {
   "cell_type": "markdown",
   "id": "a69621f2-2a4e-42c9-9e92-dcf7041160fa",
   "metadata": {},
   "source": [
    "# Case Study 10: Library Book Management (Dictionaries, Lists, Sets, Loops)\n",
    "\n",
    "Scenario:\n",
    "\n",
    "A library maintains a record of books and their borrowers. You need to:\n",
    "\n",
    "1. Store books in a dictionary where keys are book titles, and values are (author,\n",
    "borrower_name or None if available).\n",
    "\n",
    "2. Implement functions to:\n",
    "\n",
    "    o Get a list of all available books.\n",
    "\n",
    "    o Find books borrowed by a specific person.\n",
    "\n",
    "    o Identify duplicate books using a set.\n",
    "\n",
    "Hints:\n",
    "\n",
    "     Use a dictionary to track books.\n",
    "    \n",
    "     Use loops to filter available books.\n",
    "    \n",
    "     Use a set to find duplicate books."
   ]
  },
  {
   "cell_type": "code",
   "execution_count": 143,
   "id": "9d865e7a-07f1-4b2e-a7ec-12cbc66c9e71",
   "metadata": {},
   "outputs": [
    {
     "name": "stdout",
     "output_type": "stream",
     "text": [
      "Available Books : ['The Great Gatsby', 'To Kill a Mockingbird', 'Pride and Prejudice']\n",
      "\n",
      "John Doe borrowed : ['1984']!\n",
      "\n",
      "Dictionary contains no duplicate keys : {'1984', 'To Kill a Mockingbird', 'Pride and Prejudice', 'The Great Gatsby', 'Moby Dick'}\n"
     ]
    }
   ],
   "source": [
    "def available_book():\n",
    "    available=[]\n",
    "    for i in books.items():\n",
    "        if i[1][1]==None:\n",
    "            available.append(i[0])\n",
    "    return f\"Available Books : {available}\\n\"\n",
    "\n",
    "def borrowed_book(borrower_name):\n",
    "    borrowed=[]\n",
    "    for  title,details in books.items():\n",
    "        if details[1]==borrower_name:\n",
    "            borrowed.append(title)\n",
    "    return f\"{borrower_name} borrowed : {borrowed}!\"\n",
    "\n",
    "def book():\n",
    "  find=set()\n",
    "  for i in books:\n",
    "    find.add(i)\n",
    "  return f\"\\nDictionary contains no duplicate keys : {find}\"\n",
    "\n",
    "books={\"The Great Gatsby\": (\"F. Scott Fitzgerald\", None),\n",
    "    \"1984\": (\"George Orwell\", \"John Doe\"),\n",
    "    \"To Kill a Mockingbird\": (\"Harper Lee\", None),\n",
    "    \"Moby Dick\": (\"Herman Melville\", \"Jane Smith\"),\n",
    "    \"Pride and Prejudice\": (\"Jane Austen\", None)}\n",
    "print(available_book())\n",
    "print(borrowed_book(\"John Doe\"))\n",
    "print(book())"
   ]
  }
 ],
 "metadata": {
  "kernelspec": {
   "display_name": "Python 3 (ipykernel)",
   "language": "python",
   "name": "python3"
  },
  "language_info": {
   "codemirror_mode": {
    "name": "ipython",
    "version": 3
   },
   "file_extension": ".py",
   "mimetype": "text/x-python",
   "name": "python",
   "nbconvert_exporter": "python",
   "pygments_lexer": "ipython3",
   "version": "3.12.3"
  }
 },
 "nbformat": 4,
 "nbformat_minor": 5
}
