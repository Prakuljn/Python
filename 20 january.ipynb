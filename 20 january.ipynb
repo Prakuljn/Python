{
  "nbformat": 4,
  "nbformat_minor": 0,
  "metadata": {
    "colab": {
      "provenance": [],
      "authorship_tag": "ABX9TyPYgengSdU4JX5RLO7oBKI7",
      "include_colab_link": true
    },
    "kernelspec": {
      "name": "python3",
      "display_name": "Python 3"
    },
    "language_info": {
      "name": "python"
    }
  },
  "cells": [
    {
      "cell_type": "markdown",
      "metadata": {
        "id": "view-in-github",
        "colab_type": "text"
      },
      "source": [
        "<a href=\"https://colab.research.google.com/github/Prakuljn/Python-Assignment/blob/main/20%20january.ipynb\" target=\"_parent\"><img src=\"https://colab.research.google.com/assets/colab-badge.svg\" alt=\"Open In Colab\"/></a>"
      ]
    },
    {
      "cell_type": "code",
      "execution_count": 1,
      "metadata": {
        "id": "2qezINGYH9Zn"
      },
      "outputs": [],
      "source": [
        "# tuple\n",
        "# help() function is used to get all function used in every data types\n",
        "# tuple are same as list but they are immutable\n",
        "# there is no insert delete aur append function used in tuple\n",
        "# datatypes in python\n",
        "# a. numeric datatypes\n",
        "#   1. intiger\n",
        "#   2. float\n",
        "#   3. complex\n",
        "#   4. boolean\n",
        "# b. sequence datatypes\n",
        "#   1. list\n",
        "#   2. tuple\n",
        "#   3. string\n",
        "# c. dictionary\n",
        "# d. sets datatypes\n",
        "#   1. sets\n",
        "#   2."
      ]
    },
    {
      "cell_type": "code",
      "source": [
        "tuple1=1,2,3,4,5,6\n",
        "help(tuple1)"
      ],
      "metadata": {
        "colab": {
          "base_uri": "https://localhost:8080/"
        },
        "id": "qBe03cOTQWgX",
        "outputId": "cc65630b-1220-4c27-dfd6-a5421db7a382"
      },
      "execution_count": 10,
      "outputs": [
        {
          "output_type": "stream",
          "name": "stdout",
          "text": [
            "Help on tuple object:\n",
            "\n",
            "class tuple(object)\n",
            " |  tuple(iterable=(), /)\n",
            " |  \n",
            " |  Built-in immutable sequence.\n",
            " |  \n",
            " |  If no argument is given, the constructor returns an empty tuple.\n",
            " |  If iterable is specified the tuple is initialized from iterable's items.\n",
            " |  \n",
            " |  If the argument is a tuple, the return value is the same object.\n",
            " |  \n",
            " |  Built-in subclasses:\n",
            " |      asyncgen_hooks\n",
            " |      MonthDayNano\n",
            " |      UnraisableHookArgs\n",
            " |      VersionInfoAttributes\n",
            " |  \n",
            " |  Methods defined here:\n",
            " |  \n",
            " |  __add__(self, value, /)\n",
            " |      Return self+value.\n",
            " |  \n",
            " |  __contains__(self, key, /)\n",
            " |      Return key in self.\n",
            " |  \n",
            " |  __eq__(self, value, /)\n",
            " |      Return self==value.\n",
            " |  \n",
            " |  __ge__(self, value, /)\n",
            " |      Return self>=value.\n",
            " |  \n",
            " |  __getattribute__(self, name, /)\n",
            " |      Return getattr(self, name).\n",
            " |  \n",
            " |  __getitem__(self, key, /)\n",
            " |      Return self[key].\n",
            " |  \n",
            " |  __getnewargs__(self, /)\n",
            " |  \n",
            " |  __gt__(self, value, /)\n",
            " |      Return self>value.\n",
            " |  \n",
            " |  __hash__(self, /)\n",
            " |      Return hash(self).\n",
            " |  \n",
            " |  __iter__(self, /)\n",
            " |      Implement iter(self).\n",
            " |  \n",
            " |  __le__(self, value, /)\n",
            " |      Return self<=value.\n",
            " |  \n",
            " |  __len__(self, /)\n",
            " |      Return len(self).\n",
            " |  \n",
            " |  __lt__(self, value, /)\n",
            " |      Return self<value.\n",
            " |  \n",
            " |  __mul__(self, value, /)\n",
            " |      Return self*value.\n",
            " |  \n",
            " |  __ne__(self, value, /)\n",
            " |      Return self!=value.\n",
            " |  \n",
            " |  __repr__(self, /)\n",
            " |      Return repr(self).\n",
            " |  \n",
            " |  __rmul__(self, value, /)\n",
            " |      Return value*self.\n",
            " |  \n",
            " |  count(self, value, /)\n",
            " |      Return number of occurrences of value.\n",
            " |  \n",
            " |  index(self, value, start=0, stop=9223372036854775807, /)\n",
            " |      Return first index of value.\n",
            " |      \n",
            " |      Raises ValueError if the value is not present.\n",
            " |  \n",
            " |  ----------------------------------------------------------------------\n",
            " |  Class methods defined here:\n",
            " |  \n",
            " |  __class_getitem__(...)\n",
            " |      See PEP 585\n",
            " |  \n",
            " |  ----------------------------------------------------------------------\n",
            " |  Static methods defined here:\n",
            " |  \n",
            " |  __new__(*args, **kwargs)\n",
            " |      Create and return a new object.  See help(type) for accurate signature.\n",
            "\n"
          ]
        }
      ]
    },
    {
      "cell_type": "code",
      "source": [
        "# python used object reference values\n",
        "# change value of variable creates new memory\n",
        "# id() function isusedd to check the memory address\n",
        "# the changes of value in new memory is called immutable\n",
        "# for example numeric datatypes ,string ,tuple\n",
        "# the changes of value in same memory is called mutable\n",
        "# such as list ,sets and dictionary"
      ],
      "metadata": {
        "id": "nx2ZPaU6LCvc"
      },
      "execution_count": 2,
      "outputs": []
    },
    {
      "cell_type": "code",
      "source": [
        "# dictionary datatypes\n",
        "# { } used to define dictonary\n",
        "# it is mutable datatype\n",
        "# no index position\n",
        "# dictionary are ordered collection of elements\n",
        "# it stores data in key and value format\n",
        "# keys in dictionay are unique and immutable\n",
        "# values can be unique or duplicate\n",
        "# wee can use key as any variable aur number\n",
        "dict1={\n",
        "    1:\"prakul jain\",\n",
        "    2:\"naman\",\n",
        "    \"city\":\"jaipur\"\n",
        "}\n",
        "print(dict1[\"city\"])\n",
        "dict1[\"city\"]=\"delhi\" # update the value\n",
        "print(dict1)\n",
        "print(dict1[1]) # key value is passed to asscess the value\n",
        "print(dict1[2])\n",
        "print(dict1[\"city\"])\n",
        "dict1[3]=\"a\" # insert the new key\n",
        "help(dict1)"
      ],
      "metadata": {
        "colab": {
          "base_uri": "https://localhost:8080/"
        },
        "id": "bfXf87_rM4_T",
        "outputId": "c845416f-dcc4-40b8-8f4f-5a3ae1448a8e"
      },
      "execution_count": 9,
      "outputs": [
        {
          "output_type": "stream",
          "name": "stdout",
          "text": [
            "jaipur\n",
            "{1: 'prakul jain', 2: 'naman', 'city': 'delhi'}\n",
            "prakul jain\n",
            "naman\n",
            "delhi\n",
            "Help on dict object:\n",
            "\n",
            "class dict(object)\n",
            " |  dict() -> new empty dictionary\n",
            " |  dict(mapping) -> new dictionary initialized from a mapping object's\n",
            " |      (key, value) pairs\n",
            " |  dict(iterable) -> new dictionary initialized as if via:\n",
            " |      d = {}\n",
            " |      for k, v in iterable:\n",
            " |          d[k] = v\n",
            " |  dict(**kwargs) -> new dictionary initialized with the name=value pairs\n",
            " |      in the keyword argument list.  For example:  dict(one=1, two=2)\n",
            " |  \n",
            " |  Built-in subclasses:\n",
            " |      StgDict\n",
            " |  \n",
            " |  Methods defined here:\n",
            " |  \n",
            " |  __contains__(self, key, /)\n",
            " |      True if the dictionary has the specified key, else False.\n",
            " |  \n",
            " |  __delitem__(self, key, /)\n",
            " |      Delete self[key].\n",
            " |  \n",
            " |  __eq__(self, value, /)\n",
            " |      Return self==value.\n",
            " |  \n",
            " |  __ge__(self, value, /)\n",
            " |      Return self>=value.\n",
            " |  \n",
            " |  __getattribute__(self, name, /)\n",
            " |      Return getattr(self, name).\n",
            " |  \n",
            " |  __getitem__(...)\n",
            " |      x.__getitem__(y) <==> x[y]\n",
            " |  \n",
            " |  __gt__(self, value, /)\n",
            " |      Return self>value.\n",
            " |  \n",
            " |  __init__(self, /, *args, **kwargs)\n",
            " |      Initialize self.  See help(type(self)) for accurate signature.\n",
            " |  \n",
            " |  __ior__(self, value, /)\n",
            " |      Return self|=value.\n",
            " |  \n",
            " |  __iter__(self, /)\n",
            " |      Implement iter(self).\n",
            " |  \n",
            " |  __le__(self, value, /)\n",
            " |      Return self<=value.\n",
            " |  \n",
            " |  __len__(self, /)\n",
            " |      Return len(self).\n",
            " |  \n",
            " |  __lt__(self, value, /)\n",
            " |      Return self<value.\n",
            " |  \n",
            " |  __ne__(self, value, /)\n",
            " |      Return self!=value.\n",
            " |  \n",
            " |  __or__(self, value, /)\n",
            " |      Return self|value.\n",
            " |  \n",
            " |  __repr__(self, /)\n",
            " |      Return repr(self).\n",
            " |  \n",
            " |  __reversed__(self, /)\n",
            " |      Return a reverse iterator over the dict keys.\n",
            " |  \n",
            " |  __ror__(self, value, /)\n",
            " |      Return value|self.\n",
            " |  \n",
            " |  __setitem__(self, key, value, /)\n",
            " |      Set self[key] to value.\n",
            " |  \n",
            " |  __sizeof__(...)\n",
            " |      D.__sizeof__() -> size of D in memory, in bytes\n",
            " |  \n",
            " |  clear(...)\n",
            " |      D.clear() -> None.  Remove all items from D.\n",
            " |  \n",
            " |  copy(...)\n",
            " |      D.copy() -> a shallow copy of D\n",
            " |  \n",
            " |  get(self, key, default=None, /)\n",
            " |      Return the value for key if key is in the dictionary, else default.\n",
            " |  \n",
            " |  items(...)\n",
            " |      D.items() -> a set-like object providing a view on D's items\n",
            " |  \n",
            " |  keys(...)\n",
            " |      D.keys() -> a set-like object providing a view on D's keys\n",
            " |  \n",
            " |  pop(...)\n",
            " |      D.pop(k[,d]) -> v, remove specified key and return the corresponding value.\n",
            " |      \n",
            " |      If the key is not found, return the default if given; otherwise,\n",
            " |      raise a KeyError.\n",
            " |  \n",
            " |  popitem(self, /)\n",
            " |      Remove and return a (key, value) pair as a 2-tuple.\n",
            " |      \n",
            " |      Pairs are returned in LIFO (last-in, first-out) order.\n",
            " |      Raises KeyError if the dict is empty.\n",
            " |  \n",
            " |  setdefault(self, key, default=None, /)\n",
            " |      Insert key with a value of default if key is not in the dictionary.\n",
            " |      \n",
            " |      Return the value for key if key is in the dictionary, else default.\n",
            " |  \n",
            " |  update(...)\n",
            " |      D.update([E, ]**F) -> None.  Update D from dict/iterable E and F.\n",
            " |      If E is present and has a .keys() method, then does:  for k in E: D[k] = E[k]\n",
            " |      If E is present and lacks a .keys() method, then does:  for k, v in E: D[k] = v\n",
            " |      In either case, this is followed by: for k in F:  D[k] = F[k]\n",
            " |  \n",
            " |  values(...)\n",
            " |      D.values() -> an object providing a view on D's values\n",
            " |  \n",
            " |  ----------------------------------------------------------------------\n",
            " |  Class methods defined here:\n",
            " |  \n",
            " |  __class_getitem__(...)\n",
            " |      See PEP 585\n",
            " |  \n",
            " |  fromkeys(iterable, value=None, /)\n",
            " |      Create a new dictionary with keys from iterable and values set to value.\n",
            " |  \n",
            " |  ----------------------------------------------------------------------\n",
            " |  Static methods defined here:\n",
            " |  \n",
            " |  __new__(*args, **kwargs)\n",
            " |      Create and return a new object.  See help(type) for accurate signature.\n",
            " |  \n",
            " |  ----------------------------------------------------------------------\n",
            " |  Data and other attributes defined here:\n",
            " |  \n",
            " |  __hash__ = None\n",
            "\n"
          ]
        }
      ]
    },
    {
      "cell_type": "code",
      "source": [
        "# loops in dictionary\n",
        "dict1={\n",
        "    1:\"prakul jain\",\n",
        "    2:\"naman\",\n",
        "    \"city\":\"jaipur\"\n",
        "}\n",
        "for i in dict1: # return keys\n",
        "    print(i,dict1[i])\n",
        "for i in dict1.keys(): # keys function return keys\n",
        "    print(i,dict1[i])\n",
        "for i in dict1.values(): # values function return values\n",
        "    print(i)\n",
        "for i,j in dict1.items(): # items function return keys and values\n",
        "    print(i,j)\n"
      ],
      "metadata": {
        "colab": {
          "base_uri": "https://localhost:8080/"
        },
        "id": "uLn9cOYSO5Ev",
        "outputId": "0414e473-ac24-464a-b115-77888f4ccbb2"
      },
      "execution_count": 14,
      "outputs": [
        {
          "output_type": "stream",
          "name": "stdout",
          "text": [
            "1 prakul jain\n",
            "2 naman\n",
            "city jaipur\n",
            "1 prakul jain\n",
            "2 naman\n",
            "city jaipur\n",
            "prakul jain\n",
            "naman\n",
            "jaipur\n",
            "1 prakul jain\n",
            "2 naman\n",
            "city jaipur\n"
          ]
        }
      ]
    },
    {
      "cell_type": "code",
      "source": [
        "x=(10,20)\n",
        "a,b=x # tuple unpacking\n",
        "print(a)\n",
        "print(b)"
      ],
      "metadata": {
        "colab": {
          "base_uri": "https://localhost:8080/"
        },
        "id": "Zkgsxx-PQtLY",
        "outputId": "663a0603-9ead-42ec-edba-5f6cf36f479f"
      },
      "execution_count": 15,
      "outputs": [
        {
          "output_type": "stream",
          "name": "stdout",
          "text": [
            "10\n",
            "20\n"
          ]
        }
      ]
    },
    {
      "cell_type": "code",
      "source": [
        "x=(10,20)\n",
        "a=x[1]\n",
        "b=x[0]\n",
        "print(a)\n",
        "print(b)"
      ],
      "metadata": {
        "colab": {
          "base_uri": "https://localhost:8080/"
        },
        "id": "2maVY1BCSHWt",
        "outputId": "3bb671ca-7d2f-4057-84bc-b89bd4cf558b"
      },
      "execution_count": 16,
      "outputs": [
        {
          "output_type": "stream",
          "name": "stdout",
          "text": [
            "20\n",
            "10\n"
          ]
        }
      ]
    },
    {
      "cell_type": "code",
      "source": [
        "dict1={\n",
        "    \"x\":100}\n",
        "dict1[\"x\"]=dict1[\"x\"]+50\n",
        "print(dict1)"
      ],
      "metadata": {
        "colab": {
          "base_uri": "https://localhost:8080/"
        },
        "id": "sg9zVRzpSQkg",
        "outputId": "e0b3dc35-c4ac-4c92-cbbe-b55c99b9030c"
      },
      "execution_count": 20,
      "outputs": [
        {
          "output_type": "stream",
          "name": "stdout",
          "text": [
            "{'x': 150}\n"
          ]
        }
      ]
    },
    {
      "cell_type": "code",
      "source": [
        "mydict={\n",
        "    \"count\":0\n",
        "}\n",
        "a=\"hello\"\n",
        "for i in a:\n",
        "    mydict[\"count\"]+=1\n",
        "print(mydict)"
      ],
      "metadata": {
        "colab": {
          "base_uri": "https://localhost:8080/"
        },
        "id": "IsCzLhz4S9xt",
        "outputId": "5968bd42-ff9f-4519-ba56-13bce19a231b"
      },
      "execution_count": 22,
      "outputs": [
        {
          "output_type": "stream",
          "name": "stdout",
          "text": [
            "{'count': 5}\n"
          ]
        }
      ]
    },
    {
      "cell_type": "code",
      "source": [
        "mydict={\n",
        "    \"count\":0\n",
        "}\n",
        "a=\"hello\"\n",
        "for i in a:\n",
        "  if i in [\"a\",\"e\",\"i\",\"o\",\"u\"]:\n",
        "    mydict[\"count\"]+=1\n",
        "print(mydict)\n"
      ],
      "metadata": {
        "colab": {
          "base_uri": "https://localhost:8080/"
        },
        "id": "7KGZ8M7bTj0X",
        "outputId": "8682f9a6-8a77-4475-f24b-e74698fb16e0"
      },
      "execution_count": 23,
      "outputs": [
        {
          "output_type": "stream",
          "name": "stdout",
          "text": [
            "{'count': 2}\n"
          ]
        }
      ]
    },
    {
      "cell_type": "code",
      "source": [
        "mydict={\n",
        "    \"count\":0\n",
        "}\n",
        "a=\"heey\"\n",
        "for i in a:\n",
        "  mydict[i]=1# if the character is not in dictionary it insert the new key if there is a key then it update the value\n",
        "  print(mydict)\n",
        "print(mydict)\n"
      ],
      "metadata": {
        "colab": {
          "base_uri": "https://localhost:8080/"
        },
        "id": "qgFUtlQpUfLU",
        "outputId": "7ef1d7d4-2799-4237-af3b-d731feedbf38"
      },
      "execution_count": 26,
      "outputs": [
        {
          "output_type": "stream",
          "name": "stdout",
          "text": [
            "{'count': 0, 'h': 1}\n",
            "{'count': 0, 'h': 1, 'e': 1}\n",
            "{'count': 0, 'h': 1, 'e': 1}\n",
            "{'count': 0, 'h': 1, 'e': 1, 'y': 1}\n",
            "{'count': 0, 'h': 1, 'e': 1, 'y': 1}\n"
          ]
        }
      ]
    },
    {
      "cell_type": "code",
      "source": [
        "mydict={\n",
        "    \"a\":0,\n",
        "    \"e\":0,\n",
        "    \"i\":0,\n",
        "    \"o\":0,\n",
        "    \"u\":0\n",
        "}\n",
        "string=input(\"enter string: \")\n",
        "for i in string:\n",
        "  if i in \"a,e,i,o,u\":\n",
        "    mydict[i]+=1\n",
        "    print(mydict)"
      ],
      "metadata": {
        "colab": {
          "base_uri": "https://localhost:8080/"
        },
        "id": "veBhIGVmVBjW",
        "outputId": "8f9fb978-262b-44e4-fb4f-23dee598dfe5"
      },
      "execution_count": 31,
      "outputs": [
        {
          "output_type": "stream",
          "name": "stdout",
          "text": [
            "enter string: prakul jain\n",
            "{'a': 1, 'e': 0, 'i': 0, 'o': 0, 'u': 0}\n",
            "{'a': 1, 'e': 0, 'i': 0, 'o': 0, 'u': 1}\n",
            "{'a': 2, 'e': 0, 'i': 0, 'o': 0, 'u': 1}\n",
            "{'a': 2, 'e': 0, 'i': 1, 'o': 0, 'u': 1}\n"
          ]
        }
      ]
    },
    {
      "cell_type": "code",
      "source": [
        "list1=[1,2,3,7,11,13]\n",
        "mydict={}\n",
        "for i in range(0,len(list1)):\n",
        "  mydict[list1[i]]=i\n",
        "print(mydict)\n",
        "k=9\n",
        "for i in list1:\n",
        "  y=9-i\n",
        "  print(y)\n",
        "  for i in mydict:\n",
        "    if y == mydict:\n",
        "      print(mydict[i])"
      ],
      "metadata": {
        "colab": {
          "base_uri": "https://localhost:8080/"
        },
        "id": "AZ23hcGSWTI7",
        "outputId": "c4285486-7e83-4850-c32d-f9c5c6b0cf22"
      },
      "execution_count": 46,
      "outputs": [
        {
          "output_type": "stream",
          "name": "stdout",
          "text": [
            "{1: 0, 2: 1, 3: 2, 7: 3, 11: 4, 13: 5}\n",
            "8\n",
            "7\n",
            "6\n",
            "2\n",
            "-2\n",
            "-4\n"
          ]
        }
      ]
    },
    {
      "cell_type": "code",
      "source": [],
      "metadata": {
        "id": "8q08VI-8Yfqi"
      },
      "execution_count": null,
      "outputs": []
    }
  ]
}