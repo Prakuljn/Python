{
  "nbformat": 4,
  "nbformat_minor": 0,
  "metadata": {
    "colab": {
      "provenance": [],
      "authorship_tag": "ABX9TyO6kHrvOrkjQjhEf+Li4hmP",
      "include_colab_link": true
    },
    "kernelspec": {
      "name": "python3",
      "display_name": "Python 3"
    },
    "language_info": {
      "name": "python"
    }
  },
  "cells": [
    {
      "cell_type": "markdown",
      "metadata": {
        "id": "view-in-github",
        "colab_type": "text"
      },
      "source": [
        "<a href=\"https://colab.research.google.com/github/Prakuljn/Python-Assignment/blob/main/oops_test.ipynb\" target=\"_parent\"><img src=\"https://colab.research.google.com/assets/colab-badge.svg\" alt=\"Open In Colab\"/></a>"
      ]
    },
    {
      "cell_type": "code",
      "execution_count": 6,
      "metadata": {
        "colab": {
          "base_uri": "https://localhost:8080/"
        },
        "id": "JQWaS3e0sGAw",
        "outputId": "1d3caaac-e1de-417b-f488-e70444373298"
      },
      "outputs": [
        {
          "output_type": "stream",
          "name": "stdout",
          "text": [
            "('Naman', 20, ['viral', 'diabites'])\n",
            "('record updated ', ['viral', 'diabites', 'thyroid'])\n",
            "('Naman', 20, ['viral', 'diabites', 'thyroid'])\n"
          ]
        }
      ],
      "source": [
        "class Hoispital:\n",
        "  def __init__(self,name , age,med_rec=[]):\n",
        "    self.__name=name\n",
        "    self.__age=age\n",
        "    self.__med_rec=med_rec\n",
        "  def details(self):\n",
        "    return self.__name , self.__age , self.__med_rec\n",
        "  def add_med_rec(self,record):\n",
        "    self.__med_rec.append(record)\n",
        "    return \"record updated \",self.__med_rec\n",
        "person1=Hoispital(\"Naman\",20,[\"viral\",\"diabites\"])\n",
        "print(person1.details())\n",
        "print(person1.add_med_rec(\"thyroid\"))\n",
        "print(person1.details())"
      ]
    },
    {
      "cell_type": "code",
      "source": [
        "class Score:\n",
        "  def __init__(self,name,age,marks=[]):\n",
        "    self.__name=name\n",
        "    self.__age=age\n",
        "    self.__marks=marks\n",
        "  def add_marks(self,marks):\n",
        "    self.__marks=marks\n",
        "    return self.__name,self.__age,self.__marks\n",
        "  def avg_marks(self):\n",
        "    return sum(self.__marks)/len(self.__marks), \"is average marks obtained by student\",self.__name\n",
        "student1=Score(\"prakul\",20)\n",
        "print(student1.add_marks([85,45,78]))\n",
        "print(student1.avg_marks())"
      ],
      "metadata": {
        "colab": {
          "base_uri": "https://localhost:8080/"
        },
        "id": "u3mABlqptOcH",
        "outputId": "8b8d184d-7a29-4387-99a7-f1fe39192d0b"
      },
      "execution_count": 9,
      "outputs": [
        {
          "output_type": "stream",
          "name": "stdout",
          "text": [
            "('prakul', 20, [85, 45, 78])\n",
            "(69.33333333333333, 'is average marks obtained by student', 'prakul')\n"
          ]
        }
      ]
    },
    {
      "cell_type": "code",
      "source": [
        "class custumer:\n",
        "  def __init__(self,name,contact):\n",
        "    self.name=name\n",
        "    self.contact=contact\n",
        "  def showdetails(self):\n",
        "    return self.name , self.contact\n",
        "class product(custumer):\n",
        "  def __init__(self,pname,price):\n",
        "    self.pname=pname\n",
        "    self.price=price\n",
        "  def showpdetails(self):\n",
        "    return self.pname , self.price\n",
        "class order(product):\n",
        "  def odr_details(self):\n",
        "    return super().__init.name\n",
        "c1= order()\n",
        "c1.custumer(\"saksham\",8526931452)\n",
        "c1.product(\"laptop\",60600)\n",
        "print(c1.odrdetails())"
      ],
      "metadata": {
        "colab": {
          "base_uri": "https://localhost:8080/",
          "height": 211
        },
        "id": "Ob1tj578urJU",
        "outputId": "a518c3cb-84d4-45f3-8543-37f05f17969b"
      },
      "execution_count": 13,
      "outputs": [
        {
          "output_type": "error",
          "ename": "TypeError",
          "evalue": "product.__init__() missing 2 required positional arguments: 'pname' and 'price'",
          "traceback": [
            "\u001b[0;31m---------------------------------------------------------------------------\u001b[0m",
            "\u001b[0;31mTypeError\u001b[0m                                 Traceback (most recent call last)",
            "\u001b[0;32m<ipython-input-13-610183d28390>\u001b[0m in \u001b[0;36m<cell line: 0>\u001b[0;34m()\u001b[0m\n\u001b[1;32m     14\u001b[0m   \u001b[0;32mdef\u001b[0m \u001b[0modr_details\u001b[0m\u001b[0;34m(\u001b[0m\u001b[0mself\u001b[0m\u001b[0;34m)\u001b[0m\u001b[0;34m:\u001b[0m\u001b[0;34m\u001b[0m\u001b[0;34m\u001b[0m\u001b[0m\n\u001b[1;32m     15\u001b[0m     \u001b[0;32mreturn\u001b[0m \u001b[0msuper\u001b[0m\u001b[0;34m(\u001b[0m\u001b[0;34m)\u001b[0m\u001b[0;34m.\u001b[0m\u001b[0m__init\u001b[0m\u001b[0;34m.\u001b[0m\u001b[0mname\u001b[0m\u001b[0;34m\u001b[0m\u001b[0;34m\u001b[0m\u001b[0m\n\u001b[0;32m---> 16\u001b[0;31m \u001b[0mc1\u001b[0m\u001b[0;34m=\u001b[0m \u001b[0morder\u001b[0m\u001b[0;34m(\u001b[0m\u001b[0;34m)\u001b[0m\u001b[0;34m\u001b[0m\u001b[0;34m\u001b[0m\u001b[0m\n\u001b[0m\u001b[1;32m     17\u001b[0m \u001b[0mc1\u001b[0m\u001b[0;34m.\u001b[0m\u001b[0mcustumer\u001b[0m\u001b[0;34m(\u001b[0m\u001b[0;34m\"saksham\"\u001b[0m\u001b[0;34m,\u001b[0m\u001b[0;36m8526931452\u001b[0m\u001b[0;34m)\u001b[0m\u001b[0;34m\u001b[0m\u001b[0;34m\u001b[0m\u001b[0m\n\u001b[1;32m     18\u001b[0m \u001b[0mc1\u001b[0m\u001b[0;34m.\u001b[0m\u001b[0mproduct\u001b[0m\u001b[0;34m(\u001b[0m\u001b[0;34m\"laptop\"\u001b[0m\u001b[0;34m,\u001b[0m\u001b[0;36m60600\u001b[0m\u001b[0;34m)\u001b[0m\u001b[0;34m\u001b[0m\u001b[0;34m\u001b[0m\u001b[0m\n",
            "\u001b[0;31mTypeError\u001b[0m: product.__init__() missing 2 required positional arguments: 'pname' and 'price'"
          ]
        }
      ]
    },
    {
      "cell_type": "code",
      "source": [],
      "metadata": {
        "id": "Hkg4pFD2v1oh"
      },
      "execution_count": 13,
      "outputs": []
    }
  ]
}