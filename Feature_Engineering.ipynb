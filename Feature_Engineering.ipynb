{
  "cells": [
    {
      "cell_type": "markdown",
      "metadata": {
        "id": "view-in-github",
        "colab_type": "text"
      },
      "source": [
        "<a href=\"https://colab.research.google.com/github/Prakuljn/Python/blob/main/Feature_Engineering.ipynb\" target=\"_parent\"><img src=\"https://colab.research.google.com/assets/colab-badge.svg\" alt=\"Open In Colab\"/></a>"
      ]
    },
    {
      "cell_type": "code",
      "execution_count": null,
      "id": "769b10c4-305c-4f02-9f42-20028303f81b",
      "metadata": {
        "id": "769b10c4-305c-4f02-9f42-20028303f81b"
      },
      "outputs": [],
      "source": [
        "# Feature Engineering -----> This is a process in which we will set our data in an appropriate\n",
        "# format so that we can send it to model training .\n",
        "\n",
        "# Normal Distribution -----> In this distribution, points are equal(Left side and right side)\n",
        "# from the centroid.\n",
        "\n",
        "# Mean centroid mean = 0\n",
        "# Standard deviation = 1\n",
        "\n",
        "# Standard deviation -----> mean , Std 1"
      ]
    },
    {
      "cell_type": "code",
      "execution_count": null,
      "id": "91d717b0-2637-47fc-a400-4763cd9a9a03",
      "metadata": {
        "id": "91d717b0-2637-47fc-a400-4763cd9a9a03"
      },
      "outputs": [],
      "source": [
        "import numpy as np\n",
        "import pandas as pd"
      ]
    },
    {
      "cell_type": "code",
      "execution_count": null,
      "id": "8e64f421-f39f-4cee-8fa4-e5968b5f25da",
      "metadata": {
        "id": "8e64f421-f39f-4cee-8fa4-e5968b5f25da"
      },
      "outputs": [],
      "source": [
        "df=pd.read_csv(\"C:\\\\Users\\\\Anmol Hemani\\\\OneDrive\\\\Desktop\\\\Jupyter\\\\Test\\\\placement.csv\")"
      ]
    },
    {
      "cell_type": "code",
      "execution_count": null,
      "id": "059daf82-38aa-43a2-8a84-f3395e34d0bd",
      "metadata": {
        "id": "059daf82-38aa-43a2-8a84-f3395e34d0bd",
        "outputId": "1802bcab-3112-464d-a5f7-fc42852be4cf"
      },
      "outputs": [
        {
          "data": {
            "text/html": [
              "<div>\n",
              "<style scoped>\n",
              "    .dataframe tbody tr th:only-of-type {\n",
              "        vertical-align: middle;\n",
              "    }\n",
              "\n",
              "    .dataframe tbody tr th {\n",
              "        vertical-align: top;\n",
              "    }\n",
              "\n",
              "    .dataframe thead th {\n",
              "        text-align: right;\n",
              "    }\n",
              "</style>\n",
              "<table border=\"1\" class=\"dataframe\">\n",
              "  <thead>\n",
              "    <tr style=\"text-align: right;\">\n",
              "      <th></th>\n",
              "      <th>cgpa</th>\n",
              "      <th>resume_score</th>\n",
              "      <th>placed</th>\n",
              "    </tr>\n",
              "  </thead>\n",
              "  <tbody>\n",
              "    <tr>\n",
              "      <th>0</th>\n",
              "      <td>8.14</td>\n",
              "      <td>6.52</td>\n",
              "      <td>1</td>\n",
              "    </tr>\n",
              "    <tr>\n",
              "      <th>1</th>\n",
              "      <td>6.17</td>\n",
              "      <td>5.17</td>\n",
              "      <td>0</td>\n",
              "    </tr>\n",
              "    <tr>\n",
              "      <th>2</th>\n",
              "      <td>8.27</td>\n",
              "      <td>8.86</td>\n",
              "      <td>1</td>\n",
              "    </tr>\n",
              "    <tr>\n",
              "      <th>3</th>\n",
              "      <td>6.88</td>\n",
              "      <td>7.27</td>\n",
              "      <td>1</td>\n",
              "    </tr>\n",
              "    <tr>\n",
              "      <th>4</th>\n",
              "      <td>7.52</td>\n",
              "      <td>7.30</td>\n",
              "      <td>1</td>\n",
              "    </tr>\n",
              "  </tbody>\n",
              "</table>\n",
              "</div>"
            ],
            "text/plain": [
              "   cgpa  resume_score  placed\n",
              "0  8.14          6.52       1\n",
              "1  6.17          5.17       0\n",
              "2  8.27          8.86       1\n",
              "3  6.88          7.27       1\n",
              "4  7.52          7.30       1"
            ]
          },
          "execution_count": 3,
          "metadata": {},
          "output_type": "execute_result"
        }
      ],
      "source": [
        "df.head()"
      ]
    },
    {
      "cell_type": "code",
      "execution_count": null,
      "id": "3f24a792-a552-4ac0-b90c-d52727a6b946",
      "metadata": {
        "id": "3f24a792-a552-4ac0-b90c-d52727a6b946"
      },
      "outputs": [],
      "source": [
        "x=df.drop(columns=['placed']) # Input data\n",
        "# x"
      ]
    },
    {
      "cell_type": "code",
      "execution_count": null,
      "id": "e55aa3ca-02ac-4156-8a08-9b69d43562b0",
      "metadata": {
        "id": "e55aa3ca-02ac-4156-8a08-9b69d43562b0"
      },
      "outputs": [],
      "source": [
        "y=df['placed'] # Target Data\n",
        "# y"
      ]
    },
    {
      "cell_type": "code",
      "execution_count": null,
      "id": "6b4e607d-8d9b-4c28-b96c-59ad2efa25aa",
      "metadata": {
        "id": "6b4e607d-8d9b-4c28-b96c-59ad2efa25aa"
      },
      "outputs": [],
      "source": [
        "from sklearn.model_selection import train_test_split"
      ]
    },
    {
      "cell_type": "code",
      "execution_count": null,
      "id": "8f37a4fe-5a7d-40cc-ae23-2c8b9eb2b520",
      "metadata": {
        "id": "8f37a4fe-5a7d-40cc-ae23-2c8b9eb2b520"
      },
      "outputs": [],
      "source": [
        "x_train, x_test, y_train, y_test = train_test_split(x,y,test_size=0.2,random_state=42)"
      ]
    },
    {
      "cell_type": "code",
      "execution_count": null,
      "id": "874713b5-a661-4409-9137-39606be77d01",
      "metadata": {
        "id": "874713b5-a661-4409-9137-39606be77d01",
        "outputId": "67c86c07-824c-42ea-f962-cadb16c8f99f"
      },
      "outputs": [
        {
          "name": "stdout",
          "output_type": "stream",
          "text": [
            "Total Data Shape : (100, 3)\n",
            "Input data shape(x) : (100, 2)\n",
            "Input data shape(x_train) : (80, 2)\n",
            "Input data shape(x_test) : (20, 2)\n",
            "Target data shape(y) : (100,)\n",
            "Target data shape(y_train) : (80,)\n",
            "Target data shape(y_test) : (20,)\n"
          ]
        }
      ],
      "source": [
        "print(\"Total Data Shape :\",df.shape)\n",
        "print(\"Input data shape(x) :\",x.shape)\n",
        "print(\"Input data shape(x_train) :\",x_train.shape)\n",
        "print(\"Input data shape(x_test) :\",x_test.shape)\n",
        "\n",
        "print(\"Target data shape(y) :\",y.shape)\n",
        "print(\"Target data shape(y_train) :\",y_train.shape)\n",
        "print(\"Target data shape(y_test) :\",y_test.shape)"
      ]
    },
    {
      "cell_type": "code",
      "execution_count": null,
      "id": "d314e6b8-7732-4e87-bf0d-c779e92723d8",
      "metadata": {
        "id": "d314e6b8-7732-4e87-bf0d-c779e92723d8",
        "outputId": "6e194bd7-cafe-4154-9480-74a35565fd33"
      },
      "outputs": [
        {
          "data": {
            "text/html": [
              "<div>\n",
              "<style scoped>\n",
              "    .dataframe tbody tr th:only-of-type {\n",
              "        vertical-align: middle;\n",
              "    }\n",
              "\n",
              "    .dataframe tbody tr th {\n",
              "        vertical-align: top;\n",
              "    }\n",
              "\n",
              "    .dataframe thead th {\n",
              "        text-align: right;\n",
              "    }\n",
              "</style>\n",
              "<table border=\"1\" class=\"dataframe\">\n",
              "  <thead>\n",
              "    <tr style=\"text-align: right;\">\n",
              "      <th></th>\n",
              "      <th>cgpa</th>\n",
              "      <th>resume_score</th>\n",
              "    </tr>\n",
              "  </thead>\n",
              "  <tbody>\n",
              "    <tr>\n",
              "      <th>count</th>\n",
              "      <td>80.00</td>\n",
              "      <td>80.00</td>\n",
              "    </tr>\n",
              "    <tr>\n",
              "      <th>mean</th>\n",
              "      <td>6.95</td>\n",
              "      <td>7.00</td>\n",
              "    </tr>\n",
              "    <tr>\n",
              "      <th>std</th>\n",
              "      <td>1.13</td>\n",
              "      <td>1.01</td>\n",
              "    </tr>\n",
              "    <tr>\n",
              "      <th>min</th>\n",
              "      <td>5.27</td>\n",
              "      <td>4.95</td>\n",
              "    </tr>\n",
              "    <tr>\n",
              "      <th>25%</th>\n",
              "      <td>6.00</td>\n",
              "      <td>6.28</td>\n",
              "    </tr>\n",
              "    <tr>\n",
              "      <th>50%</th>\n",
              "      <td>6.62</td>\n",
              "      <td>7.15</td>\n",
              "    </tr>\n",
              "    <tr>\n",
              "      <th>75%</th>\n",
              "      <td>8.06</td>\n",
              "      <td>7.69</td>\n",
              "    </tr>\n",
              "    <tr>\n",
              "      <th>max</th>\n",
              "      <td>9.31</td>\n",
              "      <td>9.06</td>\n",
              "    </tr>\n",
              "  </tbody>\n",
              "</table>\n",
              "</div>"
            ],
            "text/plain": [
              "        cgpa  resume_score\n",
              "count  80.00         80.00\n",
              "mean    6.95          7.00\n",
              "std     1.13          1.01\n",
              "min     5.27          4.95\n",
              "25%     6.00          6.28\n",
              "50%     6.62          7.15\n",
              "75%     8.06          7.69\n",
              "max     9.31          9.06"
            ]
          },
          "execution_count": 12,
          "metadata": {},
          "output_type": "execute_result"
        }
      ],
      "source": [
        "np.round(x_train.describe(),2)"
      ]
    },
    {
      "cell_type": "code",
      "execution_count": null,
      "id": "1ea335e9-f312-4418-ac62-1700472a81ba",
      "metadata": {
        "id": "1ea335e9-f312-4418-ac62-1700472a81ba"
      },
      "outputs": [],
      "source": [
        "from sklearn.preprocessing import StandardScaler"
      ]
    },
    {
      "cell_type": "code",
      "execution_count": null,
      "id": "b88dbe39-be70-4df5-a0da-6e2c53575237",
      "metadata": {
        "id": "b88dbe39-be70-4df5-a0da-6e2c53575237"
      },
      "outputs": [],
      "source": [
        "sc=StandardScaler()"
      ]
    },
    {
      "cell_type": "code",
      "execution_count": null,
      "id": "317cd0b6-c712-4d7c-8e06-3f90b879fb4b",
      "metadata": {
        "id": "317cd0b6-c712-4d7c-8e06-3f90b879fb4b"
      },
      "outputs": [],
      "source": [
        "x_train_sc = sc.fit_transform(x_train) # fit means learn the parameter and transform means apply on the data"
      ]
    },
    {
      "cell_type": "code",
      "execution_count": null,
      "id": "50c6c16f-8ddb-4d2a-885d-239bffe08b83",
      "metadata": {
        "id": "50c6c16f-8ddb-4d2a-885d-239bffe08b83"
      },
      "outputs": [],
      "source": [
        "x_train_new=pd.DataFrame(x_train_sc, columns=x_train.columns)"
      ]
    },
    {
      "cell_type": "code",
      "execution_count": null,
      "id": "01b9a085-83a6-4af4-9ac2-635d32dfc5d0",
      "metadata": {
        "id": "01b9a085-83a6-4af4-9ac2-635d32dfc5d0",
        "outputId": "dc2a537a-4327-4667-b3b5-8d0d93474fed"
      },
      "outputs": [
        {
          "data": {
            "text/html": [
              "<div>\n",
              "<style scoped>\n",
              "    .dataframe tbody tr th:only-of-type {\n",
              "        vertical-align: middle;\n",
              "    }\n",
              "\n",
              "    .dataframe tbody tr th {\n",
              "        vertical-align: top;\n",
              "    }\n",
              "\n",
              "    .dataframe thead th {\n",
              "        text-align: right;\n",
              "    }\n",
              "</style>\n",
              "<table border=\"1\" class=\"dataframe\">\n",
              "  <thead>\n",
              "    <tr style=\"text-align: right;\">\n",
              "      <th></th>\n",
              "      <th>cgpa</th>\n",
              "      <th>resume_score</th>\n",
              "    </tr>\n",
              "  </thead>\n",
              "  <tbody>\n",
              "    <tr>\n",
              "      <th>count</th>\n",
              "      <td>80.00</td>\n",
              "      <td>80.00</td>\n",
              "    </tr>\n",
              "    <tr>\n",
              "      <th>mean</th>\n",
              "      <td>-0.00</td>\n",
              "      <td>-0.00</td>\n",
              "    </tr>\n",
              "    <tr>\n",
              "      <th>std</th>\n",
              "      <td>1.01</td>\n",
              "      <td>1.01</td>\n",
              "    </tr>\n",
              "    <tr>\n",
              "      <th>min</th>\n",
              "      <td>-1.50</td>\n",
              "      <td>-2.04</td>\n",
              "    </tr>\n",
              "    <tr>\n",
              "      <th>25%</th>\n",
              "      <td>-0.85</td>\n",
              "      <td>-0.72</td>\n",
              "    </tr>\n",
              "    <tr>\n",
              "      <th>50%</th>\n",
              "      <td>-0.29</td>\n",
              "      <td>0.15</td>\n",
              "    </tr>\n",
              "    <tr>\n",
              "      <th>75%</th>\n",
              "      <td>0.99</td>\n",
              "      <td>0.69</td>\n",
              "    </tr>\n",
              "    <tr>\n",
              "      <th>max</th>\n",
              "      <td>2.11</td>\n",
              "      <td>2.05</td>\n",
              "    </tr>\n",
              "  </tbody>\n",
              "</table>\n",
              "</div>"
            ],
            "text/plain": [
              "        cgpa  resume_score\n",
              "count  80.00         80.00\n",
              "mean   -0.00         -0.00\n",
              "std     1.01          1.01\n",
              "min    -1.50         -2.04\n",
              "25%    -0.85         -0.72\n",
              "50%    -0.29          0.15\n",
              "75%     0.99          0.69\n",
              "max     2.11          2.05"
            ]
          },
          "execution_count": 17,
          "metadata": {},
          "output_type": "execute_result"
        }
      ],
      "source": [
        "np.round(x_train_new.describe(),2)"
      ]
    },
    {
      "cell_type": "markdown",
      "id": "27f002fd-ae46-4a39-beab-2b1ea19c6215",
      "metadata": {
        "id": "27f002fd-ae46-4a39-beab-2b1ea19c6215"
      },
      "source": [
        "# Assignment"
      ]
    },
    {
      "cell_type": "code",
      "execution_count": null,
      "id": "ae9c4f99-45af-4709-9aa4-5eeaf3c99db2",
      "metadata": {
        "id": "ae9c4f99-45af-4709-9aa4-5eeaf3c99db2"
      },
      "outputs": [],
      "source": [
        "df1=pd.read_csv(\"C:\\\\Users\\\\Anmol Hemani\\\\OneDrive\\\\Desktop\\\\Jupyter\\\\Test\\\\tips.csv\")"
      ]
    },
    {
      "cell_type": "code",
      "execution_count": null,
      "id": "c25e5d19-0145-4be1-8d52-d927ebfab10c",
      "metadata": {
        "id": "c25e5d19-0145-4be1-8d52-d927ebfab10c",
        "outputId": "d3afb388-f1a3-4ebc-e90d-6a0ea0461cf2"
      },
      "outputs": [
        {
          "data": {
            "text/html": [
              "<div>\n",
              "<style scoped>\n",
              "    .dataframe tbody tr th:only-of-type {\n",
              "        vertical-align: middle;\n",
              "    }\n",
              "\n",
              "    .dataframe tbody tr th {\n",
              "        vertical-align: top;\n",
              "    }\n",
              "\n",
              "    .dataframe thead th {\n",
              "        text-align: right;\n",
              "    }\n",
              "</style>\n",
              "<table border=\"1\" class=\"dataframe\">\n",
              "  <thead>\n",
              "    <tr style=\"text-align: right;\">\n",
              "      <th></th>\n",
              "      <th>total_bill</th>\n",
              "      <th>tip</th>\n",
              "      <th>sex</th>\n",
              "      <th>smoker</th>\n",
              "      <th>day</th>\n",
              "      <th>time</th>\n",
              "      <th>size</th>\n",
              "    </tr>\n",
              "  </thead>\n",
              "  <tbody>\n",
              "    <tr>\n",
              "      <th>0</th>\n",
              "      <td>16.99</td>\n",
              "      <td>1.01</td>\n",
              "      <td>Female</td>\n",
              "      <td>No</td>\n",
              "      <td>Sun</td>\n",
              "      <td>Dinner</td>\n",
              "      <td>2</td>\n",
              "    </tr>\n",
              "    <tr>\n",
              "      <th>1</th>\n",
              "      <td>10.34</td>\n",
              "      <td>1.66</td>\n",
              "      <td>Male</td>\n",
              "      <td>No</td>\n",
              "      <td>Sun</td>\n",
              "      <td>Dinner</td>\n",
              "      <td>3</td>\n",
              "    </tr>\n",
              "    <tr>\n",
              "      <th>2</th>\n",
              "      <td>21.01</td>\n",
              "      <td>3.50</td>\n",
              "      <td>Male</td>\n",
              "      <td>No</td>\n",
              "      <td>Sun</td>\n",
              "      <td>Dinner</td>\n",
              "      <td>3</td>\n",
              "    </tr>\n",
              "    <tr>\n",
              "      <th>3</th>\n",
              "      <td>23.68</td>\n",
              "      <td>3.31</td>\n",
              "      <td>Male</td>\n",
              "      <td>No</td>\n",
              "      <td>Sun</td>\n",
              "      <td>Dinner</td>\n",
              "      <td>2</td>\n",
              "    </tr>\n",
              "    <tr>\n",
              "      <th>4</th>\n",
              "      <td>24.59</td>\n",
              "      <td>3.61</td>\n",
              "      <td>Female</td>\n",
              "      <td>No</td>\n",
              "      <td>Sun</td>\n",
              "      <td>Dinner</td>\n",
              "      <td>4</td>\n",
              "    </tr>\n",
              "  </tbody>\n",
              "</table>\n",
              "</div>"
            ],
            "text/plain": [
              "   total_bill   tip     sex smoker  day    time  size\n",
              "0       16.99  1.01  Female     No  Sun  Dinner     2\n",
              "1       10.34  1.66    Male     No  Sun  Dinner     3\n",
              "2       21.01  3.50    Male     No  Sun  Dinner     3\n",
              "3       23.68  3.31    Male     No  Sun  Dinner     2\n",
              "4       24.59  3.61  Female     No  Sun  Dinner     4"
            ]
          },
          "execution_count": 21,
          "metadata": {},
          "output_type": "execute_result"
        }
      ],
      "source": [
        "df1.head()"
      ]
    },
    {
      "cell_type": "code",
      "execution_count": null,
      "id": "67140ec0-73a2-4910-bf0e-3c7b249a6a42",
      "metadata": {
        "id": "67140ec0-73a2-4910-bf0e-3c7b249a6a42"
      },
      "outputs": [],
      "source": [
        "a=df1.drop(columns=['sex','smoker','day','time'])\n",
        "# a"
      ]
    },
    {
      "cell_type": "code",
      "execution_count": null,
      "id": "3127467c-5ed0-4260-9173-91215e54f580",
      "metadata": {
        "id": "3127467c-5ed0-4260-9173-91215e54f580"
      },
      "outputs": [],
      "source": [
        "x1=a.drop(columns=['size']) # Input data\n",
        "# x1"
      ]
    },
    {
      "cell_type": "code",
      "execution_count": null,
      "id": "5d95c49c-9bc5-4cce-a6b3-af74e6fd899c",
      "metadata": {
        "id": "5d95c49c-9bc5-4cce-a6b3-af74e6fd899c"
      },
      "outputs": [],
      "source": [
        "y1=a['size']\n",
        "# y1"
      ]
    },
    {
      "cell_type": "code",
      "execution_count": null,
      "id": "62b3c369-a596-4281-bc27-b0eef232122f",
      "metadata": {
        "id": "62b3c369-a596-4281-bc27-b0eef232122f"
      },
      "outputs": [],
      "source": [
        "from sklearn.model_selection import train_test_split"
      ]
    },
    {
      "cell_type": "code",
      "execution_count": null,
      "id": "e3cead59-d216-4515-9b87-0eecec5ce515",
      "metadata": {
        "id": "e3cead59-d216-4515-9b87-0eecec5ce515"
      },
      "outputs": [],
      "source": [
        "x1_train, x1_test, y1_train, y1_test = train_test_split(x1,y1,test_size=0.2,random_state=42)"
      ]
    },
    {
      "cell_type": "code",
      "execution_count": null,
      "id": "677a1122-2e1f-4efc-b7b6-e15f5e44df70",
      "metadata": {
        "id": "677a1122-2e1f-4efc-b7b6-e15f5e44df70",
        "outputId": "bf5c9b24-1ada-49b8-fd10-00cd6527f4a1"
      },
      "outputs": [
        {
          "name": "stdout",
          "output_type": "stream",
          "text": [
            "Total Data Shape : (244, 3)\n",
            "Input data shape(x1) : (244, 2)\n",
            "Input data shape(x1_train) : (195, 2)\n",
            "Input data shape(x1_test) : (49, 2)\n",
            "Target data shape(y1) : (244,)\n",
            "Target data shape(y1_train) : (195,)\n",
            "Target data shape(y1_test) : (49,)\n"
          ]
        }
      ],
      "source": [
        "print(\"Total Data Shape :\",a.shape)\n",
        "print(\"Input data shape(x1) :\",x1.shape)\n",
        "print(\"Input data shape(x1_train) :\",x1_train.shape)\n",
        "print(\"Input data shape(x1_test) :\",x1_test.shape)\n",
        "\n",
        "print(\"Target data shape(y1) :\",y1.shape)\n",
        "print(\"Target data shape(y1_train) :\",y1_train.shape)\n",
        "print(\"Target data shape(y1_test) :\",y1_test.shape)"
      ]
    },
    {
      "cell_type": "code",
      "execution_count": null,
      "id": "8332255a-8434-458d-8edf-f514af3d0e11",
      "metadata": {
        "id": "8332255a-8434-458d-8edf-f514af3d0e11",
        "outputId": "37286d9d-730d-4778-f5f3-ff9146e68c2f"
      },
      "outputs": [
        {
          "data": {
            "text/html": [
              "<div>\n",
              "<style scoped>\n",
              "    .dataframe tbody tr th:only-of-type {\n",
              "        vertical-align: middle;\n",
              "    }\n",
              "\n",
              "    .dataframe tbody tr th {\n",
              "        vertical-align: top;\n",
              "    }\n",
              "\n",
              "    .dataframe thead th {\n",
              "        text-align: right;\n",
              "    }\n",
              "</style>\n",
              "<table border=\"1\" class=\"dataframe\">\n",
              "  <thead>\n",
              "    <tr style=\"text-align: right;\">\n",
              "      <th></th>\n",
              "      <th>total_bill</th>\n",
              "      <th>tip</th>\n",
              "    </tr>\n",
              "  </thead>\n",
              "  <tbody>\n",
              "    <tr>\n",
              "      <th>count</th>\n",
              "      <td>195.00</td>\n",
              "      <td>195.00</td>\n",
              "    </tr>\n",
              "    <tr>\n",
              "      <th>mean</th>\n",
              "      <td>20.22</td>\n",
              "      <td>3.09</td>\n",
              "    </tr>\n",
              "    <tr>\n",
              "      <th>std</th>\n",
              "      <td>8.77</td>\n",
              "      <td>1.43</td>\n",
              "    </tr>\n",
              "    <tr>\n",
              "      <th>min</th>\n",
              "      <td>5.75</td>\n",
              "      <td>1.00</td>\n",
              "    </tr>\n",
              "    <tr>\n",
              "      <th>25%</th>\n",
              "      <td>13.66</td>\n",
              "      <td>2.00</td>\n",
              "    </tr>\n",
              "    <tr>\n",
              "      <th>50%</th>\n",
              "      <td>17.92</td>\n",
              "      <td>3.00</td>\n",
              "    </tr>\n",
              "    <tr>\n",
              "      <th>75%</th>\n",
              "      <td>24.86</td>\n",
              "      <td>3.70</td>\n",
              "    </tr>\n",
              "    <tr>\n",
              "      <th>max</th>\n",
              "      <td>50.81</td>\n",
              "      <td>10.00</td>\n",
              "    </tr>\n",
              "  </tbody>\n",
              "</table>\n",
              "</div>"
            ],
            "text/plain": [
              "       total_bill     tip\n",
              "count      195.00  195.00\n",
              "mean        20.22    3.09\n",
              "std          8.77    1.43\n",
              "min          5.75    1.00\n",
              "25%         13.66    2.00\n",
              "50%         17.92    3.00\n",
              "75%         24.86    3.70\n",
              "max         50.81   10.00"
            ]
          },
          "execution_count": 37,
          "metadata": {},
          "output_type": "execute_result"
        }
      ],
      "source": [
        "np.round(x1_train.describe(),2)"
      ]
    },
    {
      "cell_type": "code",
      "execution_count": null,
      "id": "44ca8e5e-2c6b-4cbe-9aea-549fd13bab77",
      "metadata": {
        "id": "44ca8e5e-2c6b-4cbe-9aea-549fd13bab77"
      },
      "outputs": [],
      "source": [
        "from sklearn.preprocessing import StandardScaler"
      ]
    },
    {
      "cell_type": "code",
      "execution_count": null,
      "id": "6311039a-f146-41fc-a532-7a6d4ceba895",
      "metadata": {
        "id": "6311039a-f146-41fc-a532-7a6d4ceba895"
      },
      "outputs": [],
      "source": [
        "sc1=StandardScaler()"
      ]
    },
    {
      "cell_type": "code",
      "execution_count": null,
      "id": "a7b8bceb-f270-403e-a0ab-a4415548b9bd",
      "metadata": {
        "id": "a7b8bceb-f270-403e-a0ab-a4415548b9bd"
      },
      "outputs": [],
      "source": [
        "x1_train_sc1 = sc1.fit_transform(x1_train)"
      ]
    },
    {
      "cell_type": "code",
      "execution_count": null,
      "id": "375c92fc-7c79-4ea9-8077-4a2de6005ba3",
      "metadata": {
        "id": "375c92fc-7c79-4ea9-8077-4a2de6005ba3"
      },
      "outputs": [],
      "source": [
        "x1_train_new=pd.DataFrame(x1_train_sc1, columns=x1_train.columns)"
      ]
    },
    {
      "cell_type": "code",
      "execution_count": null,
      "id": "51f0cf53-3ae5-4618-94b4-ff24df310a00",
      "metadata": {
        "id": "51f0cf53-3ae5-4618-94b4-ff24df310a00",
        "outputId": "871d05a3-0f7a-4892-814a-7d57dedad7f1"
      },
      "outputs": [
        {
          "data": {
            "text/html": [
              "<div>\n",
              "<style scoped>\n",
              "    .dataframe tbody tr th:only-of-type {\n",
              "        vertical-align: middle;\n",
              "    }\n",
              "\n",
              "    .dataframe tbody tr th {\n",
              "        vertical-align: top;\n",
              "    }\n",
              "\n",
              "    .dataframe thead th {\n",
              "        text-align: right;\n",
              "    }\n",
              "</style>\n",
              "<table border=\"1\" class=\"dataframe\">\n",
              "  <thead>\n",
              "    <tr style=\"text-align: right;\">\n",
              "      <th></th>\n",
              "      <th>total_bill</th>\n",
              "      <th>tip</th>\n",
              "    </tr>\n",
              "  </thead>\n",
              "  <tbody>\n",
              "    <tr>\n",
              "      <th>count</th>\n",
              "      <td>195.00</td>\n",
              "      <td>195.00</td>\n",
              "    </tr>\n",
              "    <tr>\n",
              "      <th>mean</th>\n",
              "      <td>0.00</td>\n",
              "      <td>-0.00</td>\n",
              "    </tr>\n",
              "    <tr>\n",
              "      <th>std</th>\n",
              "      <td>1.00</td>\n",
              "      <td>1.00</td>\n",
              "    </tr>\n",
              "    <tr>\n",
              "      <th>min</th>\n",
              "      <td>-1.65</td>\n",
              "      <td>-1.46</td>\n",
              "    </tr>\n",
              "    <tr>\n",
              "      <th>25%</th>\n",
              "      <td>-0.75</td>\n",
              "      <td>-0.76</td>\n",
              "    </tr>\n",
              "    <tr>\n",
              "      <th>50%</th>\n",
              "      <td>-0.26</td>\n",
              "      <td>-0.06</td>\n",
              "    </tr>\n",
              "    <tr>\n",
              "      <th>75%</th>\n",
              "      <td>0.53</td>\n",
              "      <td>0.43</td>\n",
              "    </tr>\n",
              "    <tr>\n",
              "      <th>max</th>\n",
              "      <td>3.50</td>\n",
              "      <td>4.85</td>\n",
              "    </tr>\n",
              "  </tbody>\n",
              "</table>\n",
              "</div>"
            ],
            "text/plain": [
              "       total_bill     tip\n",
              "count      195.00  195.00\n",
              "mean         0.00   -0.00\n",
              "std          1.00    1.00\n",
              "min         -1.65   -1.46\n",
              "25%         -0.75   -0.76\n",
              "50%         -0.26   -0.06\n",
              "75%          0.53    0.43\n",
              "max          3.50    4.85"
            ]
          },
          "execution_count": 42,
          "metadata": {},
          "output_type": "execute_result"
        }
      ],
      "source": [
        "np.round(x1_train_new.describe(),2)"
      ]
    },
    {
      "cell_type": "code",
      "execution_count": null,
      "id": "9d1afe27-4861-440f-914f-e414ef2ee10e",
      "metadata": {
        "id": "9d1afe27-4861-440f-914f-e414ef2ee10e"
      },
      "outputs": [],
      "source": [
        "# assignment completed"
      ]
    },
    {
      "cell_type": "code",
      "execution_count": null,
      "id": "9cfc2757-c2f9-4cdb-8ad3-cba5fc6fa513",
      "metadata": {
        "id": "9cfc2757-c2f9-4cdb-8ad3-cba5fc6fa513"
      },
      "outputs": [],
      "source": []
    }
  ],
  "metadata": {
    "kernelspec": {
      "display_name": "Python 3 (ipykernel)",
      "language": "python",
      "name": "python3"
    },
    "language_info": {
      "codemirror_mode": {
        "name": "ipython",
        "version": 3
      },
      "file_extension": ".py",
      "mimetype": "text/x-python",
      "name": "python",
      "nbconvert_exporter": "python",
      "pygments_lexer": "ipython3",
      "version": "3.12.3"
    },
    "colab": {
      "provenance": [],
      "include_colab_link": true
    }
  },
  "nbformat": 4,
  "nbformat_minor": 5
}