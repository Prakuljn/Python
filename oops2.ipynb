{
  "nbformat": 4,
  "nbformat_minor": 0,
  "metadata": {
    "colab": {
      "provenance": [],
      "authorship_tag": "ABX9TyO7d56Yiv/l56LU+3o+WAGs",
      "include_colab_link": true
    },
    "kernelspec": {
      "name": "python3",
      "display_name": "Python 3"
    },
    "language_info": {
      "name": "python"
    }
  },
  "cells": [
    {
      "cell_type": "markdown",
      "metadata": {
        "id": "view-in-github",
        "colab_type": "text"
      },
      "source": [
        "<a href=\"https://colab.research.google.com/github/Prakuljn/Python-Assignment/blob/main/oops2.ipynb\" target=\"_parent\"><img src=\"https://colab.research.google.com/assets/colab-badge.svg\" alt=\"Open In Colab\"/></a>"
      ]
    },
    {
      "cell_type": "code",
      "execution_count": 1,
      "metadata": {
        "colab": {
          "base_uri": "https://localhost:8080/"
        },
        "id": "jnZrOKEwfyMf",
        "outputId": "dbce22dc-6347-486c-e3ea-4b2fe91a4230"
      },
      "outputs": [
        {
          "output_type": "stream",
          "name": "stdout",
          "text": [
            "max says woof!\n",
            "labrador this is breed\n",
            "buddy says woof!\n",
            "golden retriver this is breed\n"
          ]
        }
      ],
      "source": [
        "# oops\n",
        "class dog:\n",
        "    def __init__(self,name,breed):\n",
        "        self.name=name\n",
        "        self.breed=breed\n",
        "    def bark(self):\n",
        "        print(f\"{self.name} says woof!\")\n",
        "        print(f\"{self.breed} this is breed\")\n",
        "dog1=dog(\"buddy\",\"golden retriver\")\n",
        "dog2=dog(\"max\",\"labrador\")\n",
        "# asscess attribute and metod\n",
        "dog2.bark()\n",
        "dog1.bark()"
      ]
    },
    {
      "cell_type": "code",
      "source": [
        "class dog:\n",
        "    def __init__(name,breed): # missing self\n",
        "        name=name # this wont bind to te instance\n",
        "        breed=breed # this wont bind to te instance\n",
        "    def bark():\n",
        "        print(f\"{name} says woof!\")  # this will cause an error\n",
        "        print(f\"{breed} this is breed\")\n",
        "dog1=dog(\"buddy\",\"golden retriver\")\n",
        "dog2=dog(\"max\",\"labrador\")\n",
        "dog2.bark()\n",
        "dog1.bark()\n"
      ],
      "metadata": {
        "colab": {
          "base_uri": "https://localhost:8080/",
          "height": 211
        },
        "id": "JoZi2ftGf2UW",
        "outputId": "50bd22c6-9a3c-46a8-9d12-aeacef7fd2a5"
      },
      "execution_count": 2,
      "outputs": [
        {
          "output_type": "error",
          "ename": "TypeError",
          "evalue": "dog.__init__() takes 2 positional arguments but 3 were given",
          "traceback": [
            "\u001b[0;31m---------------------------------------------------------------------------\u001b[0m",
            "\u001b[0;31mTypeError\u001b[0m                                 Traceback (most recent call last)",
            "\u001b[0;32m<ipython-input-2-ca0665499303>\u001b[0m in \u001b[0;36m<cell line: 0>\u001b[0;34m()\u001b[0m\n\u001b[1;32m      6\u001b[0m         \u001b[0mprint\u001b[0m\u001b[0;34m(\u001b[0m\u001b[0;34mf\"{name} says woof!\"\u001b[0m\u001b[0;34m)\u001b[0m  \u001b[0;31m# this will cause an error\u001b[0m\u001b[0;34m\u001b[0m\u001b[0;34m\u001b[0m\u001b[0m\n\u001b[1;32m      7\u001b[0m         \u001b[0mprint\u001b[0m\u001b[0;34m(\u001b[0m\u001b[0;34mf\"{breed} this is breed\"\u001b[0m\u001b[0;34m)\u001b[0m\u001b[0;34m\u001b[0m\u001b[0;34m\u001b[0m\u001b[0m\n\u001b[0;32m----> 8\u001b[0;31m \u001b[0mdog1\u001b[0m\u001b[0;34m=\u001b[0m\u001b[0mdog\u001b[0m\u001b[0;34m(\u001b[0m\u001b[0;34m\"buddy\"\u001b[0m\u001b[0;34m,\u001b[0m\u001b[0;34m\"golden retriver\"\u001b[0m\u001b[0;34m)\u001b[0m\u001b[0;34m\u001b[0m\u001b[0;34m\u001b[0m\u001b[0m\n\u001b[0m\u001b[1;32m      9\u001b[0m \u001b[0mdog2\u001b[0m\u001b[0;34m=\u001b[0m\u001b[0mdog\u001b[0m\u001b[0;34m(\u001b[0m\u001b[0;34m\"max\"\u001b[0m\u001b[0;34m,\u001b[0m\u001b[0;34m\"labrador\"\u001b[0m\u001b[0;34m)\u001b[0m\u001b[0;34m\u001b[0m\u001b[0;34m\u001b[0m\u001b[0m\n\u001b[1;32m     10\u001b[0m \u001b[0mdog2\u001b[0m\u001b[0;34m.\u001b[0m\u001b[0mbark\u001b[0m\u001b[0;34m(\u001b[0m\u001b[0;34m)\u001b[0m\u001b[0;34m\u001b[0m\u001b[0;34m\u001b[0m\u001b[0m\n",
            "\u001b[0;31mTypeError\u001b[0m: dog.__init__() takes 2 positional arguments but 3 were given"
          ]
        }
      ]
    },
    {
      "cell_type": "code",
      "source": [],
      "metadata": {
        "id": "_Oi966jMf5JM"
      },
      "execution_count": null,
      "outputs": []
    }
  ]
}