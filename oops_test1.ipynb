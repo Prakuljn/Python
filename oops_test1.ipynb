{
  "nbformat": 4,
  "nbformat_minor": 0,
  "metadata": {
    "colab": {
      "provenance": [],
      "authorship_tag": "ABX9TyPPLj0VGO+kdlT+JFxNWEOp",
      "include_colab_link": true
    },
    "kernelspec": {
      "name": "python3",
      "display_name": "Python 3"
    },
    "language_info": {
      "name": "python"
    }
  },
  "cells": [
    {
      "cell_type": "markdown",
      "metadata": {
        "id": "view-in-github",
        "colab_type": "text"
      },
      "source": [
        "<a href=\"https://colab.research.google.com/github/Prakuljn/Python-Assignment/blob/main/oops_test1.ipynb\" target=\"_parent\"><img src=\"https://colab.research.google.com/assets/colab-badge.svg\" alt=\"Open In Colab\"/></a>"
      ]
    },
    {
      "cell_type": "code",
      "execution_count": null,
      "metadata": {
        "colab": {
          "base_uri": "https://localhost:8080/"
        },
        "id": "JQWaS3e0sGAw",
        "outputId": "46ef9577-ee4c-4e0d-ab39-8a28dfa7641f"
      },
      "outputs": [
        {
          "output_type": "stream",
          "name": "stdout",
          "text": [
            "('Naman', 20, ['viral', 'diabites'])\n",
            "('record updated ', ['viral', 'diabites', 'thyroid'])\n",
            "('Naman', 20, ['viral', 'diabites', 'thyroid'])\n"
          ]
        }
      ],
      "source": [
        "class Hoispital:\n",
        "  def __init__(self,name , age,med_rec=[]):\n",
        "    self.__name=name\n",
        "    self.__age=age\n",
        "    self.__med_rec=med_rec\n",
        "  def details(self):\n",
        "    return self.__name , self.__age , self.__med_rec\n",
        "  def add_med_rec(self,record):\n",
        "    self.__med_rec.append(record)\n",
        "    return \"record updated \",self.__med_rec\n",
        "person1=Hoispital(\"Naman\",20,[\"viral\",\"diabites\"])\n",
        "print(person1.details())\n",
        "print(person1.add_med_rec(\"thyroid\"))\n",
        "print(person1.details())"
      ]
    },
    {
      "cell_type": "code",
      "source": [
        "class Score:\n",
        "  def __init__(self,name,age,marks=[]):\n",
        "    self.__name=name\n",
        "    self.__age=age\n",
        "    self.__marks=marks\n",
        "  def add_marks(self,marks):\n",
        "    self.__marks=marks\n",
        "    return self.__name,self.__age,self.__marks\n",
        "  def avg_marks(self):\n",
        "    return sum(self.__marks)/len(self.__marks), \"is average marks obtained by student\",self.__name\n",
        "student1=Score(\"prakul\",20)\n",
        "print(student1.add_marks([85,45,78]))\n",
        "print(student1.avg_marks())"
      ],
      "metadata": {
        "colab": {
          "base_uri": "https://localhost:8080/"
        },
        "id": "u3mABlqptOcH",
        "outputId": "8b8d184d-7a29-4387-99a7-f1fe39192d0b"
      },
      "execution_count": null,
      "outputs": [
        {
          "output_type": "stream",
          "name": "stdout",
          "text": [
            "('prakul', 20, [85, 45, 78])\n",
            "(69.33333333333333, 'is average marks obtained by student', 'prakul')\n"
          ]
        }
      ]
    },
    {
      "cell_type": "code",
      "source": [
        "class Customer:\n",
        "    def __init__(self, name, contact):\n",
        "        self.name = name\n",
        "        self.contact = contact\n",
        "\n",
        "    def show_details(self):\n",
        "        return f\"Customer Name: {self.name}, Contact: {self.contact}\"\n",
        "\n",
        "\n",
        "class Product:\n",
        "    def __init__(self, pname, price):\n",
        "        self.pname = pname\n",
        "        self.price = price\n",
        "\n",
        "    def show_product_details(self):\n",
        "        return f\"Product Name: {self.pname}, Price: {self.price}\"\n",
        "\n",
        "\n",
        "class Order(Customer, Product):\n",
        "    def __init__(self, name, contact, pname, price):\n",
        "        Customer.__init__(self, name, contact)\n",
        "        Product.__init__(self, pname, price)\n",
        "\n",
        "    def show_order_details(self):\n",
        "        return f\"Order Details: {self.show_details()} | {self.show_product_details()}\"\n",
        "\n",
        "c1 = Order(\"Saksham\", 8526931452, \"Laptop\", 60600)\n",
        "\n",
        "\n",
        "print(c1.show_order_details())\n"
      ],
      "metadata": {
        "colab": {
          "base_uri": "https://localhost:8080/"
        },
        "id": "Ob1tj578urJU",
        "outputId": "23562972-2e7c-49c1-8c1f-a53d673be6d3"
      },
      "execution_count": null,
      "outputs": [
        {
          "output_type": "stream",
          "name": "stdout",
          "text": [
            "Order Details: Customer Name: Saksham, Contact: 8526931452 | Product Name: Laptop, Price: 60600\n"
          ]
        }
      ]
    },
    {
      "cell_type": "code",
      "source": [
        "class User:\n",
        "    def __init__(self, user_id, name, preference, budget):\n",
        "        self.user_id = user_id\n",
        "        self.name = name\n",
        "        self.preference = preference\n",
        "        self.budget = budget\n",
        "\n",
        "\n",
        "class Product(User):\n",
        "    def __init__(self, user_id, name, preference, budget, product_id, pname, category, price):\n",
        "        super().__init__(user_id, name, preference, budget)\n",
        "        self.product_id = product_id\n",
        "        self.pname = pname\n",
        "        self.category = category\n",
        "        self.price = price\n",
        "\n",
        "    def assist(self):\n",
        "        if self.budget >= self.price:\n",
        "            return f\"Suggested Product: {self.product_id}, {self.pname}, Price: {self.price}\"\n",
        "        else:\n",
        "            return \"Not in budget\"\n",
        "\n",
        "\n",
        "\n",
        "u1 = Product(\"nam_123\", \"Naman\", \"electronic\", 50000, \"laptop_001\", \"HP Laptop\", \"electronic\", 45000)\n",
        "print(u1.assist())\n"
      ],
      "metadata": {
        "id": "Hkg4pFD2v1oh",
        "colab": {
          "base_uri": "https://localhost:8080/"
        },
        "outputId": "91e02599-3024-4dca-ef3b-642c236bba8a"
      },
      "execution_count": null,
      "outputs": [
        {
          "output_type": "stream",
          "name": "stdout",
          "text": [
            "Suggested Product: laptop_001, HP Laptop, Price: 45000\n"
          ]
        }
      ]
    },
    {
      "cell_type": "code",
      "source": [],
      "metadata": {
        "id": "EKyVTfjj1KA4"
      },
      "execution_count": null,
      "outputs": []
    }
  ]
}