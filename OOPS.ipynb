{
  "nbformat": 4,
  "nbformat_minor": 0,
  "metadata": {
    "colab": {
      "provenance": [],
      "authorship_tag": "ABX9TyPGu8n+mQJuNZEXyQTBvZdb",
      "include_colab_link": true
    },
    "kernelspec": {
      "name": "python3",
      "display_name": "Python 3"
    },
    "language_info": {
      "name": "python"
    }
  },
  "cells": [
    {
      "cell_type": "markdown",
      "metadata": {
        "id": "view-in-github",
        "colab_type": "text"
      },
      "source": [
        "<a href=\"https://colab.research.google.com/github/Prakuljn/Python-Assignment/blob/main/OOPS.ipynb\" target=\"_parent\"><img src=\"https://colab.research.google.com/assets/colab-badge.svg\" alt=\"Open In Colab\"/></a>"
      ]
    },
    {
      "cell_type": "code",
      "execution_count": 1,
      "metadata": {
        "id": "oFX8DWNzpvca"
      },
      "outputs": [],
      "source": [
        "# object orientend programming system\n",
        "# OBJECT\n",
        "# there are classes and object in oops\n",
        "# object are the real time antity => characterstics and behaviour\n",
        "# object are instance of a class which has characterstics and behaviour\n",
        "# CLASSES\n",
        "# classes are the blue print of an object or classes are also known as collection of object\n",
        "# characterstics are defined by variable\n",
        "# oops uses instance and class variable"
      ]
    },
    {
      "cell_type": "code",
      "source": [
        "class HouseMaking:\n",
        "  color=\"white\"\n",
        "house1 = HouseMaking() # calsses are called by function method\n",
        "print(house1)\n",
        "print(house1.color)"
      ],
      "metadata": {
        "colab": {
          "base_uri": "https://localhost:8080/"
        },
        "id": "HIEadwY5p0VG",
        "outputId": "229b1358-f3e1-4f1a-ee9e-ae3a52e821ac"
      },
      "execution_count": 4,
      "outputs": [
        {
          "output_type": "stream",
          "name": "stdout",
          "text": [
            "<__main__.HouseMaking object at 0x78d6e9727e90>\n",
            "white\n"
          ]
        }
      ]
    },
    {
      "cell_type": "code",
      "source": [
        "class HouseMaking:\n",
        "  color=\"white\"\n",
        "  rooms=6\n",
        "house1 = HouseMaking() # calsses are called by function method\n",
        "print(house1)\n",
        "print(house1.color)\n",
        "print(house1.rooms)"
      ],
      "metadata": {
        "colab": {
          "base_uri": "https://localhost:8080/"
        },
        "id": "gLzjpP2Croeh",
        "outputId": "d712e9dc-9e6d-4da6-884f-0a6a35aa3d35"
      },
      "execution_count": 5,
      "outputs": [
        {
          "output_type": "stream",
          "name": "stdout",
          "text": [
            "<__main__.HouseMaking object at 0x78d6ea2fc050>\n",
            "white\n",
            "6\n"
          ]
        }
      ]
    },
    {
      "cell_type": "code",
      "source": [
        "class HouseMaking:\n",
        "  color=\"white\"\n",
        "house1 = HouseMaking() # calsses are called by function method\n",
        "house2 = HouseMaking()\n",
        "print(house2)\n",
        "print(house2.color)"
      ],
      "metadata": {
        "colab": {
          "base_uri": "https://localhost:8080/"
        },
        "id": "PfNmXVlar7AB",
        "outputId": "2f4cc94b-8eeb-4459-c8b2-22f591a5d29e"
      },
      "execution_count": 6,
      "outputs": [
        {
          "output_type": "stream",
          "name": "stdout",
          "text": [
            "<__main__.HouseMaking object at 0x78d6e9d69410>\n",
            "white\n"
          ]
        }
      ]
    },
    {
      "cell_type": "code",
      "source": [
        "# how to change the value of object without constructor\n",
        "class HouseMaking:\n",
        "  color=\"white\"\n",
        "  rooms=6\n",
        "house1 = HouseMaking() # calsses are called by function method\n",
        "print(house1)\n",
        "print(house1.color)\n",
        "print(house1.rooms)\n",
        "house1 = HouseMaking() # calsses are called by function method\n",
        "house2 = HouseMaking() # every object have different address\n",
        "house2.color=\"blue\"    # to change the value of object without constructor\n",
        "print(house2)\n",
        "print(house2.color)"
      ],
      "metadata": {
        "colab": {
          "base_uri": "https://localhost:8080/"
        },
        "id": "nt5POdj5sRO6",
        "outputId": "7165075e-8e0e-49d1-bc4c-64c3e02c72fd"
      },
      "execution_count": 9,
      "outputs": [
        {
          "output_type": "stream",
          "name": "stdout",
          "text": [
            "<__main__.HouseMaking object at 0x78d6e9f83810>\n",
            "white\n",
            "6\n",
            "<__main__.HouseMaking object at 0x78d6eac29f90>\n",
            "blue\n"
          ]
        }
      ]
    },
    {
      "cell_type": "code",
      "source": [
        "class HouseMaking:\n",
        "  color=\"white\" # variable defined in classes are calledd class variable\n",
        "  rooms=6       # class variable are shared among all of the object\n",
        "  def houseinfo(self):\n",
        "    print(\"house info :\",self.color,self.rooms)\n",
        "house1 = HouseMaking()\n",
        "a=house1.houseinfo()\n",
        "print(a)\n",
        "\n"
      ],
      "metadata": {
        "colab": {
          "base_uri": "https://localhost:8080/"
        },
        "id": "_KyTSRm-tFMH",
        "outputId": "3e23c0a0-b970-4a44-934c-19291491f74b"
      },
      "execution_count": 18,
      "outputs": [
        {
          "output_type": "stream",
          "name": "stdout",
          "text": [
            "house info : white 6\n",
            "None\n"
          ]
        }
      ]
    },
    {
      "cell_type": "code",
      "source": [
        "# constructor is a function which initilize the memory or object memory of class of an object\n",
        "class HouseMaking:\n",
        "  color=\"white\"   # these are default constructor which has pre defined values\n",
        "  room=6\n",
        "  def houseinfo(self):\n",
        "    print(\"house info :\",self.color,self.rooms)\n",
        "house1 = HouseMaking()\n",
        "a=house1.houseinfo()\n",
        "print(a)"
      ],
      "metadata": {
        "id": "mkIzQa-pvw9P"
      },
      "execution_count": null,
      "outputs": []
    },
    {
      "cell_type": "code",
      "source": [
        "# defining constructor we used __init__ function with def\n",
        "# when we call the class we call the constructor\n",
        "# constructor will invoke when we call an object\n",
        "# self is an object which stores the refrence or memory address of current object\n",
        "class HouseMaking:\n",
        "  def __init__ (self):\n",
        "    print(\"constructor\",self)\n",
        "house1 = HouseMaking()\n",
        "print(house1)"
      ],
      "metadata": {
        "colab": {
          "base_uri": "https://localhost:8080/"
        },
        "id": "JhNlsJiRwcjr",
        "outputId": "6e75cf31-4136-492d-bcb5-62e810283b4a"
      },
      "execution_count": 24,
      "outputs": [
        {
          "output_type": "stream",
          "name": "stdout",
          "text": [
            "constructor <__main__.HouseMaking object at 0x78d6becbb310>\n",
            "<__main__.HouseMaking object at 0x78d6becbb310>\n"
          ]
        }
      ]
    },
    {
      "cell_type": "code",
      "source": [
        "# how  to convert hexadecimal to binary"
      ],
      "metadata": {
        "id": "GhrSiKoWslQs"
      },
      "execution_count": null,
      "outputs": []
    }
  ]
}