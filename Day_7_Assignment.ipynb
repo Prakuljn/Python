{
  "nbformat": 4,
  "nbformat_minor": 0,
  "metadata": {
    "colab": {
      "provenance": [],
      "gpuType": "T4"
    },
    "kernelspec": {
      "name": "python3",
      "display_name": "Python 3"
    },
    "language_info": {
      "name": "python"
    },
    "accelerator": "GPU"
  },
  "cells": [
    {
      "cell_type": "code",
      "execution_count": 4,
      "metadata": {
        "colab": {
          "base_uri": "https://localhost:8080/"
        },
        "id": "oLq4RSnMevOo",
        "outputId": "3c933b38-9e02-4ebc-9d9e-0d4e85cea07a"
      },
      "outputs": [
        {
          "output_type": "stream",
          "name": "stdout",
          "text": [
            "    ABCDE\n",
            "   ABCDE\n",
            "  ABCDE\n",
            " ABCDE\n",
            "ABCDE\n"
          ]
        }
      ],
      "source": [
        "# 1.     ABCDE\n",
        "#       ABCDE\n",
        "#      ABCDE\n",
        "#     ABCDE\n",
        "#    ABCDE\n",
        "\n",
        "for i in range(1,6):\n",
        "  a=65\n",
        "  for j in range(6,i+1,-1):\n",
        "      print(\" \",end=\"\")\n",
        "  for k in range(1,6):\n",
        "      print(chr(a),end=\"\")\n",
        "      a+=1\n",
        "  print(\"\")"
      ]
    },
    {
      "cell_type": "code",
      "source": [
        "# 2.      *\n",
        "#       * * *\n",
        "#     * * * * *\n",
        "#   * * * * * * *\n",
        "\n",
        "for i in range(1,5):\n",
        "  for j in range(i,4):\n",
        "    print(\" \",end=\" \")\n",
        "  for k in range(1,i+1):\n",
        "    print(\"*\",end=\" \")\n",
        "  for l in range(1,i):\n",
        "    print(\"*\",end=\" \")\n",
        "  print()"
      ],
      "metadata": {
        "colab": {
          "base_uri": "https://localhost:8080/"
        },
        "id": "69q85e--e6Xs",
        "outputId": "4e6d333d-e3a2-4adf-8831-8c81ff087f53"
      },
      "execution_count": 97,
      "outputs": [
        {
          "output_type": "stream",
          "name": "stdout",
          "text": [
            "      * \n",
            "    * * * \n",
            "  * * * * * \n",
            "* * * * * * * \n"
          ]
        }
      ]
    },
    {
      "cell_type": "code",
      "source": [
        "# 3. *\n",
        "#   * *\n",
        "#  *   *\n",
        "# * * * *\n",
        "\n",
        "for i in range(1,5):\n",
        "  for j in range(i,4):\n",
        "    print(\" \",end=\"\")\n",
        "  for k in range(1,i+1):\n",
        "    if(k==1 or i==4 or k==i):\n",
        "      print(\"*\",end=\" \")\n",
        "    else:\n",
        "      print(\" \",end=\" \")\n",
        "  print()"
      ],
      "metadata": {
        "colab": {
          "base_uri": "https://localhost:8080/"
        },
        "id": "kwBbPI8Kfwhl",
        "outputId": "4f96f5b5-8cb3-4d63-9740-a4b8729eae87"
      },
      "execution_count": 9,
      "outputs": [
        {
          "output_type": "stream",
          "name": "stdout",
          "text": [
            "   * \n",
            "  * * \n",
            " *   * \n",
            "* * * * \n"
          ]
        }
      ]
    },
    {
      "cell_type": "code",
      "source": [
        "# 4.    * * * * * * *\n",
        "#         * * * * *\n",
        "#           * * *\n",
        "#             *\n",
        "\n",
        "for i in range(4,0,-1):\n",
        "  for j in range(i,5):\n",
        "    print(\" \",end=\" \")\n",
        "  for k in range(1,i+1):\n",
        "    print(\"*\",end=\" \")\n",
        "  for l in range(1,i):\n",
        "    print(\"*\",end=\" \")\n",
        "  print()"
      ],
      "metadata": {
        "colab": {
          "base_uri": "https://localhost:8080/"
        },
        "id": "JkH2uhiggOQa",
        "outputId": "6d8358c0-e670-4332-bc0f-4820a5ed6766"
      },
      "execution_count": 12,
      "outputs": [
        {
          "output_type": "stream",
          "name": "stdout",
          "text": [
            "  * * * * * * * \n",
            "    * * * * * \n",
            "      * * * \n",
            "        * \n"
          ]
        }
      ]
    },
    {
      "cell_type": "code",
      "source": [
        "# 5.  *\n",
        "#     **\n",
        "#     ***\n",
        "#     ****\n",
        "#     ****\n",
        "#     ***\n",
        "#     **\n",
        "#     *\n",
        "\n",
        "for i in range(1,6):\n",
        "  for j in range(1,i):\n",
        "    print(\"*\",end=\"\")\n",
        "  print()\n",
        "\n",
        "for i in range(5,0,-1):\n",
        "  for j in range(1,i):\n",
        "    print(\"*\",end=\"\")\n",
        "  print()"
      ],
      "metadata": {
        "colab": {
          "base_uri": "https://localhost:8080/"
        },
        "id": "YFbVySprgjcz",
        "outputId": "a5b80807-4a8c-47f8-b60a-22642d636a14"
      },
      "execution_count": 27,
      "outputs": [
        {
          "output_type": "stream",
          "name": "stdout",
          "text": [
            "\n",
            "*\n",
            "**\n",
            "***\n",
            "****\n",
            "****\n",
            "***\n",
            "**\n",
            "*\n",
            "\n"
          ]
        }
      ]
    },
    {
      "cell_type": "code",
      "source": [
        "# 6.      *\n",
        "#       * *\n",
        "#     * * *\n",
        "#   * * * *\n",
        "#     * * *\n",
        "#       * *\n",
        "#         *\n",
        "\n",
        "for i in range(1,5):\n",
        "  for j in range(4,i,-1):\n",
        "    print(\" \",end=\" \")\n",
        "  for k in range(1,i+1):\n",
        "    print(\"*\",end=\" \")\n",
        "  print()\n",
        "for i in range(4,0,-1):\n",
        "  for j in range(5,i,-1):\n",
        "    print(\" \",end=\" \")\n",
        "  for k in range(1,i):\n",
        "    print(\"*\",end=\" \")\n",
        "  print()"
      ],
      "metadata": {
        "colab": {
          "base_uri": "https://localhost:8080/"
        },
        "id": "awEJZ-Thg8Tz",
        "outputId": "4d3fef44-be3e-46d6-a74b-5269a743411f"
      },
      "execution_count": 58,
      "outputs": [
        {
          "output_type": "stream",
          "name": "stdout",
          "text": [
            "      * \n",
            "    * * \n",
            "  * * * \n",
            "* * * * \n",
            "  * * * \n",
            "    * * \n",
            "      * \n",
            "        \n"
          ]
        }
      ]
    },
    {
      "cell_type": "code",
      "source": [
        "# 7.      *\n",
        "#       * * *\n",
        "#     * * * * *\n",
        "#   * * * * * * *\n",
        "#     * * * * *\n",
        "#       * * *\n",
        "#         *\n",
        "\n",
        "\n",
        "for i in range(1,5):\n",
        "  for j in range(i,4):\n",
        "    print(\" \",end=\" \")\n",
        "  for k in range(1,i+1):\n",
        "    print(\"*\",end=\" \")\n",
        "  for l in range(1,i):\n",
        "    print(\"*\",end=\" \")\n",
        "  print()\n",
        "\n",
        "for i in range(3,0,-1):\n",
        "  for j in range(4,i,-1):\n",
        "    print(\" \",end=\" \")\n",
        "  for k in range(1,i+1):\n",
        "    print(\"*\",end=\" \")\n",
        "  for l in range(1,i):\n",
        "    print(\"*\",end=\" \")\n",
        "  print()"
      ],
      "metadata": {
        "colab": {
          "base_uri": "https://localhost:8080/"
        },
        "id": "3Qb6AIPJhpKJ",
        "outputId": "1e1d493b-19d3-4a1c-a0a5-d125d54fc946"
      },
      "execution_count": 64,
      "outputs": [
        {
          "output_type": "stream",
          "name": "stdout",
          "text": [
            "      * \n",
            "    * * * \n",
            "  * * * * * \n",
            "* * * * * * * \n",
            "  * * * * * \n",
            "    * * * \n",
            "      * \n"
          ]
        }
      ]
    },
    {
      "cell_type": "code",
      "source": [
        "# 8.  1\n",
        "#     1 2\n",
        "#     1 2 3\n",
        "#     1 2 3 4\n",
        "#     1 2 3 4 5\n",
        "\n",
        "for i in range(1,6):\n",
        "  for j in range(1,i+1):\n",
        "    print(j,end=\" \")\n",
        "  print()"
      ],
      "metadata": {
        "colab": {
          "base_uri": "https://localhost:8080/"
        },
        "id": "aZtiDJKKkmoT",
        "outputId": "b7b89302-0a22-406f-a0aa-197ca8984945"
      },
      "execution_count": 67,
      "outputs": [
        {
          "output_type": "stream",
          "name": "stdout",
          "text": [
            "1 \n",
            "1 2 \n",
            "1 2 3 \n",
            "1 2 3 4 \n",
            "1 2 3 4 5 \n"
          ]
        }
      ]
    },
    {
      "cell_type": "code",
      "source": [
        "# 9. 1 2 3 4 5\n",
        "#    1 2 3 4\n",
        "#    1 2 3\n",
        "#    1 2\n",
        "#    1\n",
        "\n",
        "for i in range(5,0,-1):\n",
        "  for j in range(1,i+1):\n",
        "    print(j,end=\" \")\n",
        "  print()"
      ],
      "metadata": {
        "colab": {
          "base_uri": "https://localhost:8080/"
        },
        "id": "lRg3N9sMk_3S",
        "outputId": "6b0ada11-7578-4496-eef9-6d7d5039caf9"
      },
      "execution_count": 68,
      "outputs": [
        {
          "output_type": "stream",
          "name": "stdout",
          "text": [
            "1 2 3 4 5 \n",
            "1 2 3 4 \n",
            "1 2 3 \n",
            "1 2 \n",
            "1 \n"
          ]
        }
      ]
    },
    {
      "cell_type": "code",
      "source": [
        "# 10. 1\n",
        "#     1 2\n",
        "#     1   3\n",
        "#     1     4\n",
        "#     1 2 3 4 5\n",
        "\n",
        "for i in range(1,6):\n",
        "  for j in range(1,i+1):\n",
        "    if(j==1 or i==j or i==5):\n",
        "      print(j,end=\" \")\n",
        "    else:\n",
        "      print(\" \",end=\" \")\n",
        "  print()"
      ],
      "metadata": {
        "colab": {
          "base_uri": "https://localhost:8080/"
        },
        "id": "jsRgsJ8DlOqy",
        "outputId": "8044c657-936b-49bb-a05f-9f7dee8ae12a"
      },
      "execution_count": 69,
      "outputs": [
        {
          "output_type": "stream",
          "name": "stdout",
          "text": [
            "1 \n",
            "1 2 \n",
            "1   3 \n",
            "1     4 \n",
            "1 2 3 4 5 \n"
          ]
        }
      ]
    },
    {
      "cell_type": "code",
      "source": [
        "# 11.       1\n",
        "#         2 3 2\n",
        "#       3 4 5 4 3\n",
        "#     4 5 6 7 6 5 4\n",
        "#   5 6 7 8 9 8 7 6 5\n",
        "\n",
        "for i in range(1,6):\n",
        "  for j in range(i,5):\n",
        "    print(\" \",end=\" \")\n",
        "  a=i\n",
        "  for k in range(1,i+1):\n",
        "    print(a,end=\" \")\n",
        "    a+=1\n",
        "  a-=2\n",
        "  for l in range(1,i):\n",
        "    print(a,end=\" \")\n",
        "    a-=1\n",
        "  print()"
      ],
      "metadata": {
        "colab": {
          "base_uri": "https://localhost:8080/"
        },
        "id": "zA5EA4DQlb5y",
        "outputId": "eee75af4-ce73-48fa-a706-a4d15258fbb1"
      },
      "execution_count": 75,
      "outputs": [
        {
          "output_type": "stream",
          "name": "stdout",
          "text": [
            "        1 \n",
            "      2 3 2 \n",
            "    3 4 5 4 3 \n",
            "  4 5 6 7 6 5 4 \n",
            "5 6 7 8 9 8 7 6 5 \n"
          ]
        }
      ]
    },
    {
      "cell_type": "code",
      "source": [
        "# 12. 1\n",
        "#    1 2\n",
        "#   1   3\n",
        "#  1     4\n",
        "# 1 2 3 4 5\n",
        "\n",
        "for i in range(1,6):\n",
        "  for j in range(i,5):\n",
        "    print(\" \",end=\"\")\n",
        "  for k in range(1,i+1):\n",
        "    if(k==1 or i==5 or k==i):\n",
        "      print(k,end=\" \")\n",
        "    else:\n",
        "      print(\" \",end=\" \")\n",
        "  print()"
      ],
      "metadata": {
        "colab": {
          "base_uri": "https://localhost:8080/"
        },
        "id": "gyHR-0gTn6L6",
        "outputId": "ee2ffa43-6fe0-4841-c42a-46a2b106e099"
      },
      "execution_count": 78,
      "outputs": [
        {
          "output_type": "stream",
          "name": "stdout",
          "text": [
            "    1 \n",
            "   1 2 \n",
            "  1   3 \n",
            " 1     4 \n",
            "1 2 3 4 5 \n"
          ]
        }
      ]
    },
    {
      "cell_type": "code",
      "source": [
        "# 13. 1 2 3 4 5\n",
        "#     1     4\n",
        "#     1   3\n",
        "#     1 2\n",
        "#     1\n",
        "\n",
        "for i in range(5,0,-1):\n",
        "  for j in range(1,i+1):\n",
        "    if(j==1 or i==j or i==5):\n",
        "      print(j,end=\" \")\n",
        "    else:\n",
        "      print(\" \",end=\" \")\n",
        "  print()"
      ],
      "metadata": {
        "colab": {
          "base_uri": "https://localhost:8080/"
        },
        "id": "w-OMVqnDoHBZ",
        "outputId": "38bc8a2c-1baf-4f46-8746-7dd90cc27f87"
      },
      "execution_count": 89,
      "outputs": [
        {
          "output_type": "stream",
          "name": "stdout",
          "text": [
            "1 2 3 4 5 \n",
            "1     4 \n",
            "1   3 \n",
            "1 2 \n",
            "1 \n"
          ]
        }
      ]
    },
    {
      "cell_type": "code",
      "source": [
        "# 14.       *\n",
        "#         * * *\n",
        "#       * * * * *\n",
        "#     * * * * * * *\n",
        "#   * * * * * * * * *\n",
        "#     * * * * * * *\n",
        "#       * * * * *\n",
        "#         * * *\n",
        "#           *\n",
        "\n",
        "for i in range(1,6):\n",
        "  for j in range(i,5):\n",
        "    print(\" \",end=\" \")\n",
        "  for k in range(1,i+1):\n",
        "    print(\"*\",end=\" \")\n",
        "  for l in range(1,i):\n",
        "    print(\"*\",end=\" \")\n",
        "  print()\n",
        "\n",
        "for i in range(4,0,-1):\n",
        "  for j in range(5,i,-1):\n",
        "    print(\" \",end=\" \")\n",
        "  for k in range(1,i+1):\n",
        "    print(\"*\",end=\" \")\n",
        "  for l in range(1,i):\n",
        "    print(\"*\",end=\" \")\n",
        "  print()"
      ],
      "metadata": {
        "colab": {
          "base_uri": "https://localhost:8080/"
        },
        "id": "GM_vjVvZoX9B",
        "outputId": "15b53a71-4ff3-4dee-8b44-553c7845b3bf"
      },
      "execution_count": 94,
      "outputs": [
        {
          "output_type": "stream",
          "name": "stdout",
          "text": [
            "        * \n",
            "      * * * \n",
            "    * * * * * \n",
            "  * * * * * * * \n",
            "* * * * * * * * * \n",
            "  * * * * * * * \n",
            "    * * * * * \n",
            "      * * * \n",
            "        * \n"
          ]
        }
      ]
    },
    {
      "cell_type": "code",
      "source": [
        "# 15.         1\n",
        "#           1 2 3\n",
        "#         1 2 3 4 5\n",
        "#       1 2 3 4 5 6 7\n",
        "#     1 2 3 4 5 6 7 8 9\n",
        "#       1 2 3 4 5 6 7\n",
        "#         1 2 3 4 5\n",
        "#           1 2 3\n",
        "#             1\n",
        "\n",
        "for i in range(1,6):\n",
        "  a=1\n",
        "  for j in range(i,5):\n",
        "    print(\" \",end=\" \")\n",
        "  for k in range(1,i+1):\n",
        "    print(a,end=\" \")\n",
        "    a+=1\n",
        "  for l in range(1,i):\n",
        "    print(a,end=\" \")\n",
        "    a+=1\n",
        "  print()\n",
        "\n",
        "for i in range(4,0,-1):\n",
        "  a=1\n",
        "  for j in range(5,i,-1):\n",
        "    print(\" \",end=\" \")\n",
        "  for k in range(1,i+1):\n",
        "    print(a,end=\" \")\n",
        "    a+=1\n",
        "  for l in range(1,i):\n",
        "    print(a,end=\" \")\n",
        "    a+=1\n",
        "  print()"
      ],
      "metadata": {
        "colab": {
          "base_uri": "https://localhost:8080/"
        },
        "id": "vQCypS3epebR",
        "outputId": "6458085f-c553-4de1-f503-6bb8ce471125"
      },
      "execution_count": 100,
      "outputs": [
        {
          "output_type": "stream",
          "name": "stdout",
          "text": [
            "        1 \n",
            "      1 2 3 \n",
            "    1 2 3 4 5 \n",
            "  1 2 3 4 5 6 7 \n",
            "1 2 3 4 5 6 7 8 9 \n",
            "  1 2 3 4 5 6 7 \n",
            "    1 2 3 4 5 \n",
            "      1 2 3 \n",
            "        1 \n"
          ]
        }
      ]
    },
    {
      "cell_type": "code",
      "source": [
        "# 16. 1 2 3 4 5 6 7 8 9\n",
        "#       1 2 3 4 5 6 7\n",
        "#         1 2 3 4 5\n",
        "#           1 2 3\n",
        "#             1\n",
        "#           1 2 3\n",
        "#         1 2 3 4 5\n",
        "#       1 2 3 4 5 6 7\n",
        "#     1 2 3 4 5 6 7 8 9\n",
        "\n",
        "for i in range(5,0,-1):\n",
        "  a=1\n",
        "  for j in range(5,i,-1):\n",
        "    print(\" \",end=\" \")\n",
        "  for k in range(1,i+1):\n",
        "    print(a,end=\" \")\n",
        "    a+=1\n",
        "  for l in range(1,i):\n",
        "    print(a,end=\" \")\n",
        "    a+=1\n",
        "  print()\n",
        "for i in range(2,6):\n",
        "  a=1\n",
        "  for j in range(i,5):\n",
        "    print(\" \",end=\" \")\n",
        "  for k in range(1,i+1):\n",
        "    print(a,end=\" \")\n",
        "    a+=1\n",
        "  for l in range(1,i):\n",
        "    print(a,end=\" \")\n",
        "    a+=1\n",
        "  print()"
      ],
      "metadata": {
        "colab": {
          "base_uri": "https://localhost:8080/"
        },
        "id": "VV81dktjquZw",
        "outputId": "c2015992-93af-4e24-8354-bca2fda28255"
      },
      "execution_count": 104,
      "outputs": [
        {
          "output_type": "stream",
          "name": "stdout",
          "text": [
            "1 2 3 4 5 6 7 8 9 \n",
            "  1 2 3 4 5 6 7 \n",
            "    1 2 3 4 5 \n",
            "      1 2 3 \n",
            "        1 \n",
            "      1 2 3 \n",
            "    1 2 3 4 5 \n",
            "  1 2 3 4 5 6 7 \n",
            "1 2 3 4 5 6 7 8 9 \n"
          ]
        }
      ]
    },
    {
      "cell_type": "code",
      "source": [
        "# 17. A B C D E F G H I\n",
        "#       A B C D E F G\n",
        "#         A B C D E\n",
        "#           A B C\n",
        "#             A\n",
        "#           A B C\n",
        "#         A B C D E\n",
        "#       A B C D E F G\n",
        "#     A B C D E F G H I\n",
        "\n",
        "for i in range(5,0,-1):\n",
        "  a=65\n",
        "  for j in range(5,i,-1):\n",
        "    print(\" \",end=\" \")\n",
        "  for k in range(1,i+1):\n",
        "    print(chr(a),end=\" \")\n",
        "    a+=1\n",
        "  for l in range(1,i):\n",
        "    print(chr(a),end=\" \")\n",
        "    a+=1\n",
        "  print()\n",
        "for i in range(2,6):\n",
        "  a=65\n",
        "  for j in range(i,5):\n",
        "    print(\" \",end=\" \")\n",
        "  for k in range(1,i+1):\n",
        "    print(chr(a),end=\" \")\n",
        "    a+=1\n",
        "  for l in range(1,i):\n",
        "    print(chr(a),end=\" \")\n",
        "    a+=1\n",
        "  print()\n"
      ],
      "metadata": {
        "colab": {
          "base_uri": "https://localhost:8080/"
        },
        "id": "QAH5H5UbrHPp",
        "outputId": "adb34914-fea9-49d6-8942-e15cf24ea5c7"
      },
      "execution_count": 107,
      "outputs": [
        {
          "output_type": "stream",
          "name": "stdout",
          "text": [
            "A B C D E F G H I \n",
            "  A B C D E F G \n",
            "    A B C D E \n",
            "      A B C \n",
            "        A \n",
            "      A B C \n",
            "    A B C D E \n",
            "  A B C D E F G \n",
            "A B C D E F G H I \n"
          ]
        }
      ]
    },
    {
      "cell_type": "code",
      "source": [
        "# 18. * * * * *\n",
        "#     *       *\n",
        "#     *       *\n",
        "#     *       *\n",
        "#     * * * * *\n",
        "\n",
        "for i in range(1,6):\n",
        "  for j in range(1,6):\n",
        "    if(i==1 or i==5 or j==1 or j==5):\n",
        "        print(\"*\",end=\" \")\n",
        "    else:\n",
        "        print(\" \",end=\" \")\n",
        "  print()"
      ],
      "metadata": {
        "colab": {
          "base_uri": "https://localhost:8080/"
        },
        "id": "lVQcwIocrfsY",
        "outputId": "065abce3-b7dd-4e8a-e462-994aa7262b6f"
      },
      "execution_count": 112,
      "outputs": [
        {
          "output_type": "stream",
          "name": "stdout",
          "text": [
            "* * * * * \n",
            "*       * \n",
            "*       * \n",
            "*       * \n",
            "* * * * * \n"
          ]
        }
      ]
    },
    {
      "cell_type": "code",
      "source": [
        "# 19. 1 2 3 4 5\n",
        "#     1       5\n",
        "#     1       5\n",
        "#     1       5\n",
        "#     1 2 3 4 5\n",
        "\n",
        "for i in range(1,6):\n",
        "  for j in range(1,6):\n",
        "    if(i==1 or i==5 or j==1 or j==5):\n",
        "        print(j,end=\" \")\n",
        "    else:\n",
        "        print(\" \",end=\" \")\n",
        "  print()"
      ],
      "metadata": {
        "colab": {
          "base_uri": "https://localhost:8080/"
        },
        "id": "xPVrKDinr8Hv",
        "outputId": "ad8dee58-d705-41c3-8bd5-1b8e0da5333a"
      },
      "execution_count": 113,
      "outputs": [
        {
          "output_type": "stream",
          "name": "stdout",
          "text": [
            "1 2 3 4 5 \n",
            "1       5 \n",
            "1       5 \n",
            "1       5 \n",
            "1 2 3 4 5 \n"
          ]
        }
      ]
    },
    {
      "cell_type": "code",
      "source": [
        "# 20. A B C D E\n",
        "#     A       E\n",
        "#     A       E\n",
        "#     A       E\n",
        "#     A B C D E\n",
        "\n",
        "for i in range(1,6):\n",
        "  a=65\n",
        "  for j in range(1,6):\n",
        "    if(i==1 or i==5 or j==1 or j==5):\n",
        "        print(chr(a),end=\" \")\n",
        "        a+=1\n",
        "    else:\n",
        "        print(\" \",end=\" \")\n",
        "        a+=1\n",
        "\n",
        "  print()"
      ],
      "metadata": {
        "colab": {
          "base_uri": "https://localhost:8080/"
        },
        "id": "37790ikAsTeH",
        "outputId": "00f86863-22f2-40a4-8da2-5b3e70571916"
      },
      "execution_count": 114,
      "outputs": [
        {
          "output_type": "stream",
          "name": "stdout",
          "text": [
            "A B C D E \n",
            "A       E \n",
            "A       E \n",
            "A       E \n",
            "A B C D E \n"
          ]
        }
      ]
    },
    {
      "cell_type": "code",
      "source": [
        "# 21.     *\n",
        "#       *   *\n",
        "#     *       *\n",
        "#   *           *\n",
        "# *               *\n",
        "#   *           *\n",
        "#     *       *\n",
        "#       *   *\n",
        "#         *\n",
        "\n",
        "for i in range(1,6):\n",
        "  for j in range(i,5):\n",
        "    print(\" \",end=\" \")\n",
        "  for k in range(1,i+1):\n",
        "    if(k==1):\n",
        "      print(\"*\",end=\" \")\n",
        "    else:\n",
        "      print(\" \",end=\" \")\n",
        "  for l in range(1,i):\n",
        "    if(l==i-1):\n",
        "      print(\"*\",end=\" \")\n",
        "    else:\n",
        "      print(\" \",end=\" \")\n",
        "\n",
        "  print()\n",
        "\n",
        "for i in range(4,0,-1):\n",
        "  for j in range(5,i,-1):\n",
        "    print(\" \",end=\" \")\n",
        "  for k in range(1,i+1):\n",
        "    if(k==1):\n",
        "      print(\"*\",end=\" \")\n",
        "    else:\n",
        "      print(\" \",end=\" \")\n",
        "  for l in range(1,i):\n",
        "    if(l==i-1):\n",
        "      print(\"*\",end=\" \")\n",
        "    else:\n",
        "      print(\" \",end=\" \")\n",
        "  print()"
      ],
      "metadata": {
        "colab": {
          "base_uri": "https://localhost:8080/"
        },
        "id": "WheEpxVMsgTP",
        "outputId": "0bcef666-4fbc-4d19-ece9-52be9114d028"
      },
      "execution_count": 148,
      "outputs": [
        {
          "output_type": "stream",
          "name": "stdout",
          "text": [
            "        * \n",
            "      *   * \n",
            "    *       * \n",
            "  *           * \n",
            "*               * \n",
            "  *           * \n",
            "    *       * \n",
            "      *   * \n",
            "        * \n"
          ]
        }
      ]
    },
    {
      "cell_type": "code",
      "source": [
        "# 22.     1\n",
        "#       1   3\n",
        "#     1       5\n",
        "#   1           7\n",
        "# 1               9\n",
        "#   1           7\n",
        "#     1       5\n",
        "#       1   3\n",
        "#         1\n",
        "\n",
        "for i in range(1,6):\n",
        "  a=1\n",
        "  for j in range(i,5):\n",
        "    print(\" \",end=\" \")\n",
        "  for k in range(1,i+1):\n",
        "    if(k==1):\n",
        "      print(a,end=\" \")\n",
        "      a+=1\n",
        "    else:\n",
        "      print(\" \",end=\" \")\n",
        "      a+=1\n",
        "  for l in range(1,i):\n",
        "    if(l==i-1):\n",
        "      print(a,end=\" \")\n",
        "      a+=1\n",
        "    else:\n",
        "      print(\" \",end=\" \")\n",
        "      a+=1\n",
        "  print()\n",
        "\n",
        "for i in range(4,0,-1):\n",
        "  a=1\n",
        "  for j in range(5,i,-1):\n",
        "    print(\" \",end=\" \")\n",
        "  for k in range(1,i+1):\n",
        "    if(k==1):\n",
        "      print(a,end=\" \")\n",
        "      a+=1\n",
        "    else:\n",
        "      print(\" \",end=\" \")\n",
        "      a+=1\n",
        "  for l in range(1,i):\n",
        "    if(l==i-1):\n",
        "      print(a,end=\" \")\n",
        "      a+=1\n",
        "    else:\n",
        "      print(\" \",end=\" \")\n",
        "      a+=1\n",
        "  print()"
      ],
      "metadata": {
        "colab": {
          "base_uri": "https://localhost:8080/"
        },
        "id": "KQy1LLhFtDeP",
        "outputId": "e429074c-5300-49ed-fedf-f88a215151b8"
      },
      "execution_count": 149,
      "outputs": [
        {
          "output_type": "stream",
          "name": "stdout",
          "text": [
            "        1 \n",
            "      1   3 \n",
            "    1       5 \n",
            "  1           7 \n",
            "1               9 \n",
            "  1           7 \n",
            "    1       5 \n",
            "      1   3 \n",
            "        1 \n"
          ]
        }
      ]
    },
    {
      "cell_type": "code",
      "source": [
        "# 23.     A\n",
        "#       A   C\n",
        "#     A       E\n",
        "#   A           G\n",
        "# A               I\n",
        "#   A           G\n",
        "#     A       E\n",
        "#       A   C\n",
        "#         A\n",
        "\n",
        "for i in range(1,6):\n",
        "  a=65\n",
        "  for j in range(i,5):\n",
        "    print(\" \",end=\" \")\n",
        "  for k in range(1,i+1):\n",
        "    if(k==1):\n",
        "      print(chr(a),end=\" \")\n",
        "      a+=1\n",
        "    else:\n",
        "      print(\" \",end=\" \")\n",
        "      a+=1\n",
        "  for l in range(1,i):\n",
        "    if(l==i-1):\n",
        "      print(chr(a),end=\" \")\n",
        "      a+=1\n",
        "    else:\n",
        "      print(\" \",end=\" \")\n",
        "      a+=1\n",
        "  print()\n",
        "\n",
        "for i in range(4,0,-1):\n",
        "  a=65\n",
        "  for j in range(5,i,-1):\n",
        "    print(\" \",end=\" \")\n",
        "  for k in range(1,i+1):\n",
        "    if(k==1):\n",
        "      print(chr(a),end=\" \")\n",
        "      a+=1\n",
        "    else:\n",
        "      print(\" \",end=\" \")\n",
        "      a+=1\n",
        "  for l in range(1,i):\n",
        "    if(l==i-1):\n",
        "      print(chr(a),end=\" \")\n",
        "      a+=1\n",
        "    else:\n",
        "      print(\" \",end=\" \")\n",
        "      a+=1\n",
        "  print()"
      ],
      "metadata": {
        "colab": {
          "base_uri": "https://localhost:8080/"
        },
        "id": "IAleLFbgt6J3",
        "outputId": "e94fcfcc-444b-4f5b-ee43-fb7b68bb7c76"
      },
      "execution_count": 150,
      "outputs": [
        {
          "output_type": "stream",
          "name": "stdout",
          "text": [
            "        A \n",
            "      A   C \n",
            "    A       E \n",
            "  A           G \n",
            "A               I \n",
            "  A           G \n",
            "    A       E \n",
            "      A   C \n",
            "        A \n"
          ]
        }
      ]
    },
    {
      "cell_type": "code",
      "source": [
        "# 24.  1\n",
        "#     1 1\n",
        "#    1 2 1\n",
        "#   1 3 3 1\n",
        "#  1 4 4 4 1\n",
        "\n",
        "for i in range(1,6):\n",
        "  for j in range(i,5):\n",
        "    print(\" \",end=\"\")\n",
        "  for k in range(1,i+1):\n",
        "    if(k==1 or k==i):\n",
        "      print(1,end=\" \")\n",
        "    else:\n",
        "      print(i-1,end=\" \")\n",
        "  print()"
      ],
      "metadata": {
        "colab": {
          "base_uri": "https://localhost:8080/"
        },
        "id": "cW38h3ERuItA",
        "outputId": "9f720a24-057a-4ab9-819f-85ea2ba79822"
      },
      "execution_count": 164,
      "outputs": [
        {
          "output_type": "stream",
          "name": "stdout",
          "text": [
            "    1 \n",
            "   1 1 \n",
            "  1 2 1 \n",
            " 1 3 3 1 \n",
            "1 4 4 4 1 \n"
          ]
        }
      ]
    },
    {
      "cell_type": "code",
      "source": [],
      "metadata": {
        "id": "1q1fRlaivhRv"
      },
      "execution_count": 187,
      "outputs": []
    }
  ]
}