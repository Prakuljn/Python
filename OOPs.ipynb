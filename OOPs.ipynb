{
 "cells": [
  {
   "cell_type": "markdown",
   "id": "e27a634e-345a-48b9-9f6c-0fbc2b958de2",
   "metadata": {},
   "source": [
    "# OOPs (Object Oriented Programming)\n",
    "\n",
    "It's a programming paradigm based on the objects, these objects can contain data, attributes and functions.\n",
    "\n",
    "# Why we use OOPS?\n",
    " 1. Reusability => Code can be reused through inheritence and classes reducing redundancy.\n",
    " 2. Modularity => Programs are divided into objects making them easy to understand & maintain.\n",
    " 3. Data protection => Encapsulation helps restrict access to  certain parts of an object.\n",
    " 4. Flexibility => Polymorphism allows the same interface to interact with different types of objects.\n",
    "\n",
    "# Key concepts of OOPS:\n",
    " 1. Class => A class is a blueprint for creating objects. It deefines a structure to hold data(attributes) & Functions(Methods) related to that object.\n",
    " 2. Objects => An object is an instance of a class. It represents a specific entity created using the class blueprint.\n",
    " 3. Self => Self is a reference to the current interface of the class. It allows us to access the object's attributes & methods. It must be the first        parameter in instance method. When we calling a method self is passed automatically.\n",
    " 4. Attributes => Attributes are variables that hold data about an object. They are defined inside a class & represent the properties & state of an          object.  eg- self.name = name.\n",
    " 5. Methods => Methods are functions defined inside a class that operate on the object's attributes. They define the behaviour of an object.\n",
    "    \n",
    "# What happens if we not use self?\n",
    "If self is not used, the method will not have a way to refer to the object calling it. Python will raise an error when trying to access instance attributes/methods inside the class as they are not explicity connected to the instance."
   ]
  },
  {
   "cell_type": "code",
   "execution_count": 1,
   "id": "461a6011-b282-46c0-905e-bceb86234b88",
   "metadata": {},
   "outputs": [
    {
     "name": "stdout",
     "output_type": "stream",
     "text": [
      "Buddy says Woof!\n",
      "Golden Retriever this is breed\n",
      "Max says Woof!\n",
      "Labrador this is breed\n"
     ]
    }
   ],
   "source": [
    "# Example with Self\n",
    "class Dog:\n",
    "    def __init__(self,name,breed): # Constructor with 'self'\n",
    "        self.name=name #'self.name' binds to the instance attribute\n",
    "        self.breed=breed\n",
    "\n",
    "    def bark(self):\n",
    "        print(f\"{self.name} says Woof!\")\n",
    "        print(f\"{self.breed} this is breed\")\n",
    "\n",
    "dog1=Dog(\"Buddy\",\"Golden Retriever\")\n",
    "dog2=Dog(\"Max\",\"Labrador\")\n",
    "\n",
    "# Access attributes and methods\n",
    "dog1.bark()\n",
    "dog2.bark()"
   ]
  },
  {
   "cell_type": "code",
   "execution_count": 4,
   "id": "3f8508fe-f335-4f0e-8109-dad75eb3792a",
   "metadata": {},
   "outputs": [
    {
     "ename": "TypeError",
     "evalue": "Dog.__init__() takes 2 positional arguments but 3 were given",
     "output_type": "error",
     "traceback": [
      "\u001b[1;31m---------------------------------------------------------------------------\u001b[0m",
      "\u001b[1;31mTypeError\u001b[0m                                 Traceback (most recent call last)",
      "Cell \u001b[1;32mIn[4], line 13\u001b[0m\n\u001b[0;32m     10\u001b[0m         \u001b[38;5;28mprint\u001b[39m(\u001b[38;5;124mf\u001b[39m\u001b[38;5;124m\"\u001b[39m\u001b[38;5;132;01m{\u001b[39;00mbreed\u001b[38;5;132;01m}\u001b[39;00m\u001b[38;5;124m this is breed\u001b[39m\u001b[38;5;124m\"\u001b[39m)\n\u001b[0;32m     12\u001b[0m \u001b[38;5;66;03m# Create an object\u001b[39;00m\n\u001b[1;32m---> 13\u001b[0m dog1\u001b[38;5;241m=\u001b[39m\u001b[43mDog\u001b[49m\u001b[43m(\u001b[49m\u001b[38;5;124;43m\"\u001b[39;49m\u001b[38;5;124;43mBuddy\u001b[39;49m\u001b[38;5;124;43m\"\u001b[39;49m\u001b[43m,\u001b[49m\u001b[38;5;124;43m\"\u001b[39;49m\u001b[38;5;124;43mGolden Retriever\u001b[39;49m\u001b[38;5;124;43m\"\u001b[39;49m\u001b[43m)\u001b[49m\n\u001b[0;32m     14\u001b[0m dog2\u001b[38;5;241m=\u001b[39mDog(\u001b[38;5;124m\"\u001b[39m\u001b[38;5;124mMax\u001b[39m\u001b[38;5;124m\"\u001b[39m,\u001b[38;5;124m\"\u001b[39m\u001b[38;5;124mLabrador\u001b[39m\u001b[38;5;124m\"\u001b[39m)\n\u001b[0;32m     16\u001b[0m dog1\u001b[38;5;241m.\u001b[39mbark()\n",
      "\u001b[1;31mTypeError\u001b[0m: Dog.__init__() takes 2 positional arguments but 3 were given"
     ]
    }
   ],
   "source": [
    "# Example without self\n",
    "\n",
    "class Dog:\n",
    "    def __init__(name,breed): #missing 'self'\n",
    "        name=name # this wom't bind to the instance\n",
    "        breed=breed # this wom't bind to the instance\n",
    "\n",
    "    def bark():\n",
    "        print(f\"{name} says Woof!\") #this will cause an error\n",
    "        print(f\"{breed} this is breed\")\n",
    "\n",
    "# Create an object\n",
    "dog1=Dog(\"Buddy\",\"Golden Retriever\")\n",
    "dog2=Dog(\"Max\",\"Labrador\")\n",
    "\n",
    "dog1.bark()\n",
    "dog2.bark()"
   ]
  },
  {
   "cell_type": "markdown",
   "id": "5dd4273d-b197-46a9-8dc2-57185115de14",
   "metadata": {},
   "source": [
    "# Task 1\n",
    "Create a Calculator class.\n",
    "Add methods for addition,subtraction,multiplication and division\n",
    "Use the self parameter to access the numbers"
   ]
  },
  {
   "cell_type": "code",
   "execution_count": 8,
   "id": "6a791087-d2aa-4e3a-9b12-e76846420b95",
   "metadata": {},
   "outputs": [
    {
     "name": "stdin",
     "output_type": "stream",
     "text": [
      "Enter the first number : 10\n",
      "Enter the second number : 5\n"
     ]
    },
    {
     "name": "stdout",
     "output_type": "stream",
     "text": [
      "Addition is : 15\n",
      "Subtraction is : 5\n",
      "Multplication is : 50\n",
      "Division is : 2.0\n"
     ]
    }
   ],
   "source": [
    "class Calculator:\n",
    "    def __init__(self,num1,num2):\n",
    "        self.num1=num1\n",
    "        self.num2=num2\n",
    "\n",
    "    def add(self):\n",
    "        return self.num1+self.num2\n",
    "    def subtract(self):\n",
    "        return self.num1-self.num2\n",
    "    def multiply(self):\n",
    "        return self.num1*self.num2\n",
    "    def divide(self):\n",
    "        if self.num2!=0:\n",
    "            return self.num1/self.num2\n",
    "        else:\n",
    "            return \"Division by zero is not allowed\"\n",
    "\n",
    "num1=int(input(\"Enter the first number :\"))\n",
    "num2=int(input(\"Enter the second number :\"))\n",
    "calc=Calculator(num1,num2)\n",
    "print(f\"Addition is : {calc.add()}\")\n",
    "print(f\"Subtraction is : {calc.subtract()}\")\n",
    "print(f\"Multplication is : {calc.multiply()}\")\n",
    "print(f\"Division is : {calc.divide()}\")"
   ]
  },
  {
   "cell_type": "markdown",
   "id": "1d812f26-dfeb-4ddf-8b0d-7b119c61891b",
   "metadata": {},
   "source": [
    "# Task 2\n",
    "\n",
    "Define a BankAccount class.\n",
    "Add attributes for account holder name and balance.\n",
    "Add methods to deposit, withdraw, and check balance."
   ]
  },
  {
   "cell_type": "code",
   "execution_count": 1,
   "id": "57a0b83f-57af-4ec8-821a-e4949840d4b2",
   "metadata": {},
   "outputs": [
    {
     "name": "stdout",
     "output_type": "stream",
     "text": [
      "Account holder name is : Anmol\n",
      "Balance is : 10000\n"
     ]
    },
    {
     "name": "stdin",
     "output_type": "stream",
     "text": [
      "enter the deposit amount 1000\n"
     ]
    },
    {
     "name": "stdout",
     "output_type": "stream",
     "text": [
      "1000 is deposited. Balance is 11000\n"
     ]
    },
    {
     "name": "stdin",
     "output_type": "stream",
     "text": [
      "enter the withdrawn amount 5000\n"
     ]
    },
    {
     "name": "stdout",
     "output_type": "stream",
     "text": [
      "5000 is withdrawn. Remaining balance is 6000\n",
      "Account balance is : 6000\n"
     ]
    }
   ],
   "source": [
    "class BankAccount:\n",
    "    def __init__(self,holder_name,balance=0):\n",
    "        self.holder_name=holder_name\n",
    "        self.balance=balance\n",
    "        print(f\"Account holder name is : {self.holder_name}\")\n",
    "        print(f\"Balance is : {self.balance}\")\n",
    "\n",
    "    def deposit(self):\n",
    "        deposit_amount=int(input(\"enter the deposit amount\"))\n",
    "        self.balance+=deposit_amount\n",
    "        print(f\"{deposit_amount} is deposited. Balance is {self.balance}\")\n",
    "    def withdraw(self):\n",
    "        amount_withdrawn=int(input(\"enter the withdrawn amount\"))\n",
    "        if amount_withdrawn<self.balance:\n",
    "            self.balance-=amount_withdrawn\n",
    "            print(f\"{amount_withdrawn} is withdrawn. Remaining balance is {self.balance}\")\n",
    "        else:\n",
    "            print(\"Insufficient balance.\")\n",
    "    def checkBalance(self):\n",
    "        print(f\"Account balance is : {self.balance}\")\n",
    "\n",
    "account=BankAccount(\"Anmol\",10000)\n",
    "account.deposit()\n",
    "account.withdraw()\n",
    "account.checkBalance()"
   ]
  },
  {
   "cell_type": "markdown",
   "id": "0bc58378-4a2e-48c0-a80c-a31d1ccdaa2e",
   "metadata": {},
   "source": [
    "# Task 3\n",
    "\n",
    "Define a Student class with attributes like name, age, and marks.\n",
    "Add a method to display the student details.\n",
    "Add a method to check if the student passed (marks>=40)."
   ]
  },
  {
   "cell_type": "code",
   "execution_count": 6,
   "id": "c66d22db-5139-471a-8c8d-b15d8f203317",
   "metadata": {},
   "outputs": [
    {
     "name": "stdin",
     "output_type": "stream",
     "text": [
      "Enter your name : Anmol\n",
      "Enter your age : 22\n",
      "Enter the obtained marks out of 100 : 75\n"
     ]
    },
    {
     "name": "stdout",
     "output_type": "stream",
     "text": [
      "Name is : Anmol\n",
      "Age is : 22\n",
      "Obtained marks out of 100 is : 75\n",
      "Result is : passed\n"
     ]
    }
   ],
   "source": [
    "class Student:\n",
    "    def __init__(self,name,age,marks):\n",
    "        self.name=name\n",
    "        self.age=age\n",
    "        self.marks=marks\n",
    "\n",
    "    def s_details(self):\n",
    "        print(f\"Name is : {self.name}\")\n",
    "        print(f\"Age is : {self.age}\")\n",
    "        print(f\"Obtained marks out of 100 is : {self.marks}\")\n",
    "    def passed(self):\n",
    "        if self.marks>=40:\n",
    "            return \"passed\"\n",
    "        else:\n",
    "            return \"fail\"\n",
    "\n",
    "# details=Student(\"Anmol\",22,89)\n",
    "name=input(\"Enter your name :\")\n",
    "age=int(input(\"Enter your age :\"))\n",
    "marks=int(input(\"Enter the obtained marks out of 100 :\"))\n",
    "student=Student(name,age,marks)\n",
    "student.s_details()\n",
    "print(f\"Result is : {student.passed()}\")"
   ]
  },
  {
   "cell_type": "markdown",
   "id": "cfb09a95-ae27-41b9-8c24-928499cead13",
   "metadata": {},
   "source": [
    "# Task 4 : Create a Library System\n",
    "Define a Book class with attributes like title, author, and availability.\n",
    "Add methods to check availability and borrow/return the book."
   ]
  },
  {
   "cell_type": "code",
   "execution_count": 3,
   "id": "44cb5a82-d6df-4368-99e6-f83aeff86b46",
   "metadata": {},
   "outputs": [
    {
     "name": "stdin",
     "output_type": "stream",
     "text": [
      "Enter the title of the Book : physics\n",
      "Enter the author name of the book : hc verma\n"
     ]
    },
    {
     "data": {
      "text/plain": [
       "'Returned physics by hc verma. Thanks! come again.'"
      ]
     },
     "execution_count": 3,
     "metadata": {},
     "output_type": "execute_result"
    }
   ],
   "source": [
    "class Book:\n",
    "    def __init__(self,title,author):\n",
    "        self.title=title\n",
    "        self.author=author\n",
    "        self.available=True\n",
    "    def check_availability(self):\n",
    "        return self.available\n",
    "    def borrow_book(self):\n",
    "        if self.available:\n",
    "            self.available=False\n",
    "            return f\"Borrowed {self.title} by {self.author}.\"\n",
    "        else:\n",
    "            return f\"Sorry! {self.title} by {self.author} is currently unavailable.\"\n",
    "    def return_book(self):\n",
    "        self.available=True\n",
    "        return f\"Returned {self.title} by {self.author}. Thanks! come again.\"\n",
    "title=input(\"Enter the title of the Book :\")\n",
    "author=input(\"Enter the author name of the book :\")\n",
    "check_book=Book(title,author)\n",
    "check_book.check_availability()\n",
    "check_book.borrow_book()\n",
    "check_book.return_book()\n",
    "            "
   ]
  },
  {
   "cell_type": "markdown",
   "id": "070dff9e-44c1-4d4d-935d-acd7d2c3d53d",
   "metadata": {},
   "source": [
    "# Task 5 : Create an Employee Management System\n",
    "\n",
    "Define an Employee class with attributes like name, ID, and Salary.\n",
    "Add a method to calculate annual salary.\n",
    "Add a method to display employee details."
   ]
  },
  {
   "cell_type": "code",
   "execution_count": 1,
   "id": "0028de2a-9c8d-463f-9b3f-228f1f5823c6",
   "metadata": {},
   "outputs": [
    {
     "name": "stdin",
     "output_type": "stream",
     "text": [
      "Enter the name of the Employee : Anmol\n",
      "Enter the ID of the Employee : 785\n",
      "Enter the Monthly Salary of the employee : 78500\n"
     ]
    },
    {
     "name": "stdout",
     "output_type": "stream",
     "text": [
      "Employee Name is : Anmol\n",
      "Employee ID is : 785\n",
      "Monthly Salary is : 78500\n",
      "Total Annual Salary is : 942000\n"
     ]
    }
   ],
   "source": [
    "class Employee:\n",
    "    def __init__(self,name,emp_ID,salary):\n",
    "        self.name=name\n",
    "        self.emp_ID=emp_ID\n",
    "        self.salary=salary\n",
    "    def annual_salary(self):\n",
    "        return self.salary*12\n",
    "    def employee_details(self):\n",
    "        print(f\"Employee Name is : {self.name}\")\n",
    "        print(f\"Employee ID is : {self.emp_ID}\")\n",
    "        print(f\"Monthly Salary is : {self.salary}\")\n",
    "        print(f\"Total Annual Salary is : {self.annual_salary()}\")\n",
    "name=input(\"Enter the name of the Employee :\")\n",
    "emp_ID=int(input(\"Enter the ID of the Employee :\"))\n",
    "salary=int(input(\"Enter the Monthly Salary of the employee :\"))\n",
    "Emp_details=Employee(name,emp_ID,salary)\n",
    "Emp_details.employee_details()"
   ]
  },
  {
   "cell_type": "markdown",
   "id": "2d33610d-ceac-4f66-bcaf-def5e5a176ae",
   "metadata": {},
   "source": [
    "# Encapsulation\n",
    "\n",
    "Encapsulation refers to the bundling of data (attributes) and methods (functions) that operate on the data into a single unit.\n",
    "\n",
    "# How Encapsulation works?\n",
    "Three methods => Public, Private, and Protected\n",
    " 1. Public Attributes - Directly Accessible\n",
    " 2. Protected Attributes - Use a single underscore attributes\n",
    " 3. Private Attributes - use double underscore attributes\n",
    "\n",
    "Encapsulation involves restricting direct access to some of the object attributes and methods to protect the intergrity of the data. This is typically done by making attributes private and exposing them through public methods.\n",
    "\n",
    "# Why is Encapsulation Imp ?\n",
    " 1. It improves data security by restricting unauthorised access.\n",
    " 2. It promoted modularity by hidding implementation details.\n",
    " 3. It enables control over the data by providing controlled access through methods. It enhances code maintainability and reusability by protecting data     from unintended modification.\n",
    "\n",
    "# What is diff b/w private and protected attributes\n",
    "  1. Private attributes is fully encapsulate the data and they can only be accessed within the class.\n",
    "  2. Protected attributes provide partial encapsulation that indicating that they should be accessed only within the class and sub-class."
   ]
  },
  {
   "cell_type": "markdown",
   "id": "27818f79-da83-4e2f-b627-99162635f19d",
   "metadata": {},
   "source": [
    "# Example 1 : Bank Account"
   ]
  },
  {
   "cell_type": "code",
   "execution_count": 10,
   "id": "e68b60ab-0bb8-4fb9-9137-4ea9a5395c20",
   "metadata": {},
   "outputs": [
    {
     "name": "stdout",
     "output_type": "stream",
     "text": [
      "Anmol\n",
      "10000\n",
      "Deposited amount : 1000! New balance : 11000\n",
      "Withdrawn amount : 5000! Remaining balance : 6000\n"
     ]
    }
   ],
   "source": [
    "class BankAccount:\n",
    "    def __init__(self,account_holder,balance):\n",
    "        self.__account_holder=account_holder #Private Attribute\n",
    "        self.__balance=balance #Private Attribute\n",
    "\n",
    "    #Getting for account holder\n",
    "    def get_account_holder(self):\n",
    "        return self.__account_holder\n",
    "\n",
    "    # Getting for balance\n",
    "    def get_balance(self):\n",
    "        return self.__balance\n",
    "\n",
    "    #Method to deposit money\n",
    "    def deposit(self,amount):\n",
    "        if amount>0:\n",
    "            self.__balance+=amount\n",
    "            return f\"Deposited amount : {amount}! New balance : {self.__balance}\"\n",
    "        else:\n",
    "            return \"Invalid deposit amount!\"\n",
    "\n",
    "    #Method to withdraw money\n",
    "    def withdraw(self,amount):\n",
    "        if amount<=self.__balance:\n",
    "            self.__balance-=amount\n",
    "            return f\"Withdrawn amount : {amount}! Remaining balance : {self.__balance}\"\n",
    "        else:\n",
    "            return \"Insufficient Balance!\"\n",
    "\n",
    "#Usinf the class\n",
    "account=BankAccount(\"Anmol\",10000)\n",
    "print(account.get_account_holder())\n",
    "print(account.get_balance())\n",
    "print(account.deposit(1000))\n",
    "print(account.withdraw(5000))\n",
    "\n",
    "# Attempt to access private attributes directly (not allowed)\n",
    "# print(account.__balance) #Error : AttrributeError"
   ]
  },
  {
   "cell_type": "markdown",
   "id": "5de384a5-ab6f-413a-a790-d54f55162d90",
   "metadata": {},
   "source": [
    "# Example 2 : Student Data"
   ]
  },
  {
   "cell_type": "code",
   "execution_count": 5,
   "id": "8cd7a98d-8e46-449f-8b51-28c6a0ce46ca",
   "metadata": {},
   "outputs": [
    {
     "name": "stdout",
     "output_type": "stream",
     "text": [
      "Anmol\n",
      "85\n",
      "Grade updated successfully!\n",
      "90\n",
      "Invalid grade! Must be between 0 and 100.\n"
     ]
    }
   ],
   "source": [
    "class Student:\n",
    "    def __init__(self,name,grade):\n",
    "        self.name=name #Public Attribute\n",
    "        self.__grade =grade #Private Attribute\n",
    "\n",
    "    # Getter for grade\n",
    "    def get_grade(self):\n",
    "        return self.__grade\n",
    "\n",
    "    #Setter for grade (with validation)\n",
    "    def set_grade(self,new_grade):\n",
    "        if 0<=new_grade<=100:\n",
    "            self.__grade=new_grade\n",
    "            return \"Grade updated successfully!\"\n",
    "        else:\n",
    "            return \"Invalid grade! Must be between 0 and 100.\"\n",
    "\n",
    "#Using the class\n",
    "student=Student(\"Anmol\",85)\n",
    "print(student.name)\n",
    "print(student.get_grade())\n",
    "print(student.set_grade(90))\n",
    "print(student.get_grade())\n",
    "\n",
    "# Attempt to set an invalid grade\n",
    "print(student.set_grade(150)) # output: Invalid grade! Must be between 0 and 100."
   ]
  },
  {
   "cell_type": "markdown",
   "id": "2a32e9d1-fcb4-448b-a952-a249423f953a",
   "metadata": {},
   "source": [
    "# Case Study 1: Healthcare System (Patient Record Management)\n",
    "\n",
    "Problem: Develop a system for managing patient records in a hospital where:\n",
    "Patient details (name, age, and medical history) should be private.\n",
    "Only authorized methods can retrieve or update medical history.\n",
    "Provide a method to add new medical records while keeping previous data secure."
   ]
  },
  {
   "cell_type": "code",
   "execution_count": 1,
   "id": "f2b1cf95-0801-41b6-bffc-5583b16775f2",
   "metadata": {},
   "outputs": [
    {
     "name": "stdin",
     "output_type": "stream",
     "text": [
      "Enter the patient name : Anmol\n",
      "Enter the age of the patient : 22\n"
     ]
    },
    {
     "name": "stdout",
     "output_type": "stream",
     "text": [
      "Name: Anmol , Age : 22\n",
      "Patient medical record added successfully!\n",
      "Medical History of the patient is : ['Seaviour Migrane Pain!']\n",
      "Patient updated medical history is : ['Seaviour Migrane Pain!', 'Asthma!']\n"
     ]
    }
   ],
   "source": [
    "class HealthcareSystem:\n",
    "    def __init__(self,name,age):\n",
    "        self.__name=name\n",
    "        self.__age=age\n",
    "        self.__medical_history=[]\n",
    "\n",
    "    def get_patient_info(self):\n",
    "        return f\"Name: {self.__name} , Age : {self.__age}\"\n",
    "        \n",
    "    def patient_medical_record(self,record):\n",
    "        self.__medical_history.append(record)\n",
    "        print(\"Patient medical record added successfully!\")\n",
    "        \n",
    "    def patient_medical_history(self):\n",
    "        return self.__medical_history.copy()\n",
    "        \n",
    "    def update_patient_medical_record(self,new_record):\n",
    "        self.__medical_history.append(new_record)\n",
    "                   \n",
    "name=input(\"Enter the patient name :\")\n",
    "age=int(input(\"Enter the age of the patient :\"))\n",
    "patient=HealthcareSystem(name,age)\n",
    "print(patient.get_patient_info())\n",
    "patient.patient_medical_record(\"Seaviour Migrane Pain!\")\n",
    "print(\"Medical History of the patient is :\",patient.patient_medical_history())\n",
    "patient.update_patient_medical_record(\"Asthma!\")\n",
    "print(\"Patient updated medical history is :\",patient.patient_medical_history())"
   ]
  },
  {
   "cell_type": "markdown",
   "id": "30254e83-9fa6-4eda-a1bc-d24ea6393ebc",
   "metadata": {},
   "source": [
    "# Inheritance\n",
    "\n",
    "It is a fundamental concept of OOPs that allow a class (child class) to inherit attribute & methods from another class (parent class). This promotes code reusability and modularity.\n",
    "\n",
    "# Key benefits:\n",
    " 1. Code reusability - the child class can reuse the code in the parent class.\n",
    " 2. Extensibility - the child class can add or modify functionalities of the parent class.\n",
    " 3. Hiererical structure - relationship b/w classes are more organised.\n",
    "\n",
    "# Types: \n",
    " 1. Single Inheritance - A child class inherit from one parent class.\n",
    " 2. Multiple Inheritance - A child class inherit from two or more parent class.\n",
    " 3. Multi-level Inheritance - A child class inherit from a parent class and that parent class inherit from another parent class."
   ]
  },
  {
   "cell_type": "markdown",
   "id": "caf2beac-c535-43bf-97a1-fff688c10f6a",
   "metadata": {},
   "source": [
    "# Multiple Inheritance"
   ]
  },
  {
   "cell_type": "code",
   "execution_count": 2,
   "id": "9489f396-360e-4918-82ee-c30ba6c07e39",
   "metadata": {},
   "outputs": [
    {
     "name": "stdout",
     "output_type": "stream",
     "text": [
      "Engine started!\n",
      "Wheels are rotating!\n",
      "Car is driving!\n"
     ]
    }
   ],
   "source": [
    "class Engine:\n",
    "    def start_engine(self):\n",
    "        print(\"Engine started!\")\n",
    "\n",
    "class Wheels:\n",
    "    def rotate_wheels(self):\n",
    "        print(\"Wheels are rotating!\")\n",
    "\n",
    "class Car(Engine,Wheels): #Inheriting from Engine and Wheels\n",
    "    def drive(self):\n",
    "        print(\"Car is driving!\")\n",
    "\n",
    "#Usage\n",
    "my_car=Car()\n",
    "my_car.start_engine() #Method from Engine\n",
    "my_car.rotate_wheels() #Method from Wheels\n",
    "my_car.drive() #Method from Car"
   ]
  },
  {
   "cell_type": "markdown",
   "id": "abec9f56-7e28-4244-b3c7-69ee899d6513",
   "metadata": {},
   "source": [
    "# Multilevel Inheritance"
   ]
  },
  {
   "cell_type": "code",
   "execution_count": 4,
   "id": "d4bfb346-668b-4e20-9a14-d82ad1a305f3",
   "metadata": {},
   "outputs": [
    {
     "name": "stdout",
     "output_type": "stream",
     "text": [
      "Animal is eating!\n",
      "Dog is barking!\n",
      "Puppy is weeping!\n"
     ]
    }
   ],
   "source": [
    "class Animal:\n",
    "    def eat(self):\n",
    "        print(\"Animal is eating!\")\n",
    "\n",
    "class Dog(Animal): #Dog inherits from Animal\n",
    "    def bark(self):\n",
    "        print(\"Dog is barking!\")\n",
    "\n",
    "class Puppy(Dog): #Puppy inherits from Dog\n",
    "    def weep(self):\n",
    "        print(\"Puppy is weeping!\")\n",
    "\n",
    "#Usage\n",
    "puppy=Puppy()\n",
    "puppy.eat()\n",
    "puppy.bark()\n",
    "puppy.weep()"
   ]
  },
  {
   "cell_type": "markdown",
   "id": "bb985c2d-6153-4301-bab9-d5054456bc28",
   "metadata": {},
   "source": [
    "# Class Methods\n",
    "\n",
    "It is a method that operate on the class itself rather than an instance of the class it define using the @classmethod and takes \"cls\" (class reference) as its first parameter.  \n",
    "\n",
    "# Features\n",
    " 1. it operate on the class rather than instance specific data \n",
    " 2. we can modify the class state using cls \n",
    " 3. it can be called be on both class and its object"
   ]
  },
  {
   "cell_type": "code",
   "execution_count": 8,
   "id": "fe1e7fe6-3472-4da7-bf10-e17ec34d9c06",
   "metadata": {},
   "outputs": [
    {
     "name": "stdout",
     "output_type": "stream",
     "text": [
      "Tech Solution\n",
      "Future Tech\n",
      "Future Tech\n",
      "Physics\n",
      "Physics\n"
     ]
    }
   ],
   "source": [
    "class Employee:\n",
    "    company_name=\"Tech Solution\"\n",
    "\n",
    "    def __init__(self,name,salary):\n",
    "        self.name=name\n",
    "        self.salary=salary\n",
    "\n",
    "    @classmethod\n",
    "    def change_company_name(cls,new_name):\n",
    "        cls.company_name=new_name\n",
    "\n",
    "#Usage\n",
    "emp1=Employee(\"Anmol\",100000)\n",
    "emp2=Employee(\"Prakul\",90000)\n",
    "\n",
    "#Access the class attribute\n",
    "print(Employee.company_name)\n",
    "\n",
    "#change the class attribute using class method\n",
    "Employee.change_company_name(\"Future Tech\")\n",
    "print(Employee.company_name)\n",
    "print(emp1.company_name)\n",
    "\n",
    "emp1.change_company_name(\"Physics\")\n",
    "\n",
    "print(emp1.company_name)\n",
    "print(emp2.company_name)"
   ]
  },
  {
   "cell_type": "markdown",
   "id": "8ff71f09-3768-4f68-b1b8-3862b84abf43",
   "metadata": {},
   "source": [
    "# Static Method\n",
    "\n",
    "It is a method that doesen't operate on either the class or instance. It behaves like a regular function but it defined inside a class for logical grouping it is marked with @staticmethod decorator\n",
    "\n",
    "# Features:\n",
    " 1. doesn't require self or cls as parameter\n",
    " 2. can't modify class or instance attributes \n",
    " 3. it is useful for utility or helper method that doesn't rely on the class or method"
   ]
  },
  {
   "cell_type": "code",
   "execution_count": 1,
   "id": "b8f0f0c5-45ac-4c01-9b03-18a9b7bcf156",
   "metadata": {},
   "outputs": [
    {
     "name": "stdout",
     "output_type": "stream",
     "text": [
      "Name of the employee is Anmol and role is Python developer\n",
      "This is a great job!\n"
     ]
    }
   ],
   "source": [
    "class Employee:\n",
    "    location = 'Jaipur'\n",
    "\n",
    "    def __init__(self,name,role):\n",
    "        self.name=name\n",
    "        self.role=role\n",
    "\n",
    "    def getInfo(self):\n",
    "        print(f\"Name of the employee is {self.name} and role is {self.role}\")\n",
    "\n",
    "    @staticmethod\n",
    "    def newInfo():\n",
    "        print(\"This is a great job!\")\n",
    "\n",
    "a=Employee(\"Anmol\",\"Python developer\")\n",
    "a.getInfo()\n",
    "a.newInfo()"
   ]
  },
  {
   "cell_type": "markdown",
   "id": "7c735300-c078-4de1-956e-3864afc52974",
   "metadata": {},
   "source": [
    "# Super Method\n",
    "\n",
    "It is used to call a method from the parent class in the context of inheritance. It alllows us to avoid explicity refering to the parent class and makes the code more maintainable \n",
    "\n",
    "# Features: \n",
    " 1. access parent class or attributes \n",
    " 2. it is useful for multi-level inheritance\n",
    " 3. it helps in avoiding code repeatation"
   ]
  },
  {
   "cell_type": "code",
   "execution_count": 21,
   "id": "0fd322d1-271f-4516-9057-25791204f4db",
   "metadata": {},
   "outputs": [
    {
     "name": "stdout",
     "output_type": "stream",
     "text": [
      "Hello, I am Anmol from the parent class!\n",
      "I am 22 years old from the child class!\n"
     ]
    }
   ],
   "source": [
    "class Parent:\n",
    "    def __init__(self,name):\n",
    "        self.name=name\n",
    "    def greet(self):\n",
    "        print(f\"Hello, I am {self.name} from the parent class!\")\n",
    "\n",
    "class Child(Parent):\n",
    "    def __init__(self,name,age):\n",
    "        super(). __init__(name) # Call the parent __init__ method\n",
    "        self.age=age\n",
    "    def greet(self):\n",
    "        super().greet() # call the parent greet method\n",
    "        print(f\"I am {self.age} years old from the child class!\")\n",
    "\n",
    "#usage\n",
    "child=Child(\"Anmol\",22)\n",
    "child.greet()"
   ]
  },
  {
   "cell_type": "markdown",
   "id": "27e5c96b-f0a5-4964-8789-dd8a516feefd",
   "metadata": {},
   "source": [
    "# Polymorphism \n",
    "\n",
    "# Why we use polymorphism ?\n",
    "It allows object of different classes to be treated as object of a common super class. It enables a single inheritance to represent different underline forms(data types). This makes the code more flexible, reuseable and easier to extend.\n",
    "\n",
    "# Key benifits of Polymorphism-\n",
    " 1. code reuseablity- we can write more generic code that works with objects of different types \n",
    " 2. flexiblity - new class can be added with minimal changes to existing code \n",
    " 3. readablity - it simplifies complex logic by using single method names for multiple actions\n",
    "\n",
    "# Overriding\n",
    "\n",
    "Overriding is a feature in OOPs where a sub-class provide a specific implementation for a method that is already defined in it's parent class. The overridden method in the sub-class will be executed instead of the one in the parent class when called on an instance of the sub-class. "
   ]
  },
  {
   "cell_type": "code",
   "execution_count": 1,
   "id": "5d4d270e-3a89-498c-ae08-cbdc67a6efaa",
   "metadata": {},
   "outputs": [
    {
     "name": "stdout",
     "output_type": "stream",
     "text": [
      "Vehicle is moving!\n",
      "Car is moving on four wheels!\n",
      "Bike is moving on two wheels!\n"
     ]
    }
   ],
   "source": [
    "class Vehicle:\n",
    "    def move(self):\n",
    "        print(\"Vehicle is moving!\")\n",
    "\n",
    "class Car(Vehicle):\n",
    "    def move(self):\n",
    "        print(\"Car is moving on four wheels!\")\n",
    "\n",
    "class Bike(Vehicle):\n",
    "    def move(self):\n",
    "        print(\"Bike is moving on two wheels!\")\n",
    "\n",
    "# Instances\n",
    "vehicle=Vehicle()\n",
    "car=Car()\n",
    "bike=Bike()\n",
    "\n",
    "vehicle.move()\n",
    "car.move()\n",
    "bike.move()"
   ]
  },
  {
   "cell_type": "markdown",
   "id": "7ca11b37-0165-4bd5-9d87-d14506d119d9",
   "metadata": {},
   "source": [
    "# Overloading\n",
    "\n",
    "Overloading allows the same function or operator to behave differently based on the number of type of arguments. It allows the same function to handle different type of inputs. "
   ]
  },
  {
   "cell_type": "code",
   "execution_count": 2,
   "id": "fd4fb002-c588-4e70-adef-a5b1c5c86aa0",
   "metadata": {},
   "outputs": [
    {
     "name": "stdout",
     "output_type": "stream",
     "text": [
      "Hello, Guest!\n",
      "Hello, Raj!\n"
     ]
    }
   ],
   "source": [
    "def greet(name='Guest'):\n",
    "    print(f\"Hello, {name}!\")\n",
    "\n",
    "greet()\n",
    "greet('Raj')"
   ]
  },
  {
   "cell_type": "markdown",
   "id": "b0af8ad6-767e-45d2-8eb6-644fd89300f7",
   "metadata": {},
   "source": [
    "# Recursion in python\n",
    "\n",
    "Recursion in python refers to a process where a function calls itself to solve smaller instances of the same program. In OOPs recursion can be used within class methods to perform repetative class.\n",
    "\n",
    "# Key feature:\n",
    "\n",
    " 1. Base case - A condition that stops the recursion to prevent infinity call.\n",
    " 2. Recursive case - The part where the function calls itself with a modified argument."
   ]
  },
  {
   "cell_type": "code",
   "execution_count": 3,
   "id": "78b93b6c-e87d-4ecc-8bed-3dddcc1e5ea1",
   "metadata": {},
   "outputs": [
    {
     "name": "stdout",
     "output_type": "stream",
     "text": [
      "The factorial of 5 is 120\n"
     ]
    }
   ],
   "source": [
    "# Factorial Calculation\n",
    "\n",
    "class FactorialCalculator:\n",
    "    def calculate_factorial(self,n):\n",
    "        #Base case : factorial of 0 or 1 is 1\n",
    "        if n==0 or n==1:\n",
    "            return 1\n",
    "        else:\n",
    "            #Recursive case : n*factorial of (n-1)\n",
    "            return n*self.calculate_factorial(n-1)\n",
    "\n",
    "calculator=FactorialCalculator()\n",
    "number=5\n",
    "result=calculator.calculate_factorial(number)\n",
    "print(f\"The factorial of {number} is {result}\")"
   ]
  },
  {
   "cell_type": "markdown",
   "id": "bce12428-3265-4fa5-8d94-716c2dc68067",
   "metadata": {},
   "source": [
    "# Abstraction\n",
    "\n",
    "Abstraction is a concept in OOPs that hides unnecessary details from the user and only shows the essential features of an object. It allows us to focus on what an object does rather than how it does it.\n",
    "Using @abstractmethod - This is a decorator that defines methods in the abstract class but doesn't provide there implementation.\n",
    "To use abstraction python abc module is typically used. abc-(abstract base class)"
   ]
  },
  {
   "cell_type": "code",
   "execution_count": 5,
   "id": "ba7bdf4a-a0d2-4c60-beed-f6eccc2165b3",
   "metadata": {},
   "outputs": [
    {
     "name": "stdout",
     "output_type": "stream",
     "text": [
      "Circle Area: 78.5\n",
      "Circle Perimeter: 31.400000000000002\n"
     ]
    }
   ],
   "source": [
    "from abc import ABC, abstractmethod\n",
    "# Abstract class\n",
    "class Shape(ABC):\n",
    "    @abstractmethod\n",
    "    def area(self):\n",
    "        pass  # Abstract method, no implementation\n",
    "\n",
    "    @abstractmethod\n",
    "    def perimeter(self):\n",
    "        pass  # Abstract method, no implementation\n",
    "\n",
    "# Concrete class for Circle\n",
    "class Circle(Shape):\n",
    "    def __init__(self, radius):\n",
    "        self.radius = radius\n",
    "\n",
    "    def area(self):\n",
    "        return 3.14 * self.radius * self.radius\n",
    "\n",
    "    def perimeter(self):\n",
    "        return 2 * 3.14 * self.radius\n",
    "\n",
    "circle = Circle(5)\n",
    "print(\"Circle Area:\", circle.area())         \n",
    "print(\"Circle Perimeter:\", circle.perimeter())"
   ]
  },
  {
   "cell_type": "markdown",
   "id": "95aebf3b-1e50-4ca3-96e5-de65fb350e99",
   "metadata": {},
   "source": [
    "# Decorators in Python\n",
    "In python decorators are a way to modify or enhance the behaviour of functions without directly changing there code."
   ]
  },
  {
   "cell_type": "code",
   "execution_count": 1,
   "id": "5757009f-b398-4fa3-a352-50399a7f3bd1",
   "metadata": {},
   "outputs": [
    {
     "name": "stdout",
     "output_type": "stream",
     "text": [
      "Function 'greet' is called\n",
      "Hello, Anmol!\n",
      "Function 'greet' finished execution\n"
     ]
    }
   ],
   "source": [
    "def log_decorator(func):\n",
    "    def wrapper(*args,**kwargs):\n",
    "        print(f\"Function '{func.__name__}' is called\")\n",
    "        result=func(*args,**kwargs) # Call the original function\n",
    "        print(f\"Function '{func.__name__}' finished execution\")\n",
    "        return result\n",
    "    return wrapper\n",
    "\n",
    "# Using the decorator\n",
    "@log_decorator\n",
    "def greet(name):\n",
    "    print(f\"Hello, {name}!\")\n",
    "\n",
    "# Call the function\n",
    "greet(\"Anmol\")"
   ]
  },
  {
   "cell_type": "markdown",
   "id": "db0de235-7e14-422a-91aa-065fb74f8f85",
   "metadata": {},
   "source": [
    "# Generators \n",
    "Generators in Python are a way to create iterators in a simple and memory efficient way.\n",
    "Instead of creating the entire sequence in memory at once a generator produce items one at a time and only when needed. This is specially useful when dealing with large datasets on infinity sequences. A generator function is likely normal function but uses the yield keyword instead of return. When the generator is called it doesn't execute the function completely. Instead it returns a generator object that can be iterated over.\n",
    "\n",
    "Key Points:\n",
    "\n",
    "1. Memory Efficient : Generators don't store the entire sequence in memory.\n",
    "2. Lazy Evaluation : Values are produced only when required.\n",
    "3. State Retaintion : The function state is saved between yield calls."
   ]
  },
  {
   "cell_type": "code",
   "execution_count": 4,
   "id": "b2159758-9926-4591-b05a-471189c1b53a",
   "metadata": {},
   "outputs": [
    {
     "name": "stdout",
     "output_type": "stream",
     "text": [
      "1 2 3 4 5 "
     ]
    }
   ],
   "source": [
    "def number_generator():\n",
    "    for i in range(1,6):\n",
    "        yield i\n",
    "\n",
    "# Using the generator\n",
    "gen=number_generator()\n",
    "for num in gen:\n",
    "    print(num,end=\" \")"
   ]
  },
  {
   "cell_type": "markdown",
   "id": "1f67d6bd-2190-443d-ad5b-1d8170368c3b",
   "metadata": {},
   "source": [
    "# if __name__==\"__main__\"\n",
    "done on vs code in python folder on desktop"
   ]
  }
 ],
 "metadata": {
  "kernelspec": {
   "display_name": "Python 3 (ipykernel)",
   "language": "python",
   "name": "python3"
  },
  "language_info": {
   "codemirror_mode": {
    "name": "ipython",
    "version": 3
   },
   "file_extension": ".py",
   "mimetype": "text/x-python",
   "name": "python",
   "nbconvert_exporter": "python",
   "pygments_lexer": "ipython3",
   "version": "3.12.3"
  }
 },
 "nbformat": 4,
 "nbformat_minor": 5
}
