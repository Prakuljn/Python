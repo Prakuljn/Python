{
  "nbformat": 4,
  "nbformat_minor": 0,
  "metadata": {
    "colab": {
      "provenance": [],
      "authorship_tag": "ABX9TyOCKrYgNKSX9YUMw6CVT70Z",
      "include_colab_link": true
    },
    "kernelspec": {
      "name": "python3",
      "display_name": "Python 3"
    },
    "language_info": {
      "name": "python"
    }
  },
  "cells": [
    {
      "cell_type": "markdown",
      "metadata": {
        "id": "view-in-github",
        "colab_type": "text"
      },
      "source": [
        "<a href=\"https://colab.research.google.com/github/Prakuljn/Python-Assignment/blob/main/24%20january.ipynb\" target=\"_parent\"><img src=\"https://colab.research.google.com/assets/colab-badge.svg\" alt=\"Open In Colab\"/></a>"
      ]
    },
    {
      "cell_type": "code",
      "execution_count": null,
      "metadata": {
        "id": "8AQp2TOIrw16"
      },
      "outputs": [],
      "source": [
        "# function\n",
        "# block of code\n",
        "# part\n",
        "# reuseable\n",
        "# python used call by value refrence\n",
        "# if datatype is immutable there is no change in global variable\n",
        "# if datatype is mutable there is effect on global variable such as list dictionary sets\n",
        "# variable inside the function is call local variable"
      ]
    },
    {
      "cell_type": "code",
      "source": [
        "def greeting(x): # parameter / formal argument\n",
        "  print(\"hello \",x)\n",
        "greeting(\"prakul\") # argument / formal parameter"
      ],
      "metadata": {
        "colab": {
          "base_uri": "https://localhost:8080/"
        },
        "id": "TBileUj0sGCC",
        "outputId": "3b24df1b-e619-488a-b7ed-432bbbc9592b"
      },
      "execution_count": null,
      "outputs": [
        {
          "output_type": "stream",
          "name": "stdout",
          "text": [
            "hello  prakul\n"
          ]
        }
      ]
    },
    {
      "cell_type": "code",
      "source": [
        "#functions\n",
        "def a(num):\n",
        "  print(\"Passing Through Global Variable With Same Name:\",id(num),num)\n",
        "  num.append(30)\n",
        "  print(\"Assigning Variable:\",id(num),num)\n",
        "\n",
        "num=[10,20]\n",
        "print(\"Global Variable:\",id(num),num)\n",
        "a(num)\n",
        "print(\"After Running Function:\",id(num),num)"
      ],
      "metadata": {
        "colab": {
          "base_uri": "https://localhost:8080/"
        },
        "id": "bV-E2XbLsNIc",
        "outputId": "c8b18317-33f3-4da0-d693-79a17a685306"
      },
      "execution_count": null,
      "outputs": [
        {
          "output_type": "stream",
          "name": "stdout",
          "text": [
            "Global Variable: 132215446758528 [10, 20]\n",
            "Passing Through Global Variable With Same Name: 132215446758528 [10, 20]\n",
            "Assigning Variable: 132215446758528 [10, 20, 30]\n",
            "After Running Function: 132215446758528 [10, 20, 30]\n"
          ]
        }
      ]
    },
    {
      "cell_type": "code",
      "source": [
        "#functions\n",
        "def a(num):\n",
        "  print(\"Passing Through Global Variable With Same Name:\",id(num),num)\n",
        "  num=600\n",
        "  print(\"Assigning Variable:\",id(num),num)\n",
        "\n",
        "num=500\n",
        "print(\"Global Variable:\",id(num),num)\n",
        "a(num)\n",
        "print(\"After Running Function:\",id(num),num)"
      ],
      "metadata": {
        "colab": {
          "base_uri": "https://localhost:8080/"
        },
        "id": "yM5NObAGyAeU",
        "outputId": "f382d938-e537-4e42-9b30-ff510f22d163"
      },
      "execution_count": null,
      "outputs": [
        {
          "output_type": "stream",
          "name": "stdout",
          "text": [
            "Global Variable: 132215446580176 500\n",
            "Passing Through Global Variable With Same Name: 132215446580176 500\n",
            "Assigning Variable: 132215446580784 600\n",
            "After Running Function: 132215446580176 500\n"
          ]
        }
      ]
    },
    {
      "cell_type": "code",
      "source": [
        "# types of argument passing\n",
        "# 1 require argument total parameter passed is equal to total argument passrd in function\n",
        "# 2 position argument means first valuse paased will takes position in first variable\n",
        "# 3 keyword argument means we describe the variable for each value in function now position not matters in function calling\n",
        "# and the parameter name should be same\n",
        "# 4 if we use keyword argument and positional agrument we define position first and then keyword\n",
        "# 5 default argument the default value passed in function defination always define in last at defination and value can be change when new value passed in function calling\n",
        "def func(x,y,z=90): # default argument\n",
        "  print(\"x:\",x, \"y:\",y, \"z:\",z)\n",
        "func(10,20,30) # position argument\n",
        "func(x=10,y=20,z=30) # keyword argument\n",
        "func(y=10,x=20,z=30) # keyword argument\n",
        "func(10,y=20,z=30) # keyword argument and positional argument but position first\n",
        "func(10,y=20) # keyword argument and positional argument but position first"
      ],
      "metadata": {
        "colab": {
          "base_uri": "https://localhost:8080/"
        },
        "id": "r0wUmdrEyBAP",
        "outputId": "27c574ed-d05a-4e0a-84e0-cf8186411c22"
      },
      "execution_count": null,
      "outputs": [
        {
          "output_type": "stream",
          "name": "stdout",
          "text": [
            "x: 10 y: 20 z: 30\n",
            "x: 10 y: 20 z: 30\n",
            "x: 20 y: 10 z: 30\n",
            "x: 10 y: 20 z: 30\n",
            "x: 10 y: 20 z: 90\n"
          ]
        }
      ]
    },
    {
      "cell_type": "code",
      "source": [
        "def func(num):\n",
        "  x=0\n",
        "  for i in range(2,num):\n",
        "    if(num%i==0):\n",
        "      x=1\n",
        "      break\n",
        "  if(x==1):\n",
        "    print(\"prime\")\n",
        "  else:\n",
        "    print(\"not prime\")\n",
        "num= int(input(\"enter number \"))\n",
        "func(i)"
      ],
      "metadata": {
        "colab": {
          "base_uri": "https://localhost:8080/"
        },
        "id": "cS99YzOqzIcn",
        "outputId": "82778d02-5113-4370-d82e-d9734d8aec08"
      },
      "execution_count": null,
      "outputs": [
        {
          "output_type": "stream",
          "name": "stdout",
          "text": [
            "enter number 11\n",
            "prime\n"
          ]
        }
      ]
    },
    {
      "cell_type": "code",
      "source": [
        "def armstrong(num):\n",
        "  sum=0\n",
        "  temp=num\n",
        "  while num>0:\n",
        "    a=num%10\n",
        "    sum=sum+a**3\n",
        "    num//=10\n",
        "  if(sum==temp):\n",
        "    print(\"armstrong\") # it don't return vaule to function callig\n",
        "  else:\n",
        "    print(\"not armstrong\")\n",
        "num= int(input(\"enter number \"))\n",
        "armstrong(num)"
      ],
      "metadata": {
        "colab": {
          "base_uri": "https://localhost:8080/"
        },
        "id": "lUdNBQjs3o1c",
        "outputId": "78099c86-1ac6-46fe-abfc-bf2b8b658e86"
      },
      "execution_count": null,
      "outputs": [
        {
          "output_type": "stream",
          "name": "stdout",
          "text": [
            "enter number 153\n",
            "armstrong\n"
          ]
        }
      ]
    },
    {
      "cell_type": "code",
      "source": [
        "# return value\n",
        "def armstrong(num):\n",
        "  sum=0\n",
        "  temp=num\n",
        "  while num>0:\n",
        "    a=num%10\n",
        "    sum=sum+a**3\n",
        "    num//=10\n",
        "  if(sum==temp):\n",
        "    return True # it return vaule to function callig\n",
        "num= int(input(\"enter number \"))\n",
        "if y==True:\n",
        "  print(\"armstrong\")\n",
        "else:\n",
        "  print(\"not armstrong\")"
      ],
      "metadata": {
        "colab": {
          "base_uri": "https://localhost:8080/"
        },
        "id": "pSFJqV2I4l_h",
        "outputId": "0f86049b-f1a4-4e02-edb9-efa9ecc1a0c4"
      },
      "execution_count": null,
      "outputs": [
        {
          "output_type": "stream",
          "name": "stdout",
          "text": [
            "enter number 155\n",
            "not armstrong\n"
          ]
        }
      ]
    },
    {
      "cell_type": "code",
      "source": [
        "# first class function vs high order function"
      ],
      "metadata": {
        "id": "wUMUMBRu6bYP"
      },
      "execution_count": null,
      "outputs": []
    }
  ]
}